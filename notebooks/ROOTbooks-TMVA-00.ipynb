{
 "cells": [
  {
   "cell_type": "markdown",
   "metadata": {},
   "source": [
    " <div>\n",
    "    <div style=\"float:left;\">\n",
    "        <img src=\"http://oproject.org/tiki-download_file.php?fileId=8&display&x=450&y=128\" width=\"50%\" />\n",
    "    </div>\n",
    "    <div style=\"float:left;\">\n",
    "        <img src=\"http://gfif.udea.edu.co/root/tmva/img/tmva_logo.gif\" width=\"50%\"/>\n",
    "    </div>\n",
    "</div>"
   ]
  },
  {
   "cell_type": "code",
   "execution_count": null,
   "metadata": {
    "collapsed": false
   },
   "outputs": [],
   "source": [
    "import ROOT\n",
    "from ROOT import TFile, TMVA, TCut"
   ]
  },
  {
   "cell_type": "markdown",
   "metadata": {},
   "source": [
    "# Import JsMVA and enable JS visualization"
   ]
  },
  {
   "cell_type": "code",
   "execution_count": null,
   "metadata": {
    "collapsed": false
   },
   "outputs": [],
   "source": [
    "import sys\n",
    "for path in sys.path:\n",
    "    if path.find(\"JsMVA\")!=-1:\n",
    "        sys.path.remove(path)\n",
    "\n",
    "def delete_module(modname):\n",
    "    from sys import modules\n",
    "    try:\n",
    "        thismod = modules[modname]\n",
    "    except KeyError:\n",
    "        raise ValueError(modname)\n",
    "    these_symbols = dir(thismod)\n",
    "    del modules[modname]\n",
    "    for mod in modules.values():\n",
    "        try:\n",
    "            delattr(mod, modname)\n",
    "        except AttributeError:\n",
    "            pass\n",
    "delete_module(\"JsMVA\")"
   ]
  },
  {
   "cell_type": "code",
   "execution_count": null,
   "metadata": {
    "collapsed": false
   },
   "outputs": [],
   "source": [
    "import sys, os\n",
    "sys.path.append(os.path.expanduser(\"/home/main/notebooks/src/python/\"))\n",
    "import JsMVA"
   ]
  },
  {
   "cell_type": "code",
   "execution_count": null,
   "metadata": {
    "collapsed": false
   },
   "outputs": [],
   "source": [
    "%jsmva on"
   ]
  },
  {
   "cell_type": "markdown",
   "metadata": {},
   "source": [
    "## Declare Factory and DataLoader"
   ]
  },
  {
   "cell_type": "code",
   "execution_count": null,
   "metadata": {
    "collapsed": false
   },
   "outputs": [],
   "source": [
    "outputFile = TFile(\"files/TMVAOutput.root\", \"RECREATE\")\n",
    "inputFile  = TFile(\"files/mydataset.root\")\n",
    "\n",
    "TMVA.Tools.Instance()\n",
    "\n",
    "factory = TMVA.Factory(\"TMVAClassification\", outputFile)\n",
    "loader = TMVA.DataLoader(\"mydataset\")"
   ]
  },
  {
   "cell_type": "markdown",
   "metadata": {},
   "source": [
    "# General steps\n",
    "## Adding variables to DataLoader"
   ]
  },
  {
   "cell_type": "code",
   "execution_count": null,
   "metadata": {
    "collapsed": false
   },
   "outputs": [],
   "source": [
    "# Adding variables to dataset\n",
    "loader.AddVariable(\"var0\", 'F')\n",
    "loader.AddVariable(\"var1\", 'F')\n",
    "loader.AddVariable(\"var2\", 'F')\n",
    "loader.AddVariable(\"var3 := var0-var1\", 'F')\n",
    "loader.AddVariable(\"var4 := var0*var2\", 'F')\n",
    "loader.AddVariable(\"var5 := var1+var2\", 'F')"
   ]
  },
  {
   "cell_type": "markdown",
   "metadata": {},
   "source": [
    "## Setting up dataset from Trees"
   ]
  },
  {
   "cell_type": "code",
   "execution_count": null,
   "metadata": {
    "collapsed": false
   },
   "outputs": [],
   "source": [
    "print \"--- TMVAClassification       : Using input file:\", inputFile.GetName()\n",
    "   \n",
    "# Register the training and test trees\n",
    "\n",
    "tsignal     = inputFile.Get(\"MyMCSig\")\n",
    "tbackground = inputFile.Get(\"MyMCBkg\")\n",
    "     \n",
    "signalWeight     = 1.0\n",
    "backgroundWeight = 1.0\n",
    "\n",
    "mycuts = TCut(\"\")\n",
    "mycutb = TCut(\"\")\n",
    "\n",
    "loader.AddSignalTree(tsignal, signalWeight)\n",
    "loader.AddBackgroundTree(tbackground, backgroundWeight)\n",
    "loader.fSignalWeight = signalWeight\n",
    "loader.fBackgroundWeight = backgroundWeight\n",
    "loader.fTreeS = tsignal\n",
    "loader.fTreeB = tbackground\n",
    "loader.PrepareTrainingAndTestTree(mycuts,\n",
    "                                  mycutb,\n",
    "                                  \"nTrain_Signal=3000:nTrain_Background=3000:nTest_Signal=1449:nTest_Background=1449:SplitMode=Random:NormMode=NumEvents:!V\")"
   ]
  },
  {
   "cell_type": "code",
   "execution_count": null,
   "metadata": {
    "collapsed": false,
    "scrolled": false
   },
   "outputs": [],
   "source": [
    "factory.BookDNN(loader)"
   ]
  },
  {
   "cell_type": "markdown",
   "metadata": {},
   "source": [
    "# New method for visualizing input variables"
   ]
  },
  {
   "cell_type": "markdown",
   "metadata": {},
   "source": [
    "# Input"
   ]
  },
  {
   "cell_type": "code",
   "execution_count": null,
   "metadata": {
    "collapsed": false
   },
   "outputs": [],
   "source": [
    "loader.DrawInputVariable(\"var0\")"
   ]
  },
  {
   "cell_type": "markdown",
   "metadata": {
    "collapsed": false
   },
   "source": [
    "## Transformed input"
   ]
  },
  {
   "cell_type": "code",
   "execution_count": null,
   "metadata": {
    "collapsed": false,
    "scrolled": false
   },
   "outputs": [],
   "source": [
    "loader.DrawInputVariable(\"var0\", processTrfs=\"D\") #I;N;D;P;U;G,D"
   ]
  },
  {
   "cell_type": "markdown",
   "metadata": {},
   "source": [
    "## Correlation matrix"
   ]
  },
  {
   "cell_type": "code",
   "execution_count": null,
   "metadata": {
    "collapsed": false,
    "scrolled": false
   },
   "outputs": [],
   "source": [
    "loader.DrawCorrelationMatrix(\"Signal\")"
   ]
  },
  {
   "cell_type": "markdown",
   "metadata": {
    "collapsed": false
   },
   "source": [
    "# General steps\n",
    "\n",
    "## Booking classifiers"
   ]
  },
  {
   "cell_type": "code",
   "execution_count": null,
   "metadata": {
    "collapsed": false,
    "scrolled": false
   },
   "outputs": [],
   "source": [
    "# Boosted Decision Trees\n",
    "factory.BookMethod(loader,\n",
    "                   TMVA.Types.kBDT,\n",
    "                   \"BDT\",\n",
    "                   \"!V:NTrees=5:MinNodeSize=2.5%:MaxDepth=2:CreateMVAPdfs:BoostType=AdaBoost:AdaBoostBeta=0.5:UseBaggedBoost:BaggedSampleFraction=0.5:SeparationType=GiniIndex:nCuts=20\")\n",
    "\n",
    "# TMVA ANN: MLP Multilayer Perceptrons\n",
    "factory.BookMethod(loader,\n",
    "                   TMVA.Types.kMLP,\n",
    "                   \"MLP\",\n",
    "                   \"EpochMonitoring:!V:NeuronType=tanh:VarTransform=N:NCycles=150:CreateMVAPdfs:HiddenLayers=N+5:TestRate=5:!UseRegulator\")"
   ]
  },
  {
   "cell_type": "code",
   "execution_count": null,
   "metadata": {
    "collapsed": false,
    "scrolled": false
   },
   "outputs": [],
   "source": [
    "layoutString = \"Layout=TANH|100,TANH|50,TANH|10,LINEAR\"\n",
    "\n",
    "training0 = \"LearningRate=1e-1,Momentum=0.0,Repetitions=1,ConvergenceSteps=300,BatchSize=20,TestRepetitions=15,\"\n",
    "training0+= \"WeightDecay=0.001,Regularization=NONE,DropConfig=0.0+0.5+0.5+0.5,DropRepetitions=1,Multithreading=True\"\n",
    "training1 = \"LearningRate=1e-2,Momentum=0.5,Repetitions=1,ConvergenceSteps=300,BatchSize=30,TestRepetitions=7,\"\n",
    "training1+= \"WeightDecay=0.001,Regularization=L2,Multithreading=True,DropConfig=0.0+0.1+0.1+0.1,DropRepetitions=1\"\n",
    "training2 = \"LearningRate=1e-2,Momentum=0.3,Repetitions=1,ConvergenceSteps=300,BatchSize=40,TestRepetitions=7,\"\n",
    "training2+= \"WeightDecay=0.0001,Regularization=L2,Multithreading=True\"\n",
    "training3 = \"LearningRate=1e-3,Momentum=0.1,Repetitions=1,ConvergenceSteps=200,BatchSize=70,TestRepetitions=7,\"\n",
    "training3+= \"WeightDecay=0.0001,Regularization=NONE,Multithreading=True\"\n",
    "\n",
    "trainingStrategyString = \"TrainingStrategy=\"\n",
    "trainingStrategyString += training0 + \"|\" + training1 + \"|\" + training2 + \"|\" + training3\n",
    "\n",
    "nnOptions = \"!H:V:VarTransform=Normalize:ErrorStrategy=CROSSENTROPY\"\n",
    "#nnOptions = \"!H:V:ErrorStrategy=CROSSENTROPY:VarTransform=G:WeightInitialization=XAVIERUNIFORM\"\n",
    "#nnOptions = \"!H:V:VarTransform=Normalize:ErrorStrategy=CHECKGRADIENTS\"\n",
    "\n",
    "nnOptions += \":\" \n",
    "nnOptions += layoutString\n",
    "nnOptions += \":\"\n",
    "nnOptions += trainingStrategyString\n",
    "\n",
    "factory.BookMethod(loader, TMVA.Types.kDNN, \"DNN\", nnOptions )"
   ]
  },
  {
   "cell_type": "markdown",
   "metadata": {},
   "source": [
    "## Training"
   ]
  },
  {
   "cell_type": "code",
   "execution_count": null,
   "metadata": {
    "collapsed": false,
    "scrolled": false
   },
   "outputs": [],
   "source": [
    "factory.TrainAllMethods()"
   ]
  },
  {
   "cell_type": "markdown",
   "metadata": {},
   "source": [
    "## Evaluation"
   ]
  },
  {
   "cell_type": "code",
   "execution_count": null,
   "metadata": {
    "collapsed": false,
    "scrolled": false
   },
   "outputs": [],
   "source": [
    "factory.TestAllMethods()\n",
    "\n",
    "factory.EvaluateAllMethods()"
   ]
  },
  {
   "cell_type": "markdown",
   "metadata": {},
   "source": [
    "# Classifier output distribution"
   ]
  },
  {
   "cell_type": "code",
   "execution_count": null,
   "metadata": {
    "collapsed": false
   },
   "outputs": [],
   "source": [
    "factory.DrawOutputDistribution(\"mydataset\", \"MLP\")"
   ]
  },
  {
   "cell_type": "markdown",
   "metadata": {
    "collapsed": true
   },
   "source": [
    "# Classifier Probability Distribution\n"
   ]
  },
  {
   "cell_type": "code",
   "execution_count": null,
   "metadata": {
    "collapsed": false,
    "scrolled": false
   },
   "outputs": [],
   "source": [
    "factory.DrawProbabilityDistribution(\"mydataset\", \"MLP\")"
   ]
  },
  {
   "cell_type": "markdown",
   "metadata": {
    "collapsed": true
   },
   "source": [
    "# ROC curve"
   ]
  },
  {
   "cell_type": "code",
   "execution_count": null,
   "metadata": {
    "collapsed": false
   },
   "outputs": [],
   "source": [
    "factory.DrawROCCurve(\"mydataset\")"
   ]
  },
  {
   "cell_type": "markdown",
   "metadata": {
    "collapsed": true
   },
   "source": [
    "# Classifier cut efficiencies"
   ]
  },
  {
   "cell_type": "code",
   "execution_count": null,
   "metadata": {
    "collapsed": false,
    "scrolled": false
   },
   "outputs": [],
   "source": [
    "factory.DrawCutEfficiencies(\"mydataset\", \"BDT\")"
   ]
  },
  {
   "cell_type": "markdown",
   "metadata": {},
   "source": [
    "# Neural Network"
   ]
  },
  {
   "cell_type": "markdown",
   "metadata": {},
   "source": [
    "* Mouseover (node, weight): focusing\n",
    "* Zooming and grab and move supported\n",
    "* Reset: double click"
   ]
  },
  {
   "cell_type": "code",
   "execution_count": null,
   "metadata": {
    "collapsed": false,
    "scrolled": false
   },
   "outputs": [],
   "source": [
    "factory.DrawNeuralNetwork(\"mydataset\", \"MLP\")"
   ]
  },
  {
   "cell_type": "markdown",
   "metadata": {},
   "source": [
    "# Deep Neural network"
   ]
  },
  {
   "cell_type": "code",
   "execution_count": null,
   "metadata": {
    "collapsed": false,
    "scrolled": false
   },
   "outputs": [],
   "source": [
    "factory.DrawNeuralNetwork(\"mydataset\", \"DNN\")"
   ]
  },
  {
   "cell_type": "markdown",
   "metadata": {
    "collapsed": true
   },
   "source": [
    "# Decision Tree"
   ]
  },
  {
   "cell_type": "markdown",
   "metadata": {},
   "source": [
    "* Mouseover (node, weight): showing decision path\n",
    "* Zooming and grab and move supported\n",
    "* Reset: double click\n",
    "* Click on node: \n",
    "    * hiding subtree, if node children are hidden the node will have a green border\n",
    "    * rescaling: bigger nodes, bigger texts\n",
    "    * click again to show the subtree"
   ]
  },
  {
   "cell_type": "code",
   "execution_count": null,
   "metadata": {
    "collapsed": false,
    "scrolled": false
   },
   "outputs": [],
   "source": [
    "factory.DrawDecisionTree(\"mydataset\", \"BDT\")"
   ]
  },
  {
   "cell_type": "code",
   "execution_count": null,
   "metadata": {
    "collapsed": false
   },
   "outputs": [],
   "source": [
    "outputFile.Close()"
   ]
  },
  {
   "cell_type": "code",
   "execution_count": null,
   "metadata": {
    "collapsed": false,
    "scrolled": false
   },
   "outputs": [],
   "source": [
    "factory.DrawDNNWeights(\"mydataset\", \"DNN\")"
   ]
  },
  {
   "cell_type": "code",
   "execution_count": null,
   "metadata": {
    "collapsed": true
   },
   "outputs": [],
   "source": []
  },
  {
   "cell_type": "code",
   "execution_count": null,
   "metadata": {
    "collapsed": true
   },
   "outputs": [],
   "source": []
  }
 ],
 "metadata": {
  "kernelspec": {
   "display_name": "Python 2",
   "language": "python",
   "name": "python2"
  },
  "language_info": {
   "codemirror_mode": {
    "name": "ipython",
    "version": 2
   },
   "file_extension": ".py",
   "mimetype": "text/x-python",
   "name": "python",
   "nbconvert_exporter": "python",
   "pygments_lexer": "ipython2",
   "version": "2.7.11"
  }
 },
 "nbformat": 4,
 "nbformat_minor": 0
}
