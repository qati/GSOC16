{
 "cells": [
  {
   "cell_type": "markdown",
   "metadata": {},
   "source": [
    "<div>\n",
    "    <div style=\"float:left;\">\n",
    "        <img src=\"http://oproject.org/tiki-download_file.php?fileId=8&display&x=450&y=128\" width=\"50%\" />\n",
    "    </div>\n",
    "    <div style=\"float:left;\">\n",
    "        <img src=\"http://gfif.udea.edu.co/root/tmva/img/tmva_logo.gif\" width=\"50%\"/>\n",
    "    </div>\n",
    "</div>"
   ]
  },
  {
   "cell_type": "markdown",
   "metadata": {},
   "source": [
    "# HTML formated output\n",
    "<hr style=\"border-top-width: 4px; border-top-color: #34609b;\">"
   ]
  },
  {
   "cell_type": "code",
   "execution_count": 1,
   "metadata": {
    "collapsed": false
   },
   "outputs": [
    {
     "data": {
      "application/javascript": [
       "\n",
       "require(['notebook'],\n",
       "  function() {\n",
       "    IPython.CodeCell.config_defaults.highlight_modes['magic_text/x-c++src'] = {'reg':[/^%%cpp/]};\n",
       "    console.log(\"JupyROOT - %%cpp magic configured\");\n",
       "  }\n",
       ");\n"
      ]
     },
     "metadata": {},
     "output_type": "display_data"
    },
    {
     "name": "stdout",
     "output_type": "stream",
     "text": [
      "Welcome to JupyROOT 6.07/07\n"
     ]
    }
   ],
   "source": [
    "import ROOT\n",
    "from ROOT import TFile, TMVA, TCut"
   ]
  },
  {
   "cell_type": "code",
   "execution_count": 2,
   "metadata": {
    "collapsed": false,
    "scrolled": true
   },
   "outputs": [
    {
     "data": {
      "text/html": [
       "<link rel=\"stylesheet\" href=\"https://rawgit.com/qati/GSOC16/master/src/css/TMVAHTMLOutput.min.css\"></link>"
      ],
      "text/plain": [
       "<IPython.core.display.HTML object>"
      ]
     },
     "metadata": {},
     "output_type": "display_data"
    },
    {
     "data": {
      "text/html": [
       "<table class='tmva_output_table'></table>"
      ],
      "text/plain": [
       "<IPython.core.display.HTML object>"
      ]
     },
     "metadata": {},
     "output_type": "display_data"
    },
    {
     "data": {
      "text/html": [],
      "text/plain": [
       "<IPython.core.display.HTML object>"
      ]
     },
     "metadata": {},
     "output_type": "display_data"
    }
   ],
   "source": [
    "%jsmva on"
   ]
  },
  {
   "cell_type": "code",
   "execution_count": 3,
   "metadata": {
    "collapsed": false
   },
   "outputs": [
    {
     "data": {
      "text/html": [
       "<table class='tmva_output_table'></table>"
      ],
      "text/plain": [
       "<IPython.core.display.HTML object>"
      ]
     },
     "metadata": {},
     "output_type": "display_data"
    },
    {
     "data": {
      "text/html": [],
      "text/plain": [
       "<IPython.core.display.HTML object>"
      ]
     },
     "metadata": {},
     "output_type": "display_data"
    }
   ],
   "source": [
    "outputFile = TFile( \"TMVA.root\", 'RECREATE' )\n",
    "TMVA.Tools.Instance();\n",
    "\n",
    "factory = TMVA.Factory(JobName=\"TMVAClassification\", TargetFile=outputFile,\n",
    "                       V=False, Color=True, DrawProgressBar=True, Transformations=[\"I\", \"D\", \"P\", \"G\", \"D\"],\n",
    "                       AnalysisType=\"Classification\")"
   ]
  },
  {
   "cell_type": "code",
   "execution_count": 4,
   "metadata": {
    "collapsed": false
   },
   "outputs": [
    {
     "data": {
      "text/html": [
       "<table class='tmva_output_table'></table>"
      ],
      "text/plain": [
       "<IPython.core.display.HTML object>"
      ]
     },
     "metadata": {},
     "output_type": "display_data"
    },
    {
     "data": {
      "text/html": [],
      "text/plain": [
       "<IPython.core.display.HTML object>"
      ]
     },
     "metadata": {},
     "output_type": "display_data"
    }
   ],
   "source": [
    "dataset = \"tmva_class_example\" #the dataset name\n",
    "loader  = TMVA.DataLoader(dataset)\n",
    "\n",
    "loader.AddVariable( \"myvar1 := var1+var2\", 'F' )\n",
    "loader.AddVariable( \"myvar2 := var1-var2\", \"Expression 2\", 'F' )\n",
    "loader.AddVariable( \"var3\",                \"Variable 3\", 'F' )\n",
    "loader.AddVariable( \"var4\",                \"Variable 4\", 'F' )\n",
    "loader.AddSpectator( \"spec1:=var1*2\",  \"Spectator 1\",  'F' )\n",
    "loader.AddSpectator( \"spec2:=var1*3\",  \"Spectator 2\",  'F' )"
   ]
  },
  {
   "cell_type": "code",
   "execution_count": 5,
   "metadata": {
    "collapsed": false
   },
   "outputs": [
    {
     "data": {
      "text/html": [
       "<table class='tmva_output_table'></table>"
      ],
      "text/plain": [
       "<IPython.core.display.HTML object>"
      ]
     },
     "metadata": {},
     "output_type": "display_data"
    },
    {
     "data": {
      "text/html": [],
      "text/plain": [
       "<IPython.core.display.HTML object>"
      ]
     },
     "metadata": {},
     "output_type": "display_data"
    }
   ],
   "source": [
    "input = TFile.Open( \"tmva_class_example.root\" )\n",
    "\n",
    "# Get the signal and background trees for training\n",
    "signal      = input.Get( \"TreeS\" )\n",
    "background  = input.Get( \"TreeB\" )"
   ]
  },
  {
   "cell_type": "code",
   "execution_count": 6,
   "metadata": {
    "collapsed": false
   },
   "outputs": [
    {
     "data": {
      "text/html": [
       "<table class='tmva_output_table'><tbody class='tmva_output_tbody_multiple_row'><tr><td rowspan='2' class='tmva_output_header'>DataSetInfo             </td><td><table class='tmva_output_dataset'><tbody><tr><td rowspan='1'>Dataset: tmva_class_example</td><td>Added class \"Signal\"</td><td class='tmva_output_hidden_td'></td></tr></tbody></table></td></tr><tr><td>Add Tree TreeS of type Signal with 6000 events</td></tr></tbody><tbody class='tmva_output_tbody_multiple_row'><tr><td rowspan='2' class='tmva_output_header'>DataSetInfo             </td><td><table class='tmva_output_dataset'><tbody><tr><td rowspan='1'>Dataset: tmva_class_example</td><td>Added class \"Background\"</td><td class='tmva_output_hidden_td'></td></tr></tbody></table></td></tr><tr><td>Add Tree TreeB of type Background with 6000 events</td></tr></tbody></table>"
      ],
      "text/plain": [
       "<IPython.core.display.HTML object>"
      ]
     },
     "metadata": {},
     "output_type": "display_data"
    },
    {
     "data": {
      "text/html": [],
      "text/plain": [
       "<IPython.core.display.HTML object>"
      ]
     },
     "metadata": {},
     "output_type": "display_data"
    }
   ],
   "source": [
    "# Global event weights (see below for setting event-wise weights)\n",
    "signalWeight     = 1.0\n",
    "backgroundWeight = 1.0\n",
    "\n",
    "loader.AddSignalTree(signal, signalWeight)\n",
    "loader.AddBackgroundTree(background, backgroundWeight)\n",
    "\n",
    "loader.fSignalWeight = signalWeight\n",
    "loader.fBackgroundWeight = backgroundWeight\n",
    "loader.fTreeS = signal\n",
    "loader.fTreeB = background"
   ]
  },
  {
   "cell_type": "code",
   "execution_count": 7,
   "metadata": {
    "collapsed": false
   },
   "outputs": [
    {
     "data": {
      "text/plain": [
       "<ROOT.TMVA::MethodMLP object (\"MLP\") at 0x4dfb5e0>"
      ]
     },
     "execution_count": 7,
     "metadata": {},
     "output_type": "execute_result"
    },
    {
     "data": {
      "text/html": [
       "<table class='tmva_output_table'><tbody class='tmva_output_tbody_multiple_row'><tr><td rowspan='2' class='tmva_output_header'>Factory                 </td><td>Booking method: <b> MLP\u001b</b></td></tr><tr></tr></tbody><tbody><tr><td rowspan='1' class='tmva_output_header'>MLP                     </td><td><table class='tmva_output_dataset'><tbody class='tmva_output_tbody_multiple_row'><tr><td rowspan='2'>Dataset: tmva_class_example</td><td>Create Transformation \"N\" with events from all classes.</td><td class='tmva_output_hidden_td'></td></tr></tbody></table></td></tr></tbody><tbody class='tmva_output_tbody_multiple_row'><tr><td rowspan='5' class='tmva_output_header'>Norm                    </td><td>Transformation, Variable selection : </td></tr><tr><td>Input : variable 'myvar1' <---> Output : variable 'myvar1'</td></tr><tr><td>Input : variable 'myvar2' <---> Output : variable 'myvar2'</td></tr><tr><td>Input : variable 'var3' <---> Output : variable 'var3'</td></tr><tr><td>Input : variable 'var4' <---> Output : variable 'var4'</td></tr></tbody><tbody class='tmva_output_tbody_multiple_row'><tr><td rowspan='2' class='tmva_output_header'>MLP                     </td><td>Building Network. </td></tr><tr><td>Initializing weights</td></tr></tbody></table>"
      ],
      "text/plain": [
       "<IPython.core.display.HTML object>"
      ]
     },
     "metadata": {},
     "output_type": "display_data"
    },
    {
     "data": {
      "text/html": [],
      "text/plain": [
       "<IPython.core.display.HTML object>"
      ]
     },
     "metadata": {},
     "output_type": "display_data"
    }
   ],
   "source": [
    "factory.BookMethod( DataLoader=loader, Method=TMVA.Types.kMLP, MethodTitle=\"MLP\", \n",
    "        H=False, V=False, NeuronType=\"tanh\", VarTransform=\"N\", NCycles=600, HiddenLayers=\"N+5\",\n",
    "                   TestRate=5, UseRegulator=False )"
   ]
  },
  {
   "cell_type": "code",
   "execution_count": 8,
   "metadata": {
    "collapsed": false,
    "scrolled": false
   },
   "outputs": [
    {
     "data": {
      "text/html": [
       "<center><h1>Dataset: tmva_class_example</h1></center>"
      ],
      "text/plain": [
       "<IPython.core.display.HTML object>"
      ]
     },
     "metadata": {},
     "output_type": "display_data"
    },
    {
     "data": {
      "text/html": [
       "<h2><b>Train method: MLP</b></h2>"
      ],
      "text/plain": [
       "<IPython.core.display.HTML object>"
      ]
     },
     "metadata": {},
     "output_type": "display_data"
    },
    {
     "data": {
      "text/html": [
       "\n",
       "    <script type=\"text/javascript\">\n",
       "    require([\"jquery\"], function(jQ){\n",
       "        jQ(\"input.stopTrainingButton\").on(\"click\", function(){\n",
       "            IPython.notebook.kernel.interrupt();\n",
       "            jQ(this).css({\n",
       "                \"background-color\": \"rgba(200, 0, 0, 0.8)\",\n",
       "                \"color\": \"#fff\",\n",
       "                \"box-shadow\": \"0 3px 5px rgba(0, 0, 0, 0.3)\",\n",
       "            });\n",
       "        });\n",
       "    });\n",
       "    </script>\n",
       "    <style type=\"text/css\">\n",
       "    input.stopTrainingButton {\n",
       "        background-color: #fff;\n",
       "        border: 1px solid #ccc;\n",
       "        width: 100%;\n",
       "        font-size: 16px;\n",
       "        font-weight: bold;\n",
       "        padding: 6px 12px;\n",
       "        cursor: pointer;\n",
       "        border-radius: 6px;\n",
       "        color: #333;\n",
       "    }\n",
       "    input.stopTrainingButton:hover {\n",
       "        background-color: rgba(204, 204, 204, 0.4);\n",
       "    }\n",
       "    </style>\n",
       "    <input type=\"button\" value=\"Stop\" class=\"stopTrainingButton\" />\n",
       "    "
      ],
      "text/plain": [
       "<IPython.core.display.HTML object>"
      ]
     },
     "metadata": {},
     "output_type": "display_data"
    },
    {
     "data": {
      "text/html": [
       "\n",
       "    <style>\n",
       "    #jsmva_progress_0 {\n",
       "        position: relative;\n",
       "        float: left;\n",
       "        height: 30px;\n",
       "        width: 100%;\n",
       "        background-color: #f5f5f5;\n",
       "        border-radius: 3px;\n",
       "        box-shadow: inset 0 3px 6px rgba(0, 0, 0, 0.1);\n",
       "    }\n",
       "    #jsmva_bar_0 {\n",
       "        position: absolute;\n",
       "        width: 1%;\n",
       "        height: 100%;\n",
       "        background-color: #337ab7;\n",
       "    }\n",
       "    #jsmva_label_0 {\n",
       "        text-align: center;\n",
       "        line-height: 30px;\n",
       "        color: white;\n",
       "    }\n",
       "    </style>\n",
       "    <div id=\"jsmva_progress_0\">\n",
       "      <div id=\"jsmva_bar_0\">\n",
       "        <div id=\"jsmva_label_0\">0%</div>\n",
       "      </div>\n",
       "    </div>\n",
       "    "
      ],
      "text/plain": [
       "<IPython.core.display.HTML object>"
      ]
     },
     "metadata": {},
     "output_type": "display_data"
    },
    {
     "data": {
      "text/html": [
       "\n",
       "    <script type=\"text/javascript\" id=\"progressBarScriptInc\">\n",
       "    require([\"jquery\"], function(jQ){\n",
       "        jQ(\"#jsmva_bar_0\").css(\"width\", 3 + \"%\");\n",
       "        jQ(\"#jsmva_label_0\").text(3 + '%');\n",
       "        jQ(\"#progressBarScriptInc\").parent().parent().remove();\n",
       "    });\n",
       "    </script>\n",
       "    "
      ],
      "text/plain": [
       "<IPython.core.display.HTML object>"
      ]
     },
     "metadata": {},
     "output_type": "display_data"
    },
    {
     "data": {
      "text/html": [
       "\n",
       "<div id=\"jstmva_1\" style=\"width: 800px; height:450px\"></div>\n",
       "<script>\n",
       "    require.config({\n",
       "        paths: {\n",
       "            'JsMVA':'https://rawgit.com/qati/GSOC16/master/src/js/JsMVA.min'\n",
       "        }\n",
       "    });\n",
       "    require(['JsMVA'],function(jsmva){\n",
       "        jsmva.drawTrainingTestingErrors('jstmva_1','{  \"_typename\" : \"TMultiGraph\",  \"fUniqueID\" : 0,  \"fBits\" : 50331656,  \"fName\" : \"\",  \"fTitle\" : \"\",  \"fGraphs\" : {    \"_typename\" : \"TList\",    \"name\" : \"TList\",    \"arr\" : [{      \"_typename\" : \"TGraph\",      \"fUniqueID\" : 0,      \"fBits\" : 50332680,      \"fName\" : \"Error on training set\",      \"fTitle\" : \"Error on training set\",      \"fLineColor\" : 1,      \"fLineStyle\" : 1,      \"fLineWidth\" : 1,      \"fFillColor\" : 2,      \"fFillStyle\" : 1001,      \"fMarkerColor\" : 2,      \"fMarkerStyle\" : 8,      \"fMarkerSize\" : 5.000000e-01,      \"fNpoints\" : 4,      \"fX\" : [5, 10, 15, 20],      \"fY\" : [6.566158e-01, 6.950342e-01, 6.544175e-01, 6.665892e-01],      \"fFunctions\" : {        \"_typename\" : \"TList\",        \"name\" : \"TList\",        \"arr\" : [],        \"opt\" : []      },      \"fHistogram\" : null,      \"fMinimum\" : -1111,      \"fMaximum\" : -1111    }, {      \"_typename\" : \"TGraph\",      \"fUniqueID\" : 0,      \"fBits\" : 50332680,      \"fName\" : \"Error on test set\",      \"fTitle\" : \"Error on test set\",      \"fLineColor\" : 1,      \"fLineStyle\" : 1,      \"fLineWidth\" : 1,      \"fFillColor\" : 4,      \"fFillStyle\" : 1001,      \"fMarkerColor\" : 4,      \"fMarkerStyle\" : 8,      \"fMarkerSize\" : 5.000000e-01,      \"fNpoints\" : 4,      \"fX\" : [5, 10, 15, 20],      \"fY\" : [6.293046e-01, 6.713674e-01, 6.299763e-01, 6.424805e-01],      \"fFunctions\" : {        \"_typename\" : \"TList\",        \"name\" : \"TList\",        \"arr\" : [],        \"opt\" : []      },      \"fHistogram\" : null,      \"fMinimum\" : -1111,      \"fMaximum\" : -1111    }],    \"opt\" : [\"\", \"\"]  },  \"fFunctions\" : null,  \"fHistogram\" : null,  \"fMaximum\" : -1111,  \"fMinimum\" : -1111}');\n",
       "    });\n",
       "</script>\n"
      ],
      "text/plain": [
       "<IPython.core.display.HTML object>"
      ]
     },
     "metadata": {},
     "output_type": "display_data"
    },
    {
     "data": {
      "text/html": [
       "<script id=\"dataInserterScript\">\n",
       "require(['JsMVA'],function(jsmva){\n",
       "jsmva.updateTrainingTestingErrors('jstmva_1', '{  \"_typename\" : \"TMultiGraph\",  \"fUniqueID\" : 0,  \"fBits\" : 50331656,  \"fName\" : \"\",  \"fTitle\" : \"\",  \"fGraphs\" : {    \"_typename\" : \"TList\",    \"name\" : \"TList\",    \"arr\" : [{      \"_typename\" : \"TGraph\",      \"fUniqueID\" : 0,      \"fBits\" : 50332680,      \"fName\" : \"Error on training set\",      \"fTitle\" : \"Error on training set\",      \"fLineColor\" : 1,      \"fLineStyle\" : 1,      \"fLineWidth\" : 1,      \"fFillColor\" : 2,      \"fFillStyle\" : 1001,      \"fMarkerColor\" : 2,      \"fMarkerStyle\" : 8,      \"fMarkerSize\" : 5.000000e-01,      \"fNpoints\" : 4,      \"fX\" : [5, 10, 15, 20],      \"fY\" : [6.566158e-01, 6.950342e-01, 6.544175e-01, 6.665892e-01],      \"fFunctions\" : {        \"_typename\" : \"TList\",        \"name\" : \"TList\",        \"arr\" : [],        \"opt\" : []      },      \"fHistogram\" : null,      \"fMinimum\" : -1111,      \"fMaximum\" : -1111    }, {      \"_typename\" : \"TGraph\",      \"fUniqueID\" : 0,      \"fBits\" : 50332680,      \"fName\" : \"Error on test set\",      \"fTitle\" : \"Error on test set\",      \"fLineColor\" : 1,      \"fLineStyle\" : 1,      \"fLineWidth\" : 1,      \"fFillColor\" : 4,      \"fFillStyle\" : 1001,      \"fMarkerColor\" : 4,      \"fMarkerStyle\" : 8,      \"fMarkerSize\" : 5.000000e-01,      \"fNpoints\" : 4,      \"fX\" : [5, 10, 15, 20],      \"fY\" : [6.293046e-01, 6.713674e-01, 6.299763e-01, 6.424805e-01],      \"fFunctions\" : {        \"_typename\" : \"TList\",        \"name\" : \"TList\",        \"arr\" : [],        \"opt\" : []      },      \"fHistogram\" : null,      \"fMinimum\" : -1111,      \"fMaximum\" : -1111    }],    \"opt\" : [\"\", \"\"]  },  \"fFunctions\" : null,  \"fHistogram\" : null,  \"fMaximum\" : -1111,  \"fMinimum\" : -1111}');\n",
       "var script = document.getElementById(\"dataInserterScript\");\n",
       "script.parentElement.parentElement.remove();\n",
       "});\n",
       "</script>"
      ],
      "text/plain": [
       "<IPython.core.display.HTML object>"
      ]
     },
     "metadata": {},
     "output_type": "display_data"
    },
    {
     "data": {
      "text/html": [
       "\n",
       "    <script type=\"text/javascript\" id=\"progressBarScriptInc\">\n",
       "    require([\"jquery\"], function(jQ){\n",
       "        jQ(\"#jsmva_bar_0\").css(\"width\", 3 + \"%\");\n",
       "        jQ(\"#jsmva_label_0\").text(3 + '%');\n",
       "        jQ(\"#progressBarScriptInc\").parent().parent().remove();\n",
       "    });\n",
       "    </script>\n",
       "    "
      ],
      "text/plain": [
       "<IPython.core.display.HTML object>"
      ]
     },
     "metadata": {},
     "output_type": "display_data"
    },
    {
     "data": {
      "text/html": [
       "<script id=\"dataInserterScript\">\n",
       "require(['JsMVA'],function(jsmva){\n",
       "jsmva.updateTrainingTestingErrors('jstmva_1', '{  \"_typename\" : \"TMultiGraph\",  \"fUniqueID\" : 0,  \"fBits\" : 50331656,  \"fName\" : \"\",  \"fTitle\" : \"\",  \"fGraphs\" : {    \"_typename\" : \"TList\",    \"name\" : \"TList\",    \"arr\" : [{      \"_typename\" : \"TGraph\",      \"fUniqueID\" : 0,      \"fBits\" : 50332680,      \"fName\" : \"Error on training set\",      \"fTitle\" : \"Error on training set\",      \"fLineColor\" : 1,      \"fLineStyle\" : 1,      \"fLineWidth\" : 1,      \"fFillColor\" : 2,      \"fFillStyle\" : 1001,      \"fMarkerColor\" : 2,      \"fMarkerStyle\" : 8,      \"fMarkerSize\" : 5.000000e-01,      \"fNpoints\" : 8,      \"fX\" : [5, 10, 15, 20, 25, 30, 35, 40],      \"fY\" : [6.566158e-01, 6.950342e-01, 6.544175e-01, 6.665892e-01, 6.609419e-01, 6.572335e-01, 6.607229e-01, 6.497480e-01],      \"fFunctions\" : {        \"_typename\" : \"TList\",        \"name\" : \"TList\",        \"arr\" : [],        \"opt\" : []      },      \"fHistogram\" : null,      \"fMinimum\" : -1111,      \"fMaximum\" : -1111    }, {      \"_typename\" : \"TGraph\",      \"fUniqueID\" : 0,      \"fBits\" : 50332680,      \"fName\" : \"Error on test set\",      \"fTitle\" : \"Error on test set\",      \"fLineColor\" : 1,      \"fLineStyle\" : 1,      \"fLineWidth\" : 1,      \"fFillColor\" : 4,      \"fFillStyle\" : 1001,      \"fMarkerColor\" : 4,      \"fMarkerStyle\" : 8,      \"fMarkerSize\" : 5.000000e-01,      \"fNpoints\" : 8,      \"fX\" : [5, 10, 15, 20, 25, 30, 35, 40],      \"fY\" : [6.293046e-01, 6.713674e-01, 6.299763e-01, 6.424805e-01, 6.354038e-01, 6.295584e-01, 6.376190e-01, 6.244975e-01],      \"fFunctions\" : {        \"_typename\" : \"TList\",        \"name\" : \"TList\",        \"arr\" : [],        \"opt\" : []      },      \"fHistogram\" : null,      \"fMinimum\" : -1111,      \"fMaximum\" : -1111    }],    \"opt\" : [\"\", \"\"]  },  \"fFunctions\" : null,  \"fHistogram\" : null,  \"fMaximum\" : -1111,  \"fMinimum\" : -1111}');\n",
       "var script = document.getElementById(\"dataInserterScript\");\n",
       "script.parentElement.parentElement.remove();\n",
       "});\n",
       "</script>"
      ],
      "text/plain": [
       "<IPython.core.display.HTML object>"
      ]
     },
     "metadata": {},
     "output_type": "display_data"
    },
    {
     "data": {
      "text/html": [
       "\n",
       "    <script type=\"text/javascript\" id=\"progressBarScriptInc\">\n",
       "    require([\"jquery\"], function(jQ){\n",
       "        jQ(\"#jsmva_bar_0\").css(\"width\", 7 + \"%\");\n",
       "        jQ(\"#jsmva_label_0\").text(7 + '%');\n",
       "        jQ(\"#progressBarScriptInc\").parent().parent().remove();\n",
       "    });\n",
       "    </script>\n",
       "    "
      ],
      "text/plain": [
       "<IPython.core.display.HTML object>"
      ]
     },
     "metadata": {},
     "output_type": "display_data"
    },
    {
     "data": {
      "text/html": [
       "<script id=\"dataInserterScript\">\n",
       "require(['JsMVA'],function(jsmva){\n",
       "jsmva.updateTrainingTestingErrors('jstmva_1', '{  \"_typename\" : \"TMultiGraph\",  \"fUniqueID\" : 0,  \"fBits\" : 50331656,  \"fName\" : \"\",  \"fTitle\" : \"\",  \"fGraphs\" : {    \"_typename\" : \"TList\",    \"name\" : \"TList\",    \"arr\" : [{      \"_typename\" : \"TGraph\",      \"fUniqueID\" : 0,      \"fBits\" : 50332680,      \"fName\" : \"Error on training set\",      \"fTitle\" : \"Error on training set\",      \"fLineColor\" : 1,      \"fLineStyle\" : 1,      \"fLineWidth\" : 1,      \"fFillColor\" : 2,      \"fFillStyle\" : 1001,      \"fMarkerColor\" : 2,      \"fMarkerStyle\" : 8,      \"fMarkerSize\" : 5.000000e-01,      \"fNpoints\" : 12,      \"fX\" : [5, 10, 15, 20, 25, 30, 35, 40, 45, 50, 55, 60],      \"fY\" : [6.566158e-01, 6.950342e-01, 6.544175e-01, 6.665892e-01, 6.609419e-01, 6.572335e-01, 6.607229e-01, 6.497480e-01, 6.496069e-01, 6.510736e-01, 6.490467e-01, 6.547914e-01],      \"fFunctions\" : {        \"_typename\" : \"TList\",        \"name\" : \"TList\",        \"arr\" : [],        \"opt\" : []      },      \"fHistogram\" : null,      \"fMinimum\" : -1111,      \"fMaximum\" : -1111    }, {      \"_typename\" : \"TGraph\",      \"fUniqueID\" : 0,      \"fBits\" : 50332680,      \"fName\" : \"Error on test set\",      \"fTitle\" : \"Error on test set\",      \"fLineColor\" : 1,      \"fLineStyle\" : 1,      \"fLineWidth\" : 1,      \"fFillColor\" : 4,      \"fFillStyle\" : 1001,      \"fMarkerColor\" : 4,      \"fMarkerStyle\" : 8,      \"fMarkerSize\" : 5.000000e-01,      \"fNpoints\" : 12,      \"fX\" : [5, 10, 15, 20, 25, 30, 35, 40, 45, 50, 55, 60],      \"fY\" : [6.293046e-01, 6.713674e-01, 6.299763e-01, 6.424805e-01, 6.354038e-01, 6.295584e-01, 6.376190e-01, 6.244975e-01, 6.267705e-01, 6.295481e-01, 6.271350e-01, 6.309268e-01],      \"fFunctions\" : {        \"_typename\" : \"TList\",        \"name\" : \"TList\",        \"arr\" : [],        \"opt\" : []      },      \"fHistogram\" : null,      \"fMinimum\" : -1111,      \"fMaximum\" : -1111    }],    \"opt\" : [\"\", \"\"]  },  \"fFunctions\" : null,  \"fHistogram\" : null,  \"fMaximum\" : -1111,  \"fMinimum\" : -1111}');\n",
       "var script = document.getElementById(\"dataInserterScript\");\n",
       "script.parentElement.parentElement.remove();\n",
       "});\n",
       "</script>"
      ],
      "text/plain": [
       "<IPython.core.display.HTML object>"
      ]
     },
     "metadata": {},
     "output_type": "display_data"
    },
    {
     "data": {
      "text/html": [
       "\n",
       "    <script type=\"text/javascript\" id=\"progressBarScriptInc\">\n",
       "    require([\"jquery\"], function(jQ){\n",
       "        jQ(\"#jsmva_bar_0\").css(\"width\", 10 + \"%\");\n",
       "        jQ(\"#jsmva_label_0\").text(10 + '%');\n",
       "        jQ(\"#progressBarScriptInc\").parent().parent().remove();\n",
       "    });\n",
       "    </script>\n",
       "    "
      ],
      "text/plain": [
       "<IPython.core.display.HTML object>"
      ]
     },
     "metadata": {},
     "output_type": "display_data"
    },
    {
     "data": {
      "text/html": [
       "<script id=\"dataInserterScript\">\n",
       "require(['JsMVA'],function(jsmva){\n",
       "jsmva.updateTrainingTestingErrors('jstmva_1', '{  \"_typename\" : \"TMultiGraph\",  \"fUniqueID\" : 0,  \"fBits\" : 50331656,  \"fName\" : \"\",  \"fTitle\" : \"\",  \"fGraphs\" : {    \"_typename\" : \"TList\",    \"name\" : \"TList\",    \"arr\" : [{      \"_typename\" : \"TGraph\",      \"fUniqueID\" : 0,      \"fBits\" : 50332680,      \"fName\" : \"Error on training set\",      \"fTitle\" : \"Error on training set\",      \"fLineColor\" : 1,      \"fLineStyle\" : 1,      \"fLineWidth\" : 1,      \"fFillColor\" : 2,      \"fFillStyle\" : 1001,      \"fMarkerColor\" : 2,      \"fMarkerStyle\" : 8,      \"fMarkerSize\" : 5.000000e-01,      \"fNpoints\" : 16,      \"fX\" : [5, 10, 15, 20, 25, 30, 35, 40, 45, 50, 55, 60, 65, 70, 75, 80],      \"fY\" : [6.566158e-01, 6.950342e-01, 6.544175e-01, 6.665892e-01, 6.609419e-01, 6.572335e-01, 6.607229e-01, 6.497480e-01, 6.496069e-01, 6.510736e-01, 6.490467e-01, 6.547914e-01, 6.571590e-01, 6.600227e-01, 6.646183e-01, 6.500481e-01],      \"fFunctions\" : {        \"_typename\" : \"TList\",        \"name\" : \"TList\",        \"arr\" : [],        \"opt\" : []      },      \"fHistogram\" : null,      \"fMinimum\" : -1111,      \"fMaximum\" : -1111    }, {      \"_typename\" : \"TGraph\",      \"fUniqueID\" : 0,      \"fBits\" : 50332680,      \"fName\" : \"Error on test set\",      \"fTitle\" : \"Error on test set\",      \"fLineColor\" : 1,      \"fLineStyle\" : 1,      \"fLineWidth\" : 1,      \"fFillColor\" : 4,      \"fFillStyle\" : 1001,      \"fMarkerColor\" : 4,      \"fMarkerStyle\" : 8,      \"fMarkerSize\" : 5.000000e-01,      \"fNpoints\" : 16,      \"fX\" : [5, 10, 15, 20, 25, 30, 35, 40, 45, 50, 55, 60, 65, 70, 75, 80],      \"fY\" : [6.293046e-01, 6.713674e-01, 6.299763e-01, 6.424805e-01, 6.354038e-01, 6.295584e-01, 6.376190e-01, 6.244975e-01, 6.267705e-01, 6.295481e-01, 6.271350e-01, 6.309268e-01, 6.393579e-01, 6.399028e-01, 6.384434e-01, 6.281180e-01],      \"fFunctions\" : {        \"_typename\" : \"TList\",        \"name\" : \"TList\",        \"arr\" : [],        \"opt\" : []      },      \"fHistogram\" : null,      \"fMinimum\" : -1111,      \"fMaximum\" : -1111    }],    \"opt\" : [\"\", \"\"]  },  \"fFunctions\" : null,  \"fHistogram\" : null,  \"fMaximum\" : -1111,  \"fMinimum\" : -1111}');\n",
       "var script = document.getElementById(\"dataInserterScript\");\n",
       "script.parentElement.parentElement.remove();\n",
       "});\n",
       "</script>"
      ],
      "text/plain": [
       "<IPython.core.display.HTML object>"
      ]
     },
     "metadata": {},
     "output_type": "display_data"
    },
    {
     "data": {
      "text/html": [
       "\n",
       "    <script type=\"text/javascript\" id=\"progressBarScriptInc\">\n",
       "    require([\"jquery\"], function(jQ){\n",
       "        jQ(\"#jsmva_bar_0\").css(\"width\", 14 + \"%\");\n",
       "        jQ(\"#jsmva_label_0\").text(14 + '%');\n",
       "        jQ(\"#progressBarScriptInc\").parent().parent().remove();\n",
       "    });\n",
       "    </script>\n",
       "    "
      ],
      "text/plain": [
       "<IPython.core.display.HTML object>"
      ]
     },
     "metadata": {},
     "output_type": "display_data"
    },
    {
     "data": {
      "text/html": [
       "<script id=\"dataInserterScript\">\n",
       "require(['JsMVA'],function(jsmva){\n",
       "jsmva.updateTrainingTestingErrors('jstmva_1', '{  \"_typename\" : \"TMultiGraph\",  \"fUniqueID\" : 0,  \"fBits\" : 50331656,  \"fName\" : \"\",  \"fTitle\" : \"\",  \"fGraphs\" : {    \"_typename\" : \"TList\",    \"name\" : \"TList\",    \"arr\" : [{      \"_typename\" : \"TGraph\",      \"fUniqueID\" : 0,      \"fBits\" : 50332680,      \"fName\" : \"Error on training set\",      \"fTitle\" : \"Error on training set\",      \"fLineColor\" : 1,      \"fLineStyle\" : 1,      \"fLineWidth\" : 1,      \"fFillColor\" : 2,      \"fFillStyle\" : 1001,      \"fMarkerColor\" : 2,      \"fMarkerStyle\" : 8,      \"fMarkerSize\" : 5.000000e-01,      \"fNpoints\" : 21,      \"fX\" : [5, 10, 15, 20, 25, 30, 35, 40, 45, 50, 55, 60, 65, 70, 75, 80, 85, 90, 95, 100, 105],      \"fY\" : [6.566158e-01, 6.950342e-01, 6.544175e-01, 6.665892e-01, 6.609419e-01, 6.572335e-01, 6.607229e-01, 6.497480e-01, 6.496069e-01, 6.510736e-01, 6.490467e-01, 6.547914e-01, 6.571590e-01, 6.600227e-01, 6.646183e-01, 6.500481e-01, 6.533223e-01, 6.494861e-01, 6.474873e-01, 6.501882e-01, 6.530441e-01],      \"fFunctions\" : {        \"_typename\" : \"TList\",        \"name\" : \"TList\",        \"arr\" : [],        \"opt\" : []      },      \"fHistogram\" : null,      \"fMinimum\" : -1111,      \"fMaximum\" : -1111    }, {      \"_typename\" : \"TGraph\",      \"fUniqueID\" : 0,      \"fBits\" : 50332680,      \"fName\" : \"Error on test set\",      \"fTitle\" : \"Error on test set\",      \"fLineColor\" : 1,      \"fLineStyle\" : 1,      \"fLineWidth\" : 1,      \"fFillColor\" : 4,      \"fFillStyle\" : 1001,      \"fMarkerColor\" : 4,      \"fMarkerStyle\" : 8,      \"fMarkerSize\" : 5.000000e-01,      \"fNpoints\" : 21,      \"fX\" : [5, 10, 15, 20, 25, 30, 35, 40, 45, 50, 55, 60, 65, 70, 75, 80, 85, 90, 95, 100, 105],      \"fY\" : [6.293046e-01, 6.713674e-01, 6.299763e-01, 6.424805e-01, 6.354038e-01, 6.295584e-01, 6.376190e-01, 6.244975e-01, 6.267705e-01, 6.295481e-01, 6.271350e-01, 6.309268e-01, 6.393579e-01, 6.399028e-01, 6.384434e-01, 6.281180e-01, 6.318112e-01, 6.276940e-01, 6.240724e-01, 6.256698e-01, 6.305085e-01],      \"fFunctions\" : {        \"_typename\" : \"TList\",        \"name\" : \"TList\",        \"arr\" : [],        \"opt\" : []      },      \"fHistogram\" : null,      \"fMinimum\" : -1111,      \"fMaximum\" : -1111    }],    \"opt\" : [\"\", \"\"]  },  \"fFunctions\" : null,  \"fHistogram\" : null,  \"fMaximum\" : -1111,  \"fMinimum\" : -1111}');\n",
       "var script = document.getElementById(\"dataInserterScript\");\n",
       "script.parentElement.parentElement.remove();\n",
       "});\n",
       "</script>"
      ],
      "text/plain": [
       "<IPython.core.display.HTML object>"
      ]
     },
     "metadata": {},
     "output_type": "display_data"
    },
    {
     "data": {
      "text/html": [
       "\n",
       "    <script type=\"text/javascript\" id=\"progressBarScriptInc\">\n",
       "    require([\"jquery\"], function(jQ){\n",
       "        jQ(\"#jsmva_bar_0\").css(\"width\", 17 + \"%\");\n",
       "        jQ(\"#jsmva_label_0\").text(17 + '%');\n",
       "        jQ(\"#progressBarScriptInc\").parent().parent().remove();\n",
       "    });\n",
       "    </script>\n",
       "    "
      ],
      "text/plain": [
       "<IPython.core.display.HTML object>"
      ]
     },
     "metadata": {},
     "output_type": "display_data"
    },
    {
     "data": {
      "text/html": [
       "<script id=\"dataInserterScript\">\n",
       "require(['JsMVA'],function(jsmva){\n",
       "jsmva.updateTrainingTestingErrors('jstmva_1', '{  \"_typename\" : \"TMultiGraph\",  \"fUniqueID\" : 0,  \"fBits\" : 50331656,  \"fName\" : \"\",  \"fTitle\" : \"\",  \"fGraphs\" : {    \"_typename\" : \"TList\",    \"name\" : \"TList\",    \"arr\" : [{      \"_typename\" : \"TGraph\",      \"fUniqueID\" : 0,      \"fBits\" : 50332680,      \"fName\" : \"Error on training set\",      \"fTitle\" : \"Error on training set\",      \"fLineColor\" : 1,      \"fLineStyle\" : 1,      \"fLineWidth\" : 1,      \"fFillColor\" : 2,      \"fFillStyle\" : 1001,      \"fMarkerColor\" : 2,      \"fMarkerStyle\" : 8,      \"fMarkerSize\" : 5.000000e-01,      \"fNpoints\" : 25,      \"fX\" : [5, 10, 15, 20, 25, 30, 35, 40, 45, 50, 55, 60, 65, 70, 75, 80, 85, 90, 95, 100, 105, 110, 115, 120, 125],      \"fY\" : [6.566158e-01, 6.950342e-01, 6.544175e-01, 6.665892e-01, 6.609419e-01, 6.572335e-01, 6.607229e-01, 6.497480e-01, 6.496069e-01, 6.510736e-01, 6.490467e-01, 6.547914e-01, 6.571590e-01, 6.600227e-01, 6.646183e-01, 6.500481e-01, 6.533223e-01, 6.494861e-01, 6.474873e-01, 6.501882e-01, 6.530441e-01, 6.639726e-01, 6.604464e-01, 6.520969e-01, 6.499717e-01],      \"fFunctions\" : {        \"_typename\" : \"TList\",        \"name\" : \"TList\",        \"arr\" : [],        \"opt\" : []      },      \"fHistogram\" : null,      \"fMinimum\" : -1111,      \"fMaximum\" : -1111    }, {      \"_typename\" : \"TGraph\",      \"fUniqueID\" : 0,      \"fBits\" : 50332680,      \"fName\" : \"Error on test set\",      \"fTitle\" : \"Error on test set\",      \"fLineColor\" : 1,      \"fLineStyle\" : 1,      \"fLineWidth\" : 1,      \"fFillColor\" : 4,      \"fFillStyle\" : 1001,      \"fMarkerColor\" : 4,      \"fMarkerStyle\" : 8,      \"fMarkerSize\" : 5.000000e-01,      \"fNpoints\" : 25,      \"fX\" : [5, 10, 15, 20, 25, 30, 35, 40, 45, 50, 55, 60, 65, 70, 75, 80, 85, 90, 95, 100, 105, 110, 115, 120, 125],      \"fY\" : [6.293046e-01, 6.713674e-01, 6.299763e-01, 6.424805e-01, 6.354038e-01, 6.295584e-01, 6.376190e-01, 6.244975e-01, 6.267705e-01, 6.295481e-01, 6.271350e-01, 6.309268e-01, 6.393579e-01, 6.399028e-01, 6.384434e-01, 6.281180e-01, 6.318112e-01, 6.276940e-01, 6.240724e-01, 6.256698e-01, 6.305085e-01, 6.392719e-01, 6.409023e-01, 6.272581e-01, 6.260727e-01],      \"fFunctions\" : {        \"_typename\" : \"TList\",        \"name\" : \"TList\",        \"arr\" : [],        \"opt\" : []      },      \"fHistogram\" : null,      \"fMinimum\" : -1111,      \"fMaximum\" : -1111    }],    \"opt\" : [\"\", \"\"]  },  \"fFunctions\" : null,  \"fHistogram\" : null,  \"fMaximum\" : -1111,  \"fMinimum\" : -1111}');\n",
       "var script = document.getElementById(\"dataInserterScript\");\n",
       "script.parentElement.parentElement.remove();\n",
       "});\n",
       "</script>"
      ],
      "text/plain": [
       "<IPython.core.display.HTML object>"
      ]
     },
     "metadata": {},
     "output_type": "display_data"
    },
    {
     "data": {
      "text/html": [
       "\n",
       "    <script type=\"text/javascript\" id=\"progressBarScriptInc\">\n",
       "    require([\"jquery\"], function(jQ){\n",
       "        jQ(\"#jsmva_bar_0\").css(\"width\", 21 + \"%\");\n",
       "        jQ(\"#jsmva_label_0\").text(21 + '%');\n",
       "        jQ(\"#progressBarScriptInc\").parent().parent().remove();\n",
       "    });\n",
       "    </script>\n",
       "    "
      ],
      "text/plain": [
       "<IPython.core.display.HTML object>"
      ]
     },
     "metadata": {},
     "output_type": "display_data"
    },
    {
     "data": {
      "text/html": [
       "\n",
       "    <script type=\"text/javascript\" id=\"progressBarScriptInc\">\n",
       "    require([\"jquery\"], function(jQ){\n",
       "        jQ(\"#jsmva_bar_0\").css(\"width\", 22 + \"%\");\n",
       "        jQ(\"#jsmva_label_0\").text(22 + '%');\n",
       "        jQ(\"#progressBarScriptInc\").parent().parent().remove();\n",
       "    });\n",
       "    </script>\n",
       "    "
      ],
      "text/plain": [
       "<IPython.core.display.HTML object>"
      ]
     },
     "metadata": {},
     "output_type": "display_data"
    },
    {
     "data": {
      "text/html": [
       "<table class='tmva_output_table'><tbody class='tmva_output_tbody_multiple_row'><tr><td rowspan='2' class='tmva_output_header'>DataSetFactory          </td><td><table class='tmva_output_dataset'><tbody class='tmva_output_tbody_multiple_row'><tr><td rowspan='7'>Dataset: tmva_class_example</td><td>Number of events in input trees</td><td class='tmva_output_hidden_td'></td></tr><tr><td>Weight renormalisation mode: \"EqualNumEvents\": renormalises all event classes ...</td><td class='tmva_output_hidden_td'></td></tr><tr><td>such that the effective (weighted) number of events in each class is the same </td><td class='tmva_output_hidden_td'></td></tr><tr><td>(and equals the number of events (entries) given for class=0 )</td><td class='tmva_output_hidden_td'></td></tr><tr><td>... i.e. such that Sum[i=1..N_j]{w_i} = N_classA, j=classA, classB, ...</td><td class='tmva_output_hidden_td'></td></tr><tr><td>... (note that N_j is the sum of TRAINING events</td><td class='tmva_output_hidden_td'></td></tr><tr><td>..... Testing events are not renormalised nor included in the renormalisation factor!)</td><td class='tmva_output_hidden_td'></td></tr></tbody></table></td></tr><tr><td><table class='tmva_output_traintestevents'><tr><td colspan='3'><center>Number of training and testing events</center></td></tr><tr><td rowspan='3'>Signal</td><td>training events</td><td>3000</td><td class='tmva_output_hidden_td'></td></tr><tr><td>testing events</td><td>3000</td><td class='tmva_output_hidden_td'></td></tr><tr><td>training and testing events</td><td>6000</td><td class='tmva_output_hidden_td'></td></tr><tr><td rowspan='3'>Background</td><td>training events</td><td>3000</td><td class='tmva_output_hidden_td'></td></tr><tr><td>testing events</td><td>3000</td><td class='tmva_output_hidden_td'></td></tr><tr><td>training and testing events</td><td>6000</td><td class='tmva_output_hidden_td'></td></tr></table></td></tr></tbody><tbody><tr><td rowspan='1' class='tmva_output_header'>DataSetInfo             </td><div id='jsmva_outputtansformer_events_0_onclick' style='display: none;'>{  \"_typename\" : \"TH2F\",  \"fUniqueID\" : 0,  \"fBits\" : 50332168,  \"fName\" : \"CorrelationMatrixSignal\",  \"fTitle\" : \"Correlation Matrix (Signal)\",  \"fLineColor\" : 602,  \"fLineStyle\" : 1,  \"fLineWidth\" : 3,  \"fFillColor\" : 0,  \"fFillStyle\" : 1001,  \"fMarkerColor\" : 0,  \"fMarkerStyle\" : 8,  \"fMarkerSize\" : 1.500000e+00,  \"fNcells\" : 36,  \"fXaxis\" : {    \"_typename\" : \"TAxis\",    \"fUniqueID\" : 0,    \"fBits\" : 51380232,    \"fName\" : \"xaxis\",    \"fTitle\" : \"\",    \"fNdivisions\" : 510,    \"fAxisColor\" : 1,    \"fLabelColor\" : 1,    \"fLabelFont\" : 42,    \"fLabelOffset\" : 1.100000e-02,    \"fLabelSize\" : 4.000000e-02,    \"fTickLength\" : 3.000000e-02,    \"fTitleOffset\" : 1,    \"fTitleSize\" : 3.500000e-02,    \"fTitleColor\" : 1,    \"fTitleFont\" : 42,    \"fNbins\" : 4,    \"fXmin\" : 0,    \"fXmax\" : 4,    \"fXbins\" : [],    \"fFirst\" : 0,    \"fLast\" : 0,    \"fBits2\" : 3,    \"fTimeDisplay\" : false,    \"fTimeFormat\" : \"\",    \"fLabels\" : {      \"_typename\" : \"THashList\",      \"name\" : \"THashList\",      \"arr\" : [{        \"_typename\" : \"TObjString\",        \"fUniqueID\" : 1,        \"fBits\" : 50331648,        \"fString\" : \"myvar1\"      }, {        \"_typename\" : \"TObjString\",        \"fUniqueID\" : 2,        \"fBits\" : 50331648,        \"fString\" : \"Expression 2\"      }, {        \"_typename\" : \"TObjString\",        \"fUniqueID\" : 3,        \"fBits\" : 50331648,        \"fString\" : \"Variable 3\"      }, {        \"_typename\" : \"TObjString\",        \"fUniqueID\" : 4,        \"fBits\" : 50331648,        \"fString\" : \"Variable 4\"      }],      \"opt\" : [\"\", \"\", \"\", \"\"]    }  },  \"fYaxis\" : {    \"_typename\" : \"TAxis\",    \"fUniqueID\" : 0,    \"fBits\" : 50331656,    \"fName\" : \"yaxis\",    \"fTitle\" : \"\",    \"fNdivisions\" : 510,    \"fAxisColor\" : 1,    \"fLabelColor\" : 1,    \"fLabelFont\" : 42,    \"fLabelOffset\" : 5.000000e-03,    \"fLabelSize\" : 4.000000e-02,    \"fTickLength\" : 3.000000e-02,    \"fTitleOffset\" : 1,    \"fTitleSize\" : 3.500000e-02,    \"fTitleColor\" : 1,    \"fTitleFont\" : 42,    \"fNbins\" : 4,    \"fXmin\" : 0,    \"fXmax\" : 4,    \"fXbins\" : [],    \"fFirst\" : 0,    \"fLast\" : 0,    \"fBits2\" : 3,    \"fTimeDisplay\" : false,    \"fTimeFormat\" : \"\",    \"fLabels\" : {      \"_typename\" : \"THashList\",      \"name\" : \"THashList\",      \"arr\" : [{        \"_typename\" : \"TObjString\",        \"fUniqueID\" : 1,        \"fBits\" : 50331648,        \"fString\" : \"myvar1\"      }, {        \"_typename\" : \"TObjString\",        \"fUniqueID\" : 2,        \"fBits\" : 50331648,        \"fString\" : \"Expression 2\"      }, {        \"_typename\" : \"TObjString\",        \"fUniqueID\" : 3,        \"fBits\" : 50331648,        \"fString\" : \"Variable 3\"      }, {        \"_typename\" : \"TObjString\",        \"fUniqueID\" : 4,        \"fBits\" : 50331648,        \"fString\" : \"Variable 4\"      }],      \"opt\" : [\"\", \"\", \"\", \"\"]    }  },  \"fZaxis\" : {    \"_typename\" : \"TAxis\",    \"fUniqueID\" : 0,    \"fBits\" : 50331648,    \"fName\" : \"zaxis\",    \"fTitle\" : \"\",    \"fNdivisions\" : 510,    \"fAxisColor\" : 1,    \"fLabelColor\" : 1,    \"fLabelFont\" : 42,    \"fLabelOffset\" : 5.000000e-03,    \"fLabelSize\" : 3.500000e-02,    \"fTickLength\" : 3.000000e-02,    \"fTitleOffset\" : 1,    \"fTitleSize\" : 3.500000e-02,    \"fTitleColor\" : 1,    \"fTitleFont\" : 42,    \"fNbins\" : 1,    \"fXmin\" : 0,    \"fXmax\" : 1,    \"fXbins\" : [],    \"fFirst\" : 0,    \"fLast\" : 0,    \"fBits2\" : 0,    \"fTimeDisplay\" : false,    \"fTimeFormat\" : \"\",    \"fLabels\" : null  },  \"fBarOffset\" : 0,  \"fBarWidth\" : 1000,  \"fEntries\" : 32,  \"fTsumw\" : 0,  \"fTsumw2\" : 0,  \"fTsumwx\" : 0,  \"fTsumwx2\" : 0,  \"fMaximum\" : 100,  \"fMinimum\" : -100,  \"fNormFactor\" : 0,  \"fContour\" : [],  \"fSumw2\" : [],  \"fOption\" : \"\",  \"fFunctions\" : {    \"_typename\" : \"TList\",    \"name\" : \"TList\",    \"arr\" : [],    \"opt\" : []  },  \"fBufferSize\" : 0,  \"fBuffer\" : [],  \"fBinStatErrOpt\" : 0,  \"fScalefactor\" : 1,  \"fTsumwy\" : 0,  \"fTsumwy2\" : 0,  \"fTsumwxy\" : 0,  \"fArray\" : [0, 0, 0, 0, 0, 0, 0, 100, 0, 77, 92, 0, 0, 0, 100, -9, 6, 0, 0, 77, -9, 100, 85, 0, 0, 92, 6, 85, 100, 0, 0, 0, 0, 0, 0, 0]}</div><td><a onclick=\"require(['JsMVA'],function(jsmva){jsmva.outputShowCorrelationMatrix('jsmva_outputtansformer_events_0_onclick');});\" class='tmva_output_corrmat_link'>Correlation matrix (Signal)</a></td></tr></tbody><tbody><tr><td rowspan='1' class='tmva_output_header'>DataSetInfo             </td><div id='jsmva_outputtansformer_events_1_onclick' style='display: none;'>{  \"_typename\" : \"TH2F\",  \"fUniqueID\" : 0,  \"fBits\" : 50332168,  \"fName\" : \"CorrelationMatrixBackground\",  \"fTitle\" : \"Correlation Matrix (Background)\",  \"fLineColor\" : 602,  \"fLineStyle\" : 1,  \"fLineWidth\" : 3,  \"fFillColor\" : 0,  \"fFillStyle\" : 1001,  \"fMarkerColor\" : 0,  \"fMarkerStyle\" : 8,  \"fMarkerSize\" : 1.500000e+00,  \"fNcells\" : 36,  \"fXaxis\" : {    \"_typename\" : \"TAxis\",    \"fUniqueID\" : 0,    \"fBits\" : 51380232,    \"fName\" : \"xaxis\",    \"fTitle\" : \"\",    \"fNdivisions\" : 510,    \"fAxisColor\" : 1,    \"fLabelColor\" : 1,    \"fLabelFont\" : 42,    \"fLabelOffset\" : 1.100000e-02,    \"fLabelSize\" : 4.000000e-02,    \"fTickLength\" : 3.000000e-02,    \"fTitleOffset\" : 1,    \"fTitleSize\" : 3.500000e-02,    \"fTitleColor\" : 1,    \"fTitleFont\" : 42,    \"fNbins\" : 4,    \"fXmin\" : 0,    \"fXmax\" : 4,    \"fXbins\" : [],    \"fFirst\" : 0,    \"fLast\" : 0,    \"fBits2\" : 3,    \"fTimeDisplay\" : false,    \"fTimeFormat\" : \"\",    \"fLabels\" : {      \"_typename\" : \"THashList\",      \"name\" : \"THashList\",      \"arr\" : [{        \"_typename\" : \"TObjString\",        \"fUniqueID\" : 1,        \"fBits\" : 50331648,        \"fString\" : \"myvar1\"      }, {        \"_typename\" : \"TObjString\",        \"fUniqueID\" : 2,        \"fBits\" : 50331648,        \"fString\" : \"Expression 2\"      }, {        \"_typename\" : \"TObjString\",        \"fUniqueID\" : 3,        \"fBits\" : 50331648,        \"fString\" : \"Variable 3\"      }, {        \"_typename\" : \"TObjString\",        \"fUniqueID\" : 4,        \"fBits\" : 50331648,        \"fString\" : \"Variable 4\"      }],      \"opt\" : [\"\", \"\", \"\", \"\"]    }  },  \"fYaxis\" : {    \"_typename\" : \"TAxis\",    \"fUniqueID\" : 0,    \"fBits\" : 50331656,    \"fName\" : \"yaxis\",    \"fTitle\" : \"\",    \"fNdivisions\" : 510,    \"fAxisColor\" : 1,    \"fLabelColor\" : 1,    \"fLabelFont\" : 42,    \"fLabelOffset\" : 5.000000e-03,    \"fLabelSize\" : 4.000000e-02,    \"fTickLength\" : 3.000000e-02,    \"fTitleOffset\" : 1,    \"fTitleSize\" : 3.500000e-02,    \"fTitleColor\" : 1,    \"fTitleFont\" : 42,    \"fNbins\" : 4,    \"fXmin\" : 0,    \"fXmax\" : 4,    \"fXbins\" : [],    \"fFirst\" : 0,    \"fLast\" : 0,    \"fBits2\" : 3,    \"fTimeDisplay\" : false,    \"fTimeFormat\" : \"\",    \"fLabels\" : {      \"_typename\" : \"THashList\",      \"name\" : \"THashList\",      \"arr\" : [{        \"_typename\" : \"TObjString\",        \"fUniqueID\" : 1,        \"fBits\" : 50331648,        \"fString\" : \"myvar1\"      }, {        \"_typename\" : \"TObjString\",        \"fUniqueID\" : 2,        \"fBits\" : 50331648,        \"fString\" : \"Expression 2\"      }, {        \"_typename\" : \"TObjString\",        \"fUniqueID\" : 3,        \"fBits\" : 50331648,        \"fString\" : \"Variable 3\"      }, {        \"_typename\" : \"TObjString\",        \"fUniqueID\" : 4,        \"fBits\" : 50331648,        \"fString\" : \"Variable 4\"      }],      \"opt\" : [\"\", \"\", \"\", \"\"]    }  },  \"fZaxis\" : {    \"_typename\" : \"TAxis\",    \"fUniqueID\" : 0,    \"fBits\" : 50331648,    \"fName\" : \"zaxis\",    \"fTitle\" : \"\",    \"fNdivisions\" : 510,    \"fAxisColor\" : 1,    \"fLabelColor\" : 1,    \"fLabelFont\" : 42,    \"fLabelOffset\" : 5.000000e-03,    \"fLabelSize\" : 3.500000e-02,    \"fTickLength\" : 3.000000e-02,    \"fTitleOffset\" : 1,    \"fTitleSize\" : 3.500000e-02,    \"fTitleColor\" : 1,    \"fTitleFont\" : 42,    \"fNbins\" : 1,    \"fXmin\" : 0,    \"fXmax\" : 1,    \"fXbins\" : [],    \"fFirst\" : 0,    \"fLast\" : 0,    \"fBits2\" : 0,    \"fTimeDisplay\" : false,    \"fTimeFormat\" : \"\",    \"fLabels\" : null  },  \"fBarOffset\" : 0,  \"fBarWidth\" : 1000,  \"fEntries\" : 32,  \"fTsumw\" : 0,  \"fTsumw2\" : 0,  \"fTsumwx\" : 0,  \"fTsumwx2\" : 0,  \"fMaximum\" : 100,  \"fMinimum\" : -100,  \"fNormFactor\" : 0,  \"fContour\" : [],  \"fSumw2\" : [],  \"fOption\" : \"\",  \"fFunctions\" : {    \"_typename\" : \"TList\",    \"name\" : \"TList\",    \"arr\" : [],    \"opt\" : []  },  \"fBufferSize\" : 0,  \"fBuffer\" : [],  \"fBinStatErrOpt\" : 0,  \"fScalefactor\" : 1,  \"fTsumwy\" : 0,  \"fTsumwy2\" : 0,  \"fTsumwxy\" : 0,  \"fArray\" : [0, 0, 0, 0, 0, 0, 0, 100, 17, 95, 98, 0, 0, 17, 100, 13, 21, 0, 0, 95, 13, 100, 97, 0, 0, 98, 21, 97, 100, 0, 0, 0, 0, 0, 0, 0]}</div><td><a onclick=\"require(['JsMVA'],function(jsmva){jsmva.outputShowCorrelationMatrix('jsmva_outputtansformer_events_1_onclick');});\" class='tmva_output_corrmat_link'>Correlation matrix (Background)</a></td></tr></tbody><tbody><tr><td rowspan='1' class='tmva_output_header'>DataSetFactory          </td><td><table class='tmva_output_dataset'><tbody class='tmva_output_tbody_multiple_row'><tr><td rowspan='2'>Dataset: tmva_class_example</td><td class='tmva_output_hidden_td'></td></tr></tbody></table></td></tr></tbody><tbody class='tmva_output_tbody_multiple_row'><tr><td rowspan='4' class='tmva_output_header'>TFHandler_MLP           </td><td><table class='tmva_output_varmeanrms'><tr><td>Variable<td>Mean<td>RMS<td>Min<td>Max<td class='tmva_output_hidden_td'></td></tr><tr><td>myvar1<td>0.083989<td>0.36407<td>-1.0000<td>1.0000<td class='tmva_output_hidden_td'></td></tr><tr><td>myvar2<td>0.0094778<td>0.27696<td>-1.0000<td>1.0000<td class='tmva_output_hidden_td'></td></tr><tr><td>var3<td>0.080279<td>0.36720<td>-1.0000<td>1.0000<td class='tmva_output_hidden_td'></td></tr><tr><td>var4<td>0.12986<td>0.39603<td>-1.0000<td>1.0000<td class='tmva_output_hidden_td'></td></tr></table></td></tr><tr><td>Training Network</td></tr><tr></tr><tr><td>Elapsed time for training with 6000 events: \u001b[1;31m3.25 sec\u001b[0m         </td></tr></tbody><tbody class='tmva_output_tbody_multiple_row'><tr><td rowspan='5' class='tmva_output_header'>MLP                     </td><td><table class='tmva_output_dataset'><tbody><tr><td rowspan='1'>Dataset: tmva_class_example</td><td>Evaluation of MLP on training sample (6000 events)</td><td class='tmva_output_hidden_td'></td></tr></tbody></table></td></tr><tr><td>Elapsed time for evaluation of 6000 events: \u001b[1;31m0.013 sec\u001b[0m       </td></tr><tr><td>Creating xml weight file: \u001b[0;36mtmva_class_example/weights/TMVAClassification_MLP.weights.xml\u001b[0m</td></tr><tr><td>Creating standalone class: \u001b[0;36mtmva_class_example/weights/TMVAClassification_MLP.class.C\u001b[0m</td></tr><tr><td>Write special histos to file: TMVA.root:/tmva_class_example/Method_MLP/MLP</td></tr></tbody></table>"
      ],
      "text/plain": [
       "<IPython.core.display.HTML object>"
      ]
     },
     "metadata": {},
     "output_type": "display_data"
    },
    {
     "data": {
      "text/html": [],
      "text/plain": [
       "<IPython.core.display.HTML object>"
      ]
     },
     "metadata": {},
     "output_type": "display_data"
    }
   ],
   "source": [
    "factory.TrainAllMethods()"
   ]
  },
  {
   "cell_type": "code",
   "execution_count": 9,
   "metadata": {
    "collapsed": false
   },
   "outputs": [
    {
     "data": {
      "text/html": [
       "<table class='tmva_output_table'><tbody class='tmva_output_tbody_multiple_row'><tr><td rowspan='2' class='tmva_output_header'>Factory                 </td><td>Test method: MLP for Classification performance</td></tr><tr></tr></tbody><tbody class='tmva_output_tbody_multiple_row'><tr><td rowspan='2' class='tmva_output_header'>MLP                     </td><td><table class='tmva_output_dataset'><tbody><tr><td rowspan='1'>Dataset: tmva_class_example</td><td>Evaluation of MLP on testing sample (6000 events)</td><td class='tmva_output_hidden_td'></td></tr></tbody></table></td></tr><tr><td>Elapsed time for evaluation of 6000 events: \u001b[1;31m0.0161 sec\u001b[0m       </td></tr></tbody></table>"
      ],
      "text/plain": [
       "<IPython.core.display.HTML object>"
      ]
     },
     "metadata": {},
     "output_type": "display_data"
    },
    {
     "data": {
      "text/html": [],
      "text/plain": [
       "<IPython.core.display.HTML object>"
      ]
     },
     "metadata": {},
     "output_type": "display_data"
    }
   ],
   "source": [
    "factory.TestAllMethods()"
   ]
  },
  {
   "cell_type": "code",
   "execution_count": null,
   "metadata": {
    "collapsed": false
   },
   "outputs": [],
   "source": [
    "factory.EvaluateAllMethods()"
   ]
  }
 ],
 "metadata": {
  "kernelspec": {
   "display_name": "Python [Root]",
   "language": "python",
   "name": "Python [Root]"
  },
  "language_info": {
   "codemirror_mode": {
    "name": "ipython",
    "version": 2
   },
   "file_extension": ".py",
   "mimetype": "text/x-python",
   "name": "python",
   "nbconvert_exporter": "python",
   "pygments_lexer": "ipython2",
   "version": "2.7.11"
  }
 },
 "nbformat": 4,
 "nbformat_minor": 0
}
