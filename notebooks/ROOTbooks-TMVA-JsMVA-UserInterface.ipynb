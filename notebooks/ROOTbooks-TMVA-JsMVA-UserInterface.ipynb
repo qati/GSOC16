{
 "cells": [
  {
   "cell_type": "markdown",
   "metadata": {},
   "source": [
    "<div>\n",
    "    <div style=\"float:left;\">\n",
    "        <img src=\"http://oproject.org/tiki-download_file.php?fileId=8&display&x=450&y=128\" width=\"50%\" />\n",
    "    </div>\n",
    "    <div style=\"float:left;\">\n",
    "        <img src=\"http://gfif.udea.edu.co/root/tmva/img/tmva_logo.gif\" width=\"50%\"/>\n",
    "    </div>\n",
    "</div>"
   ]
  },
  {
   "cell_type": "markdown",
   "metadata": {},
   "source": [
    "# User interface\n",
    "<hr style=\"border-top-width: 4px; border-top-color: #34609b;\">"
   ]
  },
  {
   "cell_type": "markdown",
   "metadata": {},
   "source": [
    "<!--<script src=\"JsRoot/scripts/JSRootCore.js?jq2d&onload=JsRootLoadedCall\" type=\"text/javascript\"></script>-->"
   ]
  },
  {
   "cell_type": "code",
   "execution_count": 1,
   "metadata": {
    "collapsed": false
   },
   "outputs": [
    {
     "data": {
      "application/javascript": [
       "\n",
       "require(['notebook'],\n",
       "  function() {\n",
       "    IPython.CodeCell.config_defaults.highlight_modes['magic_text/x-c++src'] = {'reg':[/^%%cpp/]};\n",
       "    console.log(\"JupyROOT - %%cpp magic configured\");\n",
       "  }\n",
       ");\n"
      ]
     },
     "metadata": {},
     "output_type": "display_data"
    },
    {
     "name": "stdout",
     "output_type": "stream",
     "text": [
      "Welcome to JupyROOT 6.07/07\n"
     ]
    }
   ],
   "source": [
    "import ROOT\n",
    "from ROOT import TFile, TMVA, TCut"
   ]
  },
  {
   "cell_type": "markdown",
   "metadata": {},
   "source": [
    "## Enable JS visualization"
   ]
  },
  {
   "cell_type": "markdown",
   "metadata": {},
   "source": [
    "To use new interactive features in notebook we have to enable a module called JsMVA. This can be done by using ipython magic: %jsmva."
   ]
  },
  {
   "cell_type": "code",
   "execution_count": 2,
   "metadata": {
    "collapsed": false
   },
   "outputs": [
    {
     "data": {
      "text/html": [
       "<link rel=\"stylesheet\" href=\"https://rawgit.com/qati/GSOC16/master/src/css/TMVAHTMLOutput.min.css\"></link>"
      ],
      "text/plain": [
       "<IPython.core.display.HTML object>"
      ]
     },
     "metadata": {},
     "output_type": "display_data"
    },
    {
     "data": {
      "text/html": [
       "<table class='tmva_output_table'></table>"
      ],
      "text/plain": [
       "<IPython.core.display.HTML object>"
      ]
     },
     "metadata": {},
     "output_type": "display_data"
    },
    {
     "data": {
      "text/html": [],
      "text/plain": [
       "<IPython.core.display.HTML object>"
      ]
     },
     "metadata": {},
     "output_type": "display_data"
    }
   ],
   "source": [
    "%jsmva on"
   ]
  },
  {
   "cell_type": "markdown",
   "metadata": {},
   "source": [
    "## Declaration of Factory"
   ]
  },
  {
   "cell_type": "markdown",
   "metadata": {},
   "source": [
    "First let's start with the classical version of declaration. If you know how to use TMVA in C++ then you can use that version here in python: first we need to pass a string called job name, as second argument we need to pass an opened output TFile (this is optional, if it's present then it will be used to store output histograms) and as third (or second) argument we pass a string which contains all the settings related to Factory (separated with ':' character)."
   ]
  },
  {
   "cell_type": "markdown",
   "metadata": {},
   "source": [
    "### C++ like declaration"
   ]
  },
  {
   "cell_type": "code",
   "execution_count": 3,
   "metadata": {
    "collapsed": false
   },
   "outputs": [
    {
     "data": {
      "text/html": [
       "<table class='tmva_output_table'></table>"
      ],
      "text/plain": [
       "<IPython.core.display.HTML object>"
      ]
     },
     "metadata": {},
     "output_type": "display_data"
    },
    {
     "data": {
      "text/html": [
       "SysError in <TFile::TFile>: could not delete TMVA.root (errno: 26) (Text file busy)\n"
      ],
      "text/plain": [
       "<IPython.core.display.HTML object>"
      ]
     },
     "metadata": {},
     "output_type": "display_data"
    }
   ],
   "source": [
    "outputFile = TFile( \"TMVA.root\", 'RECREATE' )\n",
    "TMVA.Tools.Instance();\n",
    "\n",
    "factory = TMVA.Factory( \"TMVAClassification\", outputFile #this is optional\n",
    "                       ,\"!V:Color:DrawProgressBar:Transformations=I;D;P;G,D:AnalysisType=Classification\" )"
   ]
  },
  {
   "cell_type": "markdown",
   "metadata": {},
   "source": [
    "The options string can contain the following options:\n",
    "<table>\n",
    "<tr><th>Option</th><th>Default</th><th>Predefined values</th><th>Description</th></tr>\n",
    "<tr>\n",
    " <td>V</td>\n",
    " <td>False</td>\n",
    " <td>-</td>\n",
    " <td>Verbose flag</td>\n",
    "</tr>\n",
    "<tr>\n",
    " <td>Color</td>\n",
    " <td>True</td>\n",
    " <td>-</td>\n",
    " <td>Flag for colored output</td>\n",
    "</tr>\n",
    "<tr>\n",
    " <td>Transformations</td>\n",
    " <td>\"\"</td>\n",
    " <td>-</td>\n",
    " <td>List of transformations to test. For example with \"I;D;P;U;G\" string identity, decorrelation, PCA, uniform and Gaussian transformations will be applied</td>\n",
    "</tr>\n",
    "<tr>\n",
    " <td>Silent</td>\n",
    " <td>False</td>\n",
    " <td>-</td>\n",
    " <td>Batch mode: boolean silent flag inhibiting\n",
    "any output from TMVA after\n",
    "the creation of the factory class object</td>\n",
    "</tr>\n",
    "<tr>\n",
    " <td>DrawProgressBar</td>\n",
    " <td>True</td>\n",
    " <td>-</td>\n",
    " <td>Draw progress bar to display training,\n",
    "testing and evaluation schedule (default:\n",
    "True)</td>\n",
    "</tr>\n",
    "<tr>\n",
    " <td>AnalysisType</td>\n",
    " <td>Auto</td>\n",
    " <td>Classification,\n",
    "Regression,\n",
    "Multiclass, Auto</td>\n",
    " <td>Set the analysis type</td>\n",
    "</tr>\n",
    "</table>"
   ]
  },
  {
   "cell_type": "markdown",
   "metadata": {},
   "source": [
    "### Pythonic version"
   ]
  },
  {
   "cell_type": "markdown",
   "metadata": {},
   "source": [
    "By enabling JsMVA we have new, more readable ways to do the declaration."
   ]
  },
  {
   "cell_type": "markdown",
   "metadata": {},
   "source": [
    "#### First version"
   ]
  },
  {
   "cell_type": "markdown",
   "metadata": {},
   "source": [
    "Instead of passing options as a long string we can pass them separately as named arguments:"
   ]
  },
  {
   "cell_type": "code",
   "execution_count": 4,
   "metadata": {
    "collapsed": false,
    "scrolled": false
   },
   "outputs": [
    {
     "data": {
      "text/html": [
       "<table class='tmva_output_table'></table>"
      ],
      "text/plain": [
       "<IPython.core.display.HTML object>"
      ]
     },
     "metadata": {},
     "output_type": "display_data"
    },
    {
     "data": {
      "text/html": [],
      "text/plain": [
       "<IPython.core.display.HTML object>"
      ]
     },
     "metadata": {},
     "output_type": "display_data"
    }
   ],
   "source": [
    "factory = TMVA.Factory(\"TMVAClassification\", outputFile,\n",
    "            V=False, Color=True,Silent=True, DrawProgressBar=True, Transformations=\"I;D;P;G,D\", AnalysisType=\"Classification\")"
   ]
  },
  {
   "cell_type": "markdown",
   "metadata": {},
   "source": [
    "You can see the Transformations variable is set to \"I;D;P;G;D\" string. Instead of this, we can pass these options as a list: [\"I\", \"D\", \"P\", \"G\", \"D\"]"
   ]
  },
  {
   "cell_type": "markdown",
   "metadata": {},
   "source": [
    "#### Second version"
   ]
  },
  {
   "cell_type": "markdown",
   "metadata": {},
   "source": [
    "In the first version we just changed the way as we pass the options. The first 2 argument was still positional arguments. These parameters also can be passed as named arguments: the name of first parameter in first version is <b>JobName</b> and the name of second argument is <b>TargetFile</b>"
   ]
  },
  {
   "cell_type": "code",
   "execution_count": 5,
   "metadata": {
    "collapsed": false
   },
   "outputs": [
    {
     "data": {
      "text/html": [
       "<table class='tmva_output_table'></table>"
      ],
      "text/plain": [
       "<IPython.core.display.HTML object>"
      ]
     },
     "metadata": {},
     "output_type": "display_data"
    },
    {
     "data": {
      "text/html": [],
      "text/plain": [
       "<IPython.core.display.HTML object>"
      ]
     },
     "metadata": {},
     "output_type": "display_data"
    }
   ],
   "source": [
    "factory = TMVA.Factory(JobName=\"TMVAClassification\", TargetFile=outputFile,\n",
    "                       V=False, Color=True, DrawProgressBar=True, Transformations=[\"I\", \"D\", \"P\", \"G\", \"D\"],\n",
    "                       AnalysisType=\"Classification\")"
   ]
  },
  {
   "cell_type": "markdown",
   "metadata": {},
   "source": [
    "Arguments of constructor:\n",
    "The options string can contain the following options:\n",
    "<table>\n",
    "<tr><th>Keyword</th><th>Can be used as positional argument</th><th>Default</th><th>Predefined values</th><th>Description</th></tr>\n",
    "<tr>\n",
    " <td>JobName</td>\n",
    " <td>yes, 1.</td>\n",
    " <td>not optional</td>\n",
    " <td>-</td>\n",
    " <td>Name of job</td>\n",
    "</tr>\n",
    "<tr>\n",
    " <td>TargetFile</td>\n",
    " <td>yes, 2.</td>\n",
    " <td>if not passed histograms won't be saved</td>\n",
    " <td>-</td>\n",
    " <td>File to write control and performance histograms histograms </td>\n",
    "</tr>\n",
    "<tr>\n",
    " <td>V</td>\n",
    " <td>no</td>\n",
    " <td>False</td>\n",
    " <td>-</td>\n",
    " <td>Verbose flag</td>\n",
    "</tr>\n",
    "<tr>\n",
    " <td>Color</td>\n",
    "  <td>no</td>\n",
    "\n",
    " <td>True</td>\n",
    " <td>-</td>\n",
    " <td>Flag for colored output</td>\n",
    "</tr>\n",
    "<tr>\n",
    " <td>Transformations</td>\n",
    "  <td>no</td>\n",
    "\n",
    " <td>\"\"</td>\n",
    " <td>-</td>\n",
    " <td>List of transformations to test. For example with \"I;D;P;U;G\" string identity, decorrelation, PCA, uniform and Gaussian transformations will be applied</td>\n",
    "</tr>\n",
    "<tr>\n",
    " <td>Silent</td>\n",
    "  <td>no</td>\n",
    "\n",
    " <td>False</td>\n",
    "\n",
    " <td>-</td>\n",
    " <td>Batch mode: boolean silent flag inhibiting\n",
    "any output from TMVA after\n",
    "the creation of the factory class object</td>\n",
    "</tr>\n",
    "<tr>\n",
    " <td>DrawProgressBar</td>\n",
    "  <td>no</td>\n",
    "\n",
    " <td>True</td>\n",
    " <td>-</td>\n",
    " <td>Draw progress bar to display training,\n",
    "testing and evaluation schedule (default:\n",
    "True)</td>\n",
    "</tr>\n",
    "<tr>\n",
    " <td>AnalysisType</td>\n",
    "  <td>no</td>\n",
    "\n",
    " <td>Auto</td>\n",
    " <td>Classification,\n",
    "Regression,\n",
    "Multiclass, Auto</td>\n",
    " <td>Set the analysis type</td>\n",
    "</tr>\n",
    "</table>"
   ]
  },
  {
   "cell_type": "markdown",
   "metadata": {},
   "source": [
    "## Declaring the DataLoader, adding variables and setting up the dataset"
   ]
  },
  {
   "cell_type": "markdown",
   "metadata": {},
   "source": [
    "First we need to declare a DataLoader and add the variables (passing the variable names used in the test and train trees in input dataset). To add variable names to DataLoader we use the AddVariable function. Arguments of this function:\n",
    "\n",
    "1. String containing the variable name. Using \":=\" we can add definition too.\n",
    "\n",
    "2. String (label to variable, if not present the variable name will be used) or character (defining the type of data points)\n",
    "\n",
    "3. If we have label for variable, the data point type still can be passed as third argument "
   ]
  },
  {
   "cell_type": "code",
   "execution_count": 6,
   "metadata": {
    "collapsed": false
   },
   "outputs": [
    {
     "data": {
      "text/html": [
       "<table class='tmva_output_table'></table>"
      ],
      "text/plain": [
       "<IPython.core.display.HTML object>"
      ]
     },
     "metadata": {},
     "output_type": "display_data"
    },
    {
     "data": {
      "text/html": [],
      "text/plain": [
       "<IPython.core.display.HTML object>"
      ]
     },
     "metadata": {},
     "output_type": "display_data"
    }
   ],
   "source": [
    "dataset = \"tmva_class_example\" #the dataset name\n",
    "loader  = TMVA.DataLoader(dataset)\n",
    "\n",
    "loader.AddVariable( \"myvar1 := var1+var2\", 'F' )\n",
    "loader.AddVariable( \"myvar2 := var1-var2\", \"Expression 2\", 'F' )\n",
    "loader.AddVariable( \"var3\",                \"Variable 3\", 'F' )\n",
    "loader.AddVariable( \"var4\",                \"Variable 4\", 'F' )"
   ]
  },
  {
   "cell_type": "markdown",
   "metadata": {},
   "source": [
    "It is possible to define spectator variables, which are part of the input data set, but which are not\n",
    "used in the MVA training, test nor during the evaluation, but can be used for correlation tests or others. \n",
    "Parameters:\n",
    "\n",
    "1. String containing the definition of spectator variable.\n",
    "2. Label for spectator variable.\n",
    "3. Data type"
   ]
  },
  {
   "cell_type": "code",
   "execution_count": 7,
   "metadata": {
    "collapsed": false
   },
   "outputs": [
    {
     "data": {
      "text/html": [
       "<table class='tmva_output_table'></table>"
      ],
      "text/plain": [
       "<IPython.core.display.HTML object>"
      ]
     },
     "metadata": {},
     "output_type": "display_data"
    },
    {
     "data": {
      "text/html": [],
      "text/plain": [
       "<IPython.core.display.HTML object>"
      ]
     },
     "metadata": {},
     "output_type": "display_data"
    }
   ],
   "source": [
    "loader.AddSpectator( \"spec1:=var1*2\",  \"Spectator 1\",  'F' )\n",
    "loader.AddSpectator( \"spec2:=var1*3\",  \"Spectator 2\",  'F' )"
   ]
  },
  {
   "cell_type": "markdown",
   "metadata": {},
   "source": [
    "After adding the variables we have to add the datas to DataLoader. In order to do this we check if the dataset file doesn't exist in files directory we download from CERN's server. When we have the root file we open it and get the signal and background trees."
   ]
  },
  {
   "cell_type": "code",
   "execution_count": 8,
   "metadata": {
    "collapsed": false,
    "scrolled": true
   },
   "outputs": [
    {
     "data": {
      "text/html": [
       "<table class='tmva_output_table'></table>"
      ],
      "text/plain": [
       "<IPython.core.display.HTML object>"
      ]
     },
     "metadata": {},
     "output_type": "display_data"
    },
    {
     "data": {
      "text/html": [],
      "text/plain": [
       "<IPython.core.display.HTML object>"
      ]
     },
     "metadata": {},
     "output_type": "display_data"
    }
   ],
   "source": [
    "if ROOT.gSystem.AccessPathName( \"tmva_class_example.root\" ) != 0: \n",
    "    ROOT.gSystem.Exec( \"wget https://root.cern.ch/files/tmva_class_example.root\")\n",
    "    \n",
    "input = TFile.Open( \"tmva_class_example.root\" )\n",
    "\n",
    "# Get the signal and background trees for training\n",
    "signal      = input.Get( \"TreeS\" )\n",
    "background  = input.Get( \"TreeB\" )"
   ]
  },
  {
   "cell_type": "markdown",
   "metadata": {},
   "source": [
    "To pass the signal and background trees to DataLoader we use the AddSignalTree and AddBackgroundTree functions, and we set up the corresponding DataLoader variable's too.\n",
    "Arguments of functions:\n",
    "\n",
    "1. Signal/Background tree\n",
    "2. Global weight used in all events in the tree."
   ]
  },
  {
   "cell_type": "code",
   "execution_count": 9,
   "metadata": {
    "collapsed": false
   },
   "outputs": [
    {
     "data": {
      "text/html": [
       "<table class='tmva_output_table'></table>"
      ],
      "text/plain": [
       "<IPython.core.display.HTML object>"
      ]
     },
     "metadata": {},
     "output_type": "display_data"
    },
    {
     "data": {
      "text/html": [],
      "text/plain": [
       "<IPython.core.display.HTML object>"
      ]
     },
     "metadata": {},
     "output_type": "display_data"
    }
   ],
   "source": [
    "# Global event weights (see below for setting event-wise weights)\n",
    "signalWeight     = 1.0\n",
    "backgroundWeight = 1.0\n",
    "\n",
    "loader.AddSignalTree(signal, signalWeight)\n",
    "loader.AddBackgroundTree(background, backgroundWeight)\n",
    "\n",
    "loader.fSignalWeight = signalWeight\n",
    "loader.fBackgroundWeight = backgroundWeight\n",
    "loader.fTreeS = signal\n",
    "loader.fTreeB = background"
   ]
  },
  {
   "cell_type": "markdown",
   "metadata": {},
   "source": [
    "With using DataLoader.PrepareTrainingAndTestTree function we apply cuts on input events. In C++ this function also needs to add the options as a string (as we seen in Factory constructor) which with JsMVA can be passed (same as Factory constructor case) as keyword arguments.\n",
    "\n",
    "Arguments of PrepareTrainingAndTestTree:\n",
    "<table>\n",
    "\n",
    "<tr>\n",
    "    <th>Keyword</th>\n",
    "    <th>Can be used as positional argument</th>\n",
    "    <th>Default</th>\n",
    "    <th>Predefined values</th>\n",
    "    <th>Description</th>\n",
    "</tr>\n",
    "\n",
    "<tr>\n",
    "    <td>SigCut</td>\n",
    "    <td>yes, 1.</td>\n",
    "    <td>-</td>\n",
    "    <td>-</td>\n",
    "    <td>TCut object for signal cut</td>\n",
    "</tr>\n",
    "<tr>\n",
    "    <td>Bkg</td>\n",
    "    <td>yes, 2.</td>\n",
    "    <td>-</td>\n",
    "    <td>-</td>\n",
    "    <td>TCut object for background cut</td>\n",
    "</tr>\n",
    "\n",
    "<tr>\n",
    "    <td>SplitMode</td>\n",
    "    <td>no</td>\n",
    "    <td>Random</td>\n",
    "    <td>Random,\n",
    "Alternate,\n",
    "Block</td>\n",
    "    <td>Method of picking training and testing\n",
    "events</td>\n",
    "</tr>\n",
    "<tr>\n",
    "    <td>MixMode</td>\n",
    "    <td>no</td>\n",
    "    <td>SameAsSplitMode</td>\n",
    "    <td>SameAsSplitMode,\n",
    "Random,\n",
    "Alternate,\n",
    "Block</td>\n",
    "    <td>Method of mixing events of differnt\n",
    "classes into one dataset</td>\n",
    "</tr>\n",
    "<tr>\n",
    "    <td>SplitSeed</td>\n",
    "    <td>no</td>\n",
    "    <td>100</td>\n",
    "    <td>-</td>\n",
    "    <td>Seed for random event shuffling</td>\n",
    "</tr>\n",
    "<tr>\n",
    "    <td>NormMode</td>\n",
    "    <td>no</td>\n",
    "    <td>EqualNumEvents</td>\n",
    "    <td>None, NumEvents,\n",
    "EqualNumEvents</td>\n",
    "    <td>Overall renormalisation of event-by-event\n",
    "weights used in the training (NumEvents:\n",
    "average weight of 1 per\n",
    "event, independently for signal and\n",
    "background; EqualNumEvents: average\n",
    "weight of 1 per event for signal,\n",
    "and sum of weights for background\n",
    "equal to sum of weights for signal)</td>\n",
    "</tr>\n",
    "\n",
    "<tr>\n",
    "    <td>nTrain_Signal</td>\n",
    "    <td>no</td>\n",
    "    <td>0 (all)</td>\n",
    "    <td>-</td>\n",
    "    <td>Number of training events of class Signal</td>\n",
    "</tr>\n",
    "\n",
    "<tr>\n",
    "    <td>nTest_Signal</td>\n",
    "    <td>no</td>\n",
    "    <td>0 (all)</td>\n",
    "    <td>-</td>\n",
    "    <td>Number of test events of class Signal</td>\n",
    "</tr>\n",
    "\n",
    "<tr>\n",
    "    <td>nTrain_Background</td>\n",
    "    <td>no</td>\n",
    "    <td>0 (all)</td>\n",
    "    <td>-</td>\n",
    "    <td>Number of training events of class\n",
    "Background</td>\n",
    "</tr>\n",
    "\n",
    "<tr>\n",
    "    <td>nTest_Background </td>\n",
    "    <td>no</td>\n",
    "    <td>0 (all)</td>\n",
    "    <td>-</td>\n",
    "    <td>Number of test events of class Background</td>\n",
    "</tr>\n",
    "<tr>\n",
    "    <td>V</td>\n",
    "    <td>no</td>\n",
    "    <td>False</td>\n",
    "    <td>-</td>\n",
    "    <td>Verbosity</td>\n",
    "</tr>\n",
    "<tr>\n",
    "    <td>VerboseLevel</td>\n",
    "    <td>no</td>\n",
    "    <td>Info</td>\n",
    "    <td>Debug, Verbose,\n",
    "Info</td>\n",
    "    <td>Verbosity level</td>\n",
    "</tr>\n",
    "\n",
    "</table>"
   ]
  },
  {
   "cell_type": "code",
   "execution_count": 10,
   "metadata": {
    "collapsed": false
   },
   "outputs": [
    {
     "data": {
      "text/html": [
       "<table class='tmva_output_table'></table>"
      ],
      "text/plain": [
       "<IPython.core.display.HTML object>"
      ]
     },
     "metadata": {},
     "output_type": "display_data"
    },
    {
     "data": {
      "text/html": [],
      "text/plain": [
       "<IPython.core.display.HTML object>"
      ]
     },
     "metadata": {},
     "output_type": "display_data"
    }
   ],
   "source": [
    "mycuts = TCut(\"\")\n",
    "mycutb = TCut(\"\")\n",
    "\n",
    "loader.PrepareTrainingAndTestTree(SigCut=mycuts, BkgCut=mycutb,\n",
    "                    nTrain_Signal=0, nTrain_Background=0, SplitMode=\"Random\", NormMode=\"NumEvents\", V=False)"
   ]
  },
  {
   "cell_type": "markdown",
   "metadata": {},
   "source": [
    "## Booking methods"
   ]
  },
  {
   "cell_type": "markdown",
   "metadata": {},
   "source": [
    "To add which we want to train on dataset we have to use the Factory.BookMethod function. This method will add a method and it's options to Factory.\n",
    "\n",
    "Arguments:\n",
    "<table>\n",
    "\n",
    "<tr>\n",
    "    <th>Keyword</th>\n",
    "    <th>Can be used as positional argument</th>\n",
    "    <th>Default</th>\n",
    "    <th>Predefined values</th>\n",
    "    <th>Description</th>\n",
    "</tr>\n",
    "\n",
    "<tr>\n",
    "    <td>DataLoader</td>\n",
    "    <td>yes, 1.</td>\n",
    "    <td>-</td>\n",
    "    <td>-</td>\n",
    "    <td>Pointer to DataLoader object</td>\n",
    "</tr>\n",
    "\n",
    "<tr>\n",
    "    <td>Method</td>\n",
    "    <td>yes, 2.</td>\n",
    "    <td>-</td>\n",
    "    <td>     kVariable\n",
    "         kCuts           ,\n",
    "         kLikelihood     ,\n",
    "         kPDERS          ,\n",
    "         kHMatrix        ,\n",
    "         kFisher         ,\n",
    "         kKNN            ,\n",
    "         kCFMlpANN       ,\n",
    "         kTMlpANN        ,\n",
    "         kBDT            ,\n",
    "         kDT             ,\n",
    "         kRuleFit        ,\n",
    "         kSVM            ,\n",
    "         kMLP            ,\n",
    "         kBayesClassifier,\n",
    "         kFDA            ,\n",
    "         kBoost          ,\n",
    "         kPDEFoam        ,\n",
    "         kLD             ,\n",
    "         kPlugins        ,\n",
    "         kCategory       ,\n",
    "         kDNN            ,\n",
    "         kPyRandomForest ,\n",
    "         kPyAdaBoost     ,\n",
    "         kPyGTB          ,\n",
    "         kC50            ,\n",
    "         kRSNNS          ,\n",
    "         kRSVM           ,\n",
    "         kRXGB           ,\n",
    "         kMaxMethod</td>\n",
    "    <td>Selected method number, method numbers defined in TMVA.Types</td>\n",
    "</tr>\n",
    "<tr>\n",
    "    <td>MethodTitle</td>\n",
    "    <td>yes, 3.</td>\n",
    "    <td>-</td>\n",
    "    <td>-</td>\n",
    "    <td>Label for method</td>\n",
    "</tr>\n",
    "<tr>\n",
    "    <td> * </td>\n",
    "    <td> no </td>\n",
    "    <td>-</td>\n",
    "    <td>-</td>\n",
    "    <td> Other named arguments which are the options for selected method. </td>\n",
    "</tr>\n",
    "</table>"
   ]
  },
  {
   "cell_type": "code",
   "execution_count": 11,
   "metadata": {
    "collapsed": false,
    "scrolled": false
   },
   "outputs": [
    {
     "data": {
      "text/plain": [
       "<ROOT.TMVA::MethodMLP object (\"MLP\") at 0x4d2e8e0>"
      ]
     },
     "execution_count": 11,
     "metadata": {},
     "output_type": "execute_result"
    },
    {
     "data": {
      "text/html": [
       "<table class='tmva_output_table'></table>"
      ],
      "text/plain": [
       "<IPython.core.display.HTML object>"
      ]
     },
     "metadata": {},
     "output_type": "display_data"
    },
    {
     "data": {
      "text/html": [],
      "text/plain": [
       "<IPython.core.display.HTML object>"
      ]
     },
     "metadata": {},
     "output_type": "display_data"
    }
   ],
   "source": [
    "factory.BookMethod( DataLoader=loader, Method=TMVA.Types.kMLP, MethodTitle=\"MLP\", \n",
    "        H=False, V=False, NeuronType=\"tanh\", VarTransform=\"N\", NCycles=600, HiddenLayers=\"N+5\",\n",
    "                   TestRate=5, UseRegulator=False )"
   ]
  },
  {
   "cell_type": "markdown",
   "metadata": {},
   "source": [
    "## Cross-validation"
   ]
  },
  {
   "cell_type": "markdown",
   "metadata": {},
   "source": [
    "If we want to do cross-validation, then we have to use the Factory.CrossValidation method. The arguments of this method are the following:"
   ]
  },
  {
   "cell_type": "markdown",
   "metadata": {},
   "source": [
    "\n",
    "<table>\n",
    "\n",
    "<tr>\n",
    "    <th>Keyword</th>\n",
    "    <th>Can be used as positional argument</th>\n",
    "    <th>Default</th>\n",
    "    <th>Predefined values</th>\n",
    "    <th>Description</th>\n",
    "</tr>\n",
    "\n",
    "\n",
    "<tr>\n",
    "    <td>DataLoader</td>\n",
    "    <td>yes, 1.</td>\n",
    "    <td>-</td>\n",
    "    <td>-</td>\n",
    "    <td>Pointer to DataLoader object</td>\n",
    "</tr>\n",
    "\n",
    "<tr>\n",
    "    <td>Method</td>\n",
    "    <td>yes, 2.</td>\n",
    "    <td>-</td>\n",
    "    <td>     kVariable\n",
    "         kCuts           ,\n",
    "         kLikelihood     ,\n",
    "         kPDERS          ,\n",
    "         kHMatrix        ,\n",
    "         kFisher         ,\n",
    "         kKNN            ,\n",
    "         kCFMlpANN       ,\n",
    "         kTMlpANN        ,\n",
    "         kBDT            ,\n",
    "         kDT             ,\n",
    "         kRuleFit        ,\n",
    "         kSVM            ,\n",
    "         kMLP            ,\n",
    "         kBayesClassifier,\n",
    "         kFDA            ,\n",
    "         kBoost          ,\n",
    "         kPDEFoam        ,\n",
    "         kLD             ,\n",
    "         kPlugins        ,\n",
    "         kCategory       ,\n",
    "         kDNN            ,\n",
    "         kPyRandomForest ,\n",
    "         kPyAdaBoost     ,\n",
    "         kPyGTB          ,\n",
    "         kC50            ,\n",
    "         kRSNNS          ,\n",
    "         kRSVM           ,\n",
    "         kRXGB           ,\n",
    "         kMaxMethod</td>\n",
    "    <td>Selected method number, method numbers defined in TMVA.Types</td>\n",
    "</tr>\n",
    "<tr>\n",
    "    <td>MethodTitle</td>\n",
    "    <td>yes, 3.</td>\n",
    "    <td>-</td>\n",
    "    <td>-</td>\n",
    "    <td>Label for method</td>\n",
    "</tr>\n",
    "\n",
    "<tr>\n",
    "    <td>V</td>\n",
    "    <td>no</td>\n",
    "    <td>False</td>\n",
    "    <td>-</td>\n",
    "    <td>Verbose</td>\n",
    "</tr>\n",
    "\n",
    "<tr>\n",
    "    <td>NTrees</td>\n",
    "    <td>no</td>\n",
    "    <td></td>\n",
    "    <td></td>\n",
    "    <td>NTrees</td>\n",
    "</tr>\n",
    "\n",
    "<tr>\n",
    "    <td>MinNodeSize</td>\n",
    "    <td>no</td>\n",
    "    <td></td>\n",
    "    <td></td>\n",
    "    <td>MinNodeSize</td>\n",
    "</tr>\n",
    "<tr>\n",
    "    <td>MaxDepth</td>\n",
    "    <td>no</td>\n",
    "    <td></td>\n",
    "    <td></td>\n",
    "    <td>MaxDepth</td>\n",
    "</tr>\n",
    "<tr>\n",
    "    <td>BoostType</td>\n",
    "    <td>no</td>\n",
    "    <td></td>\n",
    "    <td></td>\n",
    "    <td>BoostType</td>\n",
    "</tr>\n",
    "<tr>\n",
    "    <td>AdaBoostBeta</td>\n",
    "    <td>no</td>\n",
    "    <td></td>\n",
    "    <td></td>\n",
    "    <td>AdaBoostBeta</td>\n",
    "</tr>\n",
    "<tr>\n",
    "    <td>UseBaggedBoost</td>\n",
    "    <td>no</td>\n",
    "    <td></td>\n",
    "    <td></td>\n",
    "    <td>UseBaggedBoost</td>\n",
    "</tr>\n",
    "<tr>\n",
    "    <td>BaggedSampleFraction</td>\n",
    "    <td>no</td>\n",
    "    <td></td>\n",
    "    <td></td>\n",
    "    <td></td>\n",
    "</tr>\n",
    "<tr>\n",
    "    <td>SeparationType</td>\n",
    "    <td>no</td>\n",
    "    <td></td>\n",
    "    <td></td>\n",
    "    <td></td>\n",
    "</tr>\n",
    "<tr>\n",
    "    <td>nCuts</td>\n",
    "    <td>no</td>\n",
    "    <td></td>\n",
    "    <td></td>\n",
    "    <td>nCuts</td>\n",
    "</tr>\n",
    "<tr>\n",
    "    <td>optParams</td>\n",
    "    <td>no</td>\n",
    "    <td>False</td>\n",
    "    <td>-</td>\n",
    "    <td>optParams</td>\n",
    "</tr>\n",
    "<tr>\n",
    "    <td>NumFolds</td>\n",
    "    <td>no</td>\n",
    "    <td>5</td>\n",
    "    <td>-</td>\n",
    "    <td>NumFolds</td>\n",
    "</tr>\n",
    "\n",
    "<tr>\n",
    "    <td>remakeDataSet</td>\n",
    "    <td>no</td>\n",
    "    <td>True</td>\n",
    "    <td></td>\n",
    "    <td>remakeDataSet</td>\n",
    "</tr>\n",
    "\n",
    "<tr>\n",
    "    <td>rocIntegrals</td>\n",
    "    <td>no</td>\n",
    "    <td>[]</td>\n",
    "    <td></td>\n",
    "    <td>rocIntegrals</td>\n",
    "</tr>\n",
    "</table>"
   ]
  },
  {
   "cell_type": "code",
   "execution_count": 12,
   "metadata": {
    "collapsed": false,
    "scrolled": false
   },
   "outputs": [
    {
     "name": "stdout",
     "output_type": "stream",
     "text": [
      "tmva_class_example\n",
      "tmva_class_example\n",
      "tmva_class_example\n",
      "tmva_class_example\n",
      "tmva_class_example\n",
      "tmva_class_example\n",
      "tmva_class_example\n",
      "tmva_class_example\n"
     ]
    },
    {
     "data": {
      "text/html": [
       "<table class='tmva_output_table'>                         :                          : Evaluation results ranked by best signal efficiency and purity (area)                         : -------------------------------------------------------------------------------------------------------------------                         : DataSet       MVA                                                : Name:         Method:          ROC-integ                         : BDT_fold1     BDT            : 0.640                         : -------------------------------------------------------------------------------------------------------------------                         :                          : Testing efficiency compared to training efficiency (overtraining check)                         : -------------------------------------------------------------------------------------------------------------------                         : DataSet              MVA              Signal efficiency: from test sample (from training sample)                          : Name:                Method:          @B=0.01             @B=0.10            @B=0.30                            : -------------------------------------------------------------------------------------------------------------------                         : BDT_fold1            BDT            : 0.000 (0.000)       0.000 (0.000)      0.000 (0.000)                         : -------------------------------------------------------------------------------------------------------------------                         : <tbody class='tmva_output_tbody_multiple_row'><tr><td rowspan='2' class='tmva_output_header'>Factory                 </td><td>Evaluate classifier: MLP</td></tr><tr></tr></tbody><tbody><tr><td rowspan='1' class='tmva_output_header'>TFHandler_MLP           </td><td><table class='tmva_output_varmeanrms'><tr><td>Variable<td>Mean<td>RMS<td>Min<td>Max<td class='tmva_output_hidden_td'></td></tr><tr><td>myvar1<td>0.085349<td>0.33942<td>-0.81589<td>0.92236<td class='tmva_output_hidden_td'></td></tr><tr><td>myvar2<td>-0.0019377<td>0.27892<td>-0.78845<td>0.83388<td class='tmva_output_hidden_td'></td></tr><tr><td>var3<td>0.068800<td>0.33859<td>-0.95425<td>0.94289<td class='tmva_output_hidden_td'></td></tr><tr><td>var4<td>0.17703<td>0.37622<td>-0.83365<td>0.97280<td class='tmva_output_hidden_td'></td></tr></table></td></tr></tbody><tbody class='tmva_output_tbody_multiple_row'><tr><td rowspan='16' class='tmva_output_header'>MLP                     </td><td><table class='tmva_output_dataset'><tbody class='tmva_output_tbody_multiple_row'><tr><td rowspan='3'>Dataset: tmva_class_example</td><td>Loop over test events and fill histograms with classifier response...</td><td class='tmva_output_hidden_td'></td></tr></tbody></table></td></tr><tr><td>Evaluation results ranked by best signal efficiency and purity (area)</td></tr><tr></tr><tr><td>DataSet       MVA                       </td></tr><tr><td>Name:         Method:          ROC-integ</td></tr><tr><td>tmva_class_example MLP            : 0.933</td></tr><tr></tr><tr></tr><tr><td>Testing efficiency compared to training efficiency (overtraining check)</td></tr><tr></tr><tr><td>DataSet              MVA              Signal efficiency: from test sample (from training sample) </td></tr><tr><td>Name:                Method:          @B=0.01             @B=0.10            @B=0.30   </td></tr><tr></tr><tr><td>tmva_class_example   MLP            : 0.340 (0.427)       0.755 (0.811)      0.969 (0.972)</td></tr><tr></tr><tr></tr></tbody><tbody class='tmva_output_tbody_multiple_row'><tr><td rowspan='12' class='tmva_output_header'>Factory                 </td><td>\u001b[1mThank you for using TMVA!\u001b[0m</td></tr><tr><td>\u001b[1mFor citation information, please visit: http://tmva.sf.net/citeTMVA.html\u001b[0m</td></tr><tr><td>Add Tree TreeS of type Signal with 600 events</td></tr><tr><td>Add Tree TreeB of type Background with 600 events</td></tr><tr><td>Add Tree TreeS of type Signal with 600 events</td></tr><tr><td>Add Tree TreeB of type Background with 600 events</td></tr><tr><td>Add Tree TreeS of type Signal with 600 events</td></tr><tr><td>Add Tree TreeB of type Background with 600 events</td></tr><tr><td>Add Tree TreeS of type Signal with 600 events</td></tr><tr><td>Add Tree TreeB of type Background with 600 events</td></tr><tr><td>Add Tree TreeS of type Signal with 600 events</td></tr><tr><td>Add Tree TreeB of type Background with 600 events</td></tr></tbody><tbody class='tmva_output_tbody_multiple_row'><tr><td rowspan='6' class='tmva_output_header'>DataSetInfo             </td><td><table class='tmva_output_dataset'><tbody><tr><td rowspan='1'>Dataset: BDT_fold2</td><td>Added class \"Signal\"</td><td class='tmva_output_hidden_td'></td></tr></tbody></table></td></tr><tr><td>Add Tree TreeS of type Signal with 600 events</td></tr><tr><td>Add Tree TreeS of type Signal with 600 events</td></tr><tr><td>Add Tree TreeS of type Signal with 600 events</td></tr><tr><td>Add Tree TreeS of type Signal with 600 events</td></tr><tr><td>Add Tree TreeS of type Signal with 600 events</td></tr></tbody><tbody class='tmva_output_tbody_multiple_row'><tr><td rowspan='6' class='tmva_output_header'>DataSetInfo             </td><td><table class='tmva_output_dataset'><tbody><tr><td rowspan='1'>Dataset: BDT_fold2</td><td>Added class \"Background\"</td><td class='tmva_output_hidden_td'></td></tr></tbody></table></td></tr><tr><td>Add Tree TreeB of type Background with 600 events</td></tr><tr><td>Add Tree TreeB of type Background with 600 events</td></tr><tr><td>Add Tree TreeB of type Background with 600 events</td></tr><tr><td>Add Tree TreeB of type Background with 600 events</td></tr><tr><td>Add Tree TreeB of type Background with 600 events</td></tr></tbody><tbody class='tmva_output_tbody_multiple_row'><tr><td rowspan='2' class='tmva_output_header'>Factory                 </td><td>Booking method: <b> BDT\u001b</b></td></tr><tr></tr></tbody><tbody class='tmva_output_tbody_multiple_row'><tr><td rowspan='2' class='tmva_output_header'>DataSetFactory          </td><td><table class='tmva_output_dataset'><tbody class='tmva_output_tbody_multiple_row'><tr><td rowspan='7'>Dataset: BDT_fold2</td><td>Number of events in input trees</td><td class='tmva_output_hidden_td'></td></tr><tr><td>Weight renormalisation mode: \"EqualNumEvents\": renormalises all event classes ...</td><td class='tmva_output_hidden_td'></td></tr><tr><td>such that the effective (weighted) number of events in each class is the same </td><td class='tmva_output_hidden_td'></td></tr><tr><td>(and equals the number of events (entries) given for class=0 )</td><td class='tmva_output_hidden_td'></td></tr><tr><td>... i.e. such that Sum[i=1..N_j]{w_i} = N_classA, j=classA, classB, ...</td><td class='tmva_output_hidden_td'></td></tr><tr><td>... (note that N_j is the sum of TRAINING events</td><td class='tmva_output_hidden_td'></td></tr><tr><td>..... Testing events are not renormalised nor included in the renormalisation factor!)</td><td class='tmva_output_hidden_td'></td></tr></tbody></table></td></tr><tr><td><table class='tmva_output_traintestevents'><tr><td colspan='3'><center>Number of training and testing events</center></td></tr><tr><td rowspan='3'>Signal</td><td>training events</td><td>2400</td><td class='tmva_output_hidden_td'></td></tr><tr><td>testing events</td><td>600</td><td class='tmva_output_hidden_td'></td></tr><tr><td>training and testing events</td><td>3000</td><td class='tmva_output_hidden_td'></td></tr><tr><td rowspan='3'>Background</td><td>training events</td><td>2400</td><td class='tmva_output_hidden_td'></td></tr><tr><td>testing events</td><td>600</td><td class='tmva_output_hidden_td'></td></tr><tr><td>training and testing events</td><td>3000</td><td class='tmva_output_hidden_td'></td></tr></table></td></tr></tbody><tbody><tr><td rowspan='1' class='tmva_output_header'>DataSetInfo             </td></tr></tbody><tbody><tr><td rowspan='1' class='tmva_output_header'>DataSetInfo             </td></tr></tbody><tbody><tr><td rowspan='1' class='tmva_output_header'>DataSetFactory          </td><td><table class='tmva_output_dataset'><tbody class='tmva_output_tbody_multiple_row'><tr><td rowspan='2'>Dataset: BDT_fold2</td><td class='tmva_output_hidden_td'></td></tr></tbody></table></td></tr></tbody><tbody class='tmva_output_tbody_multiple_row'><tr><td rowspan='2' class='tmva_output_header'>Factory                 </td><td>Train method: BDT for Classification</td></tr><tr></tr></tbody><tbody class='tmva_output_tbody_multiple_row'><tr><td rowspan='4' class='tmva_output_header'>BDT                     </td><td>#events: (reweighted) sig: 2400 bkg: 2400</td></tr><tr><td>#events: (unweighted) sig: 2400 bkg: 2400</td></tr><tr><td>Training 2 Decision Trees ... patience please</td></tr><tr><td>Elapsed time for training with 4800 events: \u001b[1;31m0.013 sec\u001b[0m         </td></tr></tbody><tbody class='tmva_output_tbody_multiple_row'><tr><td rowspan='4' class='tmva_output_header'>BDT                     </td><td><table class='tmva_output_dataset'><tbody><tr><td rowspan='1'>Dataset: BDT_fold2</td><td>Evaluation of BDT on training sample (4800 events)</td><td class='tmva_output_hidden_td'></td></tr></tbody></table></td></tr><tr><td>Elapsed time for evaluation of 4800 events: \u001b[1;31m0.00413 sec\u001b[0m       </td></tr><tr><td>Creating xml weight file: \u001b[0;36mBDT_fold2/weights/TMVAClassification_BDT.weights.xml\u001b[0m</td></tr><tr><td>Creating standalone class: \u001b[0;36mBDT_fold2/weights/TMVAClassification_BDT.class.C\u001b[0m</td></tr></tbody><tbody class='tmva_output_tbody_multiple_row'><tr><td rowspan='3' class='tmva_output_header'>Factory                 </td><td>Training finished</td></tr><tr></tr><tr><td>Ranking input variables (method specific)...</td></tr></tbody><tbody class='tmva_output_tbody_multiple_row'><tr><td rowspan='9' class='tmva_output_header'>BDT                     </td><td>Ranking result (top variable is best ranked)</td></tr><tr></tr><tr><td>Rank : Variable  : Variable Importance</td></tr><tr></tr><tr><td>1 : var4 : 5.745e-01</td></tr><tr><td>2 : var3 : 4.255e-01</td></tr><tr><td>3 : var1+var2 : 0.000e+00</td></tr><tr><td>4 : var1-var2 : 0.000e+00</td></tr><tr></tr></tbody><tbody class='tmva_output_tbody_multiple_row'><tr><td rowspan='2' class='tmva_output_header'>Factory                 </td><td>=== Destroy and recreate all methods via weight files for testing ===</td></tr><tr></tr></tbody><tbody class='tmva_output_tbody_multiple_row'><tr><td rowspan='2' class='tmva_output_header'>Factory                 </td><td>Test method: BDT for Classification performance</td></tr><tr></tr></tbody><tbody class='tmva_output_tbody_multiple_row'><tr><td rowspan='2' class='tmva_output_header'>BDT                     </td><td><table class='tmva_output_dataset'><tbody><tr><td rowspan='1'>Dataset: BDT_fold2</td><td>Evaluation of BDT on testing sample (1200 events)</td><td class='tmva_output_hidden_td'></td></tr></tbody></table></td></tr><tr><td>Elapsed time for evaluation of 1200 events: \u001b[1;31m0.00434 sec\u001b[0m       </td></tr></tbody><tbody class='tmva_output_tbody_multiple_row'><tr><td rowspan='2' class='tmva_output_header'>Factory                 </td><td>Evaluate classifier: BDT</td></tr><tr></tr></tbody><tbody class='tmva_output_tbody_multiple_row'><tr><td rowspan='16' class='tmva_output_header'>BDT                     </td><td><table class='tmva_output_dataset'><tbody class='tmva_output_tbody_multiple_row'><tr><td rowspan='3'>Dataset: BDT_fold2</td><td>Loop over test events and fill histograms with classifier response...</td><td class='tmva_output_hidden_td'></td></tr></tbody></table></td></tr><tr><td>Evaluation results ranked by best signal efficiency and purity (area)</td></tr><tr></tr><tr><td>DataSet       MVA                       </td></tr><tr><td>Name:         Method:          ROC-integ</td></tr><tr><td>BDT_fold2     BDT            : 0.637</td></tr><tr></tr><tr></tr><tr><td>Testing efficiency compared to training efficiency (overtraining check)</td></tr><tr></tr><tr><td>DataSet              MVA              Signal efficiency: from test sample (from training sample) </td></tr><tr><td>Name:                Method:          @B=0.01             @B=0.10            @B=0.30   </td></tr><tr></tr><tr><td>BDT_fold2            BDT            : 0.000 (0.000)       0.000 (0.000)      0.000 (0.000)</td></tr><tr></tr><tr></tr></tbody><tbody class='tmva_output_tbody_multiple_row'><tr><td rowspan='12' class='tmva_output_header'>Factory                 </td><td>\u001b[1mThank you for using TMVA!\u001b[0m</td></tr><tr><td>\u001b[1mFor citation information, please visit: http://tmva.sf.net/citeTMVA.html\u001b[0m</td></tr><tr><td>Add Tree TreeS of type Signal with 600 events</td></tr><tr><td>Add Tree TreeB of type Background with 600 events</td></tr><tr><td>Add Tree TreeS of type Signal with 600 events</td></tr><tr><td>Add Tree TreeB of type Background with 600 events</td></tr><tr><td>Add Tree TreeS of type Signal with 600 events</td></tr><tr><td>Add Tree TreeB of type Background with 600 events</td></tr><tr><td>Add Tree TreeS of type Signal with 600 events</td></tr><tr><td>Add Tree TreeB of type Background with 600 events</td></tr><tr><td>Add Tree TreeS of type Signal with 600 events</td></tr><tr><td>Add Tree TreeB of type Background with 600 events</td></tr></tbody><tbody class='tmva_output_tbody_multiple_row'><tr><td rowspan='6' class='tmva_output_header'>DataSetInfo             </td><td><table class='tmva_output_dataset'><tbody><tr><td rowspan='1'>Dataset: BDT_fold3</td><td>Added class \"Signal\"</td><td class='tmva_output_hidden_td'></td></tr></tbody></table></td></tr><tr><td>Add Tree TreeS of type Signal with 600 events</td></tr><tr><td>Add Tree TreeS of type Signal with 600 events</td></tr><tr><td>Add Tree TreeS of type Signal with 600 events</td></tr><tr><td>Add Tree TreeS of type Signal with 600 events</td></tr><tr><td>Add Tree TreeS of type Signal with 600 events</td></tr></tbody><tbody class='tmva_output_tbody_multiple_row'><tr><td rowspan='6' class='tmva_output_header'>DataSetInfo             </td><td><table class='tmva_output_dataset'><tbody><tr><td rowspan='1'>Dataset: BDT_fold3</td><td>Added class \"Background\"</td><td class='tmva_output_hidden_td'></td></tr></tbody></table></td></tr><tr><td>Add Tree TreeB of type Background with 600 events</td></tr><tr><td>Add Tree TreeB of type Background with 600 events</td></tr><tr><td>Add Tree TreeB of type Background with 600 events</td></tr><tr><td>Add Tree TreeB of type Background with 600 events</td></tr><tr><td>Add Tree TreeB of type Background with 600 events</td></tr></tbody><tbody class='tmva_output_tbody_multiple_row'><tr><td rowspan='2' class='tmva_output_header'>Factory                 </td><td>Booking method: <b> BDT\u001b</b></td></tr><tr></tr></tbody><tbody class='tmva_output_tbody_multiple_row'><tr><td rowspan='2' class='tmva_output_header'>DataSetFactory          </td><td><table class='tmva_output_dataset'><tbody class='tmva_output_tbody_multiple_row'><tr><td rowspan='7'>Dataset: BDT_fold3</td><td>Number of events in input trees</td><td class='tmva_output_hidden_td'></td></tr><tr><td>Weight renormalisation mode: \"EqualNumEvents\": renormalises all event classes ...</td><td class='tmva_output_hidden_td'></td></tr><tr><td>such that the effective (weighted) number of events in each class is the same </td><td class='tmva_output_hidden_td'></td></tr><tr><td>(and equals the number of events (entries) given for class=0 )</td><td class='tmva_output_hidden_td'></td></tr><tr><td>... i.e. such that Sum[i=1..N_j]{w_i} = N_classA, j=classA, classB, ...</td><td class='tmva_output_hidden_td'></td></tr><tr><td>... (note that N_j is the sum of TRAINING events</td><td class='tmva_output_hidden_td'></td></tr><tr><td>..... Testing events are not renormalised nor included in the renormalisation factor!)</td><td class='tmva_output_hidden_td'></td></tr></tbody></table></td></tr><tr><td><table class='tmva_output_traintestevents'><tr><td colspan='3'><center>Number of training and testing events</center></td></tr><tr><td rowspan='3'>Signal</td><td>training events</td><td>2400</td><td class='tmva_output_hidden_td'></td></tr><tr><td>testing events</td><td>600</td><td class='tmva_output_hidden_td'></td></tr><tr><td>training and testing events</td><td>3000</td><td class='tmva_output_hidden_td'></td></tr><tr><td rowspan='3'>Background</td><td>training events</td><td>2400</td><td class='tmva_output_hidden_td'></td></tr><tr><td>testing events</td><td>600</td><td class='tmva_output_hidden_td'></td></tr><tr><td>training and testing events</td><td>3000</td><td class='tmva_output_hidden_td'></td></tr></table></td></tr></tbody><tbody><tr><td rowspan='1' class='tmva_output_header'>DataSetInfo             </td></tr></tbody><tbody><tr><td rowspan='1' class='tmva_output_header'>DataSetInfo             </td></tr></tbody><tbody><tr><td rowspan='1' class='tmva_output_header'>DataSetFactory          </td><td><table class='tmva_output_dataset'><tbody class='tmva_output_tbody_multiple_row'><tr><td rowspan='2'>Dataset: BDT_fold3</td><td class='tmva_output_hidden_td'></td></tr></tbody></table></td></tr></tbody><tbody class='tmva_output_tbody_multiple_row'><tr><td rowspan='2' class='tmva_output_header'>Factory                 </td><td>Train method: BDT for Classification</td></tr><tr></tr></tbody><tbody class='tmva_output_tbody_multiple_row'><tr><td rowspan='4' class='tmva_output_header'>BDT                     </td><td>#events: (reweighted) sig: 2400 bkg: 2400</td></tr><tr><td>#events: (unweighted) sig: 2400 bkg: 2400</td></tr><tr><td>Training 2 Decision Trees ... patience please</td></tr><tr><td>Elapsed time for training with 4800 events: \u001b[1;31m0.0119 sec\u001b[0m         </td></tr></tbody><tbody class='tmva_output_tbody_multiple_row'><tr><td rowspan='4' class='tmva_output_header'>BDT                     </td><td><table class='tmva_output_dataset'><tbody><tr><td rowspan='1'>Dataset: BDT_fold3</td><td>Evaluation of BDT on training sample (4800 events)</td><td class='tmva_output_hidden_td'></td></tr></tbody></table></td></tr><tr><td>Elapsed time for evaluation of 4800 events: \u001b[1;31m0.0036 sec\u001b[0m       </td></tr><tr><td>Creating xml weight file: \u001b[0;36mBDT_fold3/weights/TMVAClassification_BDT.weights.xml\u001b[0m</td></tr><tr><td>Creating standalone class: \u001b[0;36mBDT_fold3/weights/TMVAClassification_BDT.class.C\u001b[0m</td></tr></tbody><tbody class='tmva_output_tbody_multiple_row'><tr><td rowspan='3' class='tmva_output_header'>Factory                 </td><td>Training finished</td></tr><tr></tr><tr><td>Ranking input variables (method specific)...</td></tr></tbody><tbody class='tmva_output_tbody_multiple_row'><tr><td rowspan='9' class='tmva_output_header'>BDT                     </td><td>Ranking result (top variable is best ranked)</td></tr><tr></tr><tr><td>Rank : Variable  : Variable Importance</td></tr><tr></tr><tr><td>1 : var4 : 1.000e+00</td></tr><tr><td>2 : var1+var2 : 0.000e+00</td></tr><tr><td>3 : var1-var2 : 0.000e+00</td></tr><tr><td>4 : var3 : 0.000e+00</td></tr><tr></tr></tbody><tbody class='tmva_output_tbody_multiple_row'><tr><td rowspan='2' class='tmva_output_header'>Factory                 </td><td>=== Destroy and recreate all methods via weight files for testing ===</td></tr><tr></tr></tbody><tbody class='tmva_output_tbody_multiple_row'><tr><td rowspan='2' class='tmva_output_header'>Factory                 </td><td>Test method: BDT for Classification performance</td></tr><tr></tr></tbody><tbody class='tmva_output_tbody_multiple_row'><tr><td rowspan='2' class='tmva_output_header'>BDT                     </td><td><table class='tmva_output_dataset'><tbody><tr><td rowspan='1'>Dataset: BDT_fold3</td><td>Evaluation of BDT on testing sample (1200 events)</td><td class='tmva_output_hidden_td'></td></tr></tbody></table></td></tr><tr><td>Elapsed time for evaluation of 1200 events: \u001b[1;31m0.00338 sec\u001b[0m       </td></tr></tbody><tbody class='tmva_output_tbody_multiple_row'><tr><td rowspan='2' class='tmva_output_header'>Factory                 </td><td>Evaluate classifier: BDT</td></tr><tr></tr></tbody><tbody class='tmva_output_tbody_multiple_row'><tr><td rowspan='16' class='tmva_output_header'>BDT                     </td><td><table class='tmva_output_dataset'><tbody class='tmva_output_tbody_multiple_row'><tr><td rowspan='3'>Dataset: BDT_fold3</td><td>Loop over test events and fill histograms with classifier response...</td><td class='tmva_output_hidden_td'></td></tr></tbody></table></td></tr><tr><td>Evaluation results ranked by best signal efficiency and purity (area)</td></tr><tr></tr><tr><td>DataSet       MVA                       </td></tr><tr><td>Name:         Method:          ROC-integ</td></tr><tr><td>BDT_fold3     BDT            : 0.663</td></tr><tr></tr><tr></tr><tr><td>Testing efficiency compared to training efficiency (overtraining check)</td></tr><tr></tr><tr><td>DataSet              MVA              Signal efficiency: from test sample (from training sample) </td></tr><tr><td>Name:                Method:          @B=0.01             @B=0.10            @B=0.30   </td></tr><tr></tr><tr><td>BDT_fold3            BDT            : 0.000 (0.000)       0.000 (0.000)      0.000 (0.000)</td></tr><tr></tr><tr></tr></tbody><tbody class='tmva_output_tbody_multiple_row'><tr><td rowspan='12' class='tmva_output_header'>Factory                 </td><td>\u001b[1mThank you for using TMVA!\u001b[0m</td></tr><tr><td>\u001b[1mFor citation information, please visit: http://tmva.sf.net/citeTMVA.html\u001b[0m</td></tr><tr><td>Add Tree TreeS of type Signal with 600 events</td></tr><tr><td>Add Tree TreeB of type Background with 600 events</td></tr><tr><td>Add Tree TreeS of type Signal with 600 events</td></tr><tr><td>Add Tree TreeB of type Background with 600 events</td></tr><tr><td>Add Tree TreeS of type Signal with 600 events</td></tr><tr><td>Add Tree TreeB of type Background with 600 events</td></tr><tr><td>Add Tree TreeS of type Signal with 600 events</td></tr><tr><td>Add Tree TreeB of type Background with 600 events</td></tr><tr><td>Add Tree TreeS of type Signal with 600 events</td></tr><tr><td>Add Tree TreeB of type Background with 600 events</td></tr></tbody><tbody class='tmva_output_tbody_multiple_row'><tr><td rowspan='6' class='tmva_output_header'>DataSetInfo             </td><td><table class='tmva_output_dataset'><tbody><tr><td rowspan='1'>Dataset: BDT_fold4</td><td>Added class \"Signal\"</td><td class='tmva_output_hidden_td'></td></tr></tbody></table></td></tr><tr><td>Add Tree TreeS of type Signal with 600 events</td></tr><tr><td>Add Tree TreeS of type Signal with 600 events</td></tr><tr><td>Add Tree TreeS of type Signal with 600 events</td></tr><tr><td>Add Tree TreeS of type Signal with 600 events</td></tr><tr><td>Add Tree TreeS of type Signal with 600 events</td></tr></tbody><tbody class='tmva_output_tbody_multiple_row'><tr><td rowspan='6' class='tmva_output_header'>DataSetInfo             </td><td><table class='tmva_output_dataset'><tbody><tr><td rowspan='1'>Dataset: BDT_fold4</td><td>Added class \"Background\"</td><td class='tmva_output_hidden_td'></td></tr></tbody></table></td></tr><tr><td>Add Tree TreeB of type Background with 600 events</td></tr><tr><td>Add Tree TreeB of type Background with 600 events</td></tr><tr><td>Add Tree TreeB of type Background with 600 events</td></tr><tr><td>Add Tree TreeB of type Background with 600 events</td></tr><tr><td>Add Tree TreeB of type Background with 600 events</td></tr></tbody><tbody class='tmva_output_tbody_multiple_row'><tr><td rowspan='2' class='tmva_output_header'>Factory                 </td><td>Booking method: <b> BDT\u001b</b></td></tr><tr></tr></tbody><tbody class='tmva_output_tbody_multiple_row'><tr><td rowspan='2' class='tmva_output_header'>DataSetFactory          </td><td><table class='tmva_output_dataset'><tbody class='tmva_output_tbody_multiple_row'><tr><td rowspan='7'>Dataset: BDT_fold4</td><td>Number of events in input trees</td><td class='tmva_output_hidden_td'></td></tr><tr><td>Weight renormalisation mode: \"EqualNumEvents\": renormalises all event classes ...</td><td class='tmva_output_hidden_td'></td></tr><tr><td>such that the effective (weighted) number of events in each class is the same </td><td class='tmva_output_hidden_td'></td></tr><tr><td>(and equals the number of events (entries) given for class=0 )</td><td class='tmva_output_hidden_td'></td></tr><tr><td>... i.e. such that Sum[i=1..N_j]{w_i} = N_classA, j=classA, classB, ...</td><td class='tmva_output_hidden_td'></td></tr><tr><td>... (note that N_j is the sum of TRAINING events</td><td class='tmva_output_hidden_td'></td></tr><tr><td>..... Testing events are not renormalised nor included in the renormalisation factor!)</td><td class='tmva_output_hidden_td'></td></tr></tbody></table></td></tr><tr><td><table class='tmva_output_traintestevents'><tr><td colspan='3'><center>Number of training and testing events</center></td></tr><tr><td rowspan='3'>Signal</td><td>training events</td><td>2400</td><td class='tmva_output_hidden_td'></td></tr><tr><td>testing events</td><td>600</td><td class='tmva_output_hidden_td'></td></tr><tr><td>training and testing events</td><td>3000</td><td class='tmva_output_hidden_td'></td></tr><tr><td rowspan='3'>Background</td><td>training events</td><td>2400</td><td class='tmva_output_hidden_td'></td></tr><tr><td>testing events</td><td>600</td><td class='tmva_output_hidden_td'></td></tr><tr><td>training and testing events</td><td>3000</td><td class='tmva_output_hidden_td'></td></tr></table></td></tr></tbody><tbody><tr><td rowspan='1' class='tmva_output_header'>DataSetInfo             </td></tr></tbody><tbody><tr><td rowspan='1' class='tmva_output_header'>DataSetInfo             </td></tr></tbody><tbody><tr><td rowspan='1' class='tmva_output_header'>DataSetFactory          </td><td><table class='tmva_output_dataset'><tbody class='tmva_output_tbody_multiple_row'><tr><td rowspan='2'>Dataset: BDT_fold4</td><td class='tmva_output_hidden_td'></td></tr></tbody></table></td></tr></tbody><tbody class='tmva_output_tbody_multiple_row'><tr><td rowspan='2' class='tmva_output_header'>Factory                 </td><td>Train method: BDT for Classification</td></tr><tr></tr></tbody><tbody class='tmva_output_tbody_multiple_row'><tr><td rowspan='4' class='tmva_output_header'>BDT                     </td><td>#events: (reweighted) sig: 2400 bkg: 2400</td></tr><tr><td>#events: (unweighted) sig: 2400 bkg: 2400</td></tr><tr><td>Training 2 Decision Trees ... patience please</td></tr><tr><td>Elapsed time for training with 4800 events: \u001b[1;31m0.0118 sec\u001b[0m         </td></tr></tbody><tbody class='tmva_output_tbody_multiple_row'><tr><td rowspan='4' class='tmva_output_header'>BDT                     </td><td><table class='tmva_output_dataset'><tbody><tr><td rowspan='1'>Dataset: BDT_fold4</td><td>Evaluation of BDT on training sample (4800 events)</td><td class='tmva_output_hidden_td'></td></tr></tbody></table></td></tr><tr><td>Elapsed time for evaluation of 4800 events: \u001b[1;31m0.00352 sec\u001b[0m       </td></tr><tr><td>Creating xml weight file: \u001b[0;36mBDT_fold4/weights/TMVAClassification_BDT.weights.xml\u001b[0m</td></tr><tr><td>Creating standalone class: \u001b[0;36mBDT_fold4/weights/TMVAClassification_BDT.class.C\u001b[0m</td></tr></tbody><tbody class='tmva_output_tbody_multiple_row'><tr><td rowspan='3' class='tmva_output_header'>Factory                 </td><td>Training finished</td></tr><tr></tr><tr><td>Ranking input variables (method specific)...</td></tr></tbody><tbody class='tmva_output_tbody_multiple_row'><tr><td rowspan='9' class='tmva_output_header'>BDT                     </td><td>Ranking result (top variable is best ranked)</td></tr><tr></tr><tr><td>Rank : Variable  : Variable Importance</td></tr><tr></tr><tr><td>1 : var4 : 1.000e+00</td></tr><tr><td>2 : var1+var2 : 0.000e+00</td></tr><tr><td>3 : var1-var2 : 0.000e+00</td></tr><tr><td>4 : var3 : 0.000e+00</td></tr><tr></tr></tbody><tbody class='tmva_output_tbody_multiple_row'><tr><td rowspan='2' class='tmva_output_header'>Factory                 </td><td>=== Destroy and recreate all methods via weight files for testing ===</td></tr><tr></tr></tbody><tbody class='tmva_output_tbody_multiple_row'><tr><td rowspan='2' class='tmva_output_header'>Factory                 </td><td>Test method: BDT for Classification performance</td></tr><tr></tr></tbody><tbody class='tmva_output_tbody_multiple_row'><tr><td rowspan='2' class='tmva_output_header'>BDT                     </td><td><table class='tmva_output_dataset'><tbody><tr><td rowspan='1'>Dataset: BDT_fold4</td><td>Evaluation of BDT on testing sample (1200 events)</td><td class='tmva_output_hidden_td'></td></tr></tbody></table></td></tr><tr><td>Elapsed time for evaluation of 1200 events: \u001b[1;31m0.00311 sec\u001b[0m       </td></tr></tbody><tbody class='tmva_output_tbody_multiple_row'><tr><td rowspan='2' class='tmva_output_header'>Factory                 </td><td>Evaluate classifier: BDT</td></tr><tr></tr></tbody><tbody class='tmva_output_tbody_multiple_row'><tr><td rowspan='16' class='tmva_output_header'>BDT                     </td><td><table class='tmva_output_dataset'><tbody class='tmva_output_tbody_multiple_row'><tr><td rowspan='3'>Dataset: BDT_fold4</td><td>Loop over test events and fill histograms with classifier response...</td><td class='tmva_output_hidden_td'></td></tr></tbody></table></td></tr><tr><td>Evaluation results ranked by best signal efficiency and purity (area)</td></tr><tr></tr><tr><td>DataSet       MVA                       </td></tr><tr><td>Name:         Method:          ROC-integ</td></tr><tr><td>BDT_fold4     BDT            : 0.632</td></tr><tr></tr><tr></tr><tr><td>Testing efficiency compared to training efficiency (overtraining check)</td></tr><tr></tr><tr><td>DataSet              MVA              Signal efficiency: from test sample (from training sample) </td></tr><tr><td>Name:                Method:          @B=0.01             @B=0.10            @B=0.30   </td></tr><tr></tr><tr><td>BDT_fold4            BDT            : 0.000 (0.000)       0.000 (0.000)      0.000 (0.000)</td></tr><tr></tr><tr></tr></tbody><tbody class='tmva_output_tbody_multiple_row'><tr><td rowspan='12' class='tmva_output_header'>Factory                 </td><td>\u001b[1mThank you for using TMVA!\u001b[0m</td></tr><tr><td>\u001b[1mFor citation information, please visit: http://tmva.sf.net/citeTMVA.html\u001b[0m</td></tr><tr><td>Add Tree TreeS of type Signal with 600 events</td></tr><tr><td>Add Tree TreeB of type Background with 600 events</td></tr><tr><td>Add Tree TreeS of type Signal with 600 events</td></tr><tr><td>Add Tree TreeB of type Background with 600 events</td></tr><tr><td>Add Tree TreeS of type Signal with 600 events</td></tr><tr><td>Add Tree TreeB of type Background with 600 events</td></tr><tr><td>Add Tree TreeS of type Signal with 600 events</td></tr><tr><td>Add Tree TreeB of type Background with 600 events</td></tr><tr><td>Add Tree TreeS of type Signal with 600 events</td></tr><tr><td>Add Tree TreeB of type Background with 600 events</td></tr></tbody><tbody class='tmva_output_tbody_multiple_row'><tr><td rowspan='6' class='tmva_output_header'>DataSetInfo             </td><td><table class='tmva_output_dataset'><tbody><tr><td rowspan='1'>Dataset: BDT_fold5</td><td>Added class \"Signal\"</td><td class='tmva_output_hidden_td'></td></tr></tbody></table></td></tr><tr><td>Add Tree TreeS of type Signal with 600 events</td></tr><tr><td>Add Tree TreeS of type Signal with 600 events</td></tr><tr><td>Add Tree TreeS of type Signal with 600 events</td></tr><tr><td>Add Tree TreeS of type Signal with 600 events</td></tr><tr><td>Add Tree TreeS of type Signal with 600 events</td></tr></tbody><tbody class='tmva_output_tbody_multiple_row'><tr><td rowspan='6' class='tmva_output_header'>DataSetInfo             </td><td><table class='tmva_output_dataset'><tbody><tr><td rowspan='1'>Dataset: BDT_fold5</td><td>Added class \"Background\"</td><td class='tmva_output_hidden_td'></td></tr></tbody></table></td></tr><tr><td>Add Tree TreeB of type Background with 600 events</td></tr><tr><td>Add Tree TreeB of type Background with 600 events</td></tr><tr><td>Add Tree TreeB of type Background with 600 events</td></tr><tr><td>Add Tree TreeB of type Background with 600 events</td></tr><tr><td>Add Tree TreeB of type Background with 600 events</td></tr></tbody><tbody class='tmva_output_tbody_multiple_row'><tr><td rowspan='2' class='tmva_output_header'>Factory                 </td><td>Booking method: <b> BDT\u001b</b></td></tr><tr></tr></tbody><tbody class='tmva_output_tbody_multiple_row'><tr><td rowspan='2' class='tmva_output_header'>DataSetFactory          </td><td><table class='tmva_output_dataset'><tbody class='tmva_output_tbody_multiple_row'><tr><td rowspan='7'>Dataset: BDT_fold5</td><td>Number of events in input trees</td><td class='tmva_output_hidden_td'></td></tr><tr><td>Weight renormalisation mode: \"EqualNumEvents\": renormalises all event classes ...</td><td class='tmva_output_hidden_td'></td></tr><tr><td>such that the effective (weighted) number of events in each class is the same </td><td class='tmva_output_hidden_td'></td></tr><tr><td>(and equals the number of events (entries) given for class=0 )</td><td class='tmva_output_hidden_td'></td></tr><tr><td>... i.e. such that Sum[i=1..N_j]{w_i} = N_classA, j=classA, classB, ...</td><td class='tmva_output_hidden_td'></td></tr><tr><td>... (note that N_j is the sum of TRAINING events</td><td class='tmva_output_hidden_td'></td></tr><tr><td>..... Testing events are not renormalised nor included in the renormalisation factor!)</td><td class='tmva_output_hidden_td'></td></tr></tbody></table></td></tr><tr><td><table class='tmva_output_traintestevents'><tr><td colspan='3'><center>Number of training and testing events</center></td></tr><tr><td rowspan='3'>Signal</td><td>training events</td><td>2400</td><td class='tmva_output_hidden_td'></td></tr><tr><td>testing events</td><td>600</td><td class='tmva_output_hidden_td'></td></tr><tr><td>training and testing events</td><td>3000</td><td class='tmva_output_hidden_td'></td></tr><tr><td rowspan='3'>Background</td><td>training events</td><td>2400</td><td class='tmva_output_hidden_td'></td></tr><tr><td>testing events</td><td>600</td><td class='tmva_output_hidden_td'></td></tr><tr><td>training and testing events</td><td>3000</td><td class='tmva_output_hidden_td'></td></tr></table></td></tr></tbody><tbody><tr><td rowspan='1' class='tmva_output_header'>DataSetInfo             </td></tr></tbody><tbody><tr><td rowspan='1' class='tmva_output_header'>DataSetInfo             </td></tr></tbody><tbody><tr><td rowspan='1' class='tmva_output_header'>DataSetFactory          </td><td><table class='tmva_output_dataset'><tbody class='tmva_output_tbody_multiple_row'><tr><td rowspan='2'>Dataset: BDT_fold5</td><td class='tmva_output_hidden_td'></td></tr></tbody></table></td></tr></tbody><tbody class='tmva_output_tbody_multiple_row'><tr><td rowspan='2' class='tmva_output_header'>Factory                 </td><td>Train method: BDT for Classification</td></tr><tr></tr></tbody><tbody class='tmva_output_tbody_multiple_row'><tr><td rowspan='4' class='tmva_output_header'>BDT                     </td><td>#events: (reweighted) sig: 2400 bkg: 2400</td></tr><tr><td>#events: (unweighted) sig: 2400 bkg: 2400</td></tr><tr><td>Training 2 Decision Trees ... patience please</td></tr><tr><td>Elapsed time for training with 4800 events: \u001b[1;31m0.0144 sec\u001b[0m         </td></tr></tbody><tbody class='tmva_output_tbody_multiple_row'><tr><td rowspan='4' class='tmva_output_header'>BDT                     </td><td><table class='tmva_output_dataset'><tbody><tr><td rowspan='1'>Dataset: BDT_fold5</td><td>Evaluation of BDT on training sample (4800 events)</td><td class='tmva_output_hidden_td'></td></tr></tbody></table></td></tr><tr><td>Elapsed time for evaluation of 4800 events: \u001b[1;31m0.00431 sec\u001b[0m       </td></tr><tr><td>Creating xml weight file: \u001b[0;36mBDT_fold5/weights/TMVAClassification_BDT.weights.xml\u001b[0m</td></tr><tr><td>Creating standalone class: \u001b[0;36mBDT_fold5/weights/TMVAClassification_BDT.class.C\u001b[0m</td></tr></tbody><tbody class='tmva_output_tbody_multiple_row'><tr><td rowspan='3' class='tmva_output_header'>Factory                 </td><td>Training finished</td></tr><tr></tr><tr><td>Ranking input variables (method specific)...</td></tr></tbody><tbody class='tmva_output_tbody_multiple_row'><tr><td rowspan='9' class='tmva_output_header'>BDT                     </td><td>Ranking result (top variable is best ranked)</td></tr><tr></tr><tr><td>Rank : Variable  : Variable Importance</td></tr><tr></tr><tr><td>1 : var3 : 5.854e-01</td></tr><tr><td>2 : var4 : 4.146e-01</td></tr><tr><td>3 : var1+var2 : 0.000e+00</td></tr><tr><td>4 : var1-var2 : 0.000e+00</td></tr><tr></tr></tbody><tbody class='tmva_output_tbody_multiple_row'><tr><td rowspan='2' class='tmva_output_header'>Factory                 </td><td>=== Destroy and recreate all methods via weight files for testing ===</td></tr><tr></tr></tbody><tbody class='tmva_output_tbody_multiple_row'><tr><td rowspan='2' class='tmva_output_header'>Factory                 </td><td>Test method: BDT for Classification performance</td></tr><tr></tr></tbody><tbody class='tmva_output_tbody_multiple_row'><tr><td rowspan='2' class='tmva_output_header'>BDT                     </td><td><table class='tmva_output_dataset'><tbody><tr><td rowspan='1'>Dataset: BDT_fold5</td><td>Evaluation of BDT on testing sample (1200 events)</td><td class='tmva_output_hidden_td'></td></tr></tbody></table></td></tr><tr><td>Elapsed time for evaluation of 1200 events: \u001b[1;31m0.00349 sec\u001b[0m       </td></tr></tbody><tbody class='tmva_output_tbody_multiple_row'><tr><td rowspan='2' class='tmva_output_header'>Factory                 </td><td>Evaluate classifier: BDT</td></tr><tr></tr></tbody><tbody class='tmva_output_tbody_multiple_row'><tr><td rowspan='16' class='tmva_output_header'>BDT                     </td><td><table class='tmva_output_dataset'><tbody class='tmva_output_tbody_multiple_row'><tr><td rowspan='3'>Dataset: BDT_fold5</td><td>Loop over test events and fill histograms with classifier response...</td><td class='tmva_output_hidden_td'></td></tr></tbody></table></td></tr><tr><td>Evaluation results ranked by best signal efficiency and purity (area)</td></tr><tr></tr><tr><td>DataSet       MVA                       </td></tr><tr><td>Name:         Method:          ROC-integ</td></tr><tr><td>BDT_fold5     BDT            : 0.651</td></tr><tr></tr><tr></tr><tr><td>Testing efficiency compared to training efficiency (overtraining check)</td></tr><tr></tr><tr><td>DataSet              MVA              Signal efficiency: from test sample (from training sample) </td></tr><tr><td>Name:                Method:          @B=0.01             @B=0.10            @B=0.30   </td></tr><tr></tr><tr><td>BDT_fold5            BDT            : 0.000 (0.000)       0.000 (0.000)      0.000 (0.000)</td></tr><tr></tr><tr></tr></tbody><tbody class='tmva_output_tbody_multiple_row'><tr><td rowspan='8' class='tmva_output_header'>Factory                 </td><td>\u001b[1mThank you for using TMVA!\u001b[0m</td></tr><tr><td>\u001b[1mFor citation information, please visit: http://tmva.sf.net/citeTMVA.html\u001b[0m</td></tr><tr><td>Fold 1 ROCIntegral: 0.639542</td></tr><tr><td>Fold 2 ROCIntegral: 0.637065</td></tr><tr><td>Fold 3 ROCIntegral: 0.663333</td></tr><tr><td>Fold 4 ROCIntegral: 0.6325</td></tr><tr><td>Fold 5 ROCIntegral: 0.651042</td></tr><tr><td>Average ROCIntegral: 0.644696</td></tr></tbody></table>"
      ],
      "text/plain": [
       "<IPython.core.display.HTML object>"
      ]
     },
     "metadata": {},
     "output_type": "display_data"
    },
    {
     "data": {
      "text/html": [],
      "text/plain": [
       "<IPython.core.display.HTML object>"
      ]
     },
     "metadata": {},
     "output_type": "display_data"
    }
   ],
   "source": [
    "factory.CrossValidate(DataLoader=loader, Method=TMVA.Types.kBDT, MethodTitle=\"BDT\",\n",
    "        V=False, NTrees=2, MinNodeSize=\"2.5%\", MaxDepth=1, BoostType=\"AdaBoost\", AdaBoostBeta=0.5,\n",
    "            UseBaggedBoost=False, BaggedSampleFraction=0.5, SeparationType=\"GiniIndex\", nCuts=2, \n",
    "            optParams=False);"
   ]
  },
  {
   "cell_type": "markdown",
   "metadata": {},
   "source": [
    "## Evaluate importance"
   ]
  },
  {
   "cell_type": "markdown",
   "metadata": {},
   "source": [
    "To calculate variable importance we can use Factory.EvaluateImportance function. The parameters of this function are the following:"
   ]
  },
  {
   "cell_type": "markdown",
   "metadata": {},
   "source": [
    "\n",
    "<table>\n",
    "\n",
    "<tr>\n",
    "    <th>Keyword</th>\n",
    "    <th>Can be used as positional argument</th>\n",
    "    <th>Default</th>\n",
    "    <th>Predefined values</th>\n",
    "    <th>Description</th>\n",
    "</tr>\n",
    "\n",
    "\n",
    "<tr>\n",
    "    <td>DataLoader</td>\n",
    "    <td>yes, 1.</td>\n",
    "    <td>-</td>\n",
    "    <td>-</td>\n",
    "    <td>Pointer to DataLoader object</td>\n",
    "</tr>\n",
    "<tr>\n",
    "    <td>VIType</td>\n",
    "    <td>yes, 2.</td>\n",
    "    <td>-</td>\n",
    "    <td>-</td>\n",
    "    <td>Variable Importance type</td>\n",
    "</tr>\n",
    "\n",
    "\n",
    "<tr>\n",
    "    <td>Method</td>\n",
    "    <td>yes, 3.</td>\n",
    "    <td>-</td>\n",
    "    <td>     kVariable\n",
    "         kCuts           ,\n",
    "         kLikelihood     ,\n",
    "         kPDERS          ,\n",
    "         kHMatrix        ,\n",
    "         kFisher         ,\n",
    "         kKNN            ,\n",
    "         kCFMlpANN       ,\n",
    "         kTMlpANN        ,\n",
    "         kBDT            ,\n",
    "         kDT             ,\n",
    "         kRuleFit        ,\n",
    "         kSVM            ,\n",
    "         kMLP            ,\n",
    "         kBayesClassifier,\n",
    "         kFDA            ,\n",
    "         kBoost          ,\n",
    "         kPDEFoam        ,\n",
    "         kLD             ,\n",
    "         kPlugins        ,\n",
    "         kCategory       ,\n",
    "         kDNN            ,\n",
    "         kPyRandomForest ,\n",
    "         kPyAdaBoost     ,\n",
    "         kPyGTB          ,\n",
    "         kC50            ,\n",
    "         kRSNNS          ,\n",
    "         kRSVM           ,\n",
    "         kRXGB           ,\n",
    "         kMaxMethod</td>\n",
    "    <td>Selected method number, method numbers defined in TMVA.Types</td>\n",
    "</tr>\n",
    "<tr>\n",
    "    <td>MethodTitle</td>\n",
    "    <td>yes, 4.</td>\n",
    "    <td>-</td>\n",
    "    <td>-</td>\n",
    "    <td>Label for method</td>\n",
    "</tr>\n",
    "\n",
    "<tr>\n",
    "    <td>V</td>\n",
    "    <td>no</td>\n",
    "    <td>False</td>\n",
    "    <td>-</td>\n",
    "    <td>Verbose</td>\n",
    "</tr>\n",
    "\n",
    "<tr>\n",
    "    <td>NTrees</td>\n",
    "    <td>no</td>\n",
    "    <td></td>\n",
    "    <td></td>\n",
    "    <td>NTrees</td>\n",
    "</tr>\n",
    "\n",
    "<tr>\n",
    "    <td>MinNodeSize</td>\n",
    "    <td>no</td>\n",
    "    <td></td>\n",
    "    <td></td>\n",
    "    <td>MinNodeSize</td>\n",
    "</tr>\n",
    "<tr>\n",
    "    <td>MaxDepth</td>\n",
    "    <td>no</td>\n",
    "    <td></td>\n",
    "    <td></td>\n",
    "    <td>MaxDepth</td>\n",
    "</tr>\n",
    "<tr>\n",
    "    <td>BoostType</td>\n",
    "    <td>no</td>\n",
    "    <td></td>\n",
    "    <td></td>\n",
    "    <td>BoostType</td>\n",
    "</tr>\n",
    "<tr>\n",
    "    <td>AdaBoostBeta</td>\n",
    "    <td>no</td>\n",
    "    <td></td>\n",
    "    <td></td>\n",
    "    <td>AdaBoostBeta</td>\n",
    "</tr>\n",
    "<tr>\n",
    "    <td>UseBaggedBoost</td>\n",
    "    <td>no</td>\n",
    "    <td></td>\n",
    "    <td></td>\n",
    "    <td>UseBaggedBoost</td>\n",
    "</tr>\n",
    "<tr>\n",
    "    <td>BaggedSampleFraction</td>\n",
    "    <td>no</td>\n",
    "    <td></td>\n",
    "    <td></td>\n",
    "    <td></td>\n",
    "</tr>\n",
    "<tr>\n",
    "    <td>SeparationType</td>\n",
    "    <td>no</td>\n",
    "    <td></td>\n",
    "    <td></td>\n",
    "    <td></td>\n",
    "</tr>\n",
    "<tr>\n",
    "    <td>nCuts</td>\n",
    "    <td>no</td>\n",
    "    <td></td>\n",
    "    <td></td>\n",
    "    <td>nCuts</td>\n",
    "</tr>\n",
    "</table>"
   ]
  },
  {
   "cell_type": "code",
   "execution_count": 13,
   "metadata": {
    "collapsed": false,
    "scrolled": false
   },
   "outputs": [
    {
     "data": {
      "text/html": [
       "\n",
       "<div id=\"jstmva_1\" style=\"width: 800px; height:450px\"></div>\n",
       "<script>\n",
       "    require.config({\n",
       "        paths: {\n",
       "            'JsMVA':'https://rawgit.com/qati/GSOC16/master/src/js/JsMVA.min'\n",
       "        }\n",
       "    });\n",
       "    require(['JsMVA'],function(jsmva){\n",
       "        jsmva.draw('jstmva_1','{  \"_typename\" : \"TH1F\",  \"fUniqueID\" : 0,  \"fBits\" : 50331656,  \"fName\" : \"vih1\",  \"fTitle\" : \"\",  \"fLineColor\" : 602,  \"fLineStyle\" : 1,  \"fLineWidth\" : 3,  \"fFillColor\" : 419,  \"fFillStyle\" : 1001,  \"fMarkerColor\" : 600,  \"fMarkerStyle\" : 8,  \"fMarkerSize\" : 5.000000e-01,  \"fNcells\" : 6,  \"fXaxis\" : {    \"_typename\" : \"TAxis\",    \"fUniqueID\" : 0,    \"fBits\" : 50855936,    \"fName\" : \"xaxis\",    \"fTitle\" : \"\",    \"fNdivisions\" : 510,    \"fAxisColor\" : 1,    \"fLabelColor\" : 1,    \"fLabelFont\" : 42,    \"fLabelOffset\" : 5.000000e-03,    \"fLabelSize\" : 3.500000e-02,    \"fTickLength\" : 3.000000e-02,    \"fTitleOffset\" : 1,    \"fTitleSize\" : 3.500000e-02,    \"fTitleColor\" : 1,    \"fTitleFont\" : 42,    \"fNbins\" : 4,    \"fXmin\" : 0,    \"fXmax\" : 4,    \"fXbins\" : [],    \"fFirst\" : 0,    \"fLast\" : 0,    \"fBits2\" : 3,    \"fTimeDisplay\" : false,    \"fTimeFormat\" : \"\",    \"fLabels\" : {      \"_typename\" : \"THashList\",      \"name\" : \"THashList\",      \"arr\" : [{        \"_typename\" : \"TObjString\",        \"fUniqueID\" : 1,        \"fBits\" : 50331648,        \"fString\" : \"var4\"      }, {        \"_typename\" : \"TObjString\",        \"fUniqueID\" : 2,        \"fBits\" : 50331648,        \"fString\" : \"var1+var2\"      }, {        \"_typename\" : \"TObjString\",        \"fUniqueID\" : 3,        \"fBits\" : 50331648,        \"fString\" : \"var1-var2\"      }, {        \"_typename\" : \"TObjString\",        \"fUniqueID\" : 4,        \"fBits\" : 50331648,        \"fString\" : \"var3\"      }],      \"opt\" : [\"\", \"\", \"\", \"\"]    }  },  \"fYaxis\" : {    \"_typename\" : \"TAxis\",    \"fUniqueID\" : 0,    \"fBits\" : 50335744,    \"fName\" : \"yaxis\",    \"fTitle\" : \"Importance (%)\",    \"fNdivisions\" : 510,    \"fAxisColor\" : 1,    \"fLabelColor\" : 1,    \"fLabelFont\" : 42,    \"fLabelOffset\" : 5.000000e-03,    \"fLabelSize\" : 3.500000e-02,    \"fTickLength\" : 3.000000e-02,    \"fTitleOffset\" : 1.240000e+00,    \"fTitleSize\" : 4.500000e-02,    \"fTitleColor\" : 1,    \"fTitleFont\" : 42,    \"fNbins\" : 1,    \"fXmin\" : 0,    \"fXmax\" : 1,    \"fXbins\" : [],    \"fFirst\" : 0,    \"fLast\" : 0,    \"fBits2\" : 0,    \"fTimeDisplay\" : false,    \"fTimeFormat\" : \"\",    \"fLabels\" : null  },  \"fZaxis\" : {    \"_typename\" : \"TAxis\",    \"fUniqueID\" : 0,    \"fBits\" : 50331648,    \"fName\" : \"zaxis\",    \"fTitle\" : \"\",    \"fNdivisions\" : 510,    \"fAxisColor\" : 1,    \"fLabelColor\" : 1,    \"fLabelFont\" : 42,    \"fLabelOffset\" : 5.000000e-03,    \"fLabelSize\" : 3.500000e-02,    \"fTickLength\" : 3.000000e-02,    \"fTitleOffset\" : 1,    \"fTitleSize\" : 3.500000e-02,    \"fTitleColor\" : 1,    \"fTitleFont\" : 42,    \"fNbins\" : 1,    \"fXmin\" : 0,    \"fXmax\" : 1,    \"fXbins\" : [],    \"fFirst\" : 0,    \"fLast\" : 0,    \"fBits2\" : 0,    \"fTimeDisplay\" : false,    \"fTimeFormat\" : \"\",    \"fLabels\" : null  },  \"fBarOffset\" : 0,  \"fBarWidth\" : 970,  \"fEntries\" : 4,  \"fTsumw\" : 0,  \"fTsumw2\" : 0,  \"fTsumwx\" : 0,  \"fTsumwx2\" : 0,  \"fMaximum\" : 50,  \"fMinimum\" : -7,  \"fNormFactor\" : 0,  \"fContour\" : [],  \"fSumw2\" : [],  \"fOption\" : \"\",  \"fFunctions\" : {    \"_typename\" : \"TList\",    \"name\" : \"TList\",    \"arr\" : [],    \"opt\" : []  },  \"fBufferSize\" : 0,  \"fBuffer\" : [],  \"fBinStatErrOpt\" : 0,  \"fArray\" : [0, 6.195232e+01, 3.804768e+01, 0, 0, 0]}');\n",
       "    });\n",
       "</script>\n"
      ],
      "text/plain": [
       "<IPython.core.display.HTML object>"
      ]
     },
     "metadata": {},
     "output_type": "display_data"
    },
    {
     "name": "stdout",
     "output_type": "stream",
     "text": [
      "tmva_class_example\n",
      "tmva_class_example\n",
      "tmva_class_example\n",
      "tmva_class_example\n",
      "tmva_class_example\n",
      "tmva_class_example\n",
      "tmva_class_example\n",
      "tmva_class_example\n",
      "tmva_class_example\n",
      "tmva_class_example\n"
     ]
    },
    {
     "data": {
      "text/html": [
       "<table class='tmva_output_table'><tbody class='tmva_output_tbody_multiple_row'><tr><td rowspan='6' class='tmva_output_header'>DataSetInfo             </td><td><table class='tmva_output_dataset'><tbody><tr><td rowspan='1'>Dataset: 00000000000000000000000000001111</td><td>Added class \"Signal\"</td><td class='tmva_output_hidden_td'></td></tr></tbody></table></td></tr><tr><td>Add Tree TreeS of type Signal with 600 events</td></tr><tr><td>Add Tree TreeS of type Signal with 600 events</td></tr><tr><td>Add Tree TreeS of type Signal with 600 events</td></tr><tr><td>Add Tree TreeS of type Signal with 600 events</td></tr><tr><td>Add Tree TreeS of type Signal with 600 events</td></tr></tbody><tbody class='tmva_output_tbody_multiple_row'><tr><td rowspan='6' class='tmva_output_header'>DataSetInfo             </td><td><table class='tmva_output_dataset'><tbody><tr><td rowspan='1'>Dataset: 00000000000000000000000000001111</td><td>Added class \"Background\"</td><td class='tmva_output_hidden_td'></td></tr></tbody></table></td></tr><tr><td>Add Tree TreeB of type Background with 600 events</td></tr><tr><td>Add Tree TreeB of type Background with 600 events</td></tr><tr><td>Add Tree TreeB of type Background with 600 events</td></tr><tr><td>Add Tree TreeB of type Background with 600 events</td></tr><tr><td>Add Tree TreeB of type Background with 600 events</td></tr></tbody><tbody class='tmva_output_tbody_multiple_row'><tr><td rowspan='2' class='tmva_output_header'>Factory                 </td><td>Booking method: <b> BDT\u001b</b></td></tr><tr></tr></tbody><tbody class='tmva_output_tbody_multiple_row'><tr><td rowspan='2' class='tmva_output_header'>DataSetFactory          </td><td><table class='tmva_output_dataset'><tbody class='tmva_output_tbody_multiple_row'><tr><td rowspan='7'>Dataset: 00000000000000000000000000001111</td><td>Number of events in input trees</td><td class='tmva_output_hidden_td'></td></tr><tr><td>Weight renormalisation mode: \"EqualNumEvents\": renormalises all event classes ...</td><td class='tmva_output_hidden_td'></td></tr><tr><td>such that the effective (weighted) number of events in each class is the same </td><td class='tmva_output_hidden_td'></td></tr><tr><td>(and equals the number of events (entries) given for class=0 )</td><td class='tmva_output_hidden_td'></td></tr><tr><td>... i.e. such that Sum[i=1..N_j]{w_i} = N_classA, j=classA, classB, ...</td><td class='tmva_output_hidden_td'></td></tr><tr><td>... (note that N_j is the sum of TRAINING events</td><td class='tmva_output_hidden_td'></td></tr><tr><td>..... Testing events are not renormalised nor included in the renormalisation factor!)</td><td class='tmva_output_hidden_td'></td></tr></tbody></table></td></tr><tr><td><table class='tmva_output_traintestevents'><tr><td colspan='3'><center>Number of training and testing events</center></td></tr><tr><td rowspan='3'>Signal</td><td>training events</td><td>2400</td><td class='tmva_output_hidden_td'></td></tr><tr><td>testing events</td><td>600</td><td class='tmva_output_hidden_td'></td></tr><tr><td>training and testing events</td><td>3000</td><td class='tmva_output_hidden_td'></td></tr><tr><td rowspan='3'>Background</td><td>training events</td><td>2400</td><td class='tmva_output_hidden_td'></td></tr><tr><td>testing events</td><td>600</td><td class='tmva_output_hidden_td'></td></tr><tr><td>training and testing events</td><td>3000</td><td class='tmva_output_hidden_td'></td></tr></table></td></tr></tbody><tbody><tr><td rowspan='1' class='tmva_output_header'>DataSetInfo             </td></tr></tbody><tbody><tr><td rowspan='1' class='tmva_output_header'>DataSetInfo             </td></tr></tbody><tbody><tr><td rowspan='1' class='tmva_output_header'>DataSetFactory          </td><td><table class='tmva_output_dataset'><tbody class='tmva_output_tbody_multiple_row'><tr><td rowspan='2'>Dataset: 00000000000000000000000000001111</td><td class='tmva_output_hidden_td'></td></tr></tbody></table></td></tr></tbody><tbody class='tmva_output_tbody_multiple_row'><tr><td rowspan='2' class='tmva_output_header'>Factory                 </td><td>Train method: BDT for Classification</td></tr><tr></tr></tbody><tbody class='tmva_output_tbody_multiple_row'><tr><td rowspan='4' class='tmva_output_header'>BDT                     </td><td>#events: (reweighted) sig: 2400 bkg: 2400</td></tr><tr><td>#events: (unweighted) sig: 2400 bkg: 2400</td></tr><tr><td>Training 5 Decision Trees ... patience please</td></tr><tr><td>Elapsed time for training with 4800 events: \u001b[1;31m0.0289 sec\u001b[0m         </td></tr></tbody><tbody class='tmva_output_tbody_multiple_row'><tr><td rowspan='2' class='tmva_output_header'>BDT                     </td><td><table class='tmva_output_dataset'><tbody><tr><td rowspan='1'>Dataset: 00000000000000000000000000001111</td><td>Evaluation of BDT on training sample (4800 events)</td><td class='tmva_output_hidden_td'></td></tr></tbody></table></td></tr><tr><td>Elapsed time for evaluation of 4800 events: \u001b[1;31m0.0056 sec\u001b[0m       </td></tr></tbody><tbody class='tmva_output_tbody_multiple_row'><tr><td rowspan='3' class='tmva_output_header'>Factory                 </td><td>Training finished</td></tr><tr></tr><tr><td>Ranking input variables (method specific)...</td></tr></tbody><tbody class='tmva_output_tbody_multiple_row'><tr><td rowspan='9' class='tmva_output_header'>BDT                     </td><td>Ranking result (top variable is best ranked)</td></tr><tr></tr><tr><td>Rank : Variable  : Variable Importance</td></tr><tr></tr><tr><td>1 : var4 : 6.248e-01</td></tr><tr><td>2 : var1+var2 : 3.698e-01</td></tr><tr><td>3 : var3 : 5.402e-03</td></tr><tr><td>4 : var1-var2 : 0.000e+00</td></tr><tr></tr></tbody><tbody class='tmva_output_tbody_multiple_row'><tr><td rowspan='2' class='tmva_output_header'>Factory                 </td><td>Test method: BDT for Classification performance</td></tr><tr></tr></tbody><tbody class='tmva_output_tbody_multiple_row'><tr><td rowspan='2' class='tmva_output_header'>BDT                     </td><td><table class='tmva_output_dataset'><tbody><tr><td rowspan='1'>Dataset: 00000000000000000000000000001111</td><td>Evaluation of BDT on testing sample (1200 events)</td><td class='tmva_output_hidden_td'></td></tr></tbody></table></td></tr><tr><td>Elapsed time for evaluation of 1200 events: \u001b[1;31m0.00409 sec\u001b[0m       </td></tr></tbody><tbody class='tmva_output_tbody_multiple_row'><tr><td rowspan='2' class='tmva_output_header'>Factory                 </td><td>Evaluate classifier: BDT</td></tr><tr></tr></tbody><tbody class='tmva_output_tbody_multiple_row'><tr><td rowspan='16' class='tmva_output_header'>BDT                     </td><td><table class='tmva_output_dataset'><tbody class='tmva_output_tbody_multiple_row'><tr><td rowspan='3'>Dataset: 00000000000000000000000000001111</td><td>Loop over test events and fill histograms with classifier response...</td><td class='tmva_output_hidden_td'></td></tr></tbody></table></td></tr><tr><td>Evaluation results ranked by best signal efficiency and purity (area)</td></tr><tr></tr><tr><td>DataSet       MVA                       </td></tr><tr><td>Name:         Method:          ROC-integ</td></tr><tr><td>00000000000000000000000000001111 BDT            : 0.845</td></tr><tr></tr><tr></tr><tr><td>Testing efficiency compared to training efficiency (overtraining check)</td></tr><tr></tr><tr><td>DataSet              MVA              Signal efficiency: from test sample (from training sample) </td></tr><tr><td>Name:                Method:          @B=0.01             @B=0.10            @B=0.30   </td></tr><tr></tr><tr><td>00000000000000000000000000001111 BDT            : 0.000 (0.000)       0.459 (0.460)      0.876 (0.872)</td></tr><tr></tr><tr></tr></tbody><tbody class='tmva_output_tbody_multiple_row'><tr><td rowspan='2' class='tmva_output_header'>Factory                 </td><td>\u001b[1mThank you for using TMVA!\u001b[0m</td></tr><tr><td>\u001b[1mFor citation information, please visit: http://tmva.sf.net/citeTMVA.html\u001b[0m</td></tr></tbody><tbody class='tmva_output_tbody_multiple_row'><tr><td rowspan='6' class='tmva_output_header'>DataSetInfo             </td><td><table class='tmva_output_dataset'><tbody><tr><td rowspan='1'>Dataset: 00000000000000000000000000001110</td><td>Added class \"Signal\"</td><td class='tmva_output_hidden_td'></td></tr></tbody></table></td></tr><tr><td>Add Tree TreeS of type Signal with 600 events</td></tr><tr><td>Add Tree TreeS of type Signal with 600 events</td></tr><tr><td>Add Tree TreeS of type Signal with 600 events</td></tr><tr><td>Add Tree TreeS of type Signal with 600 events</td></tr><tr><td>Add Tree TreeS of type Signal with 600 events</td></tr></tbody><tbody class='tmva_output_tbody_multiple_row'><tr><td rowspan='6' class='tmva_output_header'>DataSetInfo             </td><td><table class='tmva_output_dataset'><tbody><tr><td rowspan='1'>Dataset: 00000000000000000000000000001110</td><td>Added class \"Background\"</td><td class='tmva_output_hidden_td'></td></tr></tbody></table></td></tr><tr><td>Add Tree TreeB of type Background with 600 events</td></tr><tr><td>Add Tree TreeB of type Background with 600 events</td></tr><tr><td>Add Tree TreeB of type Background with 600 events</td></tr><tr><td>Add Tree TreeB of type Background with 600 events</td></tr><tr><td>Add Tree TreeB of type Background with 600 events</td></tr></tbody><tbody class='tmva_output_tbody_multiple_row'><tr><td rowspan='2' class='tmva_output_header'>Factory                 </td><td>Booking method: <b> BDT\u001b</b></td></tr><tr></tr></tbody><tbody class='tmva_output_tbody_multiple_row'><tr><td rowspan='2' class='tmva_output_header'>DataSetFactory          </td><td><table class='tmva_output_dataset'><tbody class='tmva_output_tbody_multiple_row'><tr><td rowspan='7'>Dataset: 00000000000000000000000000001110</td><td>Number of events in input trees</td><td class='tmva_output_hidden_td'></td></tr><tr><td>Weight renormalisation mode: \"EqualNumEvents\": renormalises all event classes ...</td><td class='tmva_output_hidden_td'></td></tr><tr><td>such that the effective (weighted) number of events in each class is the same </td><td class='tmva_output_hidden_td'></td></tr><tr><td>(and equals the number of events (entries) given for class=0 )</td><td class='tmva_output_hidden_td'></td></tr><tr><td>... i.e. such that Sum[i=1..N_j]{w_i} = N_classA, j=classA, classB, ...</td><td class='tmva_output_hidden_td'></td></tr><tr><td>... (note that N_j is the sum of TRAINING events</td><td class='tmva_output_hidden_td'></td></tr><tr><td>..... Testing events are not renormalised nor included in the renormalisation factor!)</td><td class='tmva_output_hidden_td'></td></tr></tbody></table></td></tr><tr><td><table class='tmva_output_traintestevents'><tr><td colspan='3'><center>Number of training and testing events</center></td></tr><tr><td rowspan='3'>Signal</td><td>training events</td><td>2400</td><td class='tmva_output_hidden_td'></td></tr><tr><td>testing events</td><td>600</td><td class='tmva_output_hidden_td'></td></tr><tr><td>training and testing events</td><td>3000</td><td class='tmva_output_hidden_td'></td></tr><tr><td rowspan='3'>Background</td><td>training events</td><td>2400</td><td class='tmva_output_hidden_td'></td></tr><tr><td>testing events</td><td>600</td><td class='tmva_output_hidden_td'></td></tr><tr><td>training and testing events</td><td>3000</td><td class='tmva_output_hidden_td'></td></tr></table></td></tr></tbody><tbody><tr><td rowspan='1' class='tmva_output_header'>DataSetInfo             </td></tr></tbody><tbody><tr><td rowspan='1' class='tmva_output_header'>DataSetInfo             </td></tr></tbody><tbody><tr><td rowspan='1' class='tmva_output_header'>DataSetFactory          </td><td><table class='tmva_output_dataset'><tbody class='tmva_output_tbody_multiple_row'><tr><td rowspan='2'>Dataset: 00000000000000000000000000001110</td><td class='tmva_output_hidden_td'></td></tr></tbody></table></td></tr></tbody><tbody class='tmva_output_tbody_multiple_row'><tr><td rowspan='2' class='tmva_output_header'>Factory                 </td><td>Train method: BDT for Classification</td></tr><tr></tr></tbody><tbody class='tmva_output_tbody_multiple_row'><tr><td rowspan='4' class='tmva_output_header'>BDT                     </td><td>#events: (reweighted) sig: 2400 bkg: 2400</td></tr><tr><td>#events: (unweighted) sig: 2400 bkg: 2400</td></tr><tr><td>Training 5 Decision Trees ... patience please</td></tr><tr><td>Elapsed time for training with 4800 events: \u001b[1;31m0.0179 sec\u001b[0m         </td></tr></tbody><tbody class='tmva_output_tbody_multiple_row'><tr><td rowspan='2' class='tmva_output_header'>BDT                     </td><td><table class='tmva_output_dataset'><tbody><tr><td rowspan='1'>Dataset: 00000000000000000000000000001110</td><td>Evaluation of BDT on training sample (4800 events)</td><td class='tmva_output_hidden_td'></td></tr></tbody></table></td></tr><tr><td>Elapsed time for evaluation of 4800 events: \u001b[1;31m0.00486 sec\u001b[0m       </td></tr></tbody><tbody class='tmva_output_tbody_multiple_row'><tr><td rowspan='3' class='tmva_output_header'>Factory                 </td><td>Training finished</td></tr><tr></tr><tr><td>Ranking input variables (method specific)...</td></tr></tbody><tbody class='tmva_output_tbody_multiple_row'><tr><td rowspan='8' class='tmva_output_header'>BDT                     </td><td>Ranking result (top variable is best ranked)</td></tr><tr></tr><tr><td>Rank : Variable  : Variable Importance</td></tr><tr></tr><tr><td>1 : var4 : 8.250e-01</td></tr><tr><td>2 : var3 : 1.750e-01</td></tr><tr><td>3 : var1-var2 : 0.000e+00</td></tr><tr></tr></tbody><tbody class='tmva_output_tbody_multiple_row'><tr><td rowspan='2' class='tmva_output_header'>Factory                 </td><td>Test method: BDT for Classification performance</td></tr><tr></tr></tbody><tbody class='tmva_output_tbody_multiple_row'><tr><td rowspan='2' class='tmva_output_header'>BDT                     </td><td><table class='tmva_output_dataset'><tbody><tr><td rowspan='1'>Dataset: 00000000000000000000000000001110</td><td>Evaluation of BDT on testing sample (1200 events)</td><td class='tmva_output_hidden_td'></td></tr></tbody></table></td></tr><tr><td>Elapsed time for evaluation of 1200 events: \u001b[1;31m0.0034 sec\u001b[0m       </td></tr></tbody><tbody class='tmva_output_tbody_multiple_row'><tr><td rowspan='2' class='tmva_output_header'>Factory                 </td><td>Evaluate classifier: BDT</td></tr><tr></tr></tbody><tbody class='tmva_output_tbody_multiple_row'><tr><td rowspan='16' class='tmva_output_header'>BDT                     </td><td><table class='tmva_output_dataset'><tbody class='tmva_output_tbody_multiple_row'><tr><td rowspan='3'>Dataset: 00000000000000000000000000001110</td><td>Loop over test events and fill histograms with classifier response...</td><td class='tmva_output_hidden_td'></td></tr></tbody></table></td></tr><tr><td>Evaluation results ranked by best signal efficiency and purity (area)</td></tr><tr></tr><tr><td>DataSet       MVA                       </td></tr><tr><td>Name:         Method:          ROC-integ</td></tr><tr><td>00000000000000000000000000001110 BDT            : 0.804</td></tr><tr></tr><tr></tr><tr><td>Testing efficiency compared to training efficiency (overtraining check)</td></tr><tr></tr><tr><td>DataSet              MVA              Signal efficiency: from test sample (from training sample) </td></tr><tr><td>Name:                Method:          @B=0.01             @B=0.10            @B=0.30   </td></tr><tr></tr><tr><td>00000000000000000000000000001110 BDT            : 0.000 (0.000)       0.000 (0.000)      0.811 (0.826)</td></tr><tr></tr><tr></tr></tbody><tbody class='tmva_output_tbody_multiple_row'><tr><td rowspan='2' class='tmva_output_header'>Factory                 </td><td>\u001b[1mThank you for using TMVA!\u001b[0m</td></tr><tr><td>\u001b[1mFor citation information, please visit: http://tmva.sf.net/citeTMVA.html\u001b[0m</td></tr></tbody><tbody class='tmva_output_tbody_multiple_row'><tr><td rowspan='6' class='tmva_output_header'>DataSetInfo             </td><td><table class='tmva_output_dataset'><tbody><tr><td rowspan='1'>Dataset: 00000000000000000000000000001101</td><td>Added class \"Signal\"</td><td class='tmva_output_hidden_td'></td></tr></tbody></table></td></tr><tr><td>Add Tree TreeS of type Signal with 600 events</td></tr><tr><td>Add Tree TreeS of type Signal with 600 events</td></tr><tr><td>Add Tree TreeS of type Signal with 600 events</td></tr><tr><td>Add Tree TreeS of type Signal with 600 events</td></tr><tr><td>Add Tree TreeS of type Signal with 600 events</td></tr></tbody><tbody class='tmva_output_tbody_multiple_row'><tr><td rowspan='6' class='tmva_output_header'>DataSetInfo             </td><td><table class='tmva_output_dataset'><tbody><tr><td rowspan='1'>Dataset: 00000000000000000000000000001101</td><td>Added class \"Background\"</td><td class='tmva_output_hidden_td'></td></tr></tbody></table></td></tr><tr><td>Add Tree TreeB of type Background with 600 events</td></tr><tr><td>Add Tree TreeB of type Background with 600 events</td></tr><tr><td>Add Tree TreeB of type Background with 600 events</td></tr><tr><td>Add Tree TreeB of type Background with 600 events</td></tr><tr><td>Add Tree TreeB of type Background with 600 events</td></tr></tbody><tbody class='tmva_output_tbody_multiple_row'><tr><td rowspan='2' class='tmva_output_header'>Factory                 </td><td>Booking method: <b> BDT\u001b</b></td></tr><tr></tr></tbody><tbody class='tmva_output_tbody_multiple_row'><tr><td rowspan='2' class='tmva_output_header'>DataSetFactory          </td><td><table class='tmva_output_dataset'><tbody class='tmva_output_tbody_multiple_row'><tr><td rowspan='7'>Dataset: 00000000000000000000000000001101</td><td>Number of events in input trees</td><td class='tmva_output_hidden_td'></td></tr><tr><td>Weight renormalisation mode: \"EqualNumEvents\": renormalises all event classes ...</td><td class='tmva_output_hidden_td'></td></tr><tr><td>such that the effective (weighted) number of events in each class is the same </td><td class='tmva_output_hidden_td'></td></tr><tr><td>(and equals the number of events (entries) given for class=0 )</td><td class='tmva_output_hidden_td'></td></tr><tr><td>... i.e. such that Sum[i=1..N_j]{w_i} = N_classA, j=classA, classB, ...</td><td class='tmva_output_hidden_td'></td></tr><tr><td>... (note that N_j is the sum of TRAINING events</td><td class='tmva_output_hidden_td'></td></tr><tr><td>..... Testing events are not renormalised nor included in the renormalisation factor!)</td><td class='tmva_output_hidden_td'></td></tr></tbody></table></td></tr><tr><td><table class='tmva_output_traintestevents'><tr><td colspan='3'><center>Number of training and testing events</center></td></tr><tr><td rowspan='3'>Signal</td><td>training events</td><td>2400</td><td class='tmva_output_hidden_td'></td></tr><tr><td>testing events</td><td>600</td><td class='tmva_output_hidden_td'></td></tr><tr><td>training and testing events</td><td>3000</td><td class='tmva_output_hidden_td'></td></tr><tr><td rowspan='3'>Background</td><td>training events</td><td>2400</td><td class='tmva_output_hidden_td'></td></tr><tr><td>testing events</td><td>600</td><td class='tmva_output_hidden_td'></td></tr><tr><td>training and testing events</td><td>3000</td><td class='tmva_output_hidden_td'></td></tr></table></td></tr></tbody><tbody><tr><td rowspan='1' class='tmva_output_header'>DataSetInfo             </td></tr></tbody><tbody><tr><td rowspan='1' class='tmva_output_header'>DataSetInfo             </td></tr></tbody><tbody><tr><td rowspan='1' class='tmva_output_header'>DataSetFactory          </td><td><table class='tmva_output_dataset'><tbody class='tmva_output_tbody_multiple_row'><tr><td rowspan='2'>Dataset: 00000000000000000000000000001101</td><td class='tmva_output_hidden_td'></td></tr></tbody></table></td></tr></tbody><tbody class='tmva_output_tbody_multiple_row'><tr><td rowspan='2' class='tmva_output_header'>Factory                 </td><td>Train method: BDT for Classification</td></tr><tr></tr></tbody><tbody class='tmva_output_tbody_multiple_row'><tr><td rowspan='4' class='tmva_output_header'>BDT                     </td><td>#events: (reweighted) sig: 2400 bkg: 2400</td></tr><tr><td>#events: (unweighted) sig: 2400 bkg: 2400</td></tr><tr><td>Training 5 Decision Trees ... patience please</td></tr><tr><td>Elapsed time for training with 4800 events: \u001b[1;31m0.0185 sec\u001b[0m         </td></tr></tbody><tbody class='tmva_output_tbody_multiple_row'><tr><td rowspan='2' class='tmva_output_header'>BDT                     </td><td><table class='tmva_output_dataset'><tbody><tr><td rowspan='1'>Dataset: 00000000000000000000000000001101</td><td>Evaluation of BDT on training sample (4800 events)</td><td class='tmva_output_hidden_td'></td></tr></tbody></table></td></tr><tr><td>Elapsed time for evaluation of 4800 events: \u001b[1;31m0.00456 sec\u001b[0m       </td></tr></tbody><tbody class='tmva_output_tbody_multiple_row'><tr><td rowspan='3' class='tmva_output_header'>Factory                 </td><td>Training finished</td></tr><tr></tr><tr><td>Ranking input variables (method specific)...</td></tr></tbody><tbody class='tmva_output_tbody_multiple_row'><tr><td rowspan='8' class='tmva_output_header'>BDT                     </td><td>Ranking result (top variable is best ranked)</td></tr><tr></tr><tr><td>Rank : Variable  : Variable Importance</td></tr><tr></tr><tr><td>1 : var4 : 6.248e-01</td></tr><tr><td>2 : var1+var2 : 3.698e-01</td></tr><tr><td>3 : var3 : 5.402e-03</td></tr><tr></tr></tbody><tbody class='tmva_output_tbody_multiple_row'><tr><td rowspan='2' class='tmva_output_header'>Factory                 </td><td>Test method: BDT for Classification performance</td></tr><tr></tr></tbody><tbody class='tmva_output_tbody_multiple_row'><tr><td rowspan='2' class='tmva_output_header'>BDT                     </td><td><table class='tmva_output_dataset'><tbody><tr><td rowspan='1'>Dataset: 00000000000000000000000000001101</td><td>Evaluation of BDT on testing sample (1200 events)</td><td class='tmva_output_hidden_td'></td></tr></tbody></table></td></tr><tr><td>Elapsed time for evaluation of 1200 events: \u001b[1;31m0.00337 sec\u001b[0m       </td></tr></tbody><tbody class='tmva_output_tbody_multiple_row'><tr><td rowspan='2' class='tmva_output_header'>Factory                 </td><td>Evaluate classifier: BDT</td></tr><tr></tr></tbody><tbody class='tmva_output_tbody_multiple_row'><tr><td rowspan='16' class='tmva_output_header'>BDT                     </td><td><table class='tmva_output_dataset'><tbody class='tmva_output_tbody_multiple_row'><tr><td rowspan='3'>Dataset: 00000000000000000000000000001101</td><td>Loop over test events and fill histograms with classifier response...</td><td class='tmva_output_hidden_td'></td></tr></tbody></table></td></tr><tr><td>Evaluation results ranked by best signal efficiency and purity (area)</td></tr><tr></tr><tr><td>DataSet       MVA                       </td></tr><tr><td>Name:         Method:          ROC-integ</td></tr><tr><td>00000000000000000000000000001101 BDT            : 0.845</td></tr><tr></tr><tr></tr><tr><td>Testing efficiency compared to training efficiency (overtraining check)</td></tr><tr></tr><tr><td>DataSet              MVA              Signal efficiency: from test sample (from training sample) </td></tr><tr><td>Name:                Method:          @B=0.01             @B=0.10            @B=0.30   </td></tr><tr></tr><tr><td>00000000000000000000000000001101 BDT            : 0.000 (0.000)       0.459 (0.460)      0.876 (0.872)</td></tr><tr></tr><tr></tr></tbody><tbody class='tmva_output_tbody_multiple_row'><tr><td rowspan='2' class='tmva_output_header'>Factory                 </td><td>\u001b[1mThank you for using TMVA!\u001b[0m</td></tr><tr><td>\u001b[1mFor citation information, please visit: http://tmva.sf.net/citeTMVA.html\u001b[0m</td></tr></tbody><tbody class='tmva_output_tbody_multiple_row'><tr><td rowspan='6' class='tmva_output_header'>DataSetInfo             </td><td><table class='tmva_output_dataset'><tbody><tr><td rowspan='1'>Dataset: 00000000000000000000000000001011</td><td>Added class \"Signal\"</td><td class='tmva_output_hidden_td'></td></tr></tbody></table></td></tr><tr><td>Add Tree TreeS of type Signal with 600 events</td></tr><tr><td>Add Tree TreeS of type Signal with 600 events</td></tr><tr><td>Add Tree TreeS of type Signal with 600 events</td></tr><tr><td>Add Tree TreeS of type Signal with 600 events</td></tr><tr><td>Add Tree TreeS of type Signal with 600 events</td></tr></tbody><tbody class='tmva_output_tbody_multiple_row'><tr><td rowspan='6' class='tmva_output_header'>DataSetInfo             </td><td><table class='tmva_output_dataset'><tbody><tr><td rowspan='1'>Dataset: 00000000000000000000000000001011</td><td>Added class \"Background\"</td><td class='tmva_output_hidden_td'></td></tr></tbody></table></td></tr><tr><td>Add Tree TreeB of type Background with 600 events</td></tr><tr><td>Add Tree TreeB of type Background with 600 events</td></tr><tr><td>Add Tree TreeB of type Background with 600 events</td></tr><tr><td>Add Tree TreeB of type Background with 600 events</td></tr><tr><td>Add Tree TreeB of type Background with 600 events</td></tr></tbody><tbody class='tmva_output_tbody_multiple_row'><tr><td rowspan='2' class='tmva_output_header'>Factory                 </td><td>Booking method: <b> BDT\u001b</b></td></tr><tr></tr></tbody><tbody class='tmva_output_tbody_multiple_row'><tr><td rowspan='2' class='tmva_output_header'>DataSetFactory          </td><td><table class='tmva_output_dataset'><tbody class='tmva_output_tbody_multiple_row'><tr><td rowspan='7'>Dataset: 00000000000000000000000000001011</td><td>Number of events in input trees</td><td class='tmva_output_hidden_td'></td></tr><tr><td>Weight renormalisation mode: \"EqualNumEvents\": renormalises all event classes ...</td><td class='tmva_output_hidden_td'></td></tr><tr><td>such that the effective (weighted) number of events in each class is the same </td><td class='tmva_output_hidden_td'></td></tr><tr><td>(and equals the number of events (entries) given for class=0 )</td><td class='tmva_output_hidden_td'></td></tr><tr><td>... i.e. such that Sum[i=1..N_j]{w_i} = N_classA, j=classA, classB, ...</td><td class='tmva_output_hidden_td'></td></tr><tr><td>... (note that N_j is the sum of TRAINING events</td><td class='tmva_output_hidden_td'></td></tr><tr><td>..... Testing events are not renormalised nor included in the renormalisation factor!)</td><td class='tmva_output_hidden_td'></td></tr></tbody></table></td></tr><tr><td><table class='tmva_output_traintestevents'><tr><td colspan='3'><center>Number of training and testing events</center></td></tr><tr><td rowspan='3'>Signal</td><td>training events</td><td>2400</td><td class='tmva_output_hidden_td'></td></tr><tr><td>testing events</td><td>600</td><td class='tmva_output_hidden_td'></td></tr><tr><td>training and testing events</td><td>3000</td><td class='tmva_output_hidden_td'></td></tr><tr><td rowspan='3'>Background</td><td>training events</td><td>2400</td><td class='tmva_output_hidden_td'></td></tr><tr><td>testing events</td><td>600</td><td class='tmva_output_hidden_td'></td></tr><tr><td>training and testing events</td><td>3000</td><td class='tmva_output_hidden_td'></td></tr></table></td></tr></tbody><tbody><tr><td rowspan='1' class='tmva_output_header'>DataSetInfo             </td></tr></tbody><tbody><tr><td rowspan='1' class='tmva_output_header'>DataSetInfo             </td></tr></tbody><tbody><tr><td rowspan='1' class='tmva_output_header'>DataSetFactory          </td><td><table class='tmva_output_dataset'><tbody class='tmva_output_tbody_multiple_row'><tr><td rowspan='2'>Dataset: 00000000000000000000000000001011</td><td class='tmva_output_hidden_td'></td></tr></tbody></table></td></tr></tbody><tbody class='tmva_output_tbody_multiple_row'><tr><td rowspan='2' class='tmva_output_header'>Factory                 </td><td>Train method: BDT for Classification</td></tr><tr></tr></tbody><tbody class='tmva_output_tbody_multiple_row'><tr><td rowspan='4' class='tmva_output_header'>BDT                     </td><td>#events: (reweighted) sig: 2400 bkg: 2400</td></tr><tr><td>#events: (unweighted) sig: 2400 bkg: 2400</td></tr><tr><td>Training 5 Decision Trees ... patience please</td></tr><tr><td>Elapsed time for training with 4800 events: \u001b[1;31m0.0143 sec\u001b[0m         </td></tr></tbody><tbody class='tmva_output_tbody_multiple_row'><tr><td rowspan='2' class='tmva_output_header'>BDT                     </td><td><table class='tmva_output_dataset'><tbody><tr><td rowspan='1'>Dataset: 00000000000000000000000000001011</td><td>Evaluation of BDT on training sample (4800 events)</td><td class='tmva_output_hidden_td'></td></tr></tbody></table></td></tr><tr><td>Elapsed time for evaluation of 4800 events: \u001b[1;31m0.00447 sec\u001b[0m       </td></tr></tbody><tbody class='tmva_output_tbody_multiple_row'><tr><td rowspan='3' class='tmva_output_header'>Factory                 </td><td>Training finished</td></tr><tr></tr><tr><td>Ranking input variables (method specific)...</td></tr></tbody><tbody class='tmva_output_tbody_multiple_row'><tr><td rowspan='8' class='tmva_output_header'>BDT                     </td><td>Ranking result (top variable is best ranked)</td></tr><tr></tr><tr><td>Rank : Variable  : Variable Importance</td></tr><tr></tr><tr><td>1 : var4 : 6.282e-01</td></tr><tr><td>2 : var1+var2 : 3.718e-01</td></tr><tr><td>3 : var1-var2 : 0.000e+00</td></tr><tr></tr></tbody><tbody class='tmva_output_tbody_multiple_row'><tr><td rowspan='2' class='tmva_output_header'>Factory                 </td><td>Test method: BDT for Classification performance</td></tr><tr></tr></tbody><tbody class='tmva_output_tbody_multiple_row'><tr><td rowspan='2' class='tmva_output_header'>BDT                     </td><td><table class='tmva_output_dataset'><tbody><tr><td rowspan='1'>Dataset: 00000000000000000000000000001011</td><td>Evaluation of BDT on testing sample (1200 events)</td><td class='tmva_output_hidden_td'></td></tr></tbody></table></td></tr><tr><td>Elapsed time for evaluation of 1200 events: \u001b[1;31m0.00349 sec\u001b[0m       </td></tr></tbody><tbody class='tmva_output_tbody_multiple_row'><tr><td rowspan='2' class='tmva_output_header'>Factory                 </td><td>Evaluate classifier: BDT</td></tr><tr></tr></tbody><tbody class='tmva_output_tbody_multiple_row'><tr><td rowspan='16' class='tmva_output_header'>BDT                     </td><td><table class='tmva_output_dataset'><tbody class='tmva_output_tbody_multiple_row'><tr><td rowspan='3'>Dataset: 00000000000000000000000000001011</td><td>Loop over test events and fill histograms with classifier response...</td><td class='tmva_output_hidden_td'></td></tr></tbody></table></td></tr><tr><td>Evaluation results ranked by best signal efficiency and purity (area)</td></tr><tr></tr><tr><td>DataSet       MVA                       </td></tr><tr><td>Name:         Method:          ROC-integ</td></tr><tr><td>00000000000000000000000000001011 BDT            : 0.845</td></tr><tr></tr><tr></tr><tr><td>Testing efficiency compared to training efficiency (overtraining check)</td></tr><tr></tr><tr><td>DataSet              MVA              Signal efficiency: from test sample (from training sample) </td></tr><tr><td>Name:                Method:          @B=0.01             @B=0.10            @B=0.30   </td></tr><tr></tr><tr><td>00000000000000000000000000001011 BDT            : 0.000 (0.000)       0.459 (0.460)      0.876 (0.872)</td></tr><tr></tr><tr></tr></tbody><tbody class='tmva_output_tbody_multiple_row'><tr><td rowspan='2' class='tmva_output_header'>Factory                 </td><td>\u001b[1mThank you for using TMVA!\u001b[0m</td></tr><tr><td>\u001b[1mFor citation information, please visit: http://tmva.sf.net/citeTMVA.html\u001b[0m</td></tr></tbody><tbody class='tmva_output_tbody_multiple_row'><tr><td rowspan='6' class='tmva_output_header'>DataSetInfo             </td><td><table class='tmva_output_dataset'><tbody><tr><td rowspan='1'>Dataset: 00000000000000000000000000000111</td><td>Added class \"Signal\"</td><td class='tmva_output_hidden_td'></td></tr></tbody></table></td></tr><tr><td>Add Tree TreeS of type Signal with 600 events</td></tr><tr><td>Add Tree TreeS of type Signal with 600 events</td></tr><tr><td>Add Tree TreeS of type Signal with 600 events</td></tr><tr><td>Add Tree TreeS of type Signal with 600 events</td></tr><tr><td>Add Tree TreeS of type Signal with 600 events</td></tr></tbody><tbody class='tmva_output_tbody_multiple_row'><tr><td rowspan='6' class='tmva_output_header'>DataSetInfo             </td><td><table class='tmva_output_dataset'><tbody><tr><td rowspan='1'>Dataset: 00000000000000000000000000000111</td><td>Added class \"Background\"</td><td class='tmva_output_hidden_td'></td></tr></tbody></table></td></tr><tr><td>Add Tree TreeB of type Background with 600 events</td></tr><tr><td>Add Tree TreeB of type Background with 600 events</td></tr><tr><td>Add Tree TreeB of type Background with 600 events</td></tr><tr><td>Add Tree TreeB of type Background with 600 events</td></tr><tr><td>Add Tree TreeB of type Background with 600 events</td></tr></tbody><tbody class='tmva_output_tbody_multiple_row'><tr><td rowspan='2' class='tmva_output_header'>Factory                 </td><td>Booking method: <b> BDT\u001b</b></td></tr><tr></tr></tbody><tbody class='tmva_output_tbody_multiple_row'><tr><td rowspan='2' class='tmva_output_header'>DataSetFactory          </td><td><table class='tmva_output_dataset'><tbody class='tmva_output_tbody_multiple_row'><tr><td rowspan='7'>Dataset: 00000000000000000000000000000111</td><td>Number of events in input trees</td><td class='tmva_output_hidden_td'></td></tr><tr><td>Weight renormalisation mode: \"EqualNumEvents\": renormalises all event classes ...</td><td class='tmva_output_hidden_td'></td></tr><tr><td>such that the effective (weighted) number of events in each class is the same </td><td class='tmva_output_hidden_td'></td></tr><tr><td>(and equals the number of events (entries) given for class=0 )</td><td class='tmva_output_hidden_td'></td></tr><tr><td>... i.e. such that Sum[i=1..N_j]{w_i} = N_classA, j=classA, classB, ...</td><td class='tmva_output_hidden_td'></td></tr><tr><td>... (note that N_j is the sum of TRAINING events</td><td class='tmva_output_hidden_td'></td></tr><tr><td>..... Testing events are not renormalised nor included in the renormalisation factor!)</td><td class='tmva_output_hidden_td'></td></tr></tbody></table></td></tr><tr><td><table class='tmva_output_traintestevents'><tr><td colspan='3'><center>Number of training and testing events</center></td></tr><tr><td rowspan='3'>Signal</td><td>training events</td><td>2400</td><td class='tmva_output_hidden_td'></td></tr><tr><td>testing events</td><td>600</td><td class='tmva_output_hidden_td'></td></tr><tr><td>training and testing events</td><td>3000</td><td class='tmva_output_hidden_td'></td></tr><tr><td rowspan='3'>Background</td><td>training events</td><td>2400</td><td class='tmva_output_hidden_td'></td></tr><tr><td>testing events</td><td>600</td><td class='tmva_output_hidden_td'></td></tr><tr><td>training and testing events</td><td>3000</td><td class='tmva_output_hidden_td'></td></tr></table></td></tr></tbody><tbody><tr><td rowspan='1' class='tmva_output_header'>DataSetInfo             </td></tr></tbody><tbody><tr><td rowspan='1' class='tmva_output_header'>DataSetInfo             </td></tr></tbody><tbody><tr><td rowspan='1' class='tmva_output_header'>DataSetFactory          </td><td><table class='tmva_output_dataset'><tbody class='tmva_output_tbody_multiple_row'><tr><td rowspan='2'>Dataset: 00000000000000000000000000000111</td><td class='tmva_output_hidden_td'></td></tr></tbody></table></td></tr></tbody><tbody class='tmva_output_tbody_multiple_row'><tr><td rowspan='2' class='tmva_output_header'>Factory                 </td><td>Train method: BDT for Classification</td></tr><tr></tr></tbody><tbody class='tmva_output_tbody_multiple_row'><tr><td rowspan='4' class='tmva_output_header'>BDT                     </td><td>#events: (reweighted) sig: 2400 bkg: 2400</td></tr><tr><td>#events: (unweighted) sig: 2400 bkg: 2400</td></tr><tr><td>Training 5 Decision Trees ... patience please</td></tr><tr><td>Elapsed time for training with 4800 events: \u001b[1;31m0.0161 sec\u001b[0m         </td></tr></tbody><tbody class='tmva_output_tbody_multiple_row'><tr><td rowspan='2' class='tmva_output_header'>BDT                     </td><td><table class='tmva_output_dataset'><tbody><tr><td rowspan='1'>Dataset: 00000000000000000000000000000111</td><td>Evaluation of BDT on training sample (4800 events)</td><td class='tmva_output_hidden_td'></td></tr></tbody></table></td></tr><tr><td>Elapsed time for evaluation of 4800 events: \u001b[1;31m0.00511 sec\u001b[0m       </td></tr></tbody><tbody class='tmva_output_tbody_multiple_row'><tr><td rowspan='3' class='tmva_output_header'>Factory                 </td><td>Training finished</td></tr><tr></tr><tr><td>Ranking input variables (method specific)...</td></tr></tbody><tbody class='tmva_output_tbody_multiple_row'><tr><td rowspan='8' class='tmva_output_header'>BDT                     </td><td>Ranking result (top variable is best ranked)</td></tr><tr></tr><tr><td>Rank : Variable  : Variable Importance</td></tr><tr></tr><tr><td>1 : var1+var2 : 5.199e-01</td></tr><tr><td>2 : var3 : 4.801e-01</td></tr><tr><td>3 : var1-var2 : 0.000e+00</td></tr><tr></tr></tbody><tbody class='tmva_output_tbody_multiple_row'><tr><td rowspan='2' class='tmva_output_header'>Factory                 </td><td>Test method: BDT for Classification performance</td></tr><tr></tr></tbody><tbody class='tmva_output_tbody_multiple_row'><tr><td rowspan='2' class='tmva_output_header'>BDT                     </td><td><table class='tmva_output_dataset'><tbody><tr><td rowspan='1'>Dataset: 00000000000000000000000000000111</td><td>Evaluation of BDT on testing sample (1200 events)</td><td class='tmva_output_hidden_td'></td></tr></tbody></table></td></tr><tr><td>Elapsed time for evaluation of 1200 events: \u001b[1;31m0.00326 sec\u001b[0m       </td></tr></tbody><tbody class='tmva_output_tbody_multiple_row'><tr><td rowspan='2' class='tmva_output_header'>Factory                 </td><td>Evaluate classifier: BDT</td></tr><tr></tr></tbody><tbody class='tmva_output_tbody_multiple_row'><tr><td rowspan='16' class='tmva_output_header'>BDT                     </td><td><table class='tmva_output_dataset'><tbody class='tmva_output_tbody_multiple_row'><tr><td rowspan='3'>Dataset: 00000000000000000000000000000111</td><td>Loop over test events and fill histograms with classifier response...</td><td class='tmva_output_hidden_td'></td></tr></tbody></table></td></tr><tr><td>Evaluation results ranked by best signal efficiency and purity (area)</td></tr><tr></tr><tr><td>DataSet       MVA                       </td></tr><tr><td>Name:         Method:          ROC-integ</td></tr><tr><td>00000000000000000000000000000111 BDT            : 0.779</td></tr><tr></tr><tr></tr><tr><td>Testing efficiency compared to training efficiency (overtraining check)</td></tr><tr></tr><tr><td>DataSet              MVA              Signal efficiency: from test sample (from training sample) </td></tr><tr><td>Name:                Method:          @B=0.01             @B=0.10            @B=0.30   </td></tr><tr></tr><tr><td>00000000000000000000000000000111 BDT            : 0.000 (0.000)       0.000 (0.000)      0.000 (0.000)</td></tr><tr></tr><tr></tr></tbody><tbody class='tmva_output_tbody_multiple_row'><tr><td rowspan='7' class='tmva_output_header'>Factory                 </td><td>\u001b[1mThank you for using TMVA!\u001b[0m</td></tr><tr><td>\u001b[1mFor citation information, please visit: http://tmva.sf.net/citeTMVA.html\u001b[0m</td></tr><tr><td>--- Variable Importance Results (Short)</td></tr><tr><td>--- var1+var2 = 38.0477 %</td></tr><tr><td>--- var1-var2 = 0 %</td></tr><tr><td>--- var3 = 0 %</td></tr><tr><td>--- var4 = 61.9523 %</td></tr></tbody></table>"
      ],
      "text/plain": [
       "<IPython.core.display.HTML object>"
      ]
     },
     "metadata": {},
     "output_type": "display_data"
    },
    {
     "data": {
      "text/html": [],
      "text/plain": [
       "<IPython.core.display.HTML object>"
      ]
     },
     "metadata": {},
     "output_type": "display_data"
    }
   ],
   "source": [
    "factory.EvaluateImportance(DataLoader=loader,VIType=0, Method=TMVA.Types.kBDT, MethodTitle=\"BDT\",\n",
    "            V=False,NTrees=5, MinNodeSize=\"2.5%\",MaxDepth=2, BoostType=\"AdaBoost\", AdaBoostBeta=0.5, \n",
    "            UseBaggedBoost=True, BaggedSampleFraction=0.5, SeparationType=\"GiniIndex\", nCuts=20 );"
   ]
  },
  {
   "cell_type": "code",
   "execution_count": null,
   "metadata": {
    "collapsed": true
   },
   "outputs": [],
   "source": []
  }
 ],
 "metadata": {
  "kernelspec": {
   "display_name": "Python [Root]",
   "language": "python",
   "name": "Python [Root]"
  },
  "language_info": {
   "codemirror_mode": {
    "name": "ipython",
    "version": 2
   },
   "file_extension": ".py",
   "mimetype": "text/x-python",
   "name": "python",
   "nbconvert_exporter": "python",
   "pygments_lexer": "ipython2",
   "version": "2.7.11"
  }
 },
 "nbformat": 4,
 "nbformat_minor": 0
}
