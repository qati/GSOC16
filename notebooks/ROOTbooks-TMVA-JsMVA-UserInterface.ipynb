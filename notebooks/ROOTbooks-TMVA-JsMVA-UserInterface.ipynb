{
 "cells": [
  {
   "cell_type": "markdown",
   "metadata": {},
   "source": [
    "<div>\n",
    "    <div style=\"float:left;\">\n",
    "        <img src=\"http://oproject.org/tiki-download_file.php?fileId=8&display&x=450&y=128\" width=\"50%\" />\n",
    "    </div>\n",
    "    <div style=\"float:left;\">\n",
    "        <img src=\"http://gfif.udea.edu.co/root/tmva/img/tmva_logo.gif\" width=\"50%\"/>\n",
    "    </div>\n",
    "</div>"
   ]
  },
  {
   "cell_type": "markdown",
   "metadata": {},
   "source": [
    "# User interface\n",
    "<hr style=\"border-top-width: 4px; border-top-color: #34609b;\">"
   ]
  },
  {
   "cell_type": "markdown",
   "metadata": {},
   "source": [
    "<!--<script src=\"JsRoot/scripts/JSRootCore.js?jq2d&onload=JsRootLoadedCall\" type=\"text/javascript\"></script>-->"
   ]
  },
  {
   "cell_type": "code",
   "execution_count": null,
   "metadata": {
    "collapsed": false
   },
   "outputs": [],
   "source": [
    "import ROOT\n",
    "from ROOT import TFile, TMVA, TCut"
   ]
  },
  {
   "cell_type": "code",
   "execution_count": null,
   "metadata": {
    "collapsed": false
   },
   "outputs": [],
   "source": [
    "import sys\n",
    "for path in sys.path:\n",
    "    if path.find(\"JsMVA\")!=-1:\n",
    "        sys.path.remove(path)\n",
    "\n",
    "def delete_module(modname):\n",
    "    from sys import modules\n",
    "    try:\n",
    "        thismod = modules[modname]\n",
    "    except KeyError:\n",
    "        raise ValueError(modname)\n",
    "    these_symbols = dir(thismod)\n",
    "    del modules[modname]\n",
    "    for mod in modules.values():\n",
    "        try:\n",
    "            delattr(mod, modname)\n",
    "        except AttributeError:\n",
    "            pass\n",
    "delete_module(\"JsMVA\")"
   ]
  },
  {
   "cell_type": "code",
   "execution_count": null,
   "metadata": {
    "collapsed": true
   },
   "outputs": [],
   "source": [
    "import sys, os\n",
    "sys.path.append(os.path.expanduser(\"~/src/python/JsMVA\"))\n",
    "import JsMVA"
   ]
  },
  {
   "cell_type": "markdown",
   "metadata": {},
   "source": [
    "## Enable JS visualization"
   ]
  },
  {
   "cell_type": "markdown",
   "metadata": {},
   "source": [
    "To use new interactive features in notebook we have to enable a module called JsMVA. This can be done by using ipython magic: %jsmva."
   ]
  },
  {
   "cell_type": "code",
   "execution_count": null,
   "metadata": {
    "collapsed": false
   },
   "outputs": [],
   "source": [
    "%jsmva on"
   ]
  },
  {
   "cell_type": "markdown",
   "metadata": {},
   "source": [
    "## Declaration of Factory"
   ]
  },
  {
   "cell_type": "markdown",
   "metadata": {},
   "source": [
    "First let's start with the classical version of declaration. If you know how to use TMVA in C++ then you can use that version here in python: first we need to pass a string called job name, as second argument we need to pass an opened output TFile (this is optional, if it's present then it will be used to store output histograms) and as third (or second) argument we pass a string which contains all the settings related to Factory (separated with ':' character)."
   ]
  },
  {
   "cell_type": "markdown",
   "metadata": {},
   "source": [
    "### C++ like declaration"
   ]
  },
  {
   "cell_type": "code",
   "execution_count": null,
   "metadata": {
    "collapsed": false
   },
   "outputs": [],
   "source": [
    "outputFile = TFile( \"TMVA.root\", 'RECREATE' )\n",
    "TMVA.Tools.Instance();\n",
    "\n",
    "factory = TMVA.Factory( \"TMVAClassification\", outputFile #this is optional\n",
    "                       ,\"!V:Color:DrawProgressBar:Transformations=I;D;P;G,D:AnalysisType=Classification\" )"
   ]
  },
  {
   "cell_type": "markdown",
   "metadata": {},
   "source": [
    "The options string can contain the following options:\n",
    "<table>\n",
    "<tr><th>Option</th><th>Default</th><th>Predefined values</th><th>Description</th></tr>\n",
    "<tr>\n",
    " <td>V</td>\n",
    " <td>False</td>\n",
    " <td>-</td>\n",
    " <td>Verbose flag</td>\n",
    "</tr>\n",
    "<tr>\n",
    " <td>Color</td>\n",
    " <td>True</td>\n",
    " <td>-</td>\n",
    " <td>Flag for colored output</td>\n",
    "</tr>\n",
    "<tr>\n",
    " <td>Transformations</td>\n",
    " <td>\"\"</td>\n",
    " <td>-</td>\n",
    " <td>List of transformations to test. For example with \"I;D;P;U;G\" string identity, decorrelation, PCA, uniform and Gaussian transformations will be applied</td>\n",
    "</tr>\n",
    "<tr>\n",
    " <td>Silent</td>\n",
    " <td>False</td>\n",
    " <td>-</td>\n",
    " <td>Batch mode: boolean silent flag inhibiting\n",
    "any output from TMVA after\n",
    "the creation of the factory class object</td>\n",
    "</tr>\n",
    "<tr>\n",
    " <td>DrawProgressBar</td>\n",
    " <td>True</td>\n",
    " <td>-</td>\n",
    " <td>Draw progress bar to display training,\n",
    "testing and evaluation schedule (default:\n",
    "True)</td>\n",
    "</tr>\n",
    "<tr>\n",
    " <td>AnalysisType</td>\n",
    " <td>Auto</td>\n",
    " <td>Classification,\n",
    "Regression,\n",
    "Multiclass, Auto</td>\n",
    " <td>Set the analysis type</td>\n",
    "</tr>\n",
    "</table>"
   ]
  },
  {
   "cell_type": "markdown",
   "metadata": {},
   "source": [
    "### Pythonic version"
   ]
  },
  {
   "cell_type": "markdown",
   "metadata": {},
   "source": [
    "By enabling JsMVA we have new, more readable ways to do the declaration."
   ]
  },
  {
   "cell_type": "markdown",
   "metadata": {},
   "source": [
    "#### First version"
   ]
  },
  {
   "cell_type": "markdown",
   "metadata": {},
   "source": [
    "Instead of passing options as a long string we can pass them separately as named arguments:"
   ]
  },
  {
   "cell_type": "code",
   "execution_count": null,
   "metadata": {
    "collapsed": false,
    "scrolled": false
   },
   "outputs": [],
   "source": [
    "factory = TMVA.Factory(\"TMVAClassification\", outputFile,\n",
    "            V=False, Color=True,Silent=True, DrawProgressBar=True, Transformations=\"I;D;P;G,D\", AnalysisType=\"Classification\")"
   ]
  },
  {
   "cell_type": "markdown",
   "metadata": {},
   "source": [
    "You can see the Transformations variable is set to \"I;D;P;G;D\" string. Instead of this, we can pass these options as a list: [\"I\", \"D\", \"P\", \"G\", \"D\"]"
   ]
  },
  {
   "cell_type": "markdown",
   "metadata": {},
   "source": [
    "#### Second version"
   ]
  },
  {
   "cell_type": "markdown",
   "metadata": {},
   "source": [
    "In the first version we just changed the way as we pass the options. The first 2 argument was still positional arguments. These parameters also can be passed as named arguments: the name of first parameter in first version is <b>JobName</b> and the name of second argument is <b>TargetFile</b>"
   ]
  },
  {
   "cell_type": "code",
   "execution_count": null,
   "metadata": {
    "collapsed": false
   },
   "outputs": [],
   "source": [
    "factory = TMVA.Factory(JobName=\"TMVAClassification\", TargetFile=outputFile,\n",
    "                       V=False, Color=True, DrawProgressBar=True, Transformations=[\"I\", \"D\", \"P\", \"G\", \"D\"],\n",
    "                       AnalysisType=\"Classification\")"
   ]
  },
  {
   "cell_type": "markdown",
   "metadata": {},
   "source": [
    "Arguments of constructor:\n",
    "The options string can contain the following options:\n",
    "<table>\n",
    "<tr><th>Keyword</th><th>Can be used as positional argument</th><th>Default</th><th>Predefined values</th><th>Description</th></tr>\n",
    "<tr>\n",
    " <td>JobName</td>\n",
    " <td>yes, 1.</td>\n",
    " <td>not optional</td>\n",
    " <td>-</td>\n",
    " <td>Name of job</td>\n",
    "</tr>\n",
    "<tr>\n",
    " <td>TargetFile</td>\n",
    " <td>yes, 2.</td>\n",
    " <td>if not passed histograms won't be saved</td>\n",
    " <td>-</td>\n",
    " <td>File to write control and performance histograms histograms </td>\n",
    "</tr>\n",
    "<tr>\n",
    " <td>V</td>\n",
    " <td>no</td>\n",
    " <td>False</td>\n",
    " <td>-</td>\n",
    " <td>Verbose flag</td>\n",
    "</tr>\n",
    "<tr>\n",
    " <td>Color</td>\n",
    "  <td>no</td>\n",
    "\n",
    " <td>True</td>\n",
    " <td>-</td>\n",
    " <td>Flag for colored output</td>\n",
    "</tr>\n",
    "<tr>\n",
    " <td>Transformations</td>\n",
    "  <td>no</td>\n",
    "\n",
    " <td>\"\"</td>\n",
    " <td>-</td>\n",
    " <td>List of transformations to test. For example with \"I;D;P;U;G\" string identity, decorrelation, PCA, uniform and Gaussian transformations will be applied</td>\n",
    "</tr>\n",
    "<tr>\n",
    " <td>Silent</td>\n",
    "  <td>no</td>\n",
    "\n",
    " <td>False</td>\n",
    "\n",
    " <td>-</td>\n",
    " <td>Batch mode: boolean silent flag inhibiting\n",
    "any output from TMVA after\n",
    "the creation of the factory class object</td>\n",
    "</tr>\n",
    "<tr>\n",
    " <td>DrawProgressBar</td>\n",
    "  <td>no</td>\n",
    "\n",
    " <td>True</td>\n",
    " <td>-</td>\n",
    " <td>Draw progress bar to display training,\n",
    "testing and evaluation schedule (default:\n",
    "True)</td>\n",
    "</tr>\n",
    "<tr>\n",
    " <td>AnalysisType</td>\n",
    "  <td>no</td>\n",
    "\n",
    " <td>Auto</td>\n",
    " <td>Classification,\n",
    "Regression,\n",
    "Multiclass, Auto</td>\n",
    " <td>Set the analysis type</td>\n",
    "</tr>\n",
    "</table>"
   ]
  },
  {
   "cell_type": "markdown",
   "metadata": {},
   "source": [
    "## Declaring the DataLoader, adding variables and setting up the dataset"
   ]
  },
  {
   "cell_type": "markdown",
   "metadata": {},
   "source": [
    "First we need to declare a DataLoader and add the variables (passing the variable names used in the test and train trees in input dataset). To add variable names to DataLoader we use the AddVariable function. Arguments of this function:\n",
    "\n",
    "1. String containing the variable name. Using \":=\" we can add definition too.\n",
    "\n",
    "2. String (label to variable, if not present the variable name will be used) or character (defining the type of data points)\n",
    "\n",
    "3. If we have label for variable, the data point type still can be passed as third argument "
   ]
  },
  {
   "cell_type": "code",
   "execution_count": null,
   "metadata": {
    "collapsed": false
   },
   "outputs": [],
   "source": [
    "dataset = \"tmva_class_example\" #the dataset name\n",
    "loader  = TMVA.DataLoader(dataset)\n",
    "\n",
    "loader.AddVariable( \"myvar1 := var1+var2\", 'F' )\n",
    "loader.AddVariable( \"myvar2 := var1-var2\", \"Expression 2\", 'F' )\n",
    "loader.AddVariable( \"var3\",                \"Variable 3\", 'F' )\n",
    "loader.AddVariable( \"var4\",                \"Variable 4\", 'F' )"
   ]
  },
  {
   "cell_type": "markdown",
   "metadata": {},
   "source": [
    "It is possible to define spectator variables, which are part of the input data set, but which are not\n",
    "used in the MVA training, test nor during the evaluation, but can be used for correlation tests or others. \n",
    "Parameters:\n",
    "\n",
    "1. String containing the definition of spectator variable.\n",
    "2. Label for spectator variable.\n",
    "3. Data type"
   ]
  },
  {
   "cell_type": "code",
   "execution_count": null,
   "metadata": {
    "collapsed": false
   },
   "outputs": [],
   "source": [
    "loader.AddSpectator( \"spec1:=var1*2\",  \"Spectator 1\",  'F' )\n",
    "loader.AddSpectator( \"spec2:=var1*3\",  \"Spectator 2\",  'F' )"
   ]
  },
  {
   "cell_type": "markdown",
   "metadata": {},
   "source": [
    "After adding the variables we have to add the datas to DataLoader. In order to do this we check if the dataset file doesn't exist in files directory we download from CERN's server. When we have the root file we open it and get the signal and background trees."
   ]
  },
  {
   "cell_type": "code",
   "execution_count": null,
   "metadata": {
    "collapsed": false,
    "scrolled": true
   },
   "outputs": [],
   "source": [
    "if ROOT.gSystem.AccessPathName( \"tmva_class_example.root\" ) != 0: \n",
    "    ROOT.gSystem.Exec( \"wget https://root.cern.ch/files/tmva_class_example.root\")\n",
    "    \n",
    "input = TFile.Open( \"tmva_class_example.root\" )\n",
    "\n",
    "# Get the signal and background trees for training\n",
    "signal      = input.Get( \"TreeS\" )\n",
    "background  = input.Get( \"TreeB\" )"
   ]
  },
  {
   "cell_type": "markdown",
   "metadata": {},
   "source": [
    "To pass the signal and background trees to DataLoader we use the AddSignalTree and AddBackgroundTree functions, and we set up the corresponding DataLoader variable's too.\n",
    "Arguments of functions:\n",
    "\n",
    "1. Signal/Background tree\n",
    "2. Global weight used in all events in the tree."
   ]
  },
  {
   "cell_type": "code",
   "execution_count": null,
   "metadata": {
    "collapsed": false
   },
   "outputs": [],
   "source": [
    "# Global event weights (see below for setting event-wise weights)\n",
    "signalWeight     = 1.0\n",
    "backgroundWeight = 1.0\n",
    "\n",
    "loader.AddSignalTree(signal, signalWeight)\n",
    "loader.AddBackgroundTree(background, backgroundWeight)\n",
    "\n",
    "loader.fSignalWeight = signalWeight\n",
    "loader.fBackgroundWeight = backgroundWeight\n",
    "loader.fTreeS = signal\n",
    "loader.fTreeB = background"
   ]
  },
  {
   "cell_type": "markdown",
   "metadata": {},
   "source": [
    "With using DataLoader.PrepareTrainingAndTestTree function we apply cuts on input events. In C++ this function also needs to add the options as a string (as we seen in Factory constructor) which with JsMVA can be passed (same as Factory constructor case) as keyword arguments.\n",
    "\n",
    "Arguments of PrepareTrainingAndTestTree:\n",
    "<table>\n",
    "\n",
    "<tr>\n",
    "    <th>Keyword</th>\n",
    "    <th>Can be used as positional argument</th>\n",
    "    <th>Default</th>\n",
    "    <th>Predefined values</th>\n",
    "    <th>Description</th>\n",
    "</tr>\n",
    "\n",
    "<tr>\n",
    "    <td>SigCut</td>\n",
    "    <td>yes, 1.</td>\n",
    "    <td>-</td>\n",
    "    <td>-</td>\n",
    "    <td>TCut object for signal cut</td>\n",
    "</tr>\n",
    "<tr>\n",
    "    <td>Bkg</td>\n",
    "    <td>yes, 2.</td>\n",
    "    <td>-</td>\n",
    "    <td>-</td>\n",
    "    <td>TCut object for background cut</td>\n",
    "</tr>\n",
    "\n",
    "<tr>\n",
    "    <td>SplitMode</td>\n",
    "    <td>no</td>\n",
    "    <td>Random</td>\n",
    "    <td>Random,\n",
    "Alternate,\n",
    "Block</td>\n",
    "    <td>Method of picking training and testing\n",
    "events</td>\n",
    "</tr>\n",
    "<tr>\n",
    "    <td>MixMode</td>\n",
    "    <td>no</td>\n",
    "    <td>SameAsSplitMode</td>\n",
    "    <td>SameAsSplitMode,\n",
    "Random,\n",
    "Alternate,\n",
    "Block</td>\n",
    "    <td>Method of mixing events of differnt\n",
    "classes into one dataset</td>\n",
    "</tr>\n",
    "<tr>\n",
    "    <td>SplitSeed</td>\n",
    "    <td>no</td>\n",
    "    <td>100</td>\n",
    "    <td>-</td>\n",
    "    <td>Seed for random event shuffling</td>\n",
    "</tr>\n",
    "<tr>\n",
    "    <td>NormMode</td>\n",
    "    <td>no</td>\n",
    "    <td>EqualNumEvents</td>\n",
    "    <td>None, NumEvents,\n",
    "EqualNumEvents</td>\n",
    "    <td>Overall renormalisation of event-by-event\n",
    "weights used in the training (NumEvents:\n",
    "average weight of 1 per\n",
    "event, independently for signal and\n",
    "background; EqualNumEvents: average\n",
    "weight of 1 per event for signal,\n",
    "and sum of weights for background\n",
    "equal to sum of weights for signal)</td>\n",
    "</tr>\n",
    "\n",
    "<tr>\n",
    "    <td>nTrain_Signal</td>\n",
    "    <td>no</td>\n",
    "    <td>0 (all)</td>\n",
    "    <td>-</td>\n",
    "    <td>Number of training events of class Signal</td>\n",
    "</tr>\n",
    "\n",
    "<tr>\n",
    "    <td>nTest_Signal</td>\n",
    "    <td>no</td>\n",
    "    <td>0 (all)</td>\n",
    "    <td>-</td>\n",
    "    <td>Number of test events of class Signal</td>\n",
    "</tr>\n",
    "\n",
    "<tr>\n",
    "    <td>nTrain_Background</td>\n",
    "    <td>no</td>\n",
    "    <td>0 (all)</td>\n",
    "    <td>-</td>\n",
    "    <td>Number of training events of class\n",
    "Background</td>\n",
    "</tr>\n",
    "\n",
    "<tr>\n",
    "    <td>nTest_Background </td>\n",
    "    <td>no</td>\n",
    "    <td>0 (all)</td>\n",
    "    <td>-</td>\n",
    "    <td>Number of test events of class Background</td>\n",
    "</tr>\n",
    "<tr>\n",
    "    <td>V</td>\n",
    "    <td>no</td>\n",
    "    <td>False</td>\n",
    "    <td>-</td>\n",
    "    <td>Verbosity</td>\n",
    "</tr>\n",
    "<tr>\n",
    "    <td>VerboseLevel</td>\n",
    "    <td>no</td>\n",
    "    <td>Info</td>\n",
    "    <td>Debug, Verbose,\n",
    "Info</td>\n",
    "    <td>Verbosity level</td>\n",
    "</tr>\n",
    "\n",
    "</table>"
   ]
  },
  {
   "cell_type": "code",
   "execution_count": null,
   "metadata": {
    "collapsed": false
   },
   "outputs": [],
   "source": [
    "mycuts = TCut(\"\")\n",
    "mycutb = TCut(\"\")\n",
    "\n",
    "loader.PrepareTrainingAndTestTree(SigCut=mycuts, BkgCut=mycutb,\n",
    "                    nTrain_Signal=0, nTrain_Background=0, SplitMode=\"Random\", NormMode=\"NumEvents\", V=False)"
   ]
  },
  {
   "cell_type": "markdown",
   "metadata": {},
   "source": [
    "## Booking methods"
   ]
  },
  {
   "cell_type": "markdown",
   "metadata": {},
   "source": [
    "To add which we want to train on dataset we have to use the Factory.BookMethod function. This method will add a method and it's options to Factory.\n",
    "\n",
    "Arguments:\n",
    "<table>\n",
    "\n",
    "<tr>\n",
    "    <th>Keyword</th>\n",
    "    <th>Can be used as positional argument</th>\n",
    "    <th>Default</th>\n",
    "    <th>Predefined values</th>\n",
    "    <th>Description</th>\n",
    "</tr>\n",
    "\n",
    "<tr>\n",
    "    <td>DataLoader</td>\n",
    "    <td>yes, 1.</td>\n",
    "    <td>-</td>\n",
    "    <td>-</td>\n",
    "    <td>Pointer to DataLoader object</td>\n",
    "</tr>\n",
    "\n",
    "<tr>\n",
    "    <td>Method</td>\n",
    "    <td>yes, 2.</td>\n",
    "    <td>-</td>\n",
    "    <td>     kVariable\n",
    "         kCuts           ,\n",
    "         kLikelihood     ,\n",
    "         kPDERS          ,\n",
    "         kHMatrix        ,\n",
    "         kFisher         ,\n",
    "         kKNN            ,\n",
    "         kCFMlpANN       ,\n",
    "         kTMlpANN        ,\n",
    "         kBDT            ,\n",
    "         kDT             ,\n",
    "         kRuleFit        ,\n",
    "         kSVM            ,\n",
    "         kMLP            ,\n",
    "         kBayesClassifier,\n",
    "         kFDA            ,\n",
    "         kBoost          ,\n",
    "         kPDEFoam        ,\n",
    "         kLD             ,\n",
    "         kPlugins        ,\n",
    "         kCategory       ,\n",
    "         kDNN            ,\n",
    "         kPyRandomForest ,\n",
    "         kPyAdaBoost     ,\n",
    "         kPyGTB          ,\n",
    "         kC50            ,\n",
    "         kRSNNS          ,\n",
    "         kRSVM           ,\n",
    "         kRXGB           ,\n",
    "         kMaxMethod</td>\n",
    "    <td>Selected method number, method numbers defined in TMVA.Types</td>\n",
    "</tr>\n",
    "<tr>\n",
    "    <td>MethodTitle</td>\n",
    "    <td>yes, 3.</td>\n",
    "    <td>-</td>\n",
    "    <td>-</td>\n",
    "    <td>Label for method</td>\n",
    "</tr>\n",
    "<tr>\n",
    "    <td> * </td>\n",
    "    <td> no </td>\n",
    "    <td>-</td>\n",
    "    <td>-</td>\n",
    "    <td> Other named arguments which are the options for selected method. </td>\n",
    "</tr>\n",
    "</table>"
   ]
  },
  {
   "cell_type": "code",
   "execution_count": null,
   "metadata": {
    "collapsed": false,
    "scrolled": false
   },
   "outputs": [],
   "source": [
    "factory.BookMethod( DataLoader=loader, Method=TMVA.Types.kMLP, MethodTitle=\"MLP\", \n",
    "        H=False, V=False, NeuronType=\"tanh\", VarTransform=\"N\", NCycles=600, HiddenLayers=\"N+5\",\n",
    "                   TestRate=5, UseRegulator=False )"
   ]
  },
  {
   "cell_type": "markdown",
   "metadata": {},
   "source": [
    "## Cross-validation"
   ]
  },
  {
   "cell_type": "markdown",
   "metadata": {},
   "source": [
    "If we want to do cross-validation, then we have to use the Factory.CrossValidation method. The arguments of this method are the following:"
   ]
  },
  {
   "cell_type": "markdown",
   "metadata": {},
   "source": [
    "\n",
    "<table>\n",
    "\n",
    "<tr>\n",
    "    <th>Keyword</th>\n",
    "    <th>Can be used as positional argument</th>\n",
    "    <th>Default</th>\n",
    "    <th>Predefined values</th>\n",
    "    <th>Description</th>\n",
    "</tr>\n",
    "\n",
    "\n",
    "<tr>\n",
    "    <td>DataLoader</td>\n",
    "    <td>yes, 1.</td>\n",
    "    <td>-</td>\n",
    "    <td>-</td>\n",
    "    <td>Pointer to DataLoader object</td>\n",
    "</tr>\n",
    "\n",
    "<tr>\n",
    "    <td>Method</td>\n",
    "    <td>yes, 2.</td>\n",
    "    <td>-</td>\n",
    "    <td>     kVariable\n",
    "         kCuts           ,\n",
    "         kLikelihood     ,\n",
    "         kPDERS          ,\n",
    "         kHMatrix        ,\n",
    "         kFisher         ,\n",
    "         kKNN            ,\n",
    "         kCFMlpANN       ,\n",
    "         kTMlpANN        ,\n",
    "         kBDT            ,\n",
    "         kDT             ,\n",
    "         kRuleFit        ,\n",
    "         kSVM            ,\n",
    "         kMLP            ,\n",
    "         kBayesClassifier,\n",
    "         kFDA            ,\n",
    "         kBoost          ,\n",
    "         kPDEFoam        ,\n",
    "         kLD             ,\n",
    "         kPlugins        ,\n",
    "         kCategory       ,\n",
    "         kDNN            ,\n",
    "         kPyRandomForest ,\n",
    "         kPyAdaBoost     ,\n",
    "         kPyGTB          ,\n",
    "         kC50            ,\n",
    "         kRSNNS          ,\n",
    "         kRSVM           ,\n",
    "         kRXGB           ,\n",
    "         kMaxMethod</td>\n",
    "    <td>Selected method number, method numbers defined in TMVA.Types</td>\n",
    "</tr>\n",
    "<tr>\n",
    "    <td>MethodTitle</td>\n",
    "    <td>yes, 3.</td>\n",
    "    <td>-</td>\n",
    "    <td>-</td>\n",
    "    <td>Label for method</td>\n",
    "</tr>\n",
    "\n",
    "<tr>\n",
    "    <td>V</td>\n",
    "    <td>no</td>\n",
    "    <td>False</td>\n",
    "    <td>-</td>\n",
    "    <td>Verbose</td>\n",
    "</tr>\n",
    "\n",
    "<tr>\n",
    "    <td>NTrees</td>\n",
    "    <td>no</td>\n",
    "    <td></td>\n",
    "    <td></td>\n",
    "    <td>NTrees</td>\n",
    "</tr>\n",
    "\n",
    "<tr>\n",
    "    <td>MinNodeSize</td>\n",
    "    <td>no</td>\n",
    "    <td></td>\n",
    "    <td></td>\n",
    "    <td>MinNodeSize</td>\n",
    "</tr>\n",
    "<tr>\n",
    "    <td>MaxDepth</td>\n",
    "    <td>no</td>\n",
    "    <td></td>\n",
    "    <td></td>\n",
    "    <td>MaxDepth</td>\n",
    "</tr>\n",
    "<tr>\n",
    "    <td>BoostType</td>\n",
    "    <td>no</td>\n",
    "    <td></td>\n",
    "    <td></td>\n",
    "    <td>BoostType</td>\n",
    "</tr>\n",
    "<tr>\n",
    "    <td>AdaBoostBeta</td>\n",
    "    <td>no</td>\n",
    "    <td></td>\n",
    "    <td></td>\n",
    "    <td>AdaBoostBeta</td>\n",
    "</tr>\n",
    "<tr>\n",
    "    <td>UseBaggedBoost</td>\n",
    "    <td>no</td>\n",
    "    <td></td>\n",
    "    <td></td>\n",
    "    <td>UseBaggedBoost</td>\n",
    "</tr>\n",
    "<tr>\n",
    "    <td>BaggedSampleFraction</td>\n",
    "    <td>no</td>\n",
    "    <td></td>\n",
    "    <td></td>\n",
    "    <td></td>\n",
    "</tr>\n",
    "<tr>\n",
    "    <td>SeparationType</td>\n",
    "    <td>no</td>\n",
    "    <td></td>\n",
    "    <td></td>\n",
    "    <td></td>\n",
    "</tr>\n",
    "<tr>\n",
    "    <td>nCuts</td>\n",
    "    <td>no</td>\n",
    "    <td></td>\n",
    "    <td></td>\n",
    "    <td>nCuts</td>\n",
    "</tr>\n",
    "<tr>\n",
    "    <td>optParams</td>\n",
    "    <td>no</td>\n",
    "    <td>False</td>\n",
    "    <td>-</td>\n",
    "    <td>optParams</td>\n",
    "</tr>\n",
    "<tr>\n",
    "    <td>NumFolds</td>\n",
    "    <td>no</td>\n",
    "    <td>5</td>\n",
    "    <td>-</td>\n",
    "    <td>NumFolds</td>\n",
    "</tr>\n",
    "\n",
    "<tr>\n",
    "    <td>remakeDataSet</td>\n",
    "    <td>no</td>\n",
    "    <td>True</td>\n",
    "    <td></td>\n",
    "    <td>remakeDataSet</td>\n",
    "</tr>\n",
    "\n",
    "<tr>\n",
    "    <td>rocIntegrals</td>\n",
    "    <td>no</td>\n",
    "    <td>[]</td>\n",
    "    <td></td>\n",
    "    <td>rocIntegrals</td>\n",
    "</tr>\n",
    "</table>"
   ]
  },
  {
   "cell_type": "code",
   "execution_count": null,
   "metadata": {
    "collapsed": false,
    "scrolled": false
   },
   "outputs": [],
   "source": [
    "factory.CrossValidate(DataLoader=loader, Method=TMVA.Types.kBDT, MethodTitle=\"BDT\",\n",
    "        V=False, NTrees=2, MinNodeSize=\"2.5%\", MaxDepth=1, BoostType=\"AdaBoost\", AdaBoostBeta=0.5,\n",
    "            UseBaggedBoost=False, BaggedSampleFraction=0.5, SeparationType=\"GiniIndex\", nCuts=2, \n",
    "            optParams=False);"
   ]
  },
  {
   "cell_type": "markdown",
   "metadata": {},
   "source": [
    "## Evaluate importance"
   ]
  },
  {
   "cell_type": "markdown",
   "metadata": {},
   "source": [
    "To calculate variable importance we can use Factory.EvaluateImportance function. The parameters of this function are the following:"
   ]
  },
  {
   "cell_type": "markdown",
   "metadata": {},
   "source": [
    "\n",
    "<table>\n",
    "\n",
    "<tr>\n",
    "    <th>Keyword</th>\n",
    "    <th>Can be used as positional argument</th>\n",
    "    <th>Default</th>\n",
    "    <th>Predefined values</th>\n",
    "    <th>Description</th>\n",
    "</tr>\n",
    "\n",
    "\n",
    "<tr>\n",
    "    <td>DataLoader</td>\n",
    "    <td>yes, 1.</td>\n",
    "    <td>-</td>\n",
    "    <td>-</td>\n",
    "    <td>Pointer to DataLoader object</td>\n",
    "</tr>\n",
    "<tr>\n",
    "    <td>VIType</td>\n",
    "    <td>yes, 2.</td>\n",
    "    <td>-</td>\n",
    "    <td>-</td>\n",
    "    <td>Variable Importance type</td>\n",
    "</tr>\n",
    "\n",
    "\n",
    "<tr>\n",
    "    <td>Method</td>\n",
    "    <td>yes, 3.</td>\n",
    "    <td>-</td>\n",
    "    <td>     kVariable\n",
    "         kCuts           ,\n",
    "         kLikelihood     ,\n",
    "         kPDERS          ,\n",
    "         kHMatrix        ,\n",
    "         kFisher         ,\n",
    "         kKNN            ,\n",
    "         kCFMlpANN       ,\n",
    "         kTMlpANN        ,\n",
    "         kBDT            ,\n",
    "         kDT             ,\n",
    "         kRuleFit        ,\n",
    "         kSVM            ,\n",
    "         kMLP            ,\n",
    "         kBayesClassifier,\n",
    "         kFDA            ,\n",
    "         kBoost          ,\n",
    "         kPDEFoam        ,\n",
    "         kLD             ,\n",
    "         kPlugins        ,\n",
    "         kCategory       ,\n",
    "         kDNN            ,\n",
    "         kPyRandomForest ,\n",
    "         kPyAdaBoost     ,\n",
    "         kPyGTB          ,\n",
    "         kC50            ,\n",
    "         kRSNNS          ,\n",
    "         kRSVM           ,\n",
    "         kRXGB           ,\n",
    "         kMaxMethod</td>\n",
    "    <td>Selected method number, method numbers defined in TMVA.Types</td>\n",
    "</tr>\n",
    "<tr>\n",
    "    <td>MethodTitle</td>\n",
    "    <td>yes, 4.</td>\n",
    "    <td>-</td>\n",
    "    <td>-</td>\n",
    "    <td>Label for method</td>\n",
    "</tr>\n",
    "\n",
    "<tr>\n",
    "    <td>V</td>\n",
    "    <td>no</td>\n",
    "    <td>False</td>\n",
    "    <td>-</td>\n",
    "    <td>Verbose</td>\n",
    "</tr>\n",
    "\n",
    "<tr>\n",
    "    <td>NTrees</td>\n",
    "    <td>no</td>\n",
    "    <td></td>\n",
    "    <td></td>\n",
    "    <td>NTrees</td>\n",
    "</tr>\n",
    "\n",
    "<tr>\n",
    "    <td>MinNodeSize</td>\n",
    "    <td>no</td>\n",
    "    <td></td>\n",
    "    <td></td>\n",
    "    <td>MinNodeSize</td>\n",
    "</tr>\n",
    "<tr>\n",
    "    <td>MaxDepth</td>\n",
    "    <td>no</td>\n",
    "    <td></td>\n",
    "    <td></td>\n",
    "    <td>MaxDepth</td>\n",
    "</tr>\n",
    "<tr>\n",
    "    <td>BoostType</td>\n",
    "    <td>no</td>\n",
    "    <td></td>\n",
    "    <td></td>\n",
    "    <td>BoostType</td>\n",
    "</tr>\n",
    "<tr>\n",
    "    <td>AdaBoostBeta</td>\n",
    "    <td>no</td>\n",
    "    <td></td>\n",
    "    <td></td>\n",
    "    <td>AdaBoostBeta</td>\n",
    "</tr>\n",
    "<tr>\n",
    "    <td>UseBaggedBoost</td>\n",
    "    <td>no</td>\n",
    "    <td></td>\n",
    "    <td></td>\n",
    "    <td>UseBaggedBoost</td>\n",
    "</tr>\n",
    "<tr>\n",
    "    <td>BaggedSampleFraction</td>\n",
    "    <td>no</td>\n",
    "    <td></td>\n",
    "    <td></td>\n",
    "    <td></td>\n",
    "</tr>\n",
    "<tr>\n",
    "    <td>SeparationType</td>\n",
    "    <td>no</td>\n",
    "    <td></td>\n",
    "    <td></td>\n",
    "    <td></td>\n",
    "</tr>\n",
    "<tr>\n",
    "    <td>nCuts</td>\n",
    "    <td>no</td>\n",
    "    <td></td>\n",
    "    <td></td>\n",
    "    <td>nCuts</td>\n",
    "</tr>\n",
    "</table>"
   ]
  },
  {
   "cell_type": "code",
   "execution_count": null,
   "metadata": {
    "collapsed": false,
    "scrolled": false
   },
   "outputs": [],
   "source": [
    "factory.EvaluateImportance(DataLoader=loader,VIType=0, Method=TMVA.Types.kBDT, MethodTitle=\"BDT\",\n",
    "            V=False,NTrees=5, MinNodeSize=\"2.5%\",MaxDepth=2, BoostType=\"AdaBoost\", AdaBoostBeta=0.5, \n",
    "            UseBaggedBoost=True, BaggedSampleFraction=0.5, SeparationType=\"GiniIndex\", nCuts=20 );"
   ]
  },
  {
   "cell_type": "code",
   "execution_count": null,
   "metadata": {
    "collapsed": true
   },
   "outputs": [],
   "source": []
  }
 ],
 "metadata": {
  "kernelspec": {
   "display_name": "Python 2",
   "language": "python",
   "name": "python2"
  },
  "language_info": {
   "codemirror_mode": {
    "name": "ipython",
    "version": 2
   },
   "file_extension": ".py",
   "mimetype": "text/x-python",
   "name": "python",
   "nbconvert_exporter": "python",
   "pygments_lexer": "ipython2",
   "version": "2.7.11"
  }
 },
 "nbformat": 4,
 "nbformat_minor": 0
}
