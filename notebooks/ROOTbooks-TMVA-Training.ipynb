{
 "cells": [
  {
   "cell_type": "markdown",
   "metadata": {},
   "source": [
    "<div>\n",
    "    <div style=\"float:left;\">\n",
    "        <img src=\"http://oproject.org/tiki-download_file.php?fileId=8&display&x=450&y=128\" width=\"50%\" />\n",
    "    </div>\n",
    "    <div style=\"float:left;\">\n",
    "        <img src=\"http://gfif.udea.edu.co/root/tmva/img/tmva_logo.gif\" width=\"50%\"/>\n",
    "    </div>\n",
    "</div>"
   ]
  },
  {
   "cell_type": "markdown",
   "metadata": {},
   "source": [
    "#  Book DNN, Training methods\n",
    "<hr style=\"border-top-width: 4px; border-top-color: #34609b;\">"
   ]
  },
  {
   "cell_type": "markdown",
   "metadata": {},
   "source": [
    "<!--<script src=\"JsRoot/scripts/JSRootCore.js?jq2d&onload=JsRootLoadedCall\" type=\"text/javascript\"></script>-->"
   ]
  },
  {
   "cell_type": "code",
   "execution_count": 1,
   "metadata": {
    "collapsed": false
   },
   "outputs": [
    {
     "data": {
      "application/javascript": [
       "\n",
       "require(['notebook'],\n",
       "  function() {\n",
       "    IPython.CodeCell.config_defaults.highlight_modes['magic_text/x-c++src'] = {'reg':[/^%%cpp/]};\n",
       "    console.log(\"JupyROOT - %%cpp magic configured\");\n",
       "  }\n",
       ");\n"
      ]
     },
     "metadata": {},
     "output_type": "display_data"
    },
    {
     "name": "stdout",
     "output_type": "stream",
     "text": [
      "Welcome to JupyROOT 6.07/07\n"
     ]
    }
   ],
   "source": [
    "import ROOT\n",
    "from ROOT import TFile, TMVA, TCut"
   ]
  },
  {
   "cell_type": "markdown",
   "metadata": {},
   "source": [
    "## Enable JS visualization"
   ]
  },
  {
   "cell_type": "code",
   "execution_count": 2,
   "metadata": {
    "collapsed": false
   },
   "outputs": [
    {
     "data": {
      "text/html": [
       "\n",
       "<script type=\"text/javascript\">\n",
       "    require.config({\n",
       "        paths: {\n",
       "            'JsMVA':'https://rawgit.com/qati/GSOC16/master/src/js/JsMVA.min'\n",
       "        }\n",
       "    });\n",
       "</script>\n"
      ],
      "text/plain": [
       "<IPython.core.display.HTML object>"
      ]
     },
     "metadata": {},
     "output_type": "display_data"
    },
    {
     "data": {
      "text/html": [
       "<link rel=\"stylesheet\" href=\"https://rawgit.com/qati/GSOC16/master/src/css/TMVAHTMLOutput.min.css\"></link>"
      ],
      "text/plain": [
       "<IPython.core.display.HTML object>"
      ]
     },
     "metadata": {},
     "output_type": "display_data"
    },
    {
     "data": {
      "text/html": [
       "<table class='tmva_output_table'></table>"
      ],
      "text/plain": [
       "<IPython.core.display.HTML object>"
      ]
     },
     "metadata": {},
     "output_type": "display_data"
    },
    {
     "data": {
      "text/html": [],
      "text/plain": [
       "<IPython.core.display.HTML object>"
      ]
     },
     "metadata": {},
     "output_type": "display_data"
    }
   ],
   "source": [
    "%jsmva on"
   ]
  },
  {
   "cell_type": "markdown",
   "metadata": {
    "collapsed": false
   },
   "source": [
    "## Declarations, building training and testing trees "
   ]
  },
  {
   "cell_type": "markdown",
   "metadata": {},
   "source": [
    "<b>For more details please see <a href=\"ROOTbooks-TMVA-JsMVA-UserInterface.ipynb\">this</a> notebook.</b>"
   ]
  },
  {
   "cell_type": "code",
   "execution_count": 3,
   "metadata": {
    "collapsed": false
   },
   "outputs": [
    {
     "data": {
      "text/html": [
       "<table class='tmva_output_table'><tbody class='tmva_output_tbody_multiple_row'><tr><td rowspan='2' class='tmva_output_header'>DataSetInfo             </td><td><table class='tmva_output_dataset'><tbody><tr><td rowspan='1'>Dataset: tmva_class_example</td><td>Added class \"Signal\"</td><td class='tmva_output_hidden_td'></td></tr></tbody></table></td></tr><tr><td>Add Tree TreeS of type Signal with 6000 events</td></tr></tbody><tbody class='tmva_output_tbody_multiple_row'><tr><td rowspan='2' class='tmva_output_header'>DataSetInfo             </td><td><table class='tmva_output_dataset'><tbody><tr><td rowspan='1'>Dataset: tmva_class_example</td><td>Added class \"Background\"</td><td class='tmva_output_hidden_td'></td></tr></tbody></table></td></tr><tr><td>Add Tree TreeB of type Background with 6000 events</td></tr></tbody></table>"
      ],
      "text/plain": [
       "<IPython.core.display.HTML object>"
      ]
     },
     "metadata": {},
     "output_type": "display_data"
    },
    {
     "data": {
      "text/html": [],
      "text/plain": [
       "<IPython.core.display.HTML object>"
      ]
     },
     "metadata": {},
     "output_type": "display_data"
    }
   ],
   "source": [
    "outputFile = TFile( \"TMVA.root\", 'RECREATE' )\n",
    "\n",
    "TMVA.Tools.Instance()\n",
    "\n",
    "factory = TMVA.Factory(JobName=\"TMVAClassification\", TargetFile=outputFile,\n",
    "            V=False, Color=True, DrawProgressBar=True, Transformations=[\"I\", \"D\", \"P\", \"G\",\"D\"],\n",
    "                       AnalysisType=\"Classification\")\n",
    "\n",
    "dataset = \"tmva_class_example\"\n",
    "loader  = TMVA.DataLoader(dataset)\n",
    "\n",
    "loader.AddVariable( \"myvar1 := var1+var2\", 'F' )\n",
    "loader.AddVariable( \"myvar2 := var1-var2\", \"Expression 2\", 'F' )\n",
    "loader.AddVariable( \"var3\",                \"Variable 3\", 'F' )\n",
    "loader.AddVariable( \"var4\",                \"Variable 4\", 'F' )\n",
    "\n",
    "loader.AddSpectator( \"spec1:=var1*2\",  \"Spectator 1\",  'F' )\n",
    "loader.AddSpectator( \"spec2:=var1*3\",  \"Spectator 2\",  'F' )\n",
    "\n",
    "if ROOT.gSystem.AccessPathName( \"./tmva_class_example.root\" ) != 0: \n",
    "    ROOT.gSystem.Exec( \"wget https://root.cern.ch/files/tmva_class_example.root\")\n",
    "    \n",
    "input = TFile.Open( \"./tmva_class_example.root\" )\n",
    "\n",
    "# Get the signal and background trees for training\n",
    "signal      = input.Get( \"TreeS\" )\n",
    "background  = input.Get( \"TreeB\" )\n",
    "    \n",
    "# Global event weights (see below for setting event-wise weights)\n",
    "signalWeight     = 1.0\n",
    "backgroundWeight = 1.0\n",
    "\n",
    "mycuts = TCut(\"\")\n",
    "mycutb = TCut(\"\")\n",
    "\n",
    "loader.AddSignalTree(signal, signalWeight)\n",
    "loader.AddBackgroundTree(background, backgroundWeight)\n",
    "loader.fSignalWeight = signalWeight\n",
    "loader.fBackgroundWeight = backgroundWeight\n",
    "loader.fTreeS = signal\n",
    "loader.fTreeB = background\n",
    "\n",
    "loader.PrepareTrainingAndTestTree(SigCut=mycuts, BkgCut=mycutb,\n",
    "            nTrain_Signal=0, nTrain_Background=0, SplitMode=\"Random\", NormMode=\"NumEvents\", V=False)"
   ]
  },
  {
   "cell_type": "markdown",
   "metadata": {},
   "source": [
    "## Booking methods"
   ]
  },
  {
   "cell_type": "markdown",
   "metadata": {},
   "source": [
    "The booking of a method can be done as the notebook refered before shows. The new feature introduced here is how we can pass the training strategy when we want to book DNN. Instead of a long strategy string, we can create a list, containing dictionaries, which contain the options for the corresponding layer."
   ]
  },
  {
   "cell_type": "code",
   "execution_count": 4,
   "metadata": {
    "collapsed": false,
    "scrolled": false
   },
   "outputs": [
    {
     "data": {
      "text/plain": [
       "<ROOT.TMVA::MethodBDT object (\"BDT\") at 0x6260870>"
      ]
     },
     "execution_count": 4,
     "metadata": {},
     "output_type": "execute_result"
    },
    {
     "data": {
      "text/html": [
       "<table class='tmva_output_table'><tbody class='tmva_output_tbody_multiple_row'><tr><td rowspan='8' class='tmva_output_header'>Factory                 </td><td>Booking method: <b> Cuts</b></td></tr><tr></tr><tr><td>Use optimization method: \"Monte Carlo\"</td></tr><tr><td>Use efficiency computation method: \"Event Selection\"</td></tr><tr><td>Use \"FSmart\" cuts for variable: 'myvar1'</td></tr><tr><td>Use \"FSmart\" cuts for variable: 'myvar2'</td></tr><tr><td>Use \"FSmart\" cuts for variable: 'var3'</td></tr><tr><td>Use \"FSmart\" cuts for variable: 'var4'</td></tr></tbody><tbody class='tmva_output_tbody_multiple_row'><tr><td rowspan='2' class='tmva_output_header'>Factory                 </td><td>Booking method: <b> SVM</b></td></tr><tr></tr></tbody><tbody><tr><td rowspan='1' class='tmva_output_header'>SVM                     </td><td><table class='tmva_output_dataset'><tbody class='tmva_output_tbody_multiple_row'><tr><td rowspan='2'>Dataset: tmva_class_example</td><td>Create Transformation \"Norm\" with events from all classes.</td><td class='tmva_output_hidden_td'></td></tr></tbody></table></td></tr></tbody><tbody class='tmva_output_tbody_multiple_row'><tr><td rowspan='5' class='tmva_output_header'>Norm                    </td><td>Transformation, Variable selection : </td></tr><tr><td>Input : variable 'myvar1' <---> Output : variable 'myvar1'</td></tr><tr><td>Input : variable 'myvar2' <---> Output : variable 'myvar2'</td></tr><tr><td>Input : variable 'var3' <---> Output : variable 'var3'</td></tr><tr><td>Input : variable 'var4' <---> Output : variable 'var4'</td></tr></tbody><tbody class='tmva_output_tbody_multiple_row'><tr><td rowspan='2' class='tmva_output_header'>Factory                 </td><td>Booking method: <b> MLP</b></td></tr><tr></tr></tbody><tbody><tr><td rowspan='1' class='tmva_output_header'>MLP                     </td><td><table class='tmva_output_dataset'><tbody class='tmva_output_tbody_multiple_row'><tr><td rowspan='2'>Dataset: tmva_class_example</td><td>Create Transformation \"N\" with events from all classes.</td><td class='tmva_output_hidden_td'></td></tr></tbody></table></td></tr></tbody><tbody class='tmva_output_tbody_multiple_row'><tr><td rowspan='5' class='tmva_output_header'>Norm                    </td><td>Transformation, Variable selection : </td></tr><tr><td>Input : variable 'myvar1' <---> Output : variable 'myvar1'</td></tr><tr><td>Input : variable 'myvar2' <---> Output : variable 'myvar2'</td></tr><tr><td>Input : variable 'var3' <---> Output : variable 'var3'</td></tr><tr><td>Input : variable 'var4' <---> Output : variable 'var4'</td></tr></tbody><tbody class='tmva_output_tbody_multiple_row'><tr><td rowspan='2' class='tmva_output_header'>MLP                     </td><td>Building Network. </td></tr><tr><td>Initializing weights</td></tr></tbody><tbody class='tmva_output_tbody_multiple_row'><tr><td rowspan='2' class='tmva_output_header'>Factory                 </td><td>Booking method: <b> LD</b></td></tr><tr></tr></tbody><tbody class='tmva_output_tbody_multiple_row'><tr><td rowspan='2' class='tmva_output_header'>DataSetFactory          </td><td><table class='tmva_output_dataset'><tbody><tr><td rowspan='1'>Dataset: tmva_class_example</td><td>Number of events in input trees</td><td class='tmva_output_hidden_td'></td></tr></tbody></table></td></tr><tr><td><table class='tmva_output_traintestevents'><tr><td colspan='3'><center><b>Number of training and testing events</b></center></td></tr><tr><td rowspan='3'>Signal</td><td>training events</td><td>3000</td><td class='tmva_output_hidden_td'></td></tr><tr><td>testing events</td><td>3000</td><td class='tmva_output_hidden_td'></td></tr><tr><td>training and testing events</td><td>6000</td><td class='tmva_output_hidden_td'></td></tr><tr><td rowspan='3'>Background</td><td>training events</td><td>3000</td><td class='tmva_output_hidden_td'></td></tr><tr><td>testing events</td><td>3000</td><td class='tmva_output_hidden_td'></td></tr><tr><td>training and testing events</td><td>6000</td><td class='tmva_output_hidden_td'></td></tr></table></td></tr></tbody><tbody><tr><td rowspan='1' class='tmva_output_header'>DataSetInfo             </td><div id='jsmva_outputtansformer_events_0_onclick' style='display: none; width: 600px; height:350'>{  \"_typename\" : \"TH2D\",  \"fUniqueID\" : 0,  \"fBits\" : 50332168,  \"fName\" : \"TMatrixDBase\",  \"fTitle\" : \"Correlation matrix (Signal)\",  \"fLineColor\" : 602,  \"fLineStyle\" : 1,  \"fLineWidth\" : 3,  \"fFillColor\" : 0,  \"fFillStyle\" : 1001,  \"fMarkerColor\" : 0,  \"fMarkerStyle\" : 8,  \"fMarkerSize\" : 1.500000e+00,  \"fNcells\" : 36,  \"fXaxis\" : {    \"_typename\" : \"TAxis\",    \"fUniqueID\" : 0,    \"fBits\" : 51380232,    \"fName\" : \"xaxis\",    \"fTitle\" : \"\",    \"fNdivisions\" : 510,    \"fAxisColor\" : 1,    \"fLabelColor\" : 1,    \"fLabelFont\" : 42,    \"fLabelOffset\" : 1.100000e-02,    \"fLabelSize\" : 4.000000e-02,    \"fTickLength\" : 3.000000e-02,    \"fTitleOffset\" : 1,    \"fTitleSize\" : 3.500000e-02,    \"fTitleColor\" : 1,    \"fTitleFont\" : 42,    \"fNbins\" : 4,    \"fXmin\" : 0,    \"fXmax\" : 4,    \"fXbins\" : [],    \"fFirst\" : 0,    \"fLast\" : 0,    \"fBits2\" : 3,    \"fTimeDisplay\" : false,    \"fTimeFormat\" : \"\",    \"fLabels\" : {      \"_typename\" : \"THashList\",      \"name\" : \"THashList\",      \"arr\" : [{        \"_typename\" : \"TObjString\",        \"fUniqueID\" : 1,        \"fBits\" : 50331648,        \"fString\" : \"var1+var2\"      }, {        \"_typename\" : \"TObjString\",        \"fUniqueID\" : 2,        \"fBits\" : 50331648,        \"fString\" : \"var1-var2\"      }, {        \"_typename\" : \"TObjString\",        \"fUniqueID\" : 3,        \"fBits\" : 50331648,        \"fString\" : \"var3\"      }, {        \"_typename\" : \"TObjString\",        \"fUniqueID\" : 4,        \"fBits\" : 50331648,        \"fString\" : \"var4\"      }],      \"opt\" : [\"\", \"\", \"\", \"\"]    }  },  \"fYaxis\" : {    \"_typename\" : \"TAxis\",    \"fUniqueID\" : 0,    \"fBits\" : 50331656,    \"fName\" : \"yaxis\",    \"fTitle\" : \"\",    \"fNdivisions\" : 510,    \"fAxisColor\" : 1,    \"fLabelColor\" : 1,    \"fLabelFont\" : 42,    \"fLabelOffset\" : 5.000000e-03,    \"fLabelSize\" : 4.000000e-02,    \"fTickLength\" : 3.000000e-02,    \"fTitleOffset\" : 1,    \"fTitleSize\" : 3.500000e-02,    \"fTitleColor\" : 1,    \"fTitleFont\" : 42,    \"fNbins\" : 4,    \"fXmin\" : 0,    \"fXmax\" : 4,    \"fXbins\" : [],    \"fFirst\" : 0,    \"fLast\" : 0,    \"fBits2\" : 3,    \"fTimeDisplay\" : false,    \"fTimeFormat\" : \"\",    \"fLabels\" : {      \"_typename\" : \"THashList\",      \"name\" : \"THashList\",      \"arr\" : [{        \"_typename\" : \"TObjString\",        \"fUniqueID\" : 1,        \"fBits\" : 50331648,        \"fString\" : \"var1+var2\"      }, {        \"_typename\" : \"TObjString\",        \"fUniqueID\" : 2,        \"fBits\" : 50331648,        \"fString\" : \"var1-var2\"      }, {        \"_typename\" : \"TObjString\",        \"fUniqueID\" : 3,        \"fBits\" : 50331648,        \"fString\" : \"var3\"      }, {        \"_typename\" : \"TObjString\",        \"fUniqueID\" : 4,        \"fBits\" : 50331648,        \"fString\" : \"var4\"      }],      \"opt\" : [\"\", \"\", \"\", \"\"]    }  },  \"fZaxis\" : {    \"_typename\" : \"TAxis\",    \"fUniqueID\" : 0,    \"fBits\" : 50331648,    \"fName\" : \"zaxis\",    \"fTitle\" : \"\",    \"fNdivisions\" : 510,    \"fAxisColor\" : 1,    \"fLabelColor\" : 1,    \"fLabelFont\" : 42,    \"fLabelOffset\" : 5.000000e-03,    \"fLabelSize\" : 3.500000e-02,    \"fTickLength\" : 3.000000e-02,    \"fTitleOffset\" : 1,    \"fTitleSize\" : 3.500000e-02,    \"fTitleColor\" : 1,    \"fTitleFont\" : 42,    \"fNbins\" : 1,    \"fXmin\" : 0,    \"fXmax\" : 1,    \"fXbins\" : [],    \"fFirst\" : 0,    \"fLast\" : 0,    \"fBits2\" : 0,    \"fTimeDisplay\" : false,    \"fTimeFormat\" : \"\",    \"fLabels\" : null  },  \"fBarOffset\" : 0,  \"fBarWidth\" : 1000,  \"fEntries\" : 32,  \"fTsumw\" : 0,  \"fTsumw2\" : 0,  \"fTsumwx\" : 0,  \"fTsumwx2\" : 0,  \"fMaximum\" : 100,  \"fMinimum\" : -100,  \"fNormFactor\" : 0,  \"fContour\" : [],  \"fSumw2\" : [],  \"fOption\" : \"\",  \"fFunctions\" : {    \"_typename\" : \"TList\",    \"name\" : \"TList\",    \"arr\" : [],    \"opt\" : []  },  \"fBufferSize\" : 0,  \"fBuffer\" : [],  \"fBinStatErrOpt\" : 0,  \"fScalefactor\" : 1,  \"fTsumwy\" : 0,  \"fTsumwy2\" : 0,  \"fTsumwxy\" : 0,  \"fArray\" : [0, 0, 0, 0, 0, 0, 0, 100, 0, 77, 92, 0, 0, 0, 100, -9, 6, 0, 0, 77, -9, 100, 85, 0, 0, 92, 6, 85, 100, 0, 0, 0, 0, 0, 0, 0]}</div><td><a onclick=\"require(['JsMVA'],function(jsmva){jsmva.outputShowCorrelationMatrix('jsmva_outputtansformer_events_0_onclick');});\" class='tmva_output_corrmat_link'>Correlation matrix (Signal)</a></td></tr></tbody><tbody><tr><td rowspan='1' class='tmva_output_header'>DataSetInfo             </td><div id='jsmva_outputtansformer_events_1_onclick' style='display: none; width: 600px; height:350'>{  \"_typename\" : \"TH2D\",  \"fUniqueID\" : 0,  \"fBits\" : 50332168,  \"fName\" : \"TMatrixDBase\",  \"fTitle\" : \"Correlation matrix (Background)\",  \"fLineColor\" : 602,  \"fLineStyle\" : 1,  \"fLineWidth\" : 3,  \"fFillColor\" : 0,  \"fFillStyle\" : 1001,  \"fMarkerColor\" : 0,  \"fMarkerStyle\" : 8,  \"fMarkerSize\" : 1.500000e+00,  \"fNcells\" : 36,  \"fXaxis\" : {    \"_typename\" : \"TAxis\",    \"fUniqueID\" : 0,    \"fBits\" : 51380232,    \"fName\" : \"xaxis\",    \"fTitle\" : \"\",    \"fNdivisions\" : 510,    \"fAxisColor\" : 1,    \"fLabelColor\" : 1,    \"fLabelFont\" : 42,    \"fLabelOffset\" : 1.100000e-02,    \"fLabelSize\" : 4.000000e-02,    \"fTickLength\" : 3.000000e-02,    \"fTitleOffset\" : 1,    \"fTitleSize\" : 3.500000e-02,    \"fTitleColor\" : 1,    \"fTitleFont\" : 42,    \"fNbins\" : 4,    \"fXmin\" : 0,    \"fXmax\" : 4,    \"fXbins\" : [],    \"fFirst\" : 0,    \"fLast\" : 0,    \"fBits2\" : 3,    \"fTimeDisplay\" : false,    \"fTimeFormat\" : \"\",    \"fLabels\" : {      \"_typename\" : \"THashList\",      \"name\" : \"THashList\",      \"arr\" : [{        \"_typename\" : \"TObjString\",        \"fUniqueID\" : 1,        \"fBits\" : 50331648,        \"fString\" : \"var1+var2\"      }, {        \"_typename\" : \"TObjString\",        \"fUniqueID\" : 2,        \"fBits\" : 50331648,        \"fString\" : \"var1-var2\"      }, {        \"_typename\" : \"TObjString\",        \"fUniqueID\" : 3,        \"fBits\" : 50331648,        \"fString\" : \"var3\"      }, {        \"_typename\" : \"TObjString\",        \"fUniqueID\" : 4,        \"fBits\" : 50331648,        \"fString\" : \"var4\"      }],      \"opt\" : [\"\", \"\", \"\", \"\"]    }  },  \"fYaxis\" : {    \"_typename\" : \"TAxis\",    \"fUniqueID\" : 0,    \"fBits\" : 50331656,    \"fName\" : \"yaxis\",    \"fTitle\" : \"\",    \"fNdivisions\" : 510,    \"fAxisColor\" : 1,    \"fLabelColor\" : 1,    \"fLabelFont\" : 42,    \"fLabelOffset\" : 5.000000e-03,    \"fLabelSize\" : 4.000000e-02,    \"fTickLength\" : 3.000000e-02,    \"fTitleOffset\" : 1,    \"fTitleSize\" : 3.500000e-02,    \"fTitleColor\" : 1,    \"fTitleFont\" : 42,    \"fNbins\" : 4,    \"fXmin\" : 0,    \"fXmax\" : 4,    \"fXbins\" : [],    \"fFirst\" : 0,    \"fLast\" : 0,    \"fBits2\" : 3,    \"fTimeDisplay\" : false,    \"fTimeFormat\" : \"\",    \"fLabels\" : {      \"_typename\" : \"THashList\",      \"name\" : \"THashList\",      \"arr\" : [{        \"_typename\" : \"TObjString\",        \"fUniqueID\" : 1,        \"fBits\" : 50331648,        \"fString\" : \"var1+var2\"      }, {        \"_typename\" : \"TObjString\",        \"fUniqueID\" : 2,        \"fBits\" : 50331648,        \"fString\" : \"var1-var2\"      }, {        \"_typename\" : \"TObjString\",        \"fUniqueID\" : 3,        \"fBits\" : 50331648,        \"fString\" : \"var3\"      }, {        \"_typename\" : \"TObjString\",        \"fUniqueID\" : 4,        \"fBits\" : 50331648,        \"fString\" : \"var4\"      }],      \"opt\" : [\"\", \"\", \"\", \"\"]    }  },  \"fZaxis\" : {    \"_typename\" : \"TAxis\",    \"fUniqueID\" : 0,    \"fBits\" : 50331648,    \"fName\" : \"zaxis\",    \"fTitle\" : \"\",    \"fNdivisions\" : 510,    \"fAxisColor\" : 1,    \"fLabelColor\" : 1,    \"fLabelFont\" : 42,    \"fLabelOffset\" : 5.000000e-03,    \"fLabelSize\" : 3.500000e-02,    \"fTickLength\" : 3.000000e-02,    \"fTitleOffset\" : 1,    \"fTitleSize\" : 3.500000e-02,    \"fTitleColor\" : 1,    \"fTitleFont\" : 42,    \"fNbins\" : 1,    \"fXmin\" : 0,    \"fXmax\" : 1,    \"fXbins\" : [],    \"fFirst\" : 0,    \"fLast\" : 0,    \"fBits2\" : 0,    \"fTimeDisplay\" : false,    \"fTimeFormat\" : \"\",    \"fLabels\" : null  },  \"fBarOffset\" : 0,  \"fBarWidth\" : 1000,  \"fEntries\" : 32,  \"fTsumw\" : 0,  \"fTsumw2\" : 0,  \"fTsumwx\" : 0,  \"fTsumwx2\" : 0,  \"fMaximum\" : 100,  \"fMinimum\" : -100,  \"fNormFactor\" : 0,  \"fContour\" : [],  \"fSumw2\" : [],  \"fOption\" : \"\",  \"fFunctions\" : {    \"_typename\" : \"TList\",    \"name\" : \"TList\",    \"arr\" : [],    \"opt\" : []  },  \"fBufferSize\" : 0,  \"fBuffer\" : [],  \"fBinStatErrOpt\" : 0,  \"fScalefactor\" : 1,  \"fTsumwy\" : 0,  \"fTsumwy2\" : 0,  \"fTsumwxy\" : 0,  \"fArray\" : [0, 0, 0, 0, 0, 0, 0, 100, 17, 95, 98, 0, 0, 17, 100, 13, 21, 0, 0, 95, 13, 100, 97, 0, 0, 98, 21, 97, 100, 0, 0, 0, 0, 0, 0, 0]}</div><td><a onclick=\"require(['JsMVA'],function(jsmva){jsmva.outputShowCorrelationMatrix('jsmva_outputtansformer_events_1_onclick');});\" class='tmva_output_corrmat_link'>Correlation matrix (Background)</a></td></tr></tbody><tbody><tr><td rowspan='1' class='tmva_output_header'>DataSetFactory          </td><td><table class='tmva_output_dataset'><tbody class='tmva_output_tbody_multiple_row'><tr><td rowspan='2'>Dataset: tmva_class_example</td><td class='tmva_output_hidden_td'></td></tr></tbody></table></td></tr></tbody><tbody class='tmva_output_tbody_multiple_row'><tr><td rowspan='2' class='tmva_output_header'>Factory                 </td><td>Booking method: <b> DNN</b></td></tr><tr></tr></tbody><tbody><tr><td rowspan='1' class='tmva_output_header'>DNN                     </td><td><table class='tmva_output_dataset'><tbody class='tmva_output_tbody_multiple_row'><tr><td rowspan='2'>Dataset: tmva_class_example</td><td>Create Transformation \"Normalize\" with events from all classes.</td><td class='tmva_output_hidden_td'></td></tr></tbody></table></td></tr></tbody><tbody class='tmva_output_tbody_multiple_row'><tr><td rowspan='5' class='tmva_output_header'>Norm                    </td><td>Transformation, Variable selection : </td></tr><tr><td>Input : variable 'myvar1' <---> Output : variable 'myvar1'</td></tr><tr><td>Input : variable 'myvar2' <---> Output : variable 'myvar2'</td></tr><tr><td>Input : variable 'var3' <---> Output : variable 'var3'</td></tr><tr><td>Input : variable 'var4' <---> Output : variable 'var4'</td></tr></tbody><tbody class='tmva_output_tbody_multiple_row'><tr><td rowspan='2' class='tmva_output_header'>Factory                 </td><td>Booking method: <b> Likelihood</b></td></tr><tr></tr></tbody><tbody class='tmva_output_tbody_multiple_row'><tr><td rowspan='2' class='tmva_output_header'>Factory                 </td><td>Booking method: <b> BDT</b></td></tr><tr></tr></tbody></table>"
      ],
      "text/plain": [
       "<IPython.core.display.HTML object>"
      ]
     },
     "metadata": {},
     "output_type": "display_data"
    },
    {
     "data": {
      "text/html": [],
      "text/plain": [
       "<IPython.core.display.HTML object>"
      ]
     },
     "metadata": {},
     "output_type": "display_data"
    }
   ],
   "source": [
    "factory.BookMethod( DataLoader=loader, Method=TMVA.Types.kCuts, MethodTitle=\"Cuts\",\n",
    "                    H=False, V=False, FitMethod=\"MC\", EffSel=True, SampleSize=200000, VarProp=\"FSmart\" )\n",
    "\n",
    "factory.BookMethod( DataLoader=loader, Method=TMVA.Types.kSVM, MethodTitle=\"SVM\", \n",
    "                    Gamma=0.25, Tol=0.001, VarTransform=\"Norm\" )\n",
    "\n",
    "factory.BookMethod( DataLoader=loader, Method=TMVA.Types.kMLP, MethodTitle=\"MLP\", \n",
    "                    H=False, V=False, NeuronType=\"tanh\", VarTransform=\"N\", NCycles=600, HiddenLayers=\"N+5\",\n",
    "                    TestRate=5, UseRegulator=False )\n",
    "\n",
    "factory.BookMethod( DataLoader=loader, Method=TMVA.Types.kLD, MethodTitle=\"LD\", \n",
    "                    H=False, V=False, VarTransform=\"None\", CreateMVAPdfs=True, PDFInterpolMVAPdf=\"Spline2\",\n",
    "                    NbinsMVAPdf=50, NsmoothMVAPdf=10 )\n",
    "\n",
    "trainingStrategy = [{\n",
    "        \"LearningRate\": 1e-1,\n",
    "        \"Momentum\": 0.0,\n",
    "        \"Repetitions\": 1,\n",
    "        \"ConvergenceSteps\": 300,\n",
    "        \"BatchSize\": 20,\n",
    "        \"TestRepetitions\": 15,\n",
    "        \"WeightDecay\": 0.001,\n",
    "        \"Regularization\": \"NONE\",\n",
    "        \"DropConfig\": \"0.0+0.5+0.5+0.5\",\n",
    "        \"DropRepetitions\": 1,\n",
    "        \"Multithreading\": True\n",
    "        \n",
    "    }, {\n",
    "        \"LearningRate\": 1e-2,\n",
    "        \"Momentum\": 0.5,\n",
    "        \"Repetitions\": 1,\n",
    "        \"ConvergenceSteps\": 300,\n",
    "        \"BatchSize\": 30,\n",
    "        \"TestRepetitions\": 7,\n",
    "        \"WeightDecay\": 0.001,\n",
    "        \"Regularization\": \"L2\",\n",
    "        \"DropConfig\": \"0.0+0.1+0.1+0.1\",\n",
    "        \"DropRepetitions\": 1,\n",
    "        \"Multithreading\": True\n",
    "        \n",
    "    }, {\n",
    "        \"LearningRate\": 1e-2,\n",
    "        \"Momentum\": 0.3,\n",
    "        \"Repetitions\": 1,\n",
    "        \"ConvergenceSteps\": 300,\n",
    "        \"BatchSize\": 40,\n",
    "        \"TestRepetitions\": 7,\n",
    "        \"WeightDecay\": 0.001,\n",
    "        \"Regularization\": \"L2\",\n",
    "        \"Multithreading\": True\n",
    "        \n",
    "    },{\n",
    "        \"LearningRate\": 1e-3,\n",
    "        \"Momentum\": 0.1,\n",
    "        \"Repetitions\": 1,\n",
    "        \"ConvergenceSteps\": 200,\n",
    "        \"BatchSize\": 70,\n",
    "        \"TestRepetitions\": 7,\n",
    "        \"WeightDecay\": 0.001,\n",
    "        \"Regularization\": \"NONE\",\n",
    "        \"Multithreading\": True\n",
    "        \n",
    "}]\n",
    "\n",
    "factory.BookMethod(DataLoader=loader, Method=TMVA.Types.kDNN, MethodTitle=\"DNN\", \n",
    "                   H = False, V=False, VarTransform=\"Normalize\", ErrorStrategy=\"CROSSENTROPY\",\n",
    "                   Layout=[\"TANH|100\", \"TANH|50\", \"TANH|10\", \"LINEAR\"],\n",
    "                   TrainingStrategy=trainingStrategy)\n",
    "\n",
    "factory.BookMethod(loader, TMVA.Types.kLikelihood, \"Likelihood\", \n",
    "                   \"NSmoothSig[0]=20:NSmoothBkg[0]=20:NSmoothBkg[1]=10:NSmooth=1:NAvEvtPerBin=50\",\n",
    "                    H=True, V=False,TransformOutput=True,PDFInterpol=\"Spline2\")\n",
    "\n",
    "factory.BookMethod(DataLoader= loader, Method=TMVA.Types.kBDT, MethodTitle=\"BDT\",\n",
    "                   H=False,V=False,NTrees=850,MinNodeSize=\"2.5%\",MaxDepth=3,BoostType=\"AdaBoost\", AdaBoostBeta=0.5,\n",
    "                   UseBaggedBoost=True,BaggedSampleFraction=0.5, SeparationType=\"GiniIndex\", nCuts=20 )"
   ]
  },
  {
   "cell_type": "markdown",
   "metadata": {},
   "source": [
    "# Train Methods"
   ]
  },
  {
   "cell_type": "markdown",
   "metadata": {},
   "source": [
    "When you use the jsmva magic, the original C++ version of Factory::TrainAllMethods is rewritten by a new training method, which will produce notebook compatible output during the training, so we can trace the process (progress bar, error plot). For some methods (MLP, DNN, BDT) there will be created a tracer plot (for MLP, DNN test and training error vs epoch, for BDT error fraction and boost weight vs tree number). There are also some method which doesn't support interactive tracing, so for these methods just a simple text will be printed, just to we know that TrainAllMethods function is training this method currently.\n",
    "\n",
    "For methods where is possible to trace the training interactively there is a stop button, which can stop the training process. This button just stops the training of the current method, and doesn't stop the TrainAllMethods completely. "
   ]
  },
  {
   "cell_type": "code",
   "execution_count": 5,
   "metadata": {
    "collapsed": false,
    "scrolled": false
   },
   "outputs": [
    {
     "data": {
      "text/html": [
       "<center><h1>Dataset: tmva_class_example</h1></center>"
      ],
      "text/plain": [
       "<IPython.core.display.HTML object>"
      ]
     },
     "metadata": {},
     "output_type": "display_data"
    },
    {
     "data": {
      "text/html": [
       "<h2><b>Train method: Cuts</b></h2>"
      ],
      "text/plain": [
       "<IPython.core.display.HTML object>"
      ]
     },
     "metadata": {},
     "output_type": "display_data"
    },
    {
     "data": {
      "text/html": [
       "\n",
       "     <script type=\"text/javascript\">\n",
       "     require([\"jquery\"], function(jQ){\n",
       "         jQ(\"input.stopTrainingButton\").on(\"click\", function(){\n",
       "             IPython.notebook.kernel.interrupt();\n",
       "             jQ(this).css({\n",
       "                 \"background-color\": \"rgba(200, 0, 0, 0.8)\",\n",
       "                 \"color\": \"#fff\",\n",
       "                 \"box-shadow\": \"0 3px 5px rgba(0, 0, 0, 0.3)\",\n",
       "             });\n",
       "         });\n",
       "     });\n",
       "     </script>\n",
       "     <style type=\"text/css\">\n",
       "     input.stopTrainingButton {\n",
       "         background-color: #fff;\n",
       "         border: 1px solid #ccc;\n",
       "         width: 100%;\n",
       "         font-size: 16px;\n",
       "         font-weight: bold;\n",
       "         padding: 6px 12px;\n",
       "         cursor: pointer;\n",
       "         border-radius: 6px;\n",
       "         color: #333;\n",
       "     }\n",
       "     input.stopTrainingButton:hover {\n",
       "         background-color: rgba(204, 204, 204, 0.4);\n",
       "     }\n",
       "     </style>\n",
       "     <input type=\"button\" value=\"Stop\" class=\"stopTrainingButton\" />\n",
       "     "
      ],
      "text/plain": [
       "<IPython.core.display.HTML object>"
      ]
     },
     "metadata": {},
     "output_type": "display_data"
    },
    {
     "data": {
      "text/html": [
       "\n",
       "     <style>\n",
       "     #jsmva_progress_0 {\n",
       "         position: relative;\n",
       "         float: left;\n",
       "         height: 30px;\n",
       "         width: 100%;\n",
       "         background-color: #f5f5f5;\n",
       "         border-radius: 3px;\n",
       "         box-shadow: inset 0 3px 6px rgba(0, 0, 0, 0.1);\n",
       "     }\n",
       "     #jsmva_bar_0 {\n",
       "         position: absolute;\n",
       "         width: 1%;\n",
       "         height: 100%;\n",
       "         background-color: #337ab7;\n",
       "     }\n",
       "     #jsmva_label_0 {\n",
       "         text-align: center;\n",
       "         line-height: 30px;\n",
       "         color: white;\n",
       "     }\n",
       "     </style>\n",
       "     <div id=\"jsmva_progress_0\">\n",
       "       <div id=\"jsmva_bar_0\">\n",
       "         <div id=\"jsmva_label_0\">0%</div>\n",
       "       </div>\n",
       "     </div>\n",
       "     "
      ],
      "text/plain": [
       "<IPython.core.display.HTML object>"
      ]
     },
     "metadata": {},
     "output_type": "display_data"
    },
    {
     "data": {
      "text/html": [
       "\n",
       "     <script type=\"text/javascript\" id=\"progressBarScriptInc\">\n",
       "     require([\"jquery\"], function(jQ){\n",
       "         jQ(\"#jsmva_bar_0\").css(\"width\", 5 + \"%\");\n",
       "         jQ(\"#jsmva_label_0\").text(5 + '%');\n",
       "         jQ(\"#progressBarScriptInc\").parent().parent().remove();\n",
       "     });\n",
       "     </script>\n",
       "     "
      ],
      "text/plain": [
       "<IPython.core.display.HTML object>"
      ]
     },
     "metadata": {},
     "output_type": "display_data"
    },
    {
     "data": {
      "text/html": [
       "\n",
       "     <script type=\"text/javascript\" id=\"progressBarScriptInc\">\n",
       "     require([\"jquery\"], function(jQ){\n",
       "         jQ(\"#jsmva_bar_0\").css(\"width\", 5 + \"%\");\n",
       "         jQ(\"#jsmva_label_0\").text(5 + '%');\n",
       "         jQ(\"#progressBarScriptInc\").parent().parent().remove();\n",
       "     });\n",
       "     </script>\n",
       "     "
      ],
      "text/plain": [
       "<IPython.core.display.HTML object>"
      ]
     },
     "metadata": {},
     "output_type": "display_data"
    },
    {
     "data": {
      "text/html": [
       "\n",
       "     <script type=\"text/javascript\" id=\"progressBarScriptInc\">\n",
       "     require([\"jquery\"], function(jQ){\n",
       "         jQ(\"#jsmva_bar_0\").css(\"width\", 11 + \"%\");\n",
       "         jQ(\"#jsmva_label_0\").text(11 + '%');\n",
       "         jQ(\"#progressBarScriptInc\").parent().parent().remove();\n",
       "     });\n",
       "     </script>\n",
       "     "
      ],
      "text/plain": [
       "<IPython.core.display.HTML object>"
      ]
     },
     "metadata": {},
     "output_type": "display_data"
    },
    {
     "data": {
      "text/html": [
       "\n",
       "     <script type=\"text/javascript\" id=\"progressBarScriptInc\">\n",
       "     require([\"jquery\"], function(jQ){\n",
       "         jQ(\"#jsmva_bar_0\").css(\"width\", 18 + \"%\");\n",
       "         jQ(\"#jsmva_label_0\").text(18 + '%');\n",
       "         jQ(\"#progressBarScriptInc\").parent().parent().remove();\n",
       "     });\n",
       "     </script>\n",
       "     "
      ],
      "text/plain": [
       "<IPython.core.display.HTML object>"
      ]
     },
     "metadata": {},
     "output_type": "display_data"
    },
    {
     "data": {
      "text/html": [
       "\n",
       "     <script type=\"text/javascript\" id=\"progressBarScriptInc\">\n",
       "     require([\"jquery\"], function(jQ){\n",
       "         jQ(\"#jsmva_bar_0\").css(\"width\", 24 + \"%\");\n",
       "         jQ(\"#jsmva_label_0\").text(24 + '%');\n",
       "         jQ(\"#progressBarScriptInc\").parent().parent().remove();\n",
       "     });\n",
       "     </script>\n",
       "     "
      ],
      "text/plain": [
       "<IPython.core.display.HTML object>"
      ]
     },
     "metadata": {},
     "output_type": "display_data"
    },
    {
     "data": {
      "text/html": [
       "\n",
       "     <script type=\"text/javascript\" id=\"progressBarScriptInc\">\n",
       "     require([\"jquery\"], function(jQ){\n",
       "         jQ(\"#jsmva_bar_0\").css(\"width\", 30 + \"%\");\n",
       "         jQ(\"#jsmva_label_0\").text(30 + '%');\n",
       "         jQ(\"#progressBarScriptInc\").parent().parent().remove();\n",
       "     });\n",
       "     </script>\n",
       "     "
      ],
      "text/plain": [
       "<IPython.core.display.HTML object>"
      ]
     },
     "metadata": {},
     "output_type": "display_data"
    },
    {
     "data": {
      "text/html": [
       "\n",
       "     <script type=\"text/javascript\" id=\"progressBarScriptInc\">\n",
       "     require([\"jquery\"], function(jQ){\n",
       "         jQ(\"#jsmva_bar_0\").css(\"width\", 37 + \"%\");\n",
       "         jQ(\"#jsmva_label_0\").text(37 + '%');\n",
       "         jQ(\"#progressBarScriptInc\").parent().parent().remove();\n",
       "     });\n",
       "     </script>\n",
       "     "
      ],
      "text/plain": [
       "<IPython.core.display.HTML object>"
      ]
     },
     "metadata": {},
     "output_type": "display_data"
    },
    {
     "data": {
      "text/html": [
       "\n",
       "     <script type=\"text/javascript\" id=\"progressBarScriptInc\">\n",
       "     require([\"jquery\"], function(jQ){\n",
       "         jQ(\"#jsmva_bar_0\").css(\"width\", 44 + \"%\");\n",
       "         jQ(\"#jsmva_label_0\").text(44 + '%');\n",
       "         jQ(\"#progressBarScriptInc\").parent().parent().remove();\n",
       "     });\n",
       "     </script>\n",
       "     "
      ],
      "text/plain": [
       "<IPython.core.display.HTML object>"
      ]
     },
     "metadata": {},
     "output_type": "display_data"
    },
    {
     "data": {
      "text/html": [
       "\n",
       "     <script type=\"text/javascript\" id=\"progressBarScriptInc\">\n",
       "     require([\"jquery\"], function(jQ){\n",
       "         jQ(\"#jsmva_bar_0\").css(\"width\", 50 + \"%\");\n",
       "         jQ(\"#jsmva_label_0\").text(50 + '%');\n",
       "         jQ(\"#progressBarScriptInc\").parent().parent().remove();\n",
       "     });\n",
       "     </script>\n",
       "     "
      ],
      "text/plain": [
       "<IPython.core.display.HTML object>"
      ]
     },
     "metadata": {},
     "output_type": "display_data"
    },
    {
     "data": {
      "text/html": [
       "\n",
       "     <script type=\"text/javascript\" id=\"progressBarScriptInc\">\n",
       "     require([\"jquery\"], function(jQ){\n",
       "         jQ(\"#jsmva_bar_0\").css(\"width\", 56 + \"%\");\n",
       "         jQ(\"#jsmva_label_0\").text(56 + '%');\n",
       "         jQ(\"#progressBarScriptInc\").parent().parent().remove();\n",
       "     });\n",
       "     </script>\n",
       "     "
      ],
      "text/plain": [
       "<IPython.core.display.HTML object>"
      ]
     },
     "metadata": {},
     "output_type": "display_data"
    },
    {
     "data": {
      "text/html": [
       "\n",
       "     <script type=\"text/javascript\" id=\"progressBarScriptInc\">\n",
       "     require([\"jquery\"], function(jQ){\n",
       "         jQ(\"#jsmva_bar_0\").css(\"width\", 62 + \"%\");\n",
       "         jQ(\"#jsmva_label_0\").text(62 + '%');\n",
       "         jQ(\"#progressBarScriptInc\").parent().parent().remove();\n",
       "     });\n",
       "     </script>\n",
       "     "
      ],
      "text/plain": [
       "<IPython.core.display.HTML object>"
      ]
     },
     "metadata": {},
     "output_type": "display_data"
    },
    {
     "data": {
      "text/html": [
       "\n",
       "     <script type=\"text/javascript\" id=\"progressBarScriptInc\">\n",
       "     require([\"jquery\"], function(jQ){\n",
       "         jQ(\"#jsmva_bar_0\").css(\"width\", 69 + \"%\");\n",
       "         jQ(\"#jsmva_label_0\").text(69 + '%');\n",
       "         jQ(\"#progressBarScriptInc\").parent().parent().remove();\n",
       "     });\n",
       "     </script>\n",
       "     "
      ],
      "text/plain": [
       "<IPython.core.display.HTML object>"
      ]
     },
     "metadata": {},
     "output_type": "display_data"
    },
    {
     "data": {
      "text/html": [
       "\n",
       "     <script type=\"text/javascript\" id=\"progressBarScriptInc\">\n",
       "     require([\"jquery\"], function(jQ){\n",
       "         jQ(\"#jsmva_bar_0\").css(\"width\", 76 + \"%\");\n",
       "         jQ(\"#jsmva_label_0\").text(76 + '%');\n",
       "         jQ(\"#progressBarScriptInc\").parent().parent().remove();\n",
       "     });\n",
       "     </script>\n",
       "     "
      ],
      "text/plain": [
       "<IPython.core.display.HTML object>"
      ]
     },
     "metadata": {},
     "output_type": "display_data"
    },
    {
     "data": {
      "text/html": [
       "\n",
       "     <script type=\"text/javascript\" id=\"progressBarScriptInc\">\n",
       "     require([\"jquery\"], function(jQ){\n",
       "         jQ(\"#jsmva_bar_0\").css(\"width\", 82 + \"%\");\n",
       "         jQ(\"#jsmva_label_0\").text(82 + '%');\n",
       "         jQ(\"#progressBarScriptInc\").parent().parent().remove();\n",
       "     });\n",
       "     </script>\n",
       "     "
      ],
      "text/plain": [
       "<IPython.core.display.HTML object>"
      ]
     },
     "metadata": {},
     "output_type": "display_data"
    },
    {
     "data": {
      "text/html": [
       "\n",
       "     <script type=\"text/javascript\" id=\"progressBarScriptInc\">\n",
       "     require([\"jquery\"], function(jQ){\n",
       "         jQ(\"#jsmva_bar_0\").css(\"width\", 89 + \"%\");\n",
       "         jQ(\"#jsmva_label_0\").text(89 + '%');\n",
       "         jQ(\"#progressBarScriptInc\").parent().parent().remove();\n",
       "     });\n",
       "     </script>\n",
       "     "
      ],
      "text/plain": [
       "<IPython.core.display.HTML object>"
      ]
     },
     "metadata": {},
     "output_type": "display_data"
    },
    {
     "data": {
      "text/html": [
       "\n",
       "     <script type=\"text/javascript\" id=\"progressBarScriptInc\">\n",
       "     require([\"jquery\"], function(jQ){\n",
       "         jQ(\"#jsmva_bar_0\").css(\"width\", 91 + \"%\");\n",
       "         jQ(\"#jsmva_label_0\").text(91 + '%');\n",
       "         jQ(\"#progressBarScriptInc\").parent().parent().remove();\n",
       "     });\n",
       "     </script>\n",
       "     "
      ],
      "text/plain": [
       "<IPython.core.display.HTML object>"
      ]
     },
     "metadata": {},
     "output_type": "display_data"
    },
    {
     "data": {
      "text/html": [
       "<h2><b>Train method: SVM</b></h2>"
      ],
      "text/plain": [
       "<IPython.core.display.HTML object>"
      ]
     },
     "metadata": {},
     "output_type": "display_data"
    },
    {
     "data": {
      "text/html": [
       "\n",
       "     <script type=\"text/javascript\">\n",
       "     require([\"jquery\"], function(jQ){\n",
       "         jQ(\"input.stopTrainingButton\").on(\"click\", function(){\n",
       "             IPython.notebook.kernel.interrupt();\n",
       "             jQ(this).css({\n",
       "                 \"background-color\": \"rgba(200, 0, 0, 0.8)\",\n",
       "                 \"color\": \"#fff\",\n",
       "                 \"box-shadow\": \"0 3px 5px rgba(0, 0, 0, 0.3)\",\n",
       "             });\n",
       "         });\n",
       "     });\n",
       "     </script>\n",
       "     <style type=\"text/css\">\n",
       "     input.stopTrainingButton {\n",
       "         background-color: #fff;\n",
       "         border: 1px solid #ccc;\n",
       "         width: 100%;\n",
       "         font-size: 16px;\n",
       "         font-weight: bold;\n",
       "         padding: 6px 12px;\n",
       "         cursor: pointer;\n",
       "         border-radius: 6px;\n",
       "         color: #333;\n",
       "     }\n",
       "     input.stopTrainingButton:hover {\n",
       "         background-color: rgba(204, 204, 204, 0.4);\n",
       "     }\n",
       "     </style>\n",
       "     <input type=\"button\" value=\"Stop\" class=\"stopTrainingButton\" />\n",
       "     "
      ],
      "text/plain": [
       "<IPython.core.display.HTML object>"
      ]
     },
     "metadata": {},
     "output_type": "display_data"
    },
    {
     "data": {
      "text/html": [
       "\n",
       "     <style>\n",
       "     #jsmva_progress_1 {\n",
       "         position: relative;\n",
       "         float: left;\n",
       "         height: 30px;\n",
       "         width: 100%;\n",
       "         background-color: #f5f5f5;\n",
       "         border-radius: 3px;\n",
       "         box-shadow: inset 0 3px 6px rgba(0, 0, 0, 0.1);\n",
       "     }\n",
       "     #jsmva_bar_1 {\n",
       "         position: absolute;\n",
       "         width: 1%;\n",
       "         height: 100%;\n",
       "         background-color: #337ab7;\n",
       "     }\n",
       "     #jsmva_label_1 {\n",
       "         text-align: center;\n",
       "         line-height: 30px;\n",
       "         color: white;\n",
       "     }\n",
       "     </style>\n",
       "     <div id=\"jsmva_progress_1\">\n",
       "       <div id=\"jsmva_bar_1\">\n",
       "         <div id=\"jsmva_label_1\">0%</div>\n",
       "       </div>\n",
       "     </div>\n",
       "     "
      ],
      "text/plain": [
       "<IPython.core.display.HTML object>"
      ]
     },
     "metadata": {},
     "output_type": "display_data"
    },
    {
     "data": {
      "text/html": [
       "\n",
       "     <script type=\"text/javascript\" id=\"progressBarScriptInc\">\n",
       "     require([\"jquery\"], function(jQ){\n",
       "         jQ(\"#jsmva_bar_1\").css(\"width\", 0 + \"%\");\n",
       "         jQ(\"#jsmva_label_1\").text(0 + '%');\n",
       "         jQ(\"#progressBarScriptInc\").parent().parent().remove();\n",
       "     });\n",
       "     </script>\n",
       "     "
      ],
      "text/plain": [
       "<IPython.core.display.HTML object>"
      ]
     },
     "metadata": {},
     "output_type": "display_data"
    },
    {
     "data": {
      "text/html": [
       "\n",
       "     <script type=\"text/javascript\" id=\"progressBarScriptInc\">\n",
       "     require([\"jquery\"], function(jQ){\n",
       "         jQ(\"#jsmva_bar_1\").css(\"width\", 0 + \"%\");\n",
       "         jQ(\"#jsmva_label_1\").text(0 + '%');\n",
       "         jQ(\"#progressBarScriptInc\").parent().parent().remove();\n",
       "     });\n",
       "     </script>\n",
       "     "
      ],
      "text/plain": [
       "<IPython.core.display.HTML object>"
      ]
     },
     "metadata": {},
     "output_type": "display_data"
    },
    {
     "data": {
      "text/html": [
       "\n",
       "     <script type=\"text/javascript\" id=\"progressBarScriptInc\">\n",
       "     require([\"jquery\"], function(jQ){\n",
       "         jQ(\"#jsmva_bar_1\").css(\"width\", 0 + \"%\");\n",
       "         jQ(\"#jsmva_label_1\").text(0 + '%');\n",
       "         jQ(\"#progressBarScriptInc\").parent().parent().remove();\n",
       "     });\n",
       "     </script>\n",
       "     "
      ],
      "text/plain": [
       "<IPython.core.display.HTML object>"
      ]
     },
     "metadata": {},
     "output_type": "display_data"
    },
    {
     "data": {
      "text/html": [
       "\n",
       "     <script type=\"text/javascript\" id=\"progressBarScriptInc\">\n",
       "     require([\"jquery\"], function(jQ){\n",
       "         jQ(\"#jsmva_bar_1\").css(\"width\", 0 + \"%\");\n",
       "         jQ(\"#jsmva_label_1\").text(0 + '%');\n",
       "         jQ(\"#progressBarScriptInc\").parent().parent().remove();\n",
       "     });\n",
       "     </script>\n",
       "     "
      ],
      "text/plain": [
       "<IPython.core.display.HTML object>"
      ]
     },
     "metadata": {},
     "output_type": "display_data"
    },
    {
     "data": {
      "text/html": [
       "\n",
       "     <script type=\"text/javascript\" id=\"progressBarScriptInc\">\n",
       "     require([\"jquery\"], function(jQ){\n",
       "         jQ(\"#jsmva_bar_1\").css(\"width\", 0 + \"%\");\n",
       "         jQ(\"#jsmva_label_1\").text(0 + '%');\n",
       "         jQ(\"#progressBarScriptInc\").parent().parent().remove();\n",
       "     });\n",
       "     </script>\n",
       "     "
      ],
      "text/plain": [
       "<IPython.core.display.HTML object>"
      ]
     },
     "metadata": {},
     "output_type": "display_data"
    },
    {
     "data": {
      "text/html": [
       "\n",
       "     <script type=\"text/javascript\" id=\"progressBarScriptInc\">\n",
       "     require([\"jquery\"], function(jQ){\n",
       "         jQ(\"#jsmva_bar_1\").css(\"width\", 1 + \"%\");\n",
       "         jQ(\"#jsmva_label_1\").text(1 + '%');\n",
       "         jQ(\"#progressBarScriptInc\").parent().parent().remove();\n",
       "     });\n",
       "     </script>\n",
       "     "
      ],
      "text/plain": [
       "<IPython.core.display.HTML object>"
      ]
     },
     "metadata": {},
     "output_type": "display_data"
    },
    {
     "data": {
      "text/html": [
       "\n",
       "     <script type=\"text/javascript\" id=\"progressBarScriptInc\">\n",
       "     require([\"jquery\"], function(jQ){\n",
       "         jQ(\"#jsmva_bar_1\").css(\"width\", 1 + \"%\");\n",
       "         jQ(\"#jsmva_label_1\").text(1 + '%');\n",
       "         jQ(\"#progressBarScriptInc\").parent().parent().remove();\n",
       "     });\n",
       "     </script>\n",
       "     "
      ],
      "text/plain": [
       "<IPython.core.display.HTML object>"
      ]
     },
     "metadata": {},
     "output_type": "display_data"
    },
    {
     "data": {
      "text/html": [
       "\n",
       "     <script type=\"text/javascript\" id=\"progressBarScriptInc\">\n",
       "     require([\"jquery\"], function(jQ){\n",
       "         jQ(\"#jsmva_bar_1\").css(\"width\", 1 + \"%\");\n",
       "         jQ(\"#jsmva_label_1\").text(1 + '%');\n",
       "         jQ(\"#progressBarScriptInc\").parent().parent().remove();\n",
       "     });\n",
       "     </script>\n",
       "     "
      ],
      "text/plain": [
       "<IPython.core.display.HTML object>"
      ]
     },
     "metadata": {},
     "output_type": "display_data"
    },
    {
     "data": {
      "text/html": [
       "<h2><b>Train method: MLP</b></h2>"
      ],
      "text/plain": [
       "<IPython.core.display.HTML object>"
      ]
     },
     "metadata": {},
     "output_type": "display_data"
    },
    {
     "data": {
      "text/html": [
       "\n",
       "     <script type=\"text/javascript\">\n",
       "     require([\"jquery\"], function(jQ){\n",
       "         jQ(\"input.stopTrainingButton\").on(\"click\", function(){\n",
       "             IPython.notebook.kernel.interrupt();\n",
       "             jQ(this).css({\n",
       "                 \"background-color\": \"rgba(200, 0, 0, 0.8)\",\n",
       "                 \"color\": \"#fff\",\n",
       "                 \"box-shadow\": \"0 3px 5px rgba(0, 0, 0, 0.3)\",\n",
       "             });\n",
       "         });\n",
       "     });\n",
       "     </script>\n",
       "     <style type=\"text/css\">\n",
       "     input.stopTrainingButton {\n",
       "         background-color: #fff;\n",
       "         border: 1px solid #ccc;\n",
       "         width: 100%;\n",
       "         font-size: 16px;\n",
       "         font-weight: bold;\n",
       "         padding: 6px 12px;\n",
       "         cursor: pointer;\n",
       "         border-radius: 6px;\n",
       "         color: #333;\n",
       "     }\n",
       "     input.stopTrainingButton:hover {\n",
       "         background-color: rgba(204, 204, 204, 0.4);\n",
       "     }\n",
       "     </style>\n",
       "     <input type=\"button\" value=\"Stop\" class=\"stopTrainingButton\" />\n",
       "     "
      ],
      "text/plain": [
       "<IPython.core.display.HTML object>"
      ]
     },
     "metadata": {},
     "output_type": "display_data"
    },
    {
     "data": {
      "text/html": [
       "\n",
       "     <style>\n",
       "     #jsmva_progress_2 {\n",
       "         position: relative;\n",
       "         float: left;\n",
       "         height: 30px;\n",
       "         width: 100%;\n",
       "         background-color: #f5f5f5;\n",
       "         border-radius: 3px;\n",
       "         box-shadow: inset 0 3px 6px rgba(0, 0, 0, 0.1);\n",
       "     }\n",
       "     #jsmva_bar_2 {\n",
       "         position: absolute;\n",
       "         width: 1%;\n",
       "         height: 100%;\n",
       "         background-color: #337ab7;\n",
       "     }\n",
       "     #jsmva_label_2 {\n",
       "         text-align: center;\n",
       "         line-height: 30px;\n",
       "         color: white;\n",
       "     }\n",
       "     </style>\n",
       "     <div id=\"jsmva_progress_2\">\n",
       "       <div id=\"jsmva_bar_2\">\n",
       "         <div id=\"jsmva_label_2\">0%</div>\n",
       "       </div>\n",
       "     </div>\n",
       "     "
      ],
      "text/plain": [
       "<IPython.core.display.HTML object>"
      ]
     },
     "metadata": {},
     "output_type": "display_data"
    },
    {
     "data": {
      "text/html": [
       "\n",
       "     <script type=\"text/javascript\" id=\"progressBarScriptInc\">\n",
       "     require([\"jquery\"], function(jQ){\n",
       "         jQ(\"#jsmva_bar_2\").css(\"width\", 3 + \"%\");\n",
       "         jQ(\"#jsmva_label_2\").text(3 + '%');\n",
       "         jQ(\"#progressBarScriptInc\").parent().parent().remove();\n",
       "     });\n",
       "     </script>\n",
       "     "
      ],
      "text/plain": [
       "<IPython.core.display.HTML object>"
      ]
     },
     "metadata": {},
     "output_type": "display_data"
    },
    {
     "data": {
      "text/html": [
       "\n",
       "<div id=\"jstmva_1\" style=\"width: 800px; height:450px\"></div>\n",
       "<script>\n",
       "    require(['JsMVA'],function(jsmva){\n",
       "        jsmva.drawTrainingTestingErrors('jstmva_1','{  \"_typename\" : \"TMultiGraph\",  \"fUniqueID\" : 0,  \"fBits\" : 50331656,  \"fName\" : \"\",  \"fTitle\" : \"\",  \"fGraphs\" : {    \"_typename\" : \"TList\",    \"name\" : \"TList\",    \"arr\" : [{      \"_typename\" : \"TGraph\",      \"fUniqueID\" : 0,      \"fBits\" : 50332680,      \"fName\" : \"Error on training set\",      \"fTitle\" : \"Error on training set\",      \"fLineColor\" : 1,      \"fLineStyle\" : 1,      \"fLineWidth\" : 1,      \"fFillColor\" : 2,      \"fFillStyle\" : 1001,      \"fMarkerColor\" : 2,      \"fMarkerStyle\" : 8,      \"fMarkerSize\" : 5.000000e-01,      \"fNpoints\" : 3,      \"fX\" : [5, 10, 15],      \"fY\" : [6.566158e-01, 6.950342e-01, 6.544175e-01],      \"fFunctions\" : {        \"_typename\" : \"TList\",        \"name\" : \"TList\",        \"arr\" : [],        \"opt\" : []      },      \"fHistogram\" : null,      \"fMinimum\" : -1111,      \"fMaximum\" : -1111    }, {      \"_typename\" : \"TGraph\",      \"fUniqueID\" : 0,      \"fBits\" : 50332680,      \"fName\" : \"Error on test set\",      \"fTitle\" : \"Error on test set\",      \"fLineColor\" : 1,      \"fLineStyle\" : 1,      \"fLineWidth\" : 1,      \"fFillColor\" : 4,      \"fFillStyle\" : 1001,      \"fMarkerColor\" : 4,      \"fMarkerStyle\" : 8,      \"fMarkerSize\" : 5.000000e-01,      \"fNpoints\" : 3,      \"fX\" : [5, 10, 15],      \"fY\" : [6.293046e-01, 6.713674e-01, 6.299763e-01],      \"fFunctions\" : {        \"_typename\" : \"TList\",        \"name\" : \"TList\",        \"arr\" : [],        \"opt\" : []      },      \"fHistogram\" : null,      \"fMinimum\" : -1111,      \"fMaximum\" : -1111    }],    \"opt\" : [\"\", \"\"]  },  \"fFunctions\" : null,  \"fHistogram\" : null,  \"fMaximum\" : -1111,  \"fMinimum\" : -1111}');\n",
       "    });\n",
       "</script>\n"
      ],
      "text/plain": [
       "<IPython.core.display.HTML object>"
      ]
     },
     "metadata": {},
     "output_type": "display_data"
    },
    {
     "data": {
      "text/html": [
       "<script id=\"dataInserterScript\">\n",
       "require(['JsMVA'],function(jsmva){\n",
       "jsmva.updateTrainingTestingErrors('jstmva_1', '{  \"_typename\" : \"TMultiGraph\",  \"fUniqueID\" : 0,  \"fBits\" : 50331656,  \"fName\" : \"\",  \"fTitle\" : \"\",  \"fGraphs\" : {    \"_typename\" : \"TList\",    \"name\" : \"TList\",    \"arr\" : [{      \"_typename\" : \"TGraph\",      \"fUniqueID\" : 0,      \"fBits\" : 50332680,      \"fName\" : \"Error on training set\",      \"fTitle\" : \"Error on training set\",      \"fLineColor\" : 1,      \"fLineStyle\" : 1,      \"fLineWidth\" : 1,      \"fFillColor\" : 2,      \"fFillStyle\" : 1001,      \"fMarkerColor\" : 2,      \"fMarkerStyle\" : 8,      \"fMarkerSize\" : 5.000000e-01,      \"fNpoints\" : 3,      \"fX\" : [5, 10, 15],      \"fY\" : [6.566158e-01, 6.950342e-01, 6.544175e-01],      \"fFunctions\" : {        \"_typename\" : \"TList\",        \"name\" : \"TList\",        \"arr\" : [],        \"opt\" : []      },      \"fHistogram\" : null,      \"fMinimum\" : -1111,      \"fMaximum\" : -1111    }, {      \"_typename\" : \"TGraph\",      \"fUniqueID\" : 0,      \"fBits\" : 50332680,      \"fName\" : \"Error on test set\",      \"fTitle\" : \"Error on test set\",      \"fLineColor\" : 1,      \"fLineStyle\" : 1,      \"fLineWidth\" : 1,      \"fFillColor\" : 4,      \"fFillStyle\" : 1001,      \"fMarkerColor\" : 4,      \"fMarkerStyle\" : 8,      \"fMarkerSize\" : 5.000000e-01,      \"fNpoints\" : 3,      \"fX\" : [5, 10, 15],      \"fY\" : [6.293046e-01, 6.713674e-01, 6.299763e-01],      \"fFunctions\" : {        \"_typename\" : \"TList\",        \"name\" : \"TList\",        \"arr\" : [],        \"opt\" : []      },      \"fHistogram\" : null,      \"fMinimum\" : -1111,      \"fMaximum\" : -1111    }],    \"opt\" : [\"\", \"\"]  },  \"fFunctions\" : null,  \"fHistogram\" : null,  \"fMaximum\" : -1111,  \"fMinimum\" : -1111}');\n",
       "var script = document.getElementById(\"dataInserterScript\");\n",
       "script.parentElement.parentElement.remove();\n",
       "});\n",
       "</script>"
      ],
      "text/plain": [
       "<IPython.core.display.HTML object>"
      ]
     },
     "metadata": {},
     "output_type": "display_data"
    },
    {
     "data": {
      "text/html": [
       "\n",
       "     <script type=\"text/javascript\" id=\"progressBarScriptInc\">\n",
       "     require([\"jquery\"], function(jQ){\n",
       "         jQ(\"#jsmva_bar_2\").css(\"width\", 3 + \"%\");\n",
       "         jQ(\"#jsmva_label_2\").text(3 + '%');\n",
       "         jQ(\"#progressBarScriptInc\").parent().parent().remove();\n",
       "     });\n",
       "     </script>\n",
       "     "
      ],
      "text/plain": [
       "<IPython.core.display.HTML object>"
      ]
     },
     "metadata": {},
     "output_type": "display_data"
    },
    {
     "data": {
      "text/html": [
       "<script id=\"dataInserterScript\">\n",
       "require(['JsMVA'],function(jsmva){\n",
       "jsmva.updateTrainingTestingErrors('jstmva_1', '{  \"_typename\" : \"TMultiGraph\",  \"fUniqueID\" : 0,  \"fBits\" : 50331656,  \"fName\" : \"\",  \"fTitle\" : \"\",  \"fGraphs\" : {    \"_typename\" : \"TList\",    \"name\" : \"TList\",    \"arr\" : [{      \"_typename\" : \"TGraph\",      \"fUniqueID\" : 0,      \"fBits\" : 50332680,      \"fName\" : \"Error on training set\",      \"fTitle\" : \"Error on training set\",      \"fLineColor\" : 1,      \"fLineStyle\" : 1,      \"fLineWidth\" : 1,      \"fFillColor\" : 2,      \"fFillStyle\" : 1001,      \"fMarkerColor\" : 2,      \"fMarkerStyle\" : 8,      \"fMarkerSize\" : 5.000000e-01,      \"fNpoints\" : 7,      \"fX\" : [5, 10, 15, 20, 25, 30, 35],      \"fY\" : [6.566158e-01, 6.950342e-01, 6.544175e-01, 6.665892e-01, 6.609419e-01, 6.572335e-01, 6.607229e-01],      \"fFunctions\" : {        \"_typename\" : \"TList\",        \"name\" : \"TList\",        \"arr\" : [],        \"opt\" : []      },      \"fHistogram\" : null,      \"fMinimum\" : -1111,      \"fMaximum\" : -1111    }, {      \"_typename\" : \"TGraph\",      \"fUniqueID\" : 0,      \"fBits\" : 50332680,      \"fName\" : \"Error on test set\",      \"fTitle\" : \"Error on test set\",      \"fLineColor\" : 1,      \"fLineStyle\" : 1,      \"fLineWidth\" : 1,      \"fFillColor\" : 4,      \"fFillStyle\" : 1001,      \"fMarkerColor\" : 4,      \"fMarkerStyle\" : 8,      \"fMarkerSize\" : 5.000000e-01,      \"fNpoints\" : 7,      \"fX\" : [5, 10, 15, 20, 25, 30, 35],      \"fY\" : [6.293046e-01, 6.713674e-01, 6.299763e-01, 6.424805e-01, 6.354038e-01, 6.295584e-01, 6.376190e-01],      \"fFunctions\" : {        \"_typename\" : \"TList\",        \"name\" : \"TList\",        \"arr\" : [],        \"opt\" : []      },      \"fHistogram\" : null,      \"fMinimum\" : -1111,      \"fMaximum\" : -1111    }],    \"opt\" : [\"\", \"\"]  },  \"fFunctions\" : null,  \"fHistogram\" : null,  \"fMaximum\" : -1111,  \"fMinimum\" : -1111}');\n",
       "var script = document.getElementById(\"dataInserterScript\");\n",
       "script.parentElement.parentElement.remove();\n",
       "});\n",
       "</script>"
      ],
      "text/plain": [
       "<IPython.core.display.HTML object>"
      ]
     },
     "metadata": {},
     "output_type": "display_data"
    },
    {
     "data": {
      "text/html": [
       "\n",
       "     <script type=\"text/javascript\" id=\"progressBarScriptInc\">\n",
       "     require([\"jquery\"], function(jQ){\n",
       "         jQ(\"#jsmva_bar_2\").css(\"width\", 6 + \"%\");\n",
       "         jQ(\"#jsmva_label_2\").text(6 + '%');\n",
       "         jQ(\"#progressBarScriptInc\").parent().parent().remove();\n",
       "     });\n",
       "     </script>\n",
       "     "
      ],
      "text/plain": [
       "<IPython.core.display.HTML object>"
      ]
     },
     "metadata": {},
     "output_type": "display_data"
    },
    {
     "data": {
      "text/html": [
       "<script id=\"dataInserterScript\">\n",
       "require(['JsMVA'],function(jsmva){\n",
       "jsmva.updateTrainingTestingErrors('jstmva_1', '{  \"_typename\" : \"TMultiGraph\",  \"fUniqueID\" : 0,  \"fBits\" : 50331656,  \"fName\" : \"\",  \"fTitle\" : \"\",  \"fGraphs\" : {    \"_typename\" : \"TList\",    \"name\" : \"TList\",    \"arr\" : [{      \"_typename\" : \"TGraph\",      \"fUniqueID\" : 0,      \"fBits\" : 50332680,      \"fName\" : \"Error on training set\",      \"fTitle\" : \"Error on training set\",      \"fLineColor\" : 1,      \"fLineStyle\" : 1,      \"fLineWidth\" : 1,      \"fFillColor\" : 2,      \"fFillStyle\" : 1001,      \"fMarkerColor\" : 2,      \"fMarkerStyle\" : 8,      \"fMarkerSize\" : 5.000000e-01,      \"fNpoints\" : 11,      \"fX\" : [5, 10, 15, 20, 25, 30, 35, 40, 45, 50, 55],      \"fY\" : [6.566158e-01, 6.950342e-01, 6.544175e-01, 6.665892e-01, 6.609419e-01, 6.572335e-01, 6.607229e-01, 6.497480e-01, 6.496069e-01, 6.510736e-01, 6.490467e-01],      \"fFunctions\" : {        \"_typename\" : \"TList\",        \"name\" : \"TList\",        \"arr\" : [],        \"opt\" : []      },      \"fHistogram\" : null,      \"fMinimum\" : -1111,      \"fMaximum\" : -1111    }, {      \"_typename\" : \"TGraph\",      \"fUniqueID\" : 0,      \"fBits\" : 50332680,      \"fName\" : \"Error on test set\",      \"fTitle\" : \"Error on test set\",      \"fLineColor\" : 1,      \"fLineStyle\" : 1,      \"fLineWidth\" : 1,      \"fFillColor\" : 4,      \"fFillStyle\" : 1001,      \"fMarkerColor\" : 4,      \"fMarkerStyle\" : 8,      \"fMarkerSize\" : 5.000000e-01,      \"fNpoints\" : 11,      \"fX\" : [5, 10, 15, 20, 25, 30, 35, 40, 45, 50, 55],      \"fY\" : [6.293046e-01, 6.713674e-01, 6.299763e-01, 6.424805e-01, 6.354038e-01, 6.295584e-01, 6.376190e-01, 6.244975e-01, 6.267705e-01, 6.295481e-01, 6.271350e-01],      \"fFunctions\" : {        \"_typename\" : \"TList\",        \"name\" : \"TList\",        \"arr\" : [],        \"opt\" : []      },      \"fHistogram\" : null,      \"fMinimum\" : -1111,      \"fMaximum\" : -1111    }],    \"opt\" : [\"\", \"\"]  },  \"fFunctions\" : null,  \"fHistogram\" : null,  \"fMaximum\" : -1111,  \"fMinimum\" : -1111}');\n",
       "var script = document.getElementById(\"dataInserterScript\");\n",
       "script.parentElement.parentElement.remove();\n",
       "});\n",
       "</script>"
      ],
      "text/plain": [
       "<IPython.core.display.HTML object>"
      ]
     },
     "metadata": {},
     "output_type": "display_data"
    },
    {
     "data": {
      "text/html": [
       "\n",
       "     <script type=\"text/javascript\" id=\"progressBarScriptInc\">\n",
       "     require([\"jquery\"], function(jQ){\n",
       "         jQ(\"#jsmva_bar_2\").css(\"width\", 9 + \"%\");\n",
       "         jQ(\"#jsmva_label_2\").text(9 + '%');\n",
       "         jQ(\"#progressBarScriptInc\").parent().parent().remove();\n",
       "     });\n",
       "     </script>\n",
       "     "
      ],
      "text/plain": [
       "<IPython.core.display.HTML object>"
      ]
     },
     "metadata": {},
     "output_type": "display_data"
    },
    {
     "data": {
      "text/html": [
       "<script id=\"dataInserterScript\">\n",
       "require(['JsMVA'],function(jsmva){\n",
       "jsmva.updateTrainingTestingErrors('jstmva_1', '{  \"_typename\" : \"TMultiGraph\",  \"fUniqueID\" : 0,  \"fBits\" : 50331656,  \"fName\" : \"\",  \"fTitle\" : \"\",  \"fGraphs\" : {    \"_typename\" : \"TList\",    \"name\" : \"TList\",    \"arr\" : [{      \"_typename\" : \"TGraph\",      \"fUniqueID\" : 0,      \"fBits\" : 50332680,      \"fName\" : \"Error on training set\",      \"fTitle\" : \"Error on training set\",      \"fLineColor\" : 1,      \"fLineStyle\" : 1,      \"fLineWidth\" : 1,      \"fFillColor\" : 2,      \"fFillStyle\" : 1001,      \"fMarkerColor\" : 2,      \"fMarkerStyle\" : 8,      \"fMarkerSize\" : 5.000000e-01,      \"fNpoints\" : 16,      \"fX\" : [5, 10, 15, 20, 25, 30, 35, 40, 45, 50, 55, 60, 65, 70, 75, 80],      \"fY\" : [6.566158e-01, 6.950342e-01, 6.544175e-01, 6.665892e-01, 6.609419e-01, 6.572335e-01, 6.607229e-01, 6.497480e-01, 6.496069e-01, 6.510736e-01, 6.490467e-01, 6.547914e-01, 6.571590e-01, 6.600227e-01, 6.646183e-01, 6.500481e-01],      \"fFunctions\" : {        \"_typename\" : \"TList\",        \"name\" : \"TList\",        \"arr\" : [],        \"opt\" : []      },      \"fHistogram\" : null,      \"fMinimum\" : -1111,      \"fMaximum\" : -1111    }, {      \"_typename\" : \"TGraph\",      \"fUniqueID\" : 0,      \"fBits\" : 50332680,      \"fName\" : \"Error on test set\",      \"fTitle\" : \"Error on test set\",      \"fLineColor\" : 1,      \"fLineStyle\" : 1,      \"fLineWidth\" : 1,      \"fFillColor\" : 4,      \"fFillStyle\" : 1001,      \"fMarkerColor\" : 4,      \"fMarkerStyle\" : 8,      \"fMarkerSize\" : 5.000000e-01,      \"fNpoints\" : 16,      \"fX\" : [5, 10, 15, 20, 25, 30, 35, 40, 45, 50, 55, 60, 65, 70, 75, 80],      \"fY\" : [6.293046e-01, 6.713674e-01, 6.299763e-01, 6.424805e-01, 6.354038e-01, 6.295584e-01, 6.376190e-01, 6.244975e-01, 6.267705e-01, 6.295481e-01, 6.271350e-01, 6.309268e-01, 6.393579e-01, 6.399028e-01, 6.384434e-01, 6.281180e-01],      \"fFunctions\" : {        \"_typename\" : \"TList\",        \"name\" : \"TList\",        \"arr\" : [],        \"opt\" : []      },      \"fHistogram\" : null,      \"fMinimum\" : -1111,      \"fMaximum\" : -1111    }],    \"opt\" : [\"\", \"\"]  },  \"fFunctions\" : null,  \"fHistogram\" : null,  \"fMaximum\" : -1111,  \"fMinimum\" : -1111}');\n",
       "var script = document.getElementById(\"dataInserterScript\");\n",
       "script.parentElement.parentElement.remove();\n",
       "});\n",
       "</script>"
      ],
      "text/plain": [
       "<IPython.core.display.HTML object>"
      ]
     },
     "metadata": {},
     "output_type": "display_data"
    },
    {
     "data": {
      "text/html": [
       "\n",
       "     <script type=\"text/javascript\" id=\"progressBarScriptInc\">\n",
       "     require([\"jquery\"], function(jQ){\n",
       "         jQ(\"#jsmva_bar_2\").css(\"width\", 13 + \"%\");\n",
       "         jQ(\"#jsmva_label_2\").text(13 + '%');\n",
       "         jQ(\"#progressBarScriptInc\").parent().parent().remove();\n",
       "     });\n",
       "     </script>\n",
       "     "
      ],
      "text/plain": [
       "<IPython.core.display.HTML object>"
      ]
     },
     "metadata": {},
     "output_type": "display_data"
    },
    {
     "data": {
      "text/html": [
       "\n",
       "     <script type=\"text/javascript\" id=\"progressBarScriptInc\">\n",
       "     require([\"jquery\"], function(jQ){\n",
       "         jQ(\"#jsmva_bar_2\").css(\"width\", 14 + \"%\");\n",
       "         jQ(\"#jsmva_label_2\").text(14 + '%');\n",
       "         jQ(\"#progressBarScriptInc\").parent().parent().remove();\n",
       "     });\n",
       "     </script>\n",
       "     "
      ],
      "text/plain": [
       "<IPython.core.display.HTML object>"
      ]
     },
     "metadata": {},
     "output_type": "display_data"
    },
    {
     "data": {
      "text/html": [
       "<h2><b>Train method: LD</b></h2>"
      ],
      "text/plain": [
       "<IPython.core.display.HTML object>"
      ]
     },
     "metadata": {},
     "output_type": "display_data"
    },
    {
     "data": {
      "text/html": [
       "<b>Training...</b>"
      ],
      "text/plain": [
       "<IPython.core.display.HTML object>"
      ]
     },
     "metadata": {},
     "output_type": "display_data"
    },
    {
     "data": {
      "text/html": [
       "<b>End</b>"
      ],
      "text/plain": [
       "<IPython.core.display.HTML object>"
      ]
     },
     "metadata": {},
     "output_type": "display_data"
    },
    {
     "data": {
      "text/html": [
       "<h2><b>Train method: DNN</b></h2>"
      ],
      "text/plain": [
       "<IPython.core.display.HTML object>"
      ]
     },
     "metadata": {},
     "output_type": "display_data"
    },
    {
     "data": {
      "text/html": [
       "\n",
       "     <script type=\"text/javascript\">\n",
       "     require([\"jquery\"], function(jQ){\n",
       "         jQ(\"input.stopTrainingButton\").on(\"click\", function(){\n",
       "             IPython.notebook.kernel.interrupt();\n",
       "             jQ(this).css({\n",
       "                 \"background-color\": \"rgba(200, 0, 0, 0.8)\",\n",
       "                 \"color\": \"#fff\",\n",
       "                 \"box-shadow\": \"0 3px 5px rgba(0, 0, 0, 0.3)\",\n",
       "             });\n",
       "         });\n",
       "     });\n",
       "     </script>\n",
       "     <style type=\"text/css\">\n",
       "     input.stopTrainingButton {\n",
       "         background-color: #fff;\n",
       "         border: 1px solid #ccc;\n",
       "         width: 100%;\n",
       "         font-size: 16px;\n",
       "         font-weight: bold;\n",
       "         padding: 6px 12px;\n",
       "         cursor: pointer;\n",
       "         border-radius: 6px;\n",
       "         color: #333;\n",
       "     }\n",
       "     input.stopTrainingButton:hover {\n",
       "         background-color: rgba(204, 204, 204, 0.4);\n",
       "     }\n",
       "     </style>\n",
       "     <input type=\"button\" value=\"Stop\" class=\"stopTrainingButton\" />\n",
       "     "
      ],
      "text/plain": [
       "<IPython.core.display.HTML object>"
      ]
     },
     "metadata": {},
     "output_type": "display_data"
    },
    {
     "data": {
      "text/html": [
       "\n",
       "     <style>\n",
       "     #jsmva_progress_4 {\n",
       "         position: relative;\n",
       "         float: left;\n",
       "         height: 30px;\n",
       "         width: 100%;\n",
       "         background-color: #f5f5f5;\n",
       "         border-radius: 3px;\n",
       "         box-shadow: inset 0 3px 6px rgba(0, 0, 0, 0.1);\n",
       "     }\n",
       "     #jsmva_bar_4 {\n",
       "         position: absolute;\n",
       "         width: 1%;\n",
       "         height: 100%;\n",
       "         background-color: #337ab7;\n",
       "     }\n",
       "     #jsmva_label_4 {\n",
       "         text-align: center;\n",
       "         line-height: 30px;\n",
       "         color: white;\n",
       "     }\n",
       "     </style>\n",
       "     <div id=\"jsmva_progress_4\">\n",
       "       <div id=\"jsmva_bar_4\">\n",
       "         <div id=\"jsmva_label_4\">0%</div>\n",
       "       </div>\n",
       "     </div>\n",
       "     "
      ],
      "text/plain": [
       "<IPython.core.display.HTML object>"
      ]
     },
     "metadata": {},
     "output_type": "display_data"
    },
    {
     "data": {
      "text/html": [
       "\n",
       "     <script type=\"text/javascript\" id=\"progressBarScriptInc\">\n",
       "     require([\"jquery\"], function(jQ){\n",
       "         jQ(\"#jsmva_bar_4\").css(\"width\", 0 + \"%\");\n",
       "         jQ(\"#jsmva_label_4\").text(0 + '%');\n",
       "         jQ(\"#progressBarScriptInc\").parent().parent().remove();\n",
       "     });\n",
       "     </script>\n",
       "     "
      ],
      "text/plain": [
       "<IPython.core.display.HTML object>"
      ]
     },
     "metadata": {},
     "output_type": "display_data"
    },
    {
     "data": {
      "text/html": [
       "\n",
       "<div id=\"jstmva_2\" style=\"width: 800px; height:450px\"></div>\n",
       "<script>\n",
       "    require(['JsMVA'],function(jsmva){\n",
       "        jsmva.drawTrainingTestingErrors('jstmva_2','{  \"_typename\" : \"TMultiGraph\",  \"fUniqueID\" : 0,  \"fBits\" : 50331656,  \"fName\" : \"\",  \"fTitle\" : \"\",  \"fGraphs\" : {    \"_typename\" : \"TList\",    \"name\" : \"TList\",    \"arr\" : [{      \"_typename\" : \"TGraph\",      \"fUniqueID\" : 0,      \"fBits\" : 50332680,      \"fName\" : \"Error on training set\",      \"fTitle\" : \"Error on training set\",      \"fLineColor\" : 1,      \"fLineStyle\" : 1,      \"fLineWidth\" : 1,      \"fFillColor\" : 2,      \"fFillStyle\" : 1001,      \"fMarkerColor\" : 2,      \"fMarkerStyle\" : 8,      \"fMarkerSize\" : 5.000000e-01,      \"fNpoints\" : 5,      \"fX\" : [1, 2, 3, 4, 5],      \"fY\" : [6.113274e-01, 5.742290e-01, 5.665766e-01, 5.550619e-01, 5.374927e-01],      \"fFunctions\" : {        \"_typename\" : \"TList\",        \"name\" : \"TList\",        \"arr\" : [],        \"opt\" : []      },      \"fHistogram\" : null,      \"fMinimum\" : -1111,      \"fMaximum\" : -1111    }, {      \"_typename\" : \"TGraph\",      \"fUniqueID\" : 0,      \"fBits\" : 50332680,      \"fName\" : \"Error on test set\",      \"fTitle\" : \"Error on test set\",      \"fLineColor\" : 1,      \"fLineStyle\" : 1,      \"fLineWidth\" : 1,      \"fFillColor\" : 4,      \"fFillStyle\" : 1001,      \"fMarkerColor\" : 4,      \"fMarkerStyle\" : 8,      \"fMarkerSize\" : 5.000000e-01,      \"fNpoints\" : 5,      \"fX\" : [1, 2, 3, 4, 5],      \"fY\" : [6.740841e-01, 6.740841e-01, 6.740841e-01, 6.740841e-01, 6.740841e-01],      \"fFunctions\" : {        \"_typename\" : \"TList\",        \"name\" : \"TList\",        \"arr\" : [],        \"opt\" : []      },      \"fHistogram\" : null,      \"fMinimum\" : -1111,      \"fMaximum\" : -1111    }],    \"opt\" : [\"\", \"\"]  },  \"fFunctions\" : null,  \"fHistogram\" : null,  \"fMaximum\" : -1111,  \"fMinimum\" : -1111}');\n",
       "    });\n",
       "</script>\n"
      ],
      "text/plain": [
       "<IPython.core.display.HTML object>"
      ]
     },
     "metadata": {},
     "output_type": "display_data"
    },
    {
     "data": {
      "text/html": [
       "<script id=\"dataInserterScript\">\n",
       "require(['JsMVA'],function(jsmva){\n",
       "jsmva.updateTrainingTestingErrors('jstmva_2', '{  \"_typename\" : \"TMultiGraph\",  \"fUniqueID\" : 0,  \"fBits\" : 50331656,  \"fName\" : \"\",  \"fTitle\" : \"\",  \"fGraphs\" : {    \"_typename\" : \"TList\",    \"name\" : \"TList\",    \"arr\" : [{      \"_typename\" : \"TGraph\",      \"fUniqueID\" : 0,      \"fBits\" : 50332680,      \"fName\" : \"Error on training set\",      \"fTitle\" : \"Error on training set\",      \"fLineColor\" : 1,      \"fLineStyle\" : 1,      \"fLineWidth\" : 1,      \"fFillColor\" : 2,      \"fFillStyle\" : 1001,      \"fMarkerColor\" : 2,      \"fMarkerStyle\" : 8,      \"fMarkerSize\" : 5.000000e-01,      \"fNpoints\" : 5,      \"fX\" : [1, 2, 3, 4, 5],      \"fY\" : [6.113274e-01, 5.742290e-01, 5.665766e-01, 5.550619e-01, 5.374927e-01],      \"fFunctions\" : {        \"_typename\" : \"TList\",        \"name\" : \"TList\",        \"arr\" : [],        \"opt\" : []      },      \"fHistogram\" : null,      \"fMinimum\" : -1111,      \"fMaximum\" : -1111    }, {      \"_typename\" : \"TGraph\",      \"fUniqueID\" : 0,      \"fBits\" : 50332680,      \"fName\" : \"Error on test set\",      \"fTitle\" : \"Error on test set\",      \"fLineColor\" : 1,      \"fLineStyle\" : 1,      \"fLineWidth\" : 1,      \"fFillColor\" : 4,      \"fFillStyle\" : 1001,      \"fMarkerColor\" : 4,      \"fMarkerStyle\" : 8,      \"fMarkerSize\" : 5.000000e-01,      \"fNpoints\" : 5,      \"fX\" : [1, 2, 3, 4, 5],      \"fY\" : [6.740841e-01, 6.740841e-01, 6.740841e-01, 6.740841e-01, 6.740841e-01],      \"fFunctions\" : {        \"_typename\" : \"TList\",        \"name\" : \"TList\",        \"arr\" : [],        \"opt\" : []      },      \"fHistogram\" : null,      \"fMinimum\" : -1111,      \"fMaximum\" : -1111    }],    \"opt\" : [\"\", \"\"]  },  \"fFunctions\" : null,  \"fHistogram\" : null,  \"fMaximum\" : -1111,  \"fMinimum\" : -1111}');\n",
       "var script = document.getElementById(\"dataInserterScript\");\n",
       "script.parentElement.parentElement.remove();\n",
       "});\n",
       "</script>"
      ],
      "text/plain": [
       "<IPython.core.display.HTML object>"
      ]
     },
     "metadata": {},
     "output_type": "display_data"
    },
    {
     "data": {
      "text/html": [
       "\n",
       "     <script type=\"text/javascript\" id=\"progressBarScriptInc\">\n",
       "     require([\"jquery\"], function(jQ){\n",
       "         jQ(\"#jsmva_bar_4\").css(\"width\", 0 + \"%\");\n",
       "         jQ(\"#jsmva_label_4\").text(0 + '%');\n",
       "         jQ(\"#progressBarScriptInc\").parent().parent().remove();\n",
       "     });\n",
       "     </script>\n",
       "     "
      ],
      "text/plain": [
       "<IPython.core.display.HTML object>"
      ]
     },
     "metadata": {},
     "output_type": "display_data"
    },
    {
     "data": {
      "text/html": [
       "<script id=\"dataInserterScript\">\n",
       "require(['JsMVA'],function(jsmva){\n",
       "jsmva.updateTrainingTestingErrors('jstmva_2', '{  \"_typename\" : \"TMultiGraph\",  \"fUniqueID\" : 0,  \"fBits\" : 50331656,  \"fName\" : \"\",  \"fTitle\" : \"\",  \"fGraphs\" : {    \"_typename\" : \"TList\",    \"name\" : \"TList\",    \"arr\" : [{      \"_typename\" : \"TGraph\",      \"fUniqueID\" : 0,      \"fBits\" : 50332680,      \"fName\" : \"Error on training set\",      \"fTitle\" : \"Error on training set\",      \"fLineColor\" : 1,      \"fLineStyle\" : 1,      \"fLineWidth\" : 1,      \"fFillColor\" : 2,      \"fFillStyle\" : 1001,      \"fMarkerColor\" : 2,      \"fMarkerStyle\" : 8,      \"fMarkerSize\" : 5.000000e-01,      \"fNpoints\" : 7,      \"fX\" : [1, 2, 3, 4, 5, 6, 7],      \"fY\" : [6.113274e-01, 5.742290e-01, 5.665766e-01, 5.550619e-01, 5.374927e-01, 5.899767e-01, 5.252631e-01],      \"fFunctions\" : {        \"_typename\" : \"TList\",        \"name\" : \"TList\",        \"arr\" : [],        \"opt\" : []      },      \"fHistogram\" : null,      \"fMinimum\" : -1111,      \"fMaximum\" : -1111    }, {      \"_typename\" : \"TGraph\",      \"fUniqueID\" : 0,      \"fBits\" : 50332680,      \"fName\" : \"Error on test set\",      \"fTitle\" : \"Error on test set\",      \"fLineColor\" : 1,      \"fLineStyle\" : 1,      \"fLineWidth\" : 1,      \"fFillColor\" : 4,      \"fFillStyle\" : 1001,      \"fMarkerColor\" : 4,      \"fMarkerStyle\" : 8,      \"fMarkerSize\" : 5.000000e-01,      \"fNpoints\" : 7,      \"fX\" : [1, 2, 3, 4, 5, 6, 7],      \"fY\" : [6.740841e-01, 6.740841e-01, 6.740841e-01, 6.740841e-01, 6.740841e-01, 6.740841e-01, 6.740841e-01],      \"fFunctions\" : {        \"_typename\" : \"TList\",        \"name\" : \"TList\",        \"arr\" : [],        \"opt\" : []      },      \"fHistogram\" : null,      \"fMinimum\" : -1111,      \"fMaximum\" : -1111    }],    \"opt\" : [\"\", \"\"]  },  \"fFunctions\" : null,  \"fHistogram\" : null,  \"fMaximum\" : -1111,  \"fMinimum\" : -1111}');\n",
       "var script = document.getElementById(\"dataInserterScript\");\n",
       "script.parentElement.parentElement.remove();\n",
       "});\n",
       "</script>"
      ],
      "text/plain": [
       "<IPython.core.display.HTML object>"
      ]
     },
     "metadata": {},
     "output_type": "display_data"
    },
    {
     "data": {
      "text/html": [
       "\n",
       "     <script type=\"text/javascript\" id=\"progressBarScriptInc\">\n",
       "     require([\"jquery\"], function(jQ){\n",
       "         jQ(\"#jsmva_bar_4\").css(\"width\", 0 + \"%\");\n",
       "         jQ(\"#jsmva_label_4\").text(0 + '%');\n",
       "         jQ(\"#progressBarScriptInc\").parent().parent().remove();\n",
       "     });\n",
       "     </script>\n",
       "     "
      ],
      "text/plain": [
       "<IPython.core.display.HTML object>"
      ]
     },
     "metadata": {},
     "output_type": "display_data"
    },
    {
     "data": {
      "text/html": [
       "<script id=\"dataInserterScript\">\n",
       "require(['JsMVA'],function(jsmva){\n",
       "jsmva.updateTrainingTestingErrors('jstmva_2', '{  \"_typename\" : \"TMultiGraph\",  \"fUniqueID\" : 0,  \"fBits\" : 50331656,  \"fName\" : \"\",  \"fTitle\" : \"\",  \"fGraphs\" : {    \"_typename\" : \"TList\",    \"name\" : \"TList\",    \"arr\" : [{      \"_typename\" : \"TGraph\",      \"fUniqueID\" : 0,      \"fBits\" : 50332680,      \"fName\" : \"Error on training set\",      \"fTitle\" : \"Error on training set\",      \"fLineColor\" : 1,      \"fLineStyle\" : 1,      \"fLineWidth\" : 1,      \"fFillColor\" : 2,      \"fFillStyle\" : 1001,      \"fMarkerColor\" : 2,      \"fMarkerStyle\" : 8,      \"fMarkerSize\" : 5.000000e-01,      \"fNpoints\" : 10,      \"fX\" : [1, 2, 3, 4, 5, 6, 7, 8, 9, 10],      \"fY\" : [6.113274e-01, 5.742290e-01, 5.665766e-01, 5.550619e-01, 5.374927e-01, 5.899767e-01, 5.252631e-01, 5.141895e-01, 5.251288e-01, 5.229459e-01],      \"fFunctions\" : {        \"_typename\" : \"TList\",        \"name\" : \"TList\",        \"arr\" : [],        \"opt\" : []      },      \"fHistogram\" : null,      \"fMinimum\" : -1111,      \"fMaximum\" : -1111    }, {      \"_typename\" : \"TGraph\",      \"fUniqueID\" : 0,      \"fBits\" : 50332680,      \"fName\" : \"Error on test set\",      \"fTitle\" : \"Error on test set\",      \"fLineColor\" : 1,      \"fLineStyle\" : 1,      \"fLineWidth\" : 1,      \"fFillColor\" : 4,      \"fFillStyle\" : 1001,      \"fMarkerColor\" : 4,      \"fMarkerStyle\" : 8,      \"fMarkerSize\" : 5.000000e-01,      \"fNpoints\" : 10,      \"fX\" : [1, 2, 3, 4, 5, 6, 7, 8, 9, 10],      \"fY\" : [6.740841e-01, 6.740841e-01, 6.740841e-01, 6.740841e-01, 6.740841e-01, 6.740841e-01, 6.740841e-01, 6.740841e-01, 6.740841e-01, 6.740841e-01],      \"fFunctions\" : {        \"_typename\" : \"TList\",        \"name\" : \"TList\",        \"arr\" : [],        \"opt\" : []      },      \"fHistogram\" : null,      \"fMinimum\" : -1111,      \"fMaximum\" : -1111    }],    \"opt\" : [\"\", \"\"]  },  \"fFunctions\" : null,  \"fHistogram\" : null,  \"fMaximum\" : -1111,  \"fMinimum\" : -1111}');\n",
       "var script = document.getElementById(\"dataInserterScript\");\n",
       "script.parentElement.parentElement.remove();\n",
       "});\n",
       "</script>"
      ],
      "text/plain": [
       "<IPython.core.display.HTML object>"
      ]
     },
     "metadata": {},
     "output_type": "display_data"
    },
    {
     "data": {
      "text/html": [
       "\n",
       "     <script type=\"text/javascript\" id=\"progressBarScriptInc\">\n",
       "     require([\"jquery\"], function(jQ){\n",
       "         jQ(\"#jsmva_bar_4\").css(\"width\", 0 + \"%\");\n",
       "         jQ(\"#jsmva_label_4\").text(0 + '%');\n",
       "         jQ(\"#progressBarScriptInc\").parent().parent().remove();\n",
       "     });\n",
       "     </script>\n",
       "     "
      ],
      "text/plain": [
       "<IPython.core.display.HTML object>"
      ]
     },
     "metadata": {},
     "output_type": "display_data"
    },
    {
     "data": {
      "text/html": [
       "<script id=\"dataInserterScript\">\n",
       "require(['JsMVA'],function(jsmva){\n",
       "jsmva.updateTrainingTestingErrors('jstmva_2', '{  \"_typename\" : \"TMultiGraph\",  \"fUniqueID\" : 0,  \"fBits\" : 50331656,  \"fName\" : \"\",  \"fTitle\" : \"\",  \"fGraphs\" : {    \"_typename\" : \"TList\",    \"name\" : \"TList\",    \"arr\" : [{      \"_typename\" : \"TGraph\",      \"fUniqueID\" : 0,      \"fBits\" : 50332680,      \"fName\" : \"Error on training set\",      \"fTitle\" : \"Error on training set\",      \"fLineColor\" : 1,      \"fLineStyle\" : 1,      \"fLineWidth\" : 1,      \"fFillColor\" : 2,      \"fFillStyle\" : 1001,      \"fMarkerColor\" : 2,      \"fMarkerStyle\" : 8,      \"fMarkerSize\" : 5.000000e-01,      \"fNpoints\" : 13,      \"fX\" : [1, 2, 3, 4, 5, 6, 7, 8, 9, 10, 11, 12, 13],      \"fY\" : [6.113274e-01, 5.742290e-01, 5.665766e-01, 5.550619e-01, 5.374927e-01, 5.899767e-01, 5.252631e-01, 5.141895e-01, 5.251288e-01, 5.229459e-01, 5.553601e-01, 5.351997e-01, 5.203056e-01],      \"fFunctions\" : {        \"_typename\" : \"TList\",        \"name\" : \"TList\",        \"arr\" : [],        \"opt\" : []      },      \"fHistogram\" : null,      \"fMinimum\" : -1111,      \"fMaximum\" : -1111    }, {      \"_typename\" : \"TGraph\",      \"fUniqueID\" : 0,      \"fBits\" : 50332680,      \"fName\" : \"Error on test set\",      \"fTitle\" : \"Error on test set\",      \"fLineColor\" : 1,      \"fLineStyle\" : 1,      \"fLineWidth\" : 1,      \"fFillColor\" : 4,      \"fFillStyle\" : 1001,      \"fMarkerColor\" : 4,      \"fMarkerStyle\" : 8,      \"fMarkerSize\" : 5.000000e-01,      \"fNpoints\" : 13,      \"fX\" : [1, 2, 3, 4, 5, 6, 7, 8, 9, 10, 11, 12, 13],      \"fY\" : [6.740841e-01, 6.740841e-01, 6.740841e-01, 6.740841e-01, 6.740841e-01, 6.740841e-01, 6.740841e-01, 6.740841e-01, 6.740841e-01, 6.740841e-01, 6.740841e-01, 6.740841e-01, 6.740841e-01],      \"fFunctions\" : {        \"_typename\" : \"TList\",        \"name\" : \"TList\",        \"arr\" : [],        \"opt\" : []      },      \"fHistogram\" : null,      \"fMinimum\" : -1111,      \"fMaximum\" : -1111    }],    \"opt\" : [\"\", \"\"]  },  \"fFunctions\" : null,  \"fHistogram\" : null,  \"fMaximum\" : -1111,  \"fMinimum\" : -1111}');\n",
       "var script = document.getElementById(\"dataInserterScript\");\n",
       "script.parentElement.parentElement.remove();\n",
       "});\n",
       "</script>"
      ],
      "text/plain": [
       "<IPython.core.display.HTML object>"
      ]
     },
     "metadata": {},
     "output_type": "display_data"
    },
    {
     "data": {
      "text/html": [
       "\n",
       "     <script type=\"text/javascript\" id=\"progressBarScriptInc\">\n",
       "     require([\"jquery\"], function(jQ){\n",
       "         jQ(\"#jsmva_bar_4\").css(\"width\", 0 + \"%\");\n",
       "         jQ(\"#jsmva_label_4\").text(0 + '%');\n",
       "         jQ(\"#progressBarScriptInc\").parent().parent().remove();\n",
       "     });\n",
       "     </script>\n",
       "     "
      ],
      "text/plain": [
       "<IPython.core.display.HTML object>"
      ]
     },
     "metadata": {},
     "output_type": "display_data"
    },
    {
     "data": {
      "text/html": [
       "<script id=\"dataInserterScript\">\n",
       "require(['JsMVA'],function(jsmva){\n",
       "jsmva.updateTrainingTestingErrors('jstmva_2', '{  \"_typename\" : \"TMultiGraph\",  \"fUniqueID\" : 0,  \"fBits\" : 50331656,  \"fName\" : \"\",  \"fTitle\" : \"\",  \"fGraphs\" : {    \"_typename\" : \"TList\",    \"name\" : \"TList\",    \"arr\" : [{      \"_typename\" : \"TGraph\",      \"fUniqueID\" : 0,      \"fBits\" : 50332680,      \"fName\" : \"Error on training set\",      \"fTitle\" : \"Error on training set\",      \"fLineColor\" : 1,      \"fLineStyle\" : 1,      \"fLineWidth\" : 1,      \"fFillColor\" : 2,      \"fFillStyle\" : 1001,      \"fMarkerColor\" : 2,      \"fMarkerStyle\" : 8,      \"fMarkerSize\" : 5.000000e-01,      \"fNpoints\" : 15,      \"fX\" : [1, 2, 3, 4, 5, 6, 7, 8, 9, 10, 11, 12, 13, 14, 15],      \"fY\" : [6.113274e-01, 5.742290e-01, 5.665766e-01, 5.550619e-01, 5.374927e-01, 5.899767e-01, 5.252631e-01, 5.141895e-01, 5.251288e-01, 5.229459e-01, 5.553601e-01, 5.351997e-01, 5.203056e-01, 5.789302e-01, 5.298813e-01],      \"fFunctions\" : {        \"_typename\" : \"TList\",        \"name\" : \"TList\",        \"arr\" : [],        \"opt\" : []      },      \"fHistogram\" : null,      \"fMinimum\" : -1111,      \"fMaximum\" : -1111    }, {      \"_typename\" : \"TGraph\",      \"fUniqueID\" : 0,      \"fBits\" : 50332680,      \"fName\" : \"Error on test set\",      \"fTitle\" : \"Error on test set\",      \"fLineColor\" : 1,      \"fLineStyle\" : 1,      \"fLineWidth\" : 1,      \"fFillColor\" : 4,      \"fFillStyle\" : 1001,      \"fMarkerColor\" : 4,      \"fMarkerStyle\" : 8,      \"fMarkerSize\" : 5.000000e-01,      \"fNpoints\" : 15,      \"fX\" : [1, 2, 3, 4, 5, 6, 7, 8, 9, 10, 11, 12, 13, 14, 15],      \"fY\" : [6.740841e-01, 6.740841e-01, 6.740841e-01, 6.740841e-01, 6.740841e-01, 6.740841e-01, 6.740841e-01, 6.740841e-01, 6.740841e-01, 6.740841e-01, 6.740841e-01, 6.740841e-01, 6.740841e-01, 6.740841e-01, 6.740841e-01],      \"fFunctions\" : {        \"_typename\" : \"TList\",        \"name\" : \"TList\",        \"arr\" : [],        \"opt\" : []      },      \"fHistogram\" : null,      \"fMinimum\" : -1111,      \"fMaximum\" : -1111    }],    \"opt\" : [\"\", \"\"]  },  \"fFunctions\" : null,  \"fHistogram\" : null,  \"fMaximum\" : -1111,  \"fMinimum\" : -1111}');\n",
       "var script = document.getElementById(\"dataInserterScript\");\n",
       "script.parentElement.parentElement.remove();\n",
       "});\n",
       "</script>"
      ],
      "text/plain": [
       "<IPython.core.display.HTML object>"
      ]
     },
     "metadata": {},
     "output_type": "display_data"
    },
    {
     "data": {
      "text/html": [
       "\n",
       "     <script type=\"text/javascript\" id=\"progressBarScriptInc\">\n",
       "     require([\"jquery\"], function(jQ){\n",
       "         jQ(\"#jsmva_bar_4\").css(\"width\", 0 + \"%\");\n",
       "         jQ(\"#jsmva_label_4\").text(0 + '%');\n",
       "         jQ(\"#progressBarScriptInc\").parent().parent().remove();\n",
       "     });\n",
       "     </script>\n",
       "     "
      ],
      "text/plain": [
       "<IPython.core.display.HTML object>"
      ]
     },
     "metadata": {},
     "output_type": "display_data"
    },
    {
     "data": {
      "text/html": [
       "<script id=\"dataInserterScript\">\n",
       "require(['JsMVA'],function(jsmva){\n",
       "jsmva.updateTrainingTestingErrors('jstmva_2', '{  \"_typename\" : \"TMultiGraph\",  \"fUniqueID\" : 0,  \"fBits\" : 50331656,  \"fName\" : \"\",  \"fTitle\" : \"\",  \"fGraphs\" : {    \"_typename\" : \"TList\",    \"name\" : \"TList\",    \"arr\" : [{      \"_typename\" : \"TGraph\",      \"fUniqueID\" : 0,      \"fBits\" : 50332680,      \"fName\" : \"Error on training set\",      \"fTitle\" : \"Error on training set\",      \"fLineColor\" : 1,      \"fLineStyle\" : 1,      \"fLineWidth\" : 1,      \"fFillColor\" : 2,      \"fFillStyle\" : 1001,      \"fMarkerColor\" : 2,      \"fMarkerStyle\" : 8,      \"fMarkerSize\" : 5.000000e-01,      \"fNpoints\" : 19,      \"fX\" : [1, 2, 3, 4, 5, 6, 7, 8, 9, 10, 11, 12, 13, 14, 15, 16, 17, 18, 19],      \"fY\" : [6.113274e-01, 5.742290e-01, 5.665766e-01, 5.550619e-01, 5.374927e-01, 5.899767e-01, 5.252631e-01, 5.141895e-01, 5.251288e-01, 5.229459e-01, 5.553601e-01, 5.351997e-01, 5.203056e-01, 5.789302e-01, 5.298813e-01, 5.186756e-01, 5.489710e-01, 5.286083e-01, 5.101892e-01],      \"fFunctions\" : {        \"_typename\" : \"TList\",        \"name\" : \"TList\",        \"arr\" : [],        \"opt\" : []      },      \"fHistogram\" : null,      \"fMinimum\" : -1111,      \"fMaximum\" : -1111    }, {      \"_typename\" : \"TGraph\",      \"fUniqueID\" : 0,      \"fBits\" : 50332680,      \"fName\" : \"Error on test set\",      \"fTitle\" : \"Error on test set\",      \"fLineColor\" : 1,      \"fLineStyle\" : 1,      \"fLineWidth\" : 1,      \"fFillColor\" : 4,      \"fFillStyle\" : 1001,      \"fMarkerColor\" : 4,      \"fMarkerStyle\" : 8,      \"fMarkerSize\" : 5.000000e-01,      \"fNpoints\" : 19,      \"fX\" : [1, 2, 3, 4, 5, 6, 7, 8, 9, 10, 11, 12, 13, 14, 15, 16, 17, 18, 19],      \"fY\" : [6.740841e-01, 6.740841e-01, 6.740841e-01, 6.740841e-01, 6.740841e-01, 6.740841e-01, 6.740841e-01, 6.740841e-01, 6.740841e-01, 6.740841e-01, 6.740841e-01, 6.740841e-01, 6.740841e-01, 6.740841e-01, 6.740841e-01, 8.420784e-01, 8.420784e-01, 8.420784e-01, 8.420784e-01],      \"fFunctions\" : {        \"_typename\" : \"TList\",        \"name\" : \"TList\",        \"arr\" : [],        \"opt\" : []      },      \"fHistogram\" : null,      \"fMinimum\" : -1111,      \"fMaximum\" : -1111    }],    \"opt\" : [\"\", \"\"]  },  \"fFunctions\" : null,  \"fHistogram\" : null,  \"fMaximum\" : -1111,  \"fMinimum\" : -1111}');\n",
       "var script = document.getElementById(\"dataInserterScript\");\n",
       "script.parentElement.parentElement.remove();\n",
       "});\n",
       "</script>"
      ],
      "text/plain": [
       "<IPython.core.display.HTML object>"
      ]
     },
     "metadata": {},
     "output_type": "display_data"
    },
    {
     "data": {
      "text/html": [
       "\n",
       "     <script type=\"text/javascript\" id=\"progressBarScriptInc\">\n",
       "     require([\"jquery\"], function(jQ){\n",
       "         jQ(\"#jsmva_bar_4\").css(\"width\", 0 + \"%\");\n",
       "         jQ(\"#jsmva_label_4\").text(0 + '%');\n",
       "         jQ(\"#progressBarScriptInc\").parent().parent().remove();\n",
       "     });\n",
       "     </script>\n",
       "     "
      ],
      "text/plain": [
       "<IPython.core.display.HTML object>"
      ]
     },
     "metadata": {},
     "output_type": "display_data"
    },
    {
     "data": {
      "text/html": [
       "<script id=\"dataInserterScript\">\n",
       "require(['JsMVA'],function(jsmva){\n",
       "jsmva.updateTrainingTestingErrors('jstmva_2', '{  \"_typename\" : \"TMultiGraph\",  \"fUniqueID\" : 0,  \"fBits\" : 50331656,  \"fName\" : \"\",  \"fTitle\" : \"\",  \"fGraphs\" : {    \"_typename\" : \"TList\",    \"name\" : \"TList\",    \"arr\" : [{      \"_typename\" : \"TGraph\",      \"fUniqueID\" : 0,      \"fBits\" : 50332680,      \"fName\" : \"Error on training set\",      \"fTitle\" : \"Error on training set\",      \"fLineColor\" : 1,      \"fLineStyle\" : 1,      \"fLineWidth\" : 1,      \"fFillColor\" : 2,      \"fFillStyle\" : 1001,      \"fMarkerColor\" : 2,      \"fMarkerStyle\" : 8,      \"fMarkerSize\" : 5.000000e-01,      \"fNpoints\" : 23,      \"fX\" : [1, 2, 3, 4, 5, 6, 7, 8, 9, 10, 11, 12, 13, 14, 15, 16, 17, 18, 19, 20, 21, 22, 23],      \"fY\" : [6.113274e-01, 5.742290e-01, 5.665766e-01, 5.550619e-01, 5.374927e-01, 5.899767e-01, 5.252631e-01, 5.141895e-01, 5.251288e-01, 5.229459e-01, 5.553601e-01, 5.351997e-01, 5.203056e-01, 5.789302e-01, 5.298813e-01, 5.186756e-01, 5.489710e-01, 5.286083e-01, 5.101892e-01, 5.066404e-01, 4.992575e-01, 5.022942e-01, 5.158202e-01],      \"fFunctions\" : {        \"_typename\" : \"TList\",        \"name\" : \"TList\",        \"arr\" : [],        \"opt\" : []      },      \"fHistogram\" : null,      \"fMinimum\" : -1111,      \"fMaximum\" : -1111    }, {      \"_typename\" : \"TGraph\",      \"fUniqueID\" : 0,      \"fBits\" : 50332680,      \"fName\" : \"Error on test set\",      \"fTitle\" : \"Error on test set\",      \"fLineColor\" : 1,      \"fLineStyle\" : 1,      \"fLineWidth\" : 1,      \"fFillColor\" : 4,      \"fFillStyle\" : 1001,      \"fMarkerColor\" : 4,      \"fMarkerStyle\" : 8,      \"fMarkerSize\" : 5.000000e-01,      \"fNpoints\" : 23,      \"fX\" : [1, 2, 3, 4, 5, 6, 7, 8, 9, 10, 11, 12, 13, 14, 15, 16, 17, 18, 19, 20, 21, 22, 23],      \"fY\" : [6.740841e-01, 6.740841e-01, 6.740841e-01, 6.740841e-01, 6.740841e-01, 6.740841e-01, 6.740841e-01, 6.740841e-01, 6.740841e-01, 6.740841e-01, 6.740841e-01, 6.740841e-01, 6.740841e-01, 6.740841e-01, 6.740841e-01, 8.420784e-01, 8.420784e-01, 8.420784e-01, 8.420784e-01, 8.420784e-01, 8.420784e-01, 8.420784e-01, 8.420784e-01],      \"fFunctions\" : {        \"_typename\" : \"TList\",        \"name\" : \"TList\",        \"arr\" : [],        \"opt\" : []      },      \"fHistogram\" : null,      \"fMinimum\" : -1111,      \"fMaximum\" : -1111    }],    \"opt\" : [\"\", \"\"]  },  \"fFunctions\" : null,  \"fHistogram\" : null,  \"fMaximum\" : -1111,  \"fMinimum\" : -1111}');\n",
       "var script = document.getElementById(\"dataInserterScript\");\n",
       "script.parentElement.parentElement.remove();\n",
       "});\n",
       "</script>"
      ],
      "text/plain": [
       "<IPython.core.display.HTML object>"
      ]
     },
     "metadata": {},
     "output_type": "display_data"
    },
    {
     "data": {
      "text/html": [
       "\n",
       "     <script type=\"text/javascript\" id=\"progressBarScriptInc\">\n",
       "     require([\"jquery\"], function(jQ){\n",
       "         jQ(\"#jsmva_bar_4\").css(\"width\", 0 + \"%\");\n",
       "         jQ(\"#jsmva_label_4\").text(0 + '%');\n",
       "         jQ(\"#progressBarScriptInc\").parent().parent().remove();\n",
       "     });\n",
       "     </script>\n",
       "     "
      ],
      "text/plain": [
       "<IPython.core.display.HTML object>"
      ]
     },
     "metadata": {},
     "output_type": "display_data"
    },
    {
     "data": {
      "text/html": [
       "\n",
       "     <script type=\"text/javascript\" id=\"progressBarScriptInc\">\n",
       "     require([\"jquery\"], function(jQ){\n",
       "         jQ(\"#jsmva_bar_4\").css(\"width\", 0 + \"%\");\n",
       "         jQ(\"#jsmva_label_4\").text(0 + '%');\n",
       "         jQ(\"#progressBarScriptInc\").parent().parent().remove();\n",
       "     });\n",
       "     </script>\n",
       "     "
      ],
      "text/plain": [
       "<IPython.core.display.HTML object>"
      ]
     },
     "metadata": {},
     "output_type": "display_data"
    },
    {
     "data": {
      "text/html": [
       "<h2><b>Train method: Likelihood</b></h2>"
      ],
      "text/plain": [
       "<IPython.core.display.HTML object>"
      ]
     },
     "metadata": {},
     "output_type": "display_data"
    },
    {
     "data": {
      "text/html": [
       "<b>Training...</b>"
      ],
      "text/plain": [
       "<IPython.core.display.HTML object>"
      ]
     },
     "metadata": {},
     "output_type": "display_data"
    },
    {
     "data": {
      "text/html": [
       "<b>End</b>"
      ],
      "text/plain": [
       "<IPython.core.display.HTML object>"
      ]
     },
     "metadata": {},
     "output_type": "display_data"
    },
    {
     "data": {
      "text/html": [
       "<h2><b>Train method: BDT</b></h2>"
      ],
      "text/plain": [
       "<IPython.core.display.HTML object>"
      ]
     },
     "metadata": {},
     "output_type": "display_data"
    },
    {
     "data": {
      "text/html": [
       "\n",
       "     <script type=\"text/javascript\">\n",
       "     require([\"jquery\"], function(jQ){\n",
       "         jQ(\"input.stopTrainingButton\").on(\"click\", function(){\n",
       "             IPython.notebook.kernel.interrupt();\n",
       "             jQ(this).css({\n",
       "                 \"background-color\": \"rgba(200, 0, 0, 0.8)\",\n",
       "                 \"color\": \"#fff\",\n",
       "                 \"box-shadow\": \"0 3px 5px rgba(0, 0, 0, 0.3)\",\n",
       "             });\n",
       "         });\n",
       "     });\n",
       "     </script>\n",
       "     <style type=\"text/css\">\n",
       "     input.stopTrainingButton {\n",
       "         background-color: #fff;\n",
       "         border: 1px solid #ccc;\n",
       "         width: 100%;\n",
       "         font-size: 16px;\n",
       "         font-weight: bold;\n",
       "         padding: 6px 12px;\n",
       "         cursor: pointer;\n",
       "         border-radius: 6px;\n",
       "         color: #333;\n",
       "     }\n",
       "     input.stopTrainingButton:hover {\n",
       "         background-color: rgba(204, 204, 204, 0.4);\n",
       "     }\n",
       "     </style>\n",
       "     <input type=\"button\" value=\"Stop\" class=\"stopTrainingButton\" />\n",
       "     "
      ],
      "text/plain": [
       "<IPython.core.display.HTML object>"
      ]
     },
     "metadata": {},
     "output_type": "display_data"
    },
    {
     "data": {
      "text/html": [
       "\n",
       "     <style>\n",
       "     #jsmva_progress_6 {\n",
       "         position: relative;\n",
       "         float: left;\n",
       "         height: 30px;\n",
       "         width: 100%;\n",
       "         background-color: #f5f5f5;\n",
       "         border-radius: 3px;\n",
       "         box-shadow: inset 0 3px 6px rgba(0, 0, 0, 0.1);\n",
       "     }\n",
       "     #jsmva_bar_6 {\n",
       "         position: absolute;\n",
       "         width: 1%;\n",
       "         height: 100%;\n",
       "         background-color: #337ab7;\n",
       "     }\n",
       "     #jsmva_label_6 {\n",
       "         text-align: center;\n",
       "         line-height: 30px;\n",
       "         color: white;\n",
       "     }\n",
       "     </style>\n",
       "     <div id=\"jsmva_progress_6\">\n",
       "       <div id=\"jsmva_bar_6\">\n",
       "         <div id=\"jsmva_label_6\">0%</div>\n",
       "       </div>\n",
       "     </div>\n",
       "     "
      ],
      "text/plain": [
       "<IPython.core.display.HTML object>"
      ]
     },
     "metadata": {},
     "output_type": "display_data"
    },
    {
     "data": {
      "text/html": [
       "\n",
       "     <script type=\"text/javascript\" id=\"progressBarScriptInc\">\n",
       "     require([\"jquery\"], function(jQ){\n",
       "         jQ(\"#jsmva_bar_6\").css(\"width\", 21 + \"%\");\n",
       "         jQ(\"#jsmva_label_6\").text(21 + '%');\n",
       "         jQ(\"#progressBarScriptInc\").parent().parent().remove();\n",
       "     });\n",
       "     </script>\n",
       "     "
      ],
      "text/plain": [
       "<IPython.core.display.HTML object>"
      ]
     },
     "metadata": {},
     "output_type": "display_data"
    },
    {
     "data": {
      "text/html": [
       "\n",
       "<div id=\"jstmva_3\" style=\"width: 800px; height:450px\"></div>\n",
       "<script>\n",
       "    require(['JsMVA'],function(jsmva){\n",
       "        jsmva.drawTrainingTestingErrors('jstmva_3','{  \"_typename\" : \"TMultiGraph\",  \"fUniqueID\" : 0,  \"fBits\" : 50331656,  \"fName\" : \"\",  \"fTitle\" : \"\",  \"fGraphs\" : {    \"_typename\" : \"TList\",    \"name\" : \"TList\",    \"arr\" : [{      \"_typename\" : \"TGraph\",      \"fUniqueID\" : 0,      \"fBits\" : 50332680,      \"fName\" : \"Boost weight\",      \"fTitle\" : \"Boost weight\",      \"fLineColor\" : 1,      \"fLineStyle\" : 1,      \"fLineWidth\" : 1,      \"fFillColor\" : 2,      \"fFillStyle\" : 1001,      \"fMarkerColor\" : 2,      \"fMarkerStyle\" : 8,      \"fMarkerSize\" : 5.000000e-01,      \"fNpoints\" : 182,      \"fX\" : [0, 1, 2, 3, 4, 5, 6, 7, 8, 9, 10, 11, 12, 13, 14, 15, 16, 17, 18, 19, 20, 21, 22, 23, 24, 25, 26, 27, 28, 29, 30, 31, 32, 33, 34, 35, 36, 37, 38, 39, 40, 41, 42, 43, 44, 45, 46, 47, 48, 49, 50, 51, 52, 53, 54, 55, 56, 57, 58, 59, 60, 61, 62, 63, 64, 65, 66, 67, 68, 69, 70, 71, 72, 73, 74, 75, 76, 77, 78, 79, 80, 81, 82, 83, 84, 85, 86, 87, 88, 89, 90, 91, 92, 93, 94, 95, 96, 97, 98, 99, 100, 101, 102, 103, 104, 105, 106, 107, 108, 109, 110, 111, 112, 113, 114, 115, 116, 117, 118, 119, 120, 121, 122, 123, 124, 125, 126, 127, 128, 129, 130, 131, 132, 133, 134, 135, 136, 137, 138, 139, 140, 141, 142, 143, 144, 145, 146, 147, 148, 149, 150, 151, 152, 153, 154, 155, 156, 157, 158, 159, 160, 161, 162, 163, 164, 165, 166, 167, 168, 169, 170, 171, 172, 173, 174, 175, 176, 177, 178, 179, 180, 181],      \"fY\" : [6.312472e-01, 5.024325e-01, 4.141661e-01, 3.405934e-01, 2.759235e-01, 2.910225e-01, 2.454148e-01, 2.249930e-01, 2.718947e-01, 2.341744e-01, 2.187559e-01, 2.419772e-01, 2.643332e-01, 1.797895e-01, 2.024682e-01, 2.142669e-01, 2.251578e-01, 2.025335e-01, 1.177297e-01, 1.974492e-01, 2.123780e-01, 1.668480e-01, 1.676633e-01, 1.549410e-01, 1.967907e-01, 2.232038e-01, 1.723367e-01, 1.411267e-01, 1.664714e-01, 2.067169e-01, 1.580782e-01, 1.157519e-01, 1.371121e-01, 1.242201e-01, 1.972448e-01, 1.367952e-01, 1.934683e-01, 1.704684e-01, 8.809938e-02, 1.941839e-01, 1.420594e-01, 2.086924e-01, 1.504339e-01, 1.791480e-01, 1.247215e-01, 9.089893e-02, 1.743379e-01, 1.800013e-01, 1.242698e-01, 1.623655e-01, 1.394851e-01, 1.084702e-01, 2.216414e-01, 7.606151e-02, 1.721177e-01, 1.602234e-01, 1.424681e-01, 1.457008e-01, 1.567353e-01, 1.424615e-01, 1.572949e-01, 1.244759e-01, 1.086574e-01, 1.410884e-01, 2.128470e-01, 1.138094e-01, 2.084207e-01, 1.555762e-01, 1.926459e-01, 1.377904e-01, 1.431344e-01, 2.052022e-01, 8.280270e-02, 1.710084e-01, 6.497623e-02, 1.736164e-01, 1.657435e-01, 1.344922e-01, 8.431205e-02, 1.742958e-01, 1.216501e-01, 1.558093e-01, 1.691948e-01, 1.854684e-01, 8.580292e-02, 7.044341e-02, 1.100283e-01, 1.190426e-01, 1.530223e-01, 1.093453e-01, 1.033833e-01, 1.279863e-01, 1.248278e-01, 1.367830e-01, 9.258512e-02, 1.517367e-01, 9.832321e-02, 1.180270e-01, 1.228199e-01, 1.555873e-01, 1.485638e-01, 1.243442e-01, 1.533087e-01, 1.668110e-01, 1.101156e-01, 9.167697e-02, 1.695068e-01, 1.878537e-01, 1.220763e-01, 9.425623e-02, 1.361655e-01, 1.213836e-01, 9.700435e-02, 1.844177e-01, 1.451930e-01, 1.898177e-01, 1.527992e-01, 9.152481e-02, 1.590068e-01, 1.001588e-01, 1.006815e-01, 9.613167e-02, 1.422984e-01, 1.212950e-01, 1.408850e-01, 1.404645e-01, 1.732398e-01, 1.204409e-01, 1.000011e-01, 1.195598e-01, 1.128906e-01, 1.458188e-01, 1.433982e-01, 1.701780e-01, 1.605132e-01, 1.009409e-01, 8.543866e-02, 1.148060e-01, 7.335824e-02, 1.451574e-01, 1.658906e-01, 1.586339e-01, 1.095097e-01, 1.280256e-01, 1.626599e-01, 6.433628e-02, 6.418390e-02, 1.158321e-01, 1.520897e-01, 9.158084e-02, 1.124011e-01, 1.327409e-01, 1.179392e-01, 1.253471e-01, 1.564891e-01, 1.374878e-01, 1.198000e-01, 1.425686e-01, 1.384814e-01, 1.171758e-01, 1.103497e-01, 5.619091e-02, 1.046917e-01, 1.174366e-01, 1.470412e-01, 1.200771e-01, 7.731949e-02, 1.111269e-01, 1.585533e-01, 1.635272e-01, 1.198545e-01, 1.197004e-01, 1.922394e-01, 1.110430e-01, 1.639042e-01, 1.282502e-01, 1.650196e-01, 7.824010e-02, 1.402510e-01, 1.563985e-01, 1.475225e-01, 1.409592e-01],      \"fFunctions\" : {        \"_typename\" : \"TList\",        \"name\" : \"TList\",        \"arr\" : [],        \"opt\" : []      },      \"fHistogram\" : null,      \"fMinimum\" : -1111,      \"fMaximum\" : -1111    }, {      \"_typename\" : \"TGraph\",      \"fUniqueID\" : 0,      \"fBits\" : 50332680,      \"fName\" : \"Error Fraction\",      \"fTitle\" : \"Error Fraction\",      \"fLineColor\" : 1,      \"fLineStyle\" : 1,      \"fLineWidth\" : 1,      \"fFillColor\" : 4,      \"fFillStyle\" : 1001,      \"fMarkerColor\" : 4,      \"fMarkerStyle\" : 8,      \"fMarkerSize\" : 5.000000e-01,      \"fNpoints\" : 182,      \"fX\" : [0, 1, 2, 3, 4, 5, 6, 7, 8, 9, 10, 11, 12, 13, 14, 15, 16, 17, 18, 19, 20, 21, 22, 23, 24, 25, 26, 27, 28, 29, 30, 31, 32, 33, 34, 35, 36, 37, 38, 39, 40, 41, 42, 43, 44, 45, 46, 47, 48, 49, 50, 51, 52, 53, 54, 55, 56, 57, 58, 59, 60, 61, 62, 63, 64, 65, 66, 67, 68, 69, 70, 71, 72, 73, 74, 75, 76, 77, 78, 79, 80, 81, 82, 83, 84, 85, 86, 87, 88, 89, 90, 91, 92, 93, 94, 95, 96, 97, 98, 99, 100, 101, 102, 103, 104, 105, 106, 107, 108, 109, 110, 111, 112, 113, 114, 115, 116, 117, 118, 119, 120, 121, 122, 123, 124, 125, 126, 127, 128, 129, 130, 131, 132, 133, 134, 135, 136, 137, 138, 139, 140, 141, 142, 143, 144, 145, 146, 147, 148, 149, 150, 151, 152, 153, 154, 155, 156, 157, 158, 159, 160, 161, 162, 163, 164, 165, 166, 167, 168, 169, 170, 171, 172, 173, 174, 175, 176, 177, 178, 179, 180, 181],      \"fY\" : [2.205448e-01, 2.679860e-01, 3.039978e-01, 3.359965e-01, 3.654360e-01, 3.584622e-01, 3.796982e-01, 3.893641e-01, 3.673065e-01, 3.850071e-01, 3.923340e-01, 3.813188e-01, 3.708280e-01, 4.110615e-01, 4.001269e-01, 3.944765e-01, 3.892858e-01, 4.000956e-01, 4.414056e-01, 4.025387e-01, 3.953792e-01, 4.173416e-01, 4.169451e-01, 4.231435e-01, 4.028555e-01, 3.902152e-01, 4.146747e-01, 4.299014e-01, 4.175248e-01, 3.980891e-01, 4.216127e-01, 4.423812e-01, 4.318704e-01, 4.382074e-01, 4.026370e-01, 4.320259e-01, 4.044550e-01, 4.155820e-01, 4.560639e-01, 4.041103e-01, 4.294443e-01, 3.971427e-01, 4.253453e-01, 4.113721e-01, 4.379606e-01, 4.546753e-01, 4.137036e-01, 4.109589e-01, 4.381830e-01, 4.195232e-01, 4.307063e-01, 4.459766e-01, 3.909590e-01, 4.620424e-01, 4.147810e-01, 4.205669e-01, 4.292440e-01, 4.276608e-01, 4.222678e-01, 4.292473e-01, 4.219948e-01, 4.380815e-01, 4.458841e-01, 4.299202e-01, 3.951550e-01, 4.433397e-01, 3.972728e-01, 4.228335e-01, 4.048512e-01, 4.315375e-01, 4.289176e-01, 3.988151e-01, 4.586930e-01, 4.153197e-01, 4.675575e-01, 4.140536e-01, 4.178789e-01, 4.331565e-01, 4.579436e-01, 4.137240e-01, 4.394733e-01, 4.227197e-01, 4.162007e-01, 4.083147e-01, 4.572035e-01, 4.648364e-01, 4.452068e-01, 4.407583e-01, 4.240805e-01, 4.455442e-01, 4.484917e-01, 4.363540e-01, 4.379083e-01, 4.320319e-01, 4.538393e-01, 4.247086e-01, 4.509962e-01, 4.412590e-01, 4.388970e-01, 4.228281e-01, 4.262598e-01, 4.381464e-01, 4.239406e-01, 4.173596e-01, 4.451637e-01, 4.542895e-01, 4.160491e-01, 4.071626e-01, 4.392633e-01, 4.530110e-01, 4.323349e-01, 4.396046e-01, 4.516494e-01, 4.088225e-01, 4.279094e-01, 4.062148e-01, 4.241895e-01, 4.543649e-01, 4.211599e-01, 4.500874e-01, 4.498287e-01, 4.520817e-01, 4.293271e-01, 4.396482e-01, 4.300199e-01, 4.302260e-01, 4.142363e-01, 4.400691e-01, 4.501654e-01, 4.405033e-01, 4.437932e-01, 4.276030e-01, 4.287883e-01, 4.157230e-01, 4.204256e-01, 4.497003e-01, 4.573843e-01, 4.428479e-01, 4.633865e-01, 4.279268e-01, 4.178073e-01, 4.213418e-01, 4.454630e-01, 4.363347e-01, 4.193798e-01, 4.678762e-01, 4.679520e-01, 4.423416e-01, 4.245361e-01, 4.543372e-01, 4.440349e-01, 4.340167e-01, 4.413023e-01, 4.376526e-01, 4.223880e-01, 4.316860e-01, 4.403849e-01, 4.291948e-01, 4.311985e-01, 4.416788e-01, 4.450480e-01, 4.719341e-01, 4.478445e-01, 4.415502e-01, 4.270047e-01, 4.402484e-01, 4.614171e-01, 4.446642e-01, 4.213811e-01, 4.189575e-01, 4.403581e-01, 4.404340e-01, 4.050471e-01, 4.447056e-01, 4.187740e-01, 4.362242e-01, 4.182311e-01, 4.609596e-01, 4.303307e-01, 4.224322e-01, 4.267692e-01, 4.299835e-01],      \"fFunctions\" : {        \"_typename\" : \"TList\",        \"name\" : \"TList\",        \"arr\" : [],        \"opt\" : []      },      \"fHistogram\" : null,      \"fMinimum\" : -1111,      \"fMaximum\" : -1111    }],    \"opt\" : [\"\", \"\"]  },  \"fFunctions\" : null,  \"fHistogram\" : null,  \"fMaximum\" : -1111,  \"fMinimum\" : -1111}');\n",
       "    });\n",
       "</script>\n"
      ],
      "text/plain": [
       "<IPython.core.display.HTML object>"
      ]
     },
     "metadata": {},
     "output_type": "display_data"
    },
    {
     "data": {
      "text/html": [
       "<script id=\"dataInserterScript\">\n",
       "require(['JsMVA'],function(jsmva){\n",
       "jsmva.updateTrainingTestingErrors('jstmva_3', '{  \"_typename\" : \"TMultiGraph\",  \"fUniqueID\" : 0,  \"fBits\" : 50331656,  \"fName\" : \"\",  \"fTitle\" : \"\",  \"fGraphs\" : {    \"_typename\" : \"TList\",    \"name\" : \"TList\",    \"arr\" : [{      \"_typename\" : \"TGraph\",      \"fUniqueID\" : 0,      \"fBits\" : 50332680,      \"fName\" : \"Boost weight\",      \"fTitle\" : \"Boost weight\",      \"fLineColor\" : 1,      \"fLineStyle\" : 1,      \"fLineWidth\" : 1,      \"fFillColor\" : 2,      \"fFillStyle\" : 1001,      \"fMarkerColor\" : 2,      \"fMarkerStyle\" : 8,      \"fMarkerSize\" : 5.000000e-01,      \"fNpoints\" : 182,      \"fX\" : [0, 1, 2, 3, 4, 5, 6, 7, 8, 9, 10, 11, 12, 13, 14, 15, 16, 17, 18, 19, 20, 21, 22, 23, 24, 25, 26, 27, 28, 29, 30, 31, 32, 33, 34, 35, 36, 37, 38, 39, 40, 41, 42, 43, 44, 45, 46, 47, 48, 49, 50, 51, 52, 53, 54, 55, 56, 57, 58, 59, 60, 61, 62, 63, 64, 65, 66, 67, 68, 69, 70, 71, 72, 73, 74, 75, 76, 77, 78, 79, 80, 81, 82, 83, 84, 85, 86, 87, 88, 89, 90, 91, 92, 93, 94, 95, 96, 97, 98, 99, 100, 101, 102, 103, 104, 105, 106, 107, 108, 109, 110, 111, 112, 113, 114, 115, 116, 117, 118, 119, 120, 121, 122, 123, 124, 125, 126, 127, 128, 129, 130, 131, 132, 133, 134, 135, 136, 137, 138, 139, 140, 141, 142, 143, 144, 145, 146, 147, 148, 149, 150, 151, 152, 153, 154, 155, 156, 157, 158, 159, 160, 161, 162, 163, 164, 165, 166, 167, 168, 169, 170, 171, 172, 173, 174, 175, 176, 177, 178, 179, 180, 181],      \"fY\" : [6.312472e-01, 5.024325e-01, 4.141661e-01, 3.405934e-01, 2.759235e-01, 2.910225e-01, 2.454148e-01, 2.249930e-01, 2.718947e-01, 2.341744e-01, 2.187559e-01, 2.419772e-01, 2.643332e-01, 1.797895e-01, 2.024682e-01, 2.142669e-01, 2.251578e-01, 2.025335e-01, 1.177297e-01, 1.974492e-01, 2.123780e-01, 1.668480e-01, 1.676633e-01, 1.549410e-01, 1.967907e-01, 2.232038e-01, 1.723367e-01, 1.411267e-01, 1.664714e-01, 2.067169e-01, 1.580782e-01, 1.157519e-01, 1.371121e-01, 1.242201e-01, 1.972448e-01, 1.367952e-01, 1.934683e-01, 1.704684e-01, 8.809938e-02, 1.941839e-01, 1.420594e-01, 2.086924e-01, 1.504339e-01, 1.791480e-01, 1.247215e-01, 9.089893e-02, 1.743379e-01, 1.800013e-01, 1.242698e-01, 1.623655e-01, 1.394851e-01, 1.084702e-01, 2.216414e-01, 7.606151e-02, 1.721177e-01, 1.602234e-01, 1.424681e-01, 1.457008e-01, 1.567353e-01, 1.424615e-01, 1.572949e-01, 1.244759e-01, 1.086574e-01, 1.410884e-01, 2.128470e-01, 1.138094e-01, 2.084207e-01, 1.555762e-01, 1.926459e-01, 1.377904e-01, 1.431344e-01, 2.052022e-01, 8.280270e-02, 1.710084e-01, 6.497623e-02, 1.736164e-01, 1.657435e-01, 1.344922e-01, 8.431205e-02, 1.742958e-01, 1.216501e-01, 1.558093e-01, 1.691948e-01, 1.854684e-01, 8.580292e-02, 7.044341e-02, 1.100283e-01, 1.190426e-01, 1.530223e-01, 1.093453e-01, 1.033833e-01, 1.279863e-01, 1.248278e-01, 1.367830e-01, 9.258512e-02, 1.517367e-01, 9.832321e-02, 1.180270e-01, 1.228199e-01, 1.555873e-01, 1.485638e-01, 1.243442e-01, 1.533087e-01, 1.668110e-01, 1.101156e-01, 9.167697e-02, 1.695068e-01, 1.878537e-01, 1.220763e-01, 9.425623e-02, 1.361655e-01, 1.213836e-01, 9.700435e-02, 1.844177e-01, 1.451930e-01, 1.898177e-01, 1.527992e-01, 9.152481e-02, 1.590068e-01, 1.001588e-01, 1.006815e-01, 9.613167e-02, 1.422984e-01, 1.212950e-01, 1.408850e-01, 1.404645e-01, 1.732398e-01, 1.204409e-01, 1.000011e-01, 1.195598e-01, 1.128906e-01, 1.458188e-01, 1.433982e-01, 1.701780e-01, 1.605132e-01, 1.009409e-01, 8.543866e-02, 1.148060e-01, 7.335824e-02, 1.451574e-01, 1.658906e-01, 1.586339e-01, 1.095097e-01, 1.280256e-01, 1.626599e-01, 6.433628e-02, 6.418390e-02, 1.158321e-01, 1.520897e-01, 9.158084e-02, 1.124011e-01, 1.327409e-01, 1.179392e-01, 1.253471e-01, 1.564891e-01, 1.374878e-01, 1.198000e-01, 1.425686e-01, 1.384814e-01, 1.171758e-01, 1.103497e-01, 5.619091e-02, 1.046917e-01, 1.174366e-01, 1.470412e-01, 1.200771e-01, 7.731949e-02, 1.111269e-01, 1.585533e-01, 1.635272e-01, 1.198545e-01, 1.197004e-01, 1.922394e-01, 1.110430e-01, 1.639042e-01, 1.282502e-01, 1.650196e-01, 7.824010e-02, 1.402510e-01, 1.563985e-01, 1.475225e-01, 1.409592e-01],      \"fFunctions\" : {        \"_typename\" : \"TList\",        \"name\" : \"TList\",        \"arr\" : [],        \"opt\" : []      },      \"fHistogram\" : null,      \"fMinimum\" : -1111,      \"fMaximum\" : -1111    }, {      \"_typename\" : \"TGraph\",      \"fUniqueID\" : 0,      \"fBits\" : 50332680,      \"fName\" : \"Error Fraction\",      \"fTitle\" : \"Error Fraction\",      \"fLineColor\" : 1,      \"fLineStyle\" : 1,      \"fLineWidth\" : 1,      \"fFillColor\" : 4,      \"fFillStyle\" : 1001,      \"fMarkerColor\" : 4,      \"fMarkerStyle\" : 8,      \"fMarkerSize\" : 5.000000e-01,      \"fNpoints\" : 182,      \"fX\" : [0, 1, 2, 3, 4, 5, 6, 7, 8, 9, 10, 11, 12, 13, 14, 15, 16, 17, 18, 19, 20, 21, 22, 23, 24, 25, 26, 27, 28, 29, 30, 31, 32, 33, 34, 35, 36, 37, 38, 39, 40, 41, 42, 43, 44, 45, 46, 47, 48, 49, 50, 51, 52, 53, 54, 55, 56, 57, 58, 59, 60, 61, 62, 63, 64, 65, 66, 67, 68, 69, 70, 71, 72, 73, 74, 75, 76, 77, 78, 79, 80, 81, 82, 83, 84, 85, 86, 87, 88, 89, 90, 91, 92, 93, 94, 95, 96, 97, 98, 99, 100, 101, 102, 103, 104, 105, 106, 107, 108, 109, 110, 111, 112, 113, 114, 115, 116, 117, 118, 119, 120, 121, 122, 123, 124, 125, 126, 127, 128, 129, 130, 131, 132, 133, 134, 135, 136, 137, 138, 139, 140, 141, 142, 143, 144, 145, 146, 147, 148, 149, 150, 151, 152, 153, 154, 155, 156, 157, 158, 159, 160, 161, 162, 163, 164, 165, 166, 167, 168, 169, 170, 171, 172, 173, 174, 175, 176, 177, 178, 179, 180, 181],      \"fY\" : [2.205448e-01, 2.679860e-01, 3.039978e-01, 3.359965e-01, 3.654360e-01, 3.584622e-01, 3.796982e-01, 3.893641e-01, 3.673065e-01, 3.850071e-01, 3.923340e-01, 3.813188e-01, 3.708280e-01, 4.110615e-01, 4.001269e-01, 3.944765e-01, 3.892858e-01, 4.000956e-01, 4.414056e-01, 4.025387e-01, 3.953792e-01, 4.173416e-01, 4.169451e-01, 4.231435e-01, 4.028555e-01, 3.902152e-01, 4.146747e-01, 4.299014e-01, 4.175248e-01, 3.980891e-01, 4.216127e-01, 4.423812e-01, 4.318704e-01, 4.382074e-01, 4.026370e-01, 4.320259e-01, 4.044550e-01, 4.155820e-01, 4.560639e-01, 4.041103e-01, 4.294443e-01, 3.971427e-01, 4.253453e-01, 4.113721e-01, 4.379606e-01, 4.546753e-01, 4.137036e-01, 4.109589e-01, 4.381830e-01, 4.195232e-01, 4.307063e-01, 4.459766e-01, 3.909590e-01, 4.620424e-01, 4.147810e-01, 4.205669e-01, 4.292440e-01, 4.276608e-01, 4.222678e-01, 4.292473e-01, 4.219948e-01, 4.380815e-01, 4.458841e-01, 4.299202e-01, 3.951550e-01, 4.433397e-01, 3.972728e-01, 4.228335e-01, 4.048512e-01, 4.315375e-01, 4.289176e-01, 3.988151e-01, 4.586930e-01, 4.153197e-01, 4.675575e-01, 4.140536e-01, 4.178789e-01, 4.331565e-01, 4.579436e-01, 4.137240e-01, 4.394733e-01, 4.227197e-01, 4.162007e-01, 4.083147e-01, 4.572035e-01, 4.648364e-01, 4.452068e-01, 4.407583e-01, 4.240805e-01, 4.455442e-01, 4.484917e-01, 4.363540e-01, 4.379083e-01, 4.320319e-01, 4.538393e-01, 4.247086e-01, 4.509962e-01, 4.412590e-01, 4.388970e-01, 4.228281e-01, 4.262598e-01, 4.381464e-01, 4.239406e-01, 4.173596e-01, 4.451637e-01, 4.542895e-01, 4.160491e-01, 4.071626e-01, 4.392633e-01, 4.530110e-01, 4.323349e-01, 4.396046e-01, 4.516494e-01, 4.088225e-01, 4.279094e-01, 4.062148e-01, 4.241895e-01, 4.543649e-01, 4.211599e-01, 4.500874e-01, 4.498287e-01, 4.520817e-01, 4.293271e-01, 4.396482e-01, 4.300199e-01, 4.302260e-01, 4.142363e-01, 4.400691e-01, 4.501654e-01, 4.405033e-01, 4.437932e-01, 4.276030e-01, 4.287883e-01, 4.157230e-01, 4.204256e-01, 4.497003e-01, 4.573843e-01, 4.428479e-01, 4.633865e-01, 4.279268e-01, 4.178073e-01, 4.213418e-01, 4.454630e-01, 4.363347e-01, 4.193798e-01, 4.678762e-01, 4.679520e-01, 4.423416e-01, 4.245361e-01, 4.543372e-01, 4.440349e-01, 4.340167e-01, 4.413023e-01, 4.376526e-01, 4.223880e-01, 4.316860e-01, 4.403849e-01, 4.291948e-01, 4.311985e-01, 4.416788e-01, 4.450480e-01, 4.719341e-01, 4.478445e-01, 4.415502e-01, 4.270047e-01, 4.402484e-01, 4.614171e-01, 4.446642e-01, 4.213811e-01, 4.189575e-01, 4.403581e-01, 4.404340e-01, 4.050471e-01, 4.447056e-01, 4.187740e-01, 4.362242e-01, 4.182311e-01, 4.609596e-01, 4.303307e-01, 4.224322e-01, 4.267692e-01, 4.299835e-01],      \"fFunctions\" : {        \"_typename\" : \"TList\",        \"name\" : \"TList\",        \"arr\" : [],        \"opt\" : []      },      \"fHistogram\" : null,      \"fMinimum\" : -1111,      \"fMaximum\" : -1111    }],    \"opt\" : [\"\", \"\"]  },  \"fFunctions\" : null,  \"fHistogram\" : null,  \"fMaximum\" : -1111,  \"fMinimum\" : -1111}');\n",
       "var script = document.getElementById(\"dataInserterScript\");\n",
       "script.parentElement.parentElement.remove();\n",
       "});\n",
       "</script>"
      ],
      "text/plain": [
       "<IPython.core.display.HTML object>"
      ]
     },
     "metadata": {},
     "output_type": "display_data"
    },
    {
     "data": {
      "text/html": [
       "\n",
       "     <script type=\"text/javascript\" id=\"progressBarScriptInc\">\n",
       "     require([\"jquery\"], function(jQ){\n",
       "         jQ(\"#jsmva_bar_6\").css(\"width\", 21 + \"%\");\n",
       "         jQ(\"#jsmva_label_6\").text(21 + '%');\n",
       "         jQ(\"#progressBarScriptInc\").parent().parent().remove();\n",
       "     });\n",
       "     </script>\n",
       "     "
      ],
      "text/plain": [
       "<IPython.core.display.HTML object>"
      ]
     },
     "metadata": {},
     "output_type": "display_data"
    },
    {
     "data": {
      "text/html": [
       "<script id=\"dataInserterScript\">\n",
       "require(['JsMVA'],function(jsmva){\n",
       "jsmva.updateTrainingTestingErrors('jstmva_3', '{  \"_typename\" : \"TMultiGraph\",  \"fUniqueID\" : 0,  \"fBits\" : 50331656,  \"fName\" : \"\",  \"fTitle\" : \"\",  \"fGraphs\" : {    \"_typename\" : \"TList\",    \"name\" : \"TList\",    \"arr\" : [{      \"_typename\" : \"TGraph\",      \"fUniqueID\" : 0,      \"fBits\" : 50332680,      \"fName\" : \"Boost weight\",      \"fTitle\" : \"Boost weight\",      \"fLineColor\" : 1,      \"fLineStyle\" : 1,      \"fLineWidth\" : 1,      \"fFillColor\" : 2,      \"fFillStyle\" : 1001,      \"fMarkerColor\" : 2,      \"fMarkerStyle\" : 8,      \"fMarkerSize\" : 5.000000e-01,      \"fNpoints\" : 375,      \"fX\" : [0, 1, 2, 3, 4, 5, 6, 7, 8, 9, 10, 11, 12, 13, 14, 15, 16, 17, 18, 19, 20, 21, 22, 23, 24, 25, 26, 27, 28, 29, 30, 31, 32, 33, 34, 35, 36, 37, 38, 39, 40, 41, 42, 43, 44, 45, 46, 47, 48, 49, 50, 51, 52, 53, 54, 55, 56, 57, 58, 59, 60, 61, 62, 63, 64, 65, 66, 67, 68, 69, 70, 71, 72, 73, 74, 75, 76, 77, 78, 79, 80, 81, 82, 83, 84, 85, 86, 87, 88, 89, 90, 91, 92, 93, 94, 95, 96, 97, 98, 99, 100, 101, 102, 103, 104, 105, 106, 107, 108, 109, 110, 111, 112, 113, 114, 115, 116, 117, 118, 119, 120, 121, 122, 123, 124, 125, 126, 127, 128, 129, 130, 131, 132, 133, 134, 135, 136, 137, 138, 139, 140, 141, 142, 143, 144, 145, 146, 147, 148, 149, 150, 151, 152, 153, 154, 155, 156, 157, 158, 159, 160, 161, 162, 163, 164, 165, 166, 167, 168, 169, 170, 171, 172, 173, 174, 175, 176, 177, 178, 179, 180, 181, 182, 183, 184, 185, 186, 187, 188, 189, 190, 191, 192, 193, 194, 195, 196, 197, 198, 199, 200, 201, 202, 203, 204, 205, 206, 207, 208, 209, 210, 211, 212, 213, 214, 215, 216, 217, 218, 219, 220, 221, 222, 223, 224, 225, 226, 227, 228, 229, 230, 231, 232, 233, 234, 235, 236, 237, 238, 239, 240, 241, 242, 243, 244, 245, 246, 247, 248, 249, 250, 251, 252, 253, 254, 255, 256, 257, 258, 259, 260, 261, 262, 263, 264, 265, 266, 267, 268, 269, 270, 271, 272, 273, 274, 275, 276, 277, 278, 279, 280, 281, 282, 283, 284, 285, 286, 287, 288, 289, 290, 291, 292, 293, 294, 295, 296, 297, 298, 299, 300, 301, 302, 303, 304, 305, 306, 307, 308, 309, 310, 311, 312, 313, 314, 315, 316, 317, 318, 319, 320, 321, 322, 323, 324, 325, 326, 327, 328, 329, 330, 331, 332, 333, 334, 335, 336, 337, 338, 339, 340, 341, 342, 343, 344, 345, 346, 347, 348, 349, 350, 351, 352, 353, 354, 355, 356, 357, 358, 359, 360, 361, 362, 363, 364, 365, 366, 367, 368, 369, 370, 371, 372, 373, 374],      \"fY\" : [6.312472e-01, 5.024325e-01, 4.141661e-01, 3.405934e-01, 2.759235e-01, 2.910225e-01, 2.454148e-01, 2.249930e-01, 2.718947e-01, 2.341744e-01, 2.187559e-01, 2.419772e-01, 2.643332e-01, 1.797895e-01, 2.024682e-01, 2.142669e-01, 2.251578e-01, 2.025335e-01, 1.177297e-01, 1.974492e-01, 2.123780e-01, 1.668480e-01, 1.676633e-01, 1.549410e-01, 1.967907e-01, 2.232038e-01, 1.723367e-01, 1.411267e-01, 1.664714e-01, 2.067169e-01, 1.580782e-01, 1.157519e-01, 1.371121e-01, 1.242201e-01, 1.972448e-01, 1.367952e-01, 1.934683e-01, 1.704684e-01, 8.809938e-02, 1.941839e-01, 1.420594e-01, 2.086924e-01, 1.504339e-01, 1.791480e-01, 1.247215e-01, 9.089893e-02, 1.743379e-01, 1.800013e-01, 1.242698e-01, 1.623655e-01, 1.394851e-01, 1.084702e-01, 2.216414e-01, 7.606151e-02, 1.721177e-01, 1.602234e-01, 1.424681e-01, 1.457008e-01, 1.567353e-01, 1.424615e-01, 1.572949e-01, 1.244759e-01, 1.086574e-01, 1.410884e-01, 2.128470e-01, 1.138094e-01, 2.084207e-01, 1.555762e-01, 1.926459e-01, 1.377904e-01, 1.431344e-01, 2.052022e-01, 8.280270e-02, 1.710084e-01, 6.497623e-02, 1.736164e-01, 1.657435e-01, 1.344922e-01, 8.431205e-02, 1.742958e-01, 1.216501e-01, 1.558093e-01, 1.691948e-01, 1.854684e-01, 8.580292e-02, 7.044341e-02, 1.100283e-01, 1.190426e-01, 1.530223e-01, 1.093453e-01, 1.033833e-01, 1.279863e-01, 1.248278e-01, 1.367830e-01, 9.258512e-02, 1.517367e-01, 9.832321e-02, 1.180270e-01, 1.228199e-01, 1.555873e-01, 1.485638e-01, 1.243442e-01, 1.533087e-01, 1.668110e-01, 1.101156e-01, 9.167697e-02, 1.695068e-01, 1.878537e-01, 1.220763e-01, 9.425623e-02, 1.361655e-01, 1.213836e-01, 9.700435e-02, 1.844177e-01, 1.451930e-01, 1.898177e-01, 1.527992e-01, 9.152481e-02, 1.590068e-01, 1.001588e-01, 1.006815e-01, 9.613167e-02, 1.422984e-01, 1.212950e-01, 1.408850e-01, 1.404645e-01, 1.732398e-01, 1.204409e-01, 1.000011e-01, 1.195598e-01, 1.128906e-01, 1.458188e-01, 1.433982e-01, 1.701780e-01, 1.605132e-01, 1.009409e-01, 8.543866e-02, 1.148060e-01, 7.335824e-02, 1.451574e-01, 1.658906e-01, 1.586339e-01, 1.095097e-01, 1.280256e-01, 1.626599e-01, 6.433628e-02, 6.418390e-02, 1.158321e-01, 1.520897e-01, 9.158084e-02, 1.124011e-01, 1.327409e-01, 1.179392e-01, 1.253471e-01, 1.564891e-01, 1.374878e-01, 1.198000e-01, 1.425686e-01, 1.384814e-01, 1.171758e-01, 1.103497e-01, 5.619091e-02, 1.046917e-01, 1.174366e-01, 1.470412e-01, 1.200771e-01, 7.731949e-02, 1.111269e-01, 1.585533e-01, 1.635272e-01, 1.198545e-01, 1.197004e-01, 1.922394e-01, 1.110430e-01, 1.639042e-01, 1.282502e-01, 1.650196e-01, 7.824010e-02, 1.402510e-01, 1.563985e-01, 1.475225e-01, 1.409592e-01, 1.897095e-01, 8.307419e-02, 1.385424e-01, 1.123937e-01, 8.700867e-02, 1.363570e-01, 1.146473e-01, 1.569821e-01, 9.850277e-02, 1.017962e-01, 1.406236e-01, 1.297292e-01, 1.213653e-01, 7.344609e-02, 1.364236e-01, 1.330734e-01, 1.016073e-01, 8.244703e-02, 1.020444e-01, 1.520237e-01, 1.594118e-01, 7.076786e-02, 7.162049e-02, 1.004116e-01, 9.437716e-02, 1.471924e-01, 1.312289e-01, 1.353658e-01, 1.395703e-01, 1.314936e-01, 8.051882e-02, 1.773568e-01, 1.545050e-01, 1.153658e-01, 9.688664e-02, 7.305848e-02, 1.236370e-01, 1.590813e-01, 1.016505e-01, 1.542324e-01, 1.364687e-01, 1.763955e-01, 1.884387e-01, 6.717907e-02, 1.276422e-01, 1.040090e-01, 9.157464e-02, 1.258240e-01, 1.179954e-01, 7.424536e-02, 1.426172e-01, 1.555092e-01, 5.462717e-02, 8.761181e-02, 1.568921e-01, 1.057167e-01, 1.317782e-01, 5.412851e-02, 1.353018e-01, 1.129319e-01, 1.041687e-01, 1.080592e-01, 9.805491e-02, 1.288703e-01, 1.060647e-01, 1.077703e-01, 7.753651e-02, 9.630764e-02, 1.178955e-01, 1.107235e-01, 1.334981e-01, 1.615948e-01, 1.462408e-01, 1.453760e-01, 1.160019e-01, 9.094776e-02, 1.021012e-01, 6.192974e-02, 7.357522e-02, 1.507731e-01, 1.563819e-01, 1.693223e-01, 9.059569e-02, 1.054605e-01, 9.320778e-02, 1.020904e-01, 1.552326e-01, 1.377520e-01, 1.209693e-01, 1.354475e-01, 1.168823e-01, 1.466380e-01, 1.078753e-01, 7.156341e-02, 1.414164e-01, 1.347450e-01, 1.290046e-01, 1.420333e-01, 1.527209e-01, 1.298777e-01, 1.552823e-01, 1.189712e-01, 1.818232e-01, 1.936686e-01, 1.175787e-01, 1.580719e-01, 1.836051e-01, 1.120505e-01, 1.247042e-01, 1.338920e-01, 1.059324e-01, 8.231052e-02, 1.207725e-01, 8.474014e-02, 1.239788e-01, 1.115119e-01, 1.185851e-01, 1.615599e-01, 1.708444e-01, 1.065640e-01, 1.246992e-01, 5.633426e-02, 1.149906e-01, 1.423703e-01, 1.343272e-01, 1.005284e-01, 1.457401e-01, 1.047064e-01, 1.189293e-01, 1.461058e-01, 1.475569e-01, 1.700243e-01, 1.259603e-01, 1.237115e-01, 9.103476e-02, 1.086094e-01, 1.492711e-01, 1.451960e-01, 1.250430e-01, 7.021151e-02, 1.809087e-01, 1.352616e-01, 1.278330e-01, 1.148691e-01, 1.276112e-01, 1.494679e-01, 1.199982e-01, 1.165301e-01, 8.882973e-02, 1.538324e-01, 8.100954e-02, 1.101216e-01, 9.468943e-02, 9.301415e-02, 1.044726e-01, 8.778785e-02, 1.499461e-01, 8.713153e-02, 1.149991e-01, 9.755326e-02, 9.045420e-02, 9.479963e-02, 1.560788e-01, 1.686574e-01, 1.290546e-01, 1.199803e-01, 7.177342e-02, 1.691733e-01, 1.171991e-01, 1.157464e-01, 1.843045e-01, 1.261962e-01, 1.216186e-01, 1.083293e-01, 1.672580e-01, 9.501308e-02, 1.600864e-01, 9.310243e-02, 1.778781e-01, 8.916549e-02, 1.287078e-01, 1.404965e-01, 1.574312e-01, 1.340052e-01, 1.103069e-01, 1.346161e-01, 1.476161e-01, 9.011114e-02, 1.404047e-01, 1.257643e-01, 1.259850e-01, 1.424191e-01, 1.950040e-01],      \"fFunctions\" : {        \"_typename\" : \"TList\",        \"name\" : \"TList\",        \"arr\" : [],        \"opt\" : []      },      \"fHistogram\" : null,      \"fMinimum\" : -1111,      \"fMaximum\" : -1111    }, {      \"_typename\" : \"TGraph\",      \"fUniqueID\" : 0,      \"fBits\" : 50332680,      \"fName\" : \"Error Fraction\",      \"fTitle\" : \"Error Fraction\",      \"fLineColor\" : 1,      \"fLineStyle\" : 1,      \"fLineWidth\" : 1,      \"fFillColor\" : 4,      \"fFillStyle\" : 1001,      \"fMarkerColor\" : 4,      \"fMarkerStyle\" : 8,      \"fMarkerSize\" : 5.000000e-01,      \"fNpoints\" : 375,      \"fX\" : [0, 1, 2, 3, 4, 5, 6, 7, 8, 9, 10, 11, 12, 13, 14, 15, 16, 17, 18, 19, 20, 21, 22, 23, 24, 25, 26, 27, 28, 29, 30, 31, 32, 33, 34, 35, 36, 37, 38, 39, 40, 41, 42, 43, 44, 45, 46, 47, 48, 49, 50, 51, 52, 53, 54, 55, 56, 57, 58, 59, 60, 61, 62, 63, 64, 65, 66, 67, 68, 69, 70, 71, 72, 73, 74, 75, 76, 77, 78, 79, 80, 81, 82, 83, 84, 85, 86, 87, 88, 89, 90, 91, 92, 93, 94, 95, 96, 97, 98, 99, 100, 101, 102, 103, 104, 105, 106, 107, 108, 109, 110, 111, 112, 113, 114, 115, 116, 117, 118, 119, 120, 121, 122, 123, 124, 125, 126, 127, 128, 129, 130, 131, 132, 133, 134, 135, 136, 137, 138, 139, 140, 141, 142, 143, 144, 145, 146, 147, 148, 149, 150, 151, 152, 153, 154, 155, 156, 157, 158, 159, 160, 161, 162, 163, 164, 165, 166, 167, 168, 169, 170, 171, 172, 173, 174, 175, 176, 177, 178, 179, 180, 181, 182, 183, 184, 185, 186, 187, 188, 189, 190, 191, 192, 193, 194, 195, 196, 197, 198, 199, 200, 201, 202, 203, 204, 205, 206, 207, 208, 209, 210, 211, 212, 213, 214, 215, 216, 217, 218, 219, 220, 221, 222, 223, 224, 225, 226, 227, 228, 229, 230, 231, 232, 233, 234, 235, 236, 237, 238, 239, 240, 241, 242, 243, 244, 245, 246, 247, 248, 249, 250, 251, 252, 253, 254, 255, 256, 257, 258, 259, 260, 261, 262, 263, 264, 265, 266, 267, 268, 269, 270, 271, 272, 273, 274, 275, 276, 277, 278, 279, 280, 281, 282, 283, 284, 285, 286, 287, 288, 289, 290, 291, 292, 293, 294, 295, 296, 297, 298, 299, 300, 301, 302, 303, 304, 305, 306, 307, 308, 309, 310, 311, 312, 313, 314, 315, 316, 317, 318, 319, 320, 321, 322, 323, 324, 325, 326, 327, 328, 329, 330, 331, 332, 333, 334, 335, 336, 337, 338, 339, 340, 341, 342, 343, 344, 345, 346, 347, 348, 349, 350, 351, 352, 353, 354, 355, 356, 357, 358, 359, 360, 361, 362, 363, 364, 365, 366, 367, 368, 369, 370, 371, 372, 373, 374],      \"fY\" : [2.205448e-01, 2.679860e-01, 3.039978e-01, 3.359965e-01, 3.654360e-01, 3.584622e-01, 3.796982e-01, 3.893641e-01, 3.673065e-01, 3.850071e-01, 3.923340e-01, 3.813188e-01, 3.708280e-01, 4.110615e-01, 4.001269e-01, 3.944765e-01, 3.892858e-01, 4.000956e-01, 4.414056e-01, 4.025387e-01, 3.953792e-01, 4.173416e-01, 4.169451e-01, 4.231435e-01, 4.028555e-01, 3.902152e-01, 4.146747e-01, 4.299014e-01, 4.175248e-01, 3.980891e-01, 4.216127e-01, 4.423812e-01, 4.318704e-01, 4.382074e-01, 4.026370e-01, 4.320259e-01, 4.044550e-01, 4.155820e-01, 4.560639e-01, 4.041103e-01, 4.294443e-01, 3.971427e-01, 4.253453e-01, 4.113721e-01, 4.379606e-01, 4.546753e-01, 4.137036e-01, 4.109589e-01, 4.381830e-01, 4.195232e-01, 4.307063e-01, 4.459766e-01, 3.909590e-01, 4.620424e-01, 4.147810e-01, 4.205669e-01, 4.292440e-01, 4.276608e-01, 4.222678e-01, 4.292473e-01, 4.219948e-01, 4.380815e-01, 4.458841e-01, 4.299202e-01, 3.951550e-01, 4.433397e-01, 3.972728e-01, 4.228335e-01, 4.048512e-01, 4.315375e-01, 4.289176e-01, 3.988151e-01, 4.586930e-01, 4.153197e-01, 4.675575e-01, 4.140536e-01, 4.178789e-01, 4.331565e-01, 4.579436e-01, 4.137240e-01, 4.394733e-01, 4.227197e-01, 4.162007e-01, 4.083147e-01, 4.572035e-01, 4.648364e-01, 4.452068e-01, 4.407583e-01, 4.240805e-01, 4.455442e-01, 4.484917e-01, 4.363540e-01, 4.379083e-01, 4.320319e-01, 4.538393e-01, 4.247086e-01, 4.509962e-01, 4.412590e-01, 4.388970e-01, 4.228281e-01, 4.262598e-01, 4.381464e-01, 4.239406e-01, 4.173596e-01, 4.451637e-01, 4.542895e-01, 4.160491e-01, 4.071626e-01, 4.392633e-01, 4.530110e-01, 4.323349e-01, 4.396046e-01, 4.516494e-01, 4.088225e-01, 4.279094e-01, 4.062148e-01, 4.241895e-01, 4.543649e-01, 4.211599e-01, 4.500874e-01, 4.498287e-01, 4.520817e-01, 4.293271e-01, 4.396482e-01, 4.300199e-01, 4.302260e-01, 4.142363e-01, 4.400691e-01, 4.501654e-01, 4.405033e-01, 4.437932e-01, 4.276030e-01, 4.287883e-01, 4.157230e-01, 4.204256e-01, 4.497003e-01, 4.573843e-01, 4.428479e-01, 4.633865e-01, 4.279268e-01, 4.178073e-01, 4.213418e-01, 4.454630e-01, 4.363347e-01, 4.193798e-01, 4.678762e-01, 4.679520e-01, 4.423416e-01, 4.245361e-01, 4.543372e-01, 4.440349e-01, 4.340167e-01, 4.413023e-01, 4.376526e-01, 4.223880e-01, 4.316860e-01, 4.403849e-01, 4.291948e-01, 4.311985e-01, 4.416788e-01, 4.450480e-01, 4.719341e-01, 4.478445e-01, 4.415502e-01, 4.270047e-01, 4.402484e-01, 4.614171e-01, 4.446642e-01, 4.213811e-01, 4.189575e-01, 4.403581e-01, 4.404340e-01, 4.050471e-01, 4.447056e-01, 4.187740e-01, 4.362242e-01, 4.182311e-01, 4.609596e-01, 4.303307e-01, 4.224322e-01, 4.267692e-01, 4.299835e-01, 4.062670e-01, 4.585582e-01, 4.311686e-01, 4.440386e-01, 4.566051e-01, 4.322409e-01, 4.429262e-01, 4.221474e-01, 4.509073e-01, 4.492770e-01, 4.301480e-01, 4.354969e-01, 4.396136e-01, 4.633428e-01, 4.322083e-01, 4.338533e-01, 4.493705e-01, 4.588696e-01, 4.491541e-01, 4.245684e-01, 4.209625e-01, 4.646750e-01, 4.642509e-01, 4.499623e-01, 4.529510e-01, 4.269308e-01, 4.347596e-01, 4.327275e-01, 4.306645e-01, 4.346295e-01, 4.598274e-01, 4.122398e-01, 4.233564e-01, 4.425717e-01, 4.517077e-01, 4.635356e-01, 4.384946e-01, 4.211236e-01, 4.493491e-01, 4.234895e-01, 4.321861e-01, 4.127058e-01, 4.068803e-01, 4.664609e-01, 4.365232e-01, 4.481822e-01, 4.543402e-01, 4.374179e-01, 4.412746e-01, 4.629454e-01, 4.291710e-01, 4.228662e-01, 4.727136e-01, 4.563058e-01, 4.221913e-01, 4.473377e-01, 4.344897e-01, 4.729621e-01, 4.327589e-01, 4.437729e-01, 4.481032e-01, 4.461797e-01, 4.511291e-01, 4.359192e-01, 4.471656e-01, 4.463225e-01, 4.613092e-01, 4.519945e-01, 4.413238e-01, 4.448634e-01, 4.336447e-01, 4.198986e-01, 4.273964e-01, 4.278198e-01, 4.422578e-01, 4.546511e-01, 4.491261e-01, 4.690747e-01, 4.632786e-01, 4.251796e-01, 4.224403e-01, 4.161388e-01, 4.548257e-01, 4.474644e-01, 4.535306e-01, 4.491314e-01, 4.230012e-01, 4.315564e-01, 4.398087e-01, 4.326874e-01, 4.418235e-01, 4.272020e-01, 4.462706e-01, 4.642793e-01, 4.297594e-01, 4.330323e-01, 4.358532e-01, 4.294571e-01, 4.242277e-01, 4.354239e-01, 4.229769e-01, 4.407935e-01, 4.100772e-01, 4.043585e-01, 4.414801e-01, 4.216158e-01, 4.092153e-01, 4.442081e-01, 4.379691e-01, 4.334512e-01, 4.472310e-01, 4.589374e-01, 4.399056e-01, 4.577311e-01, 4.383263e-01, 4.444740e-01, 4.409838e-01, 4.199156e-01, 4.153993e-01, 4.469188e-01, 4.379716e-01, 4.718626e-01, 4.427568e-01, 4.292919e-01, 4.332375e-01, 4.499045e-01, 4.276415e-01, 4.478373e-01, 4.408142e-01, 4.274625e-01, 4.267524e-01, 4.157977e-01, 4.373509e-01, 4.384579e-01, 4.546079e-01, 4.459078e-01, 4.259139e-01, 4.279079e-01, 4.378023e-01, 4.649518e-01, 4.105197e-01, 4.327787e-01, 4.364294e-01, 4.428167e-01, 4.365385e-01, 4.258176e-01, 4.402873e-01, 4.419973e-01, 4.557016e-01, 4.236848e-01, 4.595836e-01, 4.451607e-01, 4.527963e-01, 4.536266e-01, 4.479529e-01, 4.562185e-01, 4.255838e-01, 4.565442e-01, 4.427526e-01, 4.513775e-01, 4.548958e-01, 4.527417e-01, 4.225882e-01, 4.164619e-01, 4.358285e-01, 4.402960e-01, 4.641748e-01, 4.162112e-01, 4.416673e-01, 4.423839e-01, 4.088772e-01, 4.372347e-01, 4.394888e-01, 4.460462e-01, 4.171422e-01, 4.526359e-01, 4.206336e-01, 4.535828e-01, 4.119872e-01, 4.555350e-01, 4.359991e-01, 4.302103e-01, 4.219283e-01, 4.333956e-01, 4.450692e-01, 4.330956e-01, 4.267234e-01, 4.550660e-01, 4.302553e-01, 4.374473e-01, 4.373387e-01, 4.292680e-01, 4.037154e-01],      \"fFunctions\" : {        \"_typename\" : \"TList\",        \"name\" : \"TList\",        \"arr\" : [],        \"opt\" : []      },      \"fHistogram\" : null,      \"fMinimum\" : -1111,      \"fMaximum\" : -1111    }],    \"opt\" : [\"\", \"\"]  },  \"fFunctions\" : null,  \"fHistogram\" : null,  \"fMaximum\" : -1111,  \"fMinimum\" : -1111}');\n",
       "var script = document.getElementById(\"dataInserterScript\");\n",
       "script.parentElement.parentElement.remove();\n",
       "});\n",
       "</script>"
      ],
      "text/plain": [
       "<IPython.core.display.HTML object>"
      ]
     },
     "metadata": {},
     "output_type": "display_data"
    },
    {
     "data": {
      "text/html": [
       "\n",
       "     <script type=\"text/javascript\" id=\"progressBarScriptInc\">\n",
       "     require([\"jquery\"], function(jQ){\n",
       "         jQ(\"#jsmva_bar_6\").css(\"width\", 44 + \"%\");\n",
       "         jQ(\"#jsmva_label_6\").text(44 + '%');\n",
       "         jQ(\"#progressBarScriptInc\").parent().parent().remove();\n",
       "     });\n",
       "     </script>\n",
       "     "
      ],
      "text/plain": [
       "<IPython.core.display.HTML object>"
      ]
     },
     "metadata": {},
     "output_type": "display_data"
    },
    {
     "data": {
      "text/html": [
       "<script id=\"dataInserterScript\">\n",
       "require(['JsMVA'],function(jsmva){\n",
       "jsmva.updateTrainingTestingErrors('jstmva_3', '{  \"_typename\" : \"TMultiGraph\",  \"fUniqueID\" : 0,  \"fBits\" : 50331656,  \"fName\" : \"\",  \"fTitle\" : \"\",  \"fGraphs\" : {    \"_typename\" : \"TList\",    \"name\" : \"TList\",    \"arr\" : [{      \"_typename\" : \"TGraph\",      \"fUniqueID\" : 0,      \"fBits\" : 50332680,      \"fName\" : \"Boost weight\",      \"fTitle\" : \"Boost weight\",      \"fLineColor\" : 1,      \"fLineStyle\" : 1,      \"fLineWidth\" : 1,      \"fFillColor\" : 2,      \"fFillStyle\" : 1001,      \"fMarkerColor\" : 2,      \"fMarkerStyle\" : 8,      \"fMarkerSize\" : 5.000000e-01,      \"fNpoints\" : 557,      \"fX\" : [0, 1, 2, 3, 4, 5, 6, 7, 8, 9, 10, 11, 12, 13, 14, 15, 16, 17, 18, 19, 20, 21, 22, 23, 24, 25, 26, 27, 28, 29, 30, 31, 32, 33, 34, 35, 36, 37, 38, 39, 40, 41, 42, 43, 44, 45, 46, 47, 48, 49, 50, 51, 52, 53, 54, 55, 56, 57, 58, 59, 60, 61, 62, 63, 64, 65, 66, 67, 68, 69, 70, 71, 72, 73, 74, 75, 76, 77, 78, 79, 80, 81, 82, 83, 84, 85, 86, 87, 88, 89, 90, 91, 92, 93, 94, 95, 96, 97, 98, 99, 100, 101, 102, 103, 104, 105, 106, 107, 108, 109, 110, 111, 112, 113, 114, 115, 116, 117, 118, 119, 120, 121, 122, 123, 124, 125, 126, 127, 128, 129, 130, 131, 132, 133, 134, 135, 136, 137, 138, 139, 140, 141, 142, 143, 144, 145, 146, 147, 148, 149, 150, 151, 152, 153, 154, 155, 156, 157, 158, 159, 160, 161, 162, 163, 164, 165, 166, 167, 168, 169, 170, 171, 172, 173, 174, 175, 176, 177, 178, 179, 180, 181, 182, 183, 184, 185, 186, 187, 188, 189, 190, 191, 192, 193, 194, 195, 196, 197, 198, 199, 200, 201, 202, 203, 204, 205, 206, 207, 208, 209, 210, 211, 212, 213, 214, 215, 216, 217, 218, 219, 220, 221, 222, 223, 224, 225, 226, 227, 228, 229, 230, 231, 232, 233, 234, 235, 236, 237, 238, 239, 240, 241, 242, 243, 244, 245, 246, 247, 248, 249, 250, 251, 252, 253, 254, 255, 256, 257, 258, 259, 260, 261, 262, 263, 264, 265, 266, 267, 268, 269, 270, 271, 272, 273, 274, 275, 276, 277, 278, 279, 280, 281, 282, 283, 284, 285, 286, 287, 288, 289, 290, 291, 292, 293, 294, 295, 296, 297, 298, 299, 300, 301, 302, 303, 304, 305, 306, 307, 308, 309, 310, 311, 312, 313, 314, 315, 316, 317, 318, 319, 320, 321, 322, 323, 324, 325, 326, 327, 328, 329, 330, 331, 332, 333, 334, 335, 336, 337, 338, 339, 340, 341, 342, 343, 344, 345, 346, 347, 348, 349, 350, 351, 352, 353, 354, 355, 356, 357, 358, 359, 360, 361, 362, 363, 364, 365, 366, 367, 368, 369, 370, 371, 372, 373, 374, 375, 376, 377, 378, 379, 380, 381, 382, 383, 384, 385, 386, 387, 388, 389, 390, 391, 392, 393, 394, 395, 396, 397, 398, 399, 400, 401, 402, 403, 404, 405, 406, 407, 408, 409, 410, 411, 412, 413, 414, 415, 416, 417, 418, 419, 420, 421, 422, 423, 424, 425, 426, 427, 428, 429, 430, 431, 432, 433, 434, 435, 436, 437, 438, 439, 440, 441, 442, 443, 444, 445, 446, 447, 448, 449, 450, 451, 452, 453, 454, 455, 456, 457, 458, 459, 460, 461, 462, 463, 464, 465, 466, 467, 468, 469, 470, 471, 472, 473, 474, 475, 476, 477, 478, 479, 480, 481, 482, 483, 484, 485, 486, 487, 488, 489, 490, 491, 492, 493, 494, 495, 496, 497, 498, 499, 500, 501, 502, 503, 504, 505, 506, 507, 508, 509, 510, 511, 512, 513, 514, 515, 516, 517, 518, 519, 520, 521, 522, 523, 524, 525, 526, 527, 528, 529, 530, 531, 532, 533, 534, 535, 536, 537, 538, 539, 540, 541, 542, 543, 544, 545, 546, 547, 548, 549, 550, 551, 552, 553, 554, 555, 556],      \"fY\" : [6.312472e-01, 5.024325e-01, 4.141661e-01, 3.405934e-01, 2.759235e-01, 2.910225e-01, 2.454148e-01, 2.249930e-01, 2.718947e-01, 2.341744e-01, 2.187559e-01, 2.419772e-01, 2.643332e-01, 1.797895e-01, 2.024682e-01, 2.142669e-01, 2.251578e-01, 2.025335e-01, 1.177297e-01, 1.974492e-01, 2.123780e-01, 1.668480e-01, 1.676633e-01, 1.549410e-01, 1.967907e-01, 2.232038e-01, 1.723367e-01, 1.411267e-01, 1.664714e-01, 2.067169e-01, 1.580782e-01, 1.157519e-01, 1.371121e-01, 1.242201e-01, 1.972448e-01, 1.367952e-01, 1.934683e-01, 1.704684e-01, 8.809938e-02, 1.941839e-01, 1.420594e-01, 2.086924e-01, 1.504339e-01, 1.791480e-01, 1.247215e-01, 9.089893e-02, 1.743379e-01, 1.800013e-01, 1.242698e-01, 1.623655e-01, 1.394851e-01, 1.084702e-01, 2.216414e-01, 7.606151e-02, 1.721177e-01, 1.602234e-01, 1.424681e-01, 1.457008e-01, 1.567353e-01, 1.424615e-01, 1.572949e-01, 1.244759e-01, 1.086574e-01, 1.410884e-01, 2.128470e-01, 1.138094e-01, 2.084207e-01, 1.555762e-01, 1.926459e-01, 1.377904e-01, 1.431344e-01, 2.052022e-01, 8.280270e-02, 1.710084e-01, 6.497623e-02, 1.736164e-01, 1.657435e-01, 1.344922e-01, 8.431205e-02, 1.742958e-01, 1.216501e-01, 1.558093e-01, 1.691948e-01, 1.854684e-01, 8.580292e-02, 7.044341e-02, 1.100283e-01, 1.190426e-01, 1.530223e-01, 1.093453e-01, 1.033833e-01, 1.279863e-01, 1.248278e-01, 1.367830e-01, 9.258512e-02, 1.517367e-01, 9.832321e-02, 1.180270e-01, 1.228199e-01, 1.555873e-01, 1.485638e-01, 1.243442e-01, 1.533087e-01, 1.668110e-01, 1.101156e-01, 9.167697e-02, 1.695068e-01, 1.878537e-01, 1.220763e-01, 9.425623e-02, 1.361655e-01, 1.213836e-01, 9.700435e-02, 1.844177e-01, 1.451930e-01, 1.898177e-01, 1.527992e-01, 9.152481e-02, 1.590068e-01, 1.001588e-01, 1.006815e-01, 9.613167e-02, 1.422984e-01, 1.212950e-01, 1.408850e-01, 1.404645e-01, 1.732398e-01, 1.204409e-01, 1.000011e-01, 1.195598e-01, 1.128906e-01, 1.458188e-01, 1.433982e-01, 1.701780e-01, 1.605132e-01, 1.009409e-01, 8.543866e-02, 1.148060e-01, 7.335824e-02, 1.451574e-01, 1.658906e-01, 1.586339e-01, 1.095097e-01, 1.280256e-01, 1.626599e-01, 6.433628e-02, 6.418390e-02, 1.158321e-01, 1.520897e-01, 9.158084e-02, 1.124011e-01, 1.327409e-01, 1.179392e-01, 1.253471e-01, 1.564891e-01, 1.374878e-01, 1.198000e-01, 1.425686e-01, 1.384814e-01, 1.171758e-01, 1.103497e-01, 5.619091e-02, 1.046917e-01, 1.174366e-01, 1.470412e-01, 1.200771e-01, 7.731949e-02, 1.111269e-01, 1.585533e-01, 1.635272e-01, 1.198545e-01, 1.197004e-01, 1.922394e-01, 1.110430e-01, 1.639042e-01, 1.282502e-01, 1.650196e-01, 7.824010e-02, 1.402510e-01, 1.563985e-01, 1.475225e-01, 1.409592e-01, 1.897095e-01, 8.307419e-02, 1.385424e-01, 1.123937e-01, 8.700867e-02, 1.363570e-01, 1.146473e-01, 1.569821e-01, 9.850277e-02, 1.017962e-01, 1.406236e-01, 1.297292e-01, 1.213653e-01, 7.344609e-02, 1.364236e-01, 1.330734e-01, 1.016073e-01, 8.244703e-02, 1.020444e-01, 1.520237e-01, 1.594118e-01, 7.076786e-02, 7.162049e-02, 1.004116e-01, 9.437716e-02, 1.471924e-01, 1.312289e-01, 1.353658e-01, 1.395703e-01, 1.314936e-01, 8.051882e-02, 1.773568e-01, 1.545050e-01, 1.153658e-01, 9.688664e-02, 7.305848e-02, 1.236370e-01, 1.590813e-01, 1.016505e-01, 1.542324e-01, 1.364687e-01, 1.763955e-01, 1.884387e-01, 6.717907e-02, 1.276422e-01, 1.040090e-01, 9.157464e-02, 1.258240e-01, 1.179954e-01, 7.424536e-02, 1.426172e-01, 1.555092e-01, 5.462717e-02, 8.761181e-02, 1.568921e-01, 1.057167e-01, 1.317782e-01, 5.412851e-02, 1.353018e-01, 1.129319e-01, 1.041687e-01, 1.080592e-01, 9.805491e-02, 1.288703e-01, 1.060647e-01, 1.077703e-01, 7.753651e-02, 9.630764e-02, 1.178955e-01, 1.107235e-01, 1.334981e-01, 1.615948e-01, 1.462408e-01, 1.453760e-01, 1.160019e-01, 9.094776e-02, 1.021012e-01, 6.192974e-02, 7.357522e-02, 1.507731e-01, 1.563819e-01, 1.693223e-01, 9.059569e-02, 1.054605e-01, 9.320778e-02, 1.020904e-01, 1.552326e-01, 1.377520e-01, 1.209693e-01, 1.354475e-01, 1.168823e-01, 1.466380e-01, 1.078753e-01, 7.156341e-02, 1.414164e-01, 1.347450e-01, 1.290046e-01, 1.420333e-01, 1.527209e-01, 1.298777e-01, 1.552823e-01, 1.189712e-01, 1.818232e-01, 1.936686e-01, 1.175787e-01, 1.580719e-01, 1.836051e-01, 1.120505e-01, 1.247042e-01, 1.338920e-01, 1.059324e-01, 8.231052e-02, 1.207725e-01, 8.474014e-02, 1.239788e-01, 1.115119e-01, 1.185851e-01, 1.615599e-01, 1.708444e-01, 1.065640e-01, 1.246992e-01, 5.633426e-02, 1.149906e-01, 1.423703e-01, 1.343272e-01, 1.005284e-01, 1.457401e-01, 1.047064e-01, 1.189293e-01, 1.461058e-01, 1.475569e-01, 1.700243e-01, 1.259603e-01, 1.237115e-01, 9.103476e-02, 1.086094e-01, 1.492711e-01, 1.451960e-01, 1.250430e-01, 7.021151e-02, 1.809087e-01, 1.352616e-01, 1.278330e-01, 1.148691e-01, 1.276112e-01, 1.494679e-01, 1.199982e-01, 1.165301e-01, 8.882973e-02, 1.538324e-01, 8.100954e-02, 1.101216e-01, 9.468943e-02, 9.301415e-02, 1.044726e-01, 8.778785e-02, 1.499461e-01, 8.713153e-02, 1.149991e-01, 9.755326e-02, 9.045420e-02, 9.479963e-02, 1.560788e-01, 1.686574e-01, 1.290546e-01, 1.199803e-01, 7.177342e-02, 1.691733e-01, 1.171991e-01, 1.157464e-01, 1.843045e-01, 1.261962e-01, 1.216186e-01, 1.083293e-01, 1.672580e-01, 9.501308e-02, 1.600864e-01, 9.310243e-02, 1.778781e-01, 8.916549e-02, 1.287078e-01, 1.404965e-01, 1.574312e-01, 1.340052e-01, 1.103069e-01, 1.346161e-01, 1.476161e-01, 9.011114e-02, 1.404047e-01, 1.257643e-01, 1.259850e-01, 1.424191e-01, 1.950040e-01, 1.165812e-01, 1.626081e-01, 1.488490e-01, 1.074422e-01, 1.116342e-01, 1.134434e-01, 1.214577e-01, 9.505153e-02, 1.077332e-01, 7.985779e-02, 1.356408e-01, 8.981644e-02, 1.395698e-01, 1.292999e-01, 7.520197e-02, 1.268009e-01, 1.507247e-01, 1.266786e-01, 8.399635e-02, 1.320611e-01, 1.682148e-01, 1.554250e-01, 1.482366e-01, 7.066699e-02, 1.593963e-01, 1.628080e-01, 6.533926e-02, 9.371180e-02, 1.371519e-01, 1.224548e-01, 9.783855e-02, 1.265514e-01, 1.718042e-01, 1.635655e-01, 9.208325e-02, 8.980613e-02, 1.221522e-01, 9.728655e-02, 1.749374e-01, 1.088553e-01, 1.531687e-01, 1.548122e-01, 8.429534e-02, 1.537358e-01, 1.278971e-01, 1.390373e-01, 1.225184e-01, 1.599643e-01, 6.312611e-02, 1.704786e-01, 1.325212e-01, 5.138744e-02, 1.395077e-01, 9.783533e-02, 1.381661e-01, 1.093919e-01, 1.111922e-01, 1.350071e-01, 1.117605e-01, 1.314700e-01, 1.277411e-01, 1.414153e-01, 1.341884e-01, 6.249969e-02, 1.117563e-01, 1.621410e-01, 1.270444e-01, 8.869879e-02, 6.123851e-02, 1.100672e-01, 1.215946e-01, 1.061691e-01, 1.552848e-01, 1.775345e-01, 8.794087e-02, 1.078436e-01, 5.855975e-02, 1.234140e-01, 1.726069e-01, 1.034618e-01, 1.572741e-01, 1.279199e-01, 1.091091e-01, 1.441139e-01, 1.664651e-01, 1.561962e-01, 1.216383e-01, 1.113030e-01, 1.008787e-01, 1.762428e-01, 9.081301e-02, 1.046358e-01, 8.950494e-02, 9.113883e-02, 1.355557e-01, 1.660216e-01, 1.321222e-01, 1.722755e-01, 1.287466e-01, 1.736104e-01, 9.568757e-02, 1.122201e-01, 8.958727e-02, 1.191816e-01, 1.142352e-01, 1.123239e-01, 8.166931e-02, 1.222800e-01, 1.874036e-01, 1.038539e-01, 9.667526e-02, 1.036981e-01, 1.454590e-01, 1.395246e-01, 1.268418e-01, 1.692526e-01, 1.574648e-01, 1.657017e-01, 1.239324e-01, 1.394458e-01, 1.109383e-01, 8.659234e-02, 1.356455e-01, 1.212107e-01, 6.663339e-02, 7.931762e-02, 1.015233e-01, 1.313491e-01, 9.302290e-02, 1.683898e-01, 9.400598e-02, 1.362421e-01, 1.189554e-01, 1.385763e-01, 9.901555e-02, 1.349031e-01, 1.200836e-01, 1.112735e-01, 1.043045e-01, 9.788754e-02, 8.873564e-02, 1.404690e-01, 1.112124e-01, 1.537628e-01, 5.953769e-02, 1.374208e-01, 1.336908e-01, 1.576900e-01, 1.094704e-01, 1.281597e-01, 1.170720e-01, 1.245444e-01, 1.456058e-01, 1.475885e-01, 1.621711e-01, 1.488593e-01, 7.370175e-02, 1.525998e-01, 8.654526e-02, 1.749459e-01, 1.479944e-01, 1.309861e-01, 1.279941e-01, 1.318900e-01, 1.707743e-01, 1.460934e-01, 1.120712e-01, 1.770454e-01, 1.426726e-01, 1.805432e-01, 1.522121e-01, 8.672744e-02, 1.232886e-01, 6.063466e-02, 4.867537e-02, 9.194269e-02, 1.173075e-01, 8.780155e-02, 1.272181e-01, 8.505087e-02, 1.029407e-01, 8.670459e-02],      \"fFunctions\" : {        \"_typename\" : \"TList\",        \"name\" : \"TList\",        \"arr\" : [],        \"opt\" : []      },      \"fHistogram\" : null,      \"fMinimum\" : -1111,      \"fMaximum\" : -1111    }, {      \"_typename\" : \"TGraph\",      \"fUniqueID\" : 0,      \"fBits\" : 50332680,      \"fName\" : \"Error Fraction\",      \"fTitle\" : \"Error Fraction\",      \"fLineColor\" : 1,      \"fLineStyle\" : 1,      \"fLineWidth\" : 1,      \"fFillColor\" : 4,      \"fFillStyle\" : 1001,      \"fMarkerColor\" : 4,      \"fMarkerStyle\" : 8,      \"fMarkerSize\" : 5.000000e-01,      \"fNpoints\" : 557,      \"fX\" : [0, 1, 2, 3, 4, 5, 6, 7, 8, 9, 10, 11, 12, 13, 14, 15, 16, 17, 18, 19, 20, 21, 22, 23, 24, 25, 26, 27, 28, 29, 30, 31, 32, 33, 34, 35, 36, 37, 38, 39, 40, 41, 42, 43, 44, 45, 46, 47, 48, 49, 50, 51, 52, 53, 54, 55, 56, 57, 58, 59, 60, 61, 62, 63, 64, 65, 66, 67, 68, 69, 70, 71, 72, 73, 74, 75, 76, 77, 78, 79, 80, 81, 82, 83, 84, 85, 86, 87, 88, 89, 90, 91, 92, 93, 94, 95, 96, 97, 98, 99, 100, 101, 102, 103, 104, 105, 106, 107, 108, 109, 110, 111, 112, 113, 114, 115, 116, 117, 118, 119, 120, 121, 122, 123, 124, 125, 126, 127, 128, 129, 130, 131, 132, 133, 134, 135, 136, 137, 138, 139, 140, 141, 142, 143, 144, 145, 146, 147, 148, 149, 150, 151, 152, 153, 154, 155, 156, 157, 158, 159, 160, 161, 162, 163, 164, 165, 166, 167, 168, 169, 170, 171, 172, 173, 174, 175, 176, 177, 178, 179, 180, 181, 182, 183, 184, 185, 186, 187, 188, 189, 190, 191, 192, 193, 194, 195, 196, 197, 198, 199, 200, 201, 202, 203, 204, 205, 206, 207, 208, 209, 210, 211, 212, 213, 214, 215, 216, 217, 218, 219, 220, 221, 222, 223, 224, 225, 226, 227, 228, 229, 230, 231, 232, 233, 234, 235, 236, 237, 238, 239, 240, 241, 242, 243, 244, 245, 246, 247, 248, 249, 250, 251, 252, 253, 254, 255, 256, 257, 258, 259, 260, 261, 262, 263, 264, 265, 266, 267, 268, 269, 270, 271, 272, 273, 274, 275, 276, 277, 278, 279, 280, 281, 282, 283, 284, 285, 286, 287, 288, 289, 290, 291, 292, 293, 294, 295, 296, 297, 298, 299, 300, 301, 302, 303, 304, 305, 306, 307, 308, 309, 310, 311, 312, 313, 314, 315, 316, 317, 318, 319, 320, 321, 322, 323, 324, 325, 326, 327, 328, 329, 330, 331, 332, 333, 334, 335, 336, 337, 338, 339, 340, 341, 342, 343, 344, 345, 346, 347, 348, 349, 350, 351, 352, 353, 354, 355, 356, 357, 358, 359, 360, 361, 362, 363, 364, 365, 366, 367, 368, 369, 370, 371, 372, 373, 374, 375, 376, 377, 378, 379, 380, 381, 382, 383, 384, 385, 386, 387, 388, 389, 390, 391, 392, 393, 394, 395, 396, 397, 398, 399, 400, 401, 402, 403, 404, 405, 406, 407, 408, 409, 410, 411, 412, 413, 414, 415, 416, 417, 418, 419, 420, 421, 422, 423, 424, 425, 426, 427, 428, 429, 430, 431, 432, 433, 434, 435, 436, 437, 438, 439, 440, 441, 442, 443, 444, 445, 446, 447, 448, 449, 450, 451, 452, 453, 454, 455, 456, 457, 458, 459, 460, 461, 462, 463, 464, 465, 466, 467, 468, 469, 470, 471, 472, 473, 474, 475, 476, 477, 478, 479, 480, 481, 482, 483, 484, 485, 486, 487, 488, 489, 490, 491, 492, 493, 494, 495, 496, 497, 498, 499, 500, 501, 502, 503, 504, 505, 506, 507, 508, 509, 510, 511, 512, 513, 514, 515, 516, 517, 518, 519, 520, 521, 522, 523, 524, 525, 526, 527, 528, 529, 530, 531, 532, 533, 534, 535, 536, 537, 538, 539, 540, 541, 542, 543, 544, 545, 546, 547, 548, 549, 550, 551, 552, 553, 554, 555, 556],      \"fY\" : [2.205448e-01, 2.679860e-01, 3.039978e-01, 3.359965e-01, 3.654360e-01, 3.584622e-01, 3.796982e-01, 3.893641e-01, 3.673065e-01, 3.850071e-01, 3.923340e-01, 3.813188e-01, 3.708280e-01, 4.110615e-01, 4.001269e-01, 3.944765e-01, 3.892858e-01, 4.000956e-01, 4.414056e-01, 4.025387e-01, 3.953792e-01, 4.173416e-01, 4.169451e-01, 4.231435e-01, 4.028555e-01, 3.902152e-01, 4.146747e-01, 4.299014e-01, 4.175248e-01, 3.980891e-01, 4.216127e-01, 4.423812e-01, 4.318704e-01, 4.382074e-01, 4.026370e-01, 4.320259e-01, 4.044550e-01, 4.155820e-01, 4.560639e-01, 4.041103e-01, 4.294443e-01, 3.971427e-01, 4.253453e-01, 4.113721e-01, 4.379606e-01, 4.546753e-01, 4.137036e-01, 4.109589e-01, 4.381830e-01, 4.195232e-01, 4.307063e-01, 4.459766e-01, 3.909590e-01, 4.620424e-01, 4.147810e-01, 4.205669e-01, 4.292440e-01, 4.276608e-01, 4.222678e-01, 4.292473e-01, 4.219948e-01, 4.380815e-01, 4.458841e-01, 4.299202e-01, 3.951550e-01, 4.433397e-01, 3.972728e-01, 4.228335e-01, 4.048512e-01, 4.315375e-01, 4.289176e-01, 3.988151e-01, 4.586930e-01, 4.153197e-01, 4.675575e-01, 4.140536e-01, 4.178789e-01, 4.331565e-01, 4.579436e-01, 4.137240e-01, 4.394733e-01, 4.227197e-01, 4.162007e-01, 4.083147e-01, 4.572035e-01, 4.648364e-01, 4.452068e-01, 4.407583e-01, 4.240805e-01, 4.455442e-01, 4.484917e-01, 4.363540e-01, 4.379083e-01, 4.320319e-01, 4.538393e-01, 4.247086e-01, 4.509962e-01, 4.412590e-01, 4.388970e-01, 4.228281e-01, 4.262598e-01, 4.381464e-01, 4.239406e-01, 4.173596e-01, 4.451637e-01, 4.542895e-01, 4.160491e-01, 4.071626e-01, 4.392633e-01, 4.530110e-01, 4.323349e-01, 4.396046e-01, 4.516494e-01, 4.088225e-01, 4.279094e-01, 4.062148e-01, 4.241895e-01, 4.543649e-01, 4.211599e-01, 4.500874e-01, 4.498287e-01, 4.520817e-01, 4.293271e-01, 4.396482e-01, 4.300199e-01, 4.302260e-01, 4.142363e-01, 4.400691e-01, 4.501654e-01, 4.405033e-01, 4.437932e-01, 4.276030e-01, 4.287883e-01, 4.157230e-01, 4.204256e-01, 4.497003e-01, 4.573843e-01, 4.428479e-01, 4.633865e-01, 4.279268e-01, 4.178073e-01, 4.213418e-01, 4.454630e-01, 4.363347e-01, 4.193798e-01, 4.678762e-01, 4.679520e-01, 4.423416e-01, 4.245361e-01, 4.543372e-01, 4.440349e-01, 4.340167e-01, 4.413023e-01, 4.376526e-01, 4.223880e-01, 4.316860e-01, 4.403849e-01, 4.291948e-01, 4.311985e-01, 4.416788e-01, 4.450480e-01, 4.719341e-01, 4.478445e-01, 4.415502e-01, 4.270047e-01, 4.402484e-01, 4.614171e-01, 4.446642e-01, 4.213811e-01, 4.189575e-01, 4.403581e-01, 4.404340e-01, 4.050471e-01, 4.447056e-01, 4.187740e-01, 4.362242e-01, 4.182311e-01, 4.609596e-01, 4.303307e-01, 4.224322e-01, 4.267692e-01, 4.299835e-01, 4.062670e-01, 4.585582e-01, 4.311686e-01, 4.440386e-01, 4.566051e-01, 4.322409e-01, 4.429262e-01, 4.221474e-01, 4.509073e-01, 4.492770e-01, 4.301480e-01, 4.354969e-01, 4.396136e-01, 4.633428e-01, 4.322083e-01, 4.338533e-01, 4.493705e-01, 4.588696e-01, 4.491541e-01, 4.245684e-01, 4.209625e-01, 4.646750e-01, 4.642509e-01, 4.499623e-01, 4.529510e-01, 4.269308e-01, 4.347596e-01, 4.327275e-01, 4.306645e-01, 4.346295e-01, 4.598274e-01, 4.122398e-01, 4.233564e-01, 4.425717e-01, 4.517077e-01, 4.635356e-01, 4.384946e-01, 4.211236e-01, 4.493491e-01, 4.234895e-01, 4.321861e-01, 4.127058e-01, 4.068803e-01, 4.664609e-01, 4.365232e-01, 4.481822e-01, 4.543402e-01, 4.374179e-01, 4.412746e-01, 4.629454e-01, 4.291710e-01, 4.228662e-01, 4.727136e-01, 4.563058e-01, 4.221913e-01, 4.473377e-01, 4.344897e-01, 4.729621e-01, 4.327589e-01, 4.437729e-01, 4.481032e-01, 4.461797e-01, 4.511291e-01, 4.359192e-01, 4.471656e-01, 4.463225e-01, 4.613092e-01, 4.519945e-01, 4.413238e-01, 4.448634e-01, 4.336447e-01, 4.198986e-01, 4.273964e-01, 4.278198e-01, 4.422578e-01, 4.546511e-01, 4.491261e-01, 4.690747e-01, 4.632786e-01, 4.251796e-01, 4.224403e-01, 4.161388e-01, 4.548257e-01, 4.474644e-01, 4.535306e-01, 4.491314e-01, 4.230012e-01, 4.315564e-01, 4.398087e-01, 4.326874e-01, 4.418235e-01, 4.272020e-01, 4.462706e-01, 4.642793e-01, 4.297594e-01, 4.330323e-01, 4.358532e-01, 4.294571e-01, 4.242277e-01, 4.354239e-01, 4.229769e-01, 4.407935e-01, 4.100772e-01, 4.043585e-01, 4.414801e-01, 4.216158e-01, 4.092153e-01, 4.442081e-01, 4.379691e-01, 4.334512e-01, 4.472310e-01, 4.589374e-01, 4.399056e-01, 4.577311e-01, 4.383263e-01, 4.444740e-01, 4.409838e-01, 4.199156e-01, 4.153993e-01, 4.469188e-01, 4.379716e-01, 4.718626e-01, 4.427568e-01, 4.292919e-01, 4.332375e-01, 4.499045e-01, 4.276415e-01, 4.478373e-01, 4.408142e-01, 4.274625e-01, 4.267524e-01, 4.157977e-01, 4.373509e-01, 4.384579e-01, 4.546079e-01, 4.459078e-01, 4.259139e-01, 4.279079e-01, 4.378023e-01, 4.649518e-01, 4.105197e-01, 4.327787e-01, 4.364294e-01, 4.428167e-01, 4.365385e-01, 4.258176e-01, 4.402873e-01, 4.419973e-01, 4.557016e-01, 4.236848e-01, 4.595836e-01, 4.451607e-01, 4.527963e-01, 4.536266e-01, 4.479529e-01, 4.562185e-01, 4.255838e-01, 4.565442e-01, 4.427526e-01, 4.513775e-01, 4.548958e-01, 4.527417e-01, 4.225882e-01, 4.164619e-01, 4.358285e-01, 4.402960e-01, 4.641748e-01, 4.162112e-01, 4.416673e-01, 4.423839e-01, 4.088772e-01, 4.372347e-01, 4.394888e-01, 4.460462e-01, 4.171422e-01, 4.526359e-01, 4.206336e-01, 4.535828e-01, 4.119872e-01, 4.555350e-01, 4.359991e-01, 4.302103e-01, 4.219283e-01, 4.333956e-01, 4.450692e-01, 4.330956e-01, 4.267234e-01, 4.550660e-01, 4.302553e-01, 4.374473e-01, 4.373387e-01, 4.292680e-01, 4.037154e-01, 4.419720e-01, 4.194051e-01, 4.261203e-01, 4.464847e-01, 4.444136e-01, 4.435204e-01, 4.395680e-01, 4.526168e-01, 4.463408e-01, 4.601558e-01, 4.325925e-01, 4.552122e-01, 4.306647e-01, 4.357079e-01, 4.624697e-01, 4.369372e-01, 4.252032e-01, 4.369973e-01, 4.581003e-01, 4.343507e-01, 4.166770e-01, 4.229073e-01, 4.264199e-01, 4.647252e-01, 4.209700e-01, 4.193077e-01, 4.673768e-01, 4.532808e-01, 4.318508e-01, 4.390768e-01, 4.512362e-01, 4.370599e-01, 4.149332e-01, 4.189389e-01, 4.540881e-01, 4.552173e-01, 4.392259e-01, 4.515096e-01, 4.134128e-01, 4.457863e-01, 4.240090e-01, 4.232064e-01, 4.579519e-01, 4.237320e-01, 4.363979e-01, 4.309259e-01, 4.390455e-01, 4.206932e-01, 4.684788e-01, 4.155770e-01, 4.341246e-01, 4.743289e-01, 4.306952e-01, 4.512378e-01, 4.313532e-01, 4.455212e-01, 4.446319e-01, 4.329036e-01, 4.443513e-01, 4.346411e-01, 4.364746e-01, 4.297599e-01, 4.333056e-01, 4.687908e-01, 4.443533e-01, 4.196325e-01, 4.368174e-01, 4.557665e-01, 4.694190e-01, 4.451875e-01, 4.395006e-01, 4.471140e-01, 4.229757e-01, 4.121538e-01, 4.561426e-01, 4.462863e-01, 4.707535e-01, 4.386044e-01, 4.145436e-01, 4.484529e-01, 4.220050e-01, 4.363866e-01, 4.456609e-01, 4.284378e-01, 4.175278e-01, 4.225309e-01, 4.394791e-01, 4.445772e-01, 4.497311e-01, 4.127798e-01, 4.547179e-01, 4.478722e-01, 4.553667e-01, 4.545563e-01, 4.326343e-01, 4.177436e-01, 4.343206e-01, 4.147044e-01, 4.359800e-01, 4.140565e-01, 4.523017e-01, 4.441243e-01, 4.553258e-01, 4.406898e-01, 4.431295e-01, 4.440731e-01, 4.592559e-01, 4.391629e-01, 4.073800e-01, 4.482589e-01, 4.518124e-01, 4.483360e-01, 4.277791e-01, 4.306869e-01, 4.369171e-01, 4.161726e-01, 4.219119e-01, 4.178992e-01, 4.383491e-01, 4.307255e-01, 4.447573e-01, 4.568117e-01, 4.325902e-01, 4.396897e-01, 4.667325e-01, 4.604242e-01, 4.494121e-01, 4.347006e-01, 4.536222e-01, 4.165919e-01, 4.531350e-01, 4.322973e-01, 4.408013e-01, 4.311520e-01, 4.506534e-01, 4.329547e-01, 4.402452e-01, 4.445917e-01, 4.480360e-01, 4.512120e-01, 4.557483e-01, 4.302238e-01, 4.446219e-01, 4.237188e-01, 4.702663e-01, 4.317189e-01, 4.335500e-01, 4.218021e-01, 4.454824e-01, 4.362687e-01, 4.417300e-01, 4.380478e-01, 4.277073e-01, 4.267369e-01, 4.196179e-01, 4.261153e-01, 4.632157e-01, 4.242869e-01, 4.568351e-01, 4.134087e-01, 4.265384e-01, 4.348790e-01, 4.363501e-01, 4.344347e-01, 4.154334e-01, 4.274686e-01, 4.441978e-01, 4.123908e-01, 4.291438e-01, 4.106966e-01, 4.244763e-01, 4.567447e-01, 4.386661e-01, 4.697198e-01, 4.756815e-01, 4.541578e-01, 4.416138e-01, 4.562117e-01, 4.367319e-01, 4.575768e-01, 4.487107e-01, 4.567560e-01],      \"fFunctions\" : {        \"_typename\" : \"TList\",        \"name\" : \"TList\",        \"arr\" : [],        \"opt\" : []      },      \"fHistogram\" : null,      \"fMinimum\" : -1111,      \"fMaximum\" : -1111    }],    \"opt\" : [\"\", \"\"]  },  \"fFunctions\" : null,  \"fHistogram\" : null,  \"fMaximum\" : -1111,  \"fMinimum\" : -1111}');\n",
       "var script = document.getElementById(\"dataInserterScript\");\n",
       "script.parentElement.parentElement.remove();\n",
       "});\n",
       "</script>"
      ],
      "text/plain": [
       "<IPython.core.display.HTML object>"
      ]
     },
     "metadata": {},
     "output_type": "display_data"
    },
    {
     "data": {
      "text/html": [
       "\n",
       "     <script type=\"text/javascript\" id=\"progressBarScriptInc\">\n",
       "     require([\"jquery\"], function(jQ){\n",
       "         jQ(\"#jsmva_bar_6\").css(\"width\", 65 + \"%\");\n",
       "         jQ(\"#jsmva_label_6\").text(65 + '%');\n",
       "         jQ(\"#progressBarScriptInc\").parent().parent().remove();\n",
       "     });\n",
       "     </script>\n",
       "     "
      ],
      "text/plain": [
       "<IPython.core.display.HTML object>"
      ]
     },
     "metadata": {},
     "output_type": "display_data"
    },
    {
     "data": {
      "text/html": [
       "<script id=\"dataInserterScript\">\n",
       "require(['JsMVA'],function(jsmva){\n",
       "jsmva.updateTrainingTestingErrors('jstmva_3', '{  \"_typename\" : \"TMultiGraph\",  \"fUniqueID\" : 0,  \"fBits\" : 50331656,  \"fName\" : \"\",  \"fTitle\" : \"\",  \"fGraphs\" : {    \"_typename\" : \"TList\",    \"name\" : \"TList\",    \"arr\" : [{      \"_typename\" : \"TGraph\",      \"fUniqueID\" : 0,      \"fBits\" : 50332680,      \"fName\" : \"Boost weight\",      \"fTitle\" : \"Boost weight\",      \"fLineColor\" : 1,      \"fLineStyle\" : 1,      \"fLineWidth\" : 1,      \"fFillColor\" : 2,      \"fFillStyle\" : 1001,      \"fMarkerColor\" : 2,      \"fMarkerStyle\" : 8,      \"fMarkerSize\" : 5.000000e-01,      \"fNpoints\" : 752,      \"fX\" : [0, 1, 2, 3, 4, 5, 6, 7, 8, 9, 10, 11, 12, 13, 14, 15, 16, 17, 18, 19, 20, 21, 22, 23, 24, 25, 26, 27, 28, 29, 30, 31, 32, 33, 34, 35, 36, 37, 38, 39, 40, 41, 42, 43, 44, 45, 46, 47, 48, 49, 50, 51, 52, 53, 54, 55, 56, 57, 58, 59, 60, 61, 62, 63, 64, 65, 66, 67, 68, 69, 70, 71, 72, 73, 74, 75, 76, 77, 78, 79, 80, 81, 82, 83, 84, 85, 86, 87, 88, 89, 90, 91, 92, 93, 94, 95, 96, 97, 98, 99, 100, 101, 102, 103, 104, 105, 106, 107, 108, 109, 110, 111, 112, 113, 114, 115, 116, 117, 118, 119, 120, 121, 122, 123, 124, 125, 126, 127, 128, 129, 130, 131, 132, 133, 134, 135, 136, 137, 138, 139, 140, 141, 142, 143, 144, 145, 146, 147, 148, 149, 150, 151, 152, 153, 154, 155, 156, 157, 158, 159, 160, 161, 162, 163, 164, 165, 166, 167, 168, 169, 170, 171, 172, 173, 174, 175, 176, 177, 178, 179, 180, 181, 182, 183, 184, 185, 186, 187, 188, 189, 190, 191, 192, 193, 194, 195, 196, 197, 198, 199, 200, 201, 202, 203, 204, 205, 206, 207, 208, 209, 210, 211, 212, 213, 214, 215, 216, 217, 218, 219, 220, 221, 222, 223, 224, 225, 226, 227, 228, 229, 230, 231, 232, 233, 234, 235, 236, 237, 238, 239, 240, 241, 242, 243, 244, 245, 246, 247, 248, 249, 250, 251, 252, 253, 254, 255, 256, 257, 258, 259, 260, 261, 262, 263, 264, 265, 266, 267, 268, 269, 270, 271, 272, 273, 274, 275, 276, 277, 278, 279, 280, 281, 282, 283, 284, 285, 286, 287, 288, 289, 290, 291, 292, 293, 294, 295, 296, 297, 298, 299, 300, 301, 302, 303, 304, 305, 306, 307, 308, 309, 310, 311, 312, 313, 314, 315, 316, 317, 318, 319, 320, 321, 322, 323, 324, 325, 326, 327, 328, 329, 330, 331, 332, 333, 334, 335, 336, 337, 338, 339, 340, 341, 342, 343, 344, 345, 346, 347, 348, 349, 350, 351, 352, 353, 354, 355, 356, 357, 358, 359, 360, 361, 362, 363, 364, 365, 366, 367, 368, 369, 370, 371, 372, 373, 374, 375, 376, 377, 378, 379, 380, 381, 382, 383, 384, 385, 386, 387, 388, 389, 390, 391, 392, 393, 394, 395, 396, 397, 398, 399, 400, 401, 402, 403, 404, 405, 406, 407, 408, 409, 410, 411, 412, 413, 414, 415, 416, 417, 418, 419, 420, 421, 422, 423, 424, 425, 426, 427, 428, 429, 430, 431, 432, 433, 434, 435, 436, 437, 438, 439, 440, 441, 442, 443, 444, 445, 446, 447, 448, 449, 450, 451, 452, 453, 454, 455, 456, 457, 458, 459, 460, 461, 462, 463, 464, 465, 466, 467, 468, 469, 470, 471, 472, 473, 474, 475, 476, 477, 478, 479, 480, 481, 482, 483, 484, 485, 486, 487, 488, 489, 490, 491, 492, 493, 494, 495, 496, 497, 498, 499, 500, 501, 502, 503, 504, 505, 506, 507, 508, 509, 510, 511, 512, 513, 514, 515, 516, 517, 518, 519, 520, 521, 522, 523, 524, 525, 526, 527, 528, 529, 530, 531, 532, 533, 534, 535, 536, 537, 538, 539, 540, 541, 542, 543, 544, 545, 546, 547, 548, 549, 550, 551, 552, 553, 554, 555, 556, 557, 558, 559, 560, 561, 562, 563, 564, 565, 566, 567, 568, 569, 570, 571, 572, 573, 574, 575, 576, 577, 578, 579, 580, 581, 582, 583, 584, 585, 586, 587, 588, 589, 590, 591, 592, 593, 594, 595, 596, 597, 598, 599, 600, 601, 602, 603, 604, 605, 606, 607, 608, 609, 610, 611, 612, 613, 614, 615, 616, 617, 618, 619, 620, 621, 622, 623, 624, 625, 626, 627, 628, 629, 630, 631, 632, 633, 634, 635, 636, 637, 638, 639, 640, 641, 642, 643, 644, 645, 646, 647, 648, 649, 650, 651, 652, 653, 654, 655, 656, 657, 658, 659, 660, 661, 662, 663, 664, 665, 666, 667, 668, 669, 670, 671, 672, 673, 674, 675, 676, 677, 678, 679, 680, 681, 682, 683, 684, 685, 686, 687, 688, 689, 690, 691, 692, 693, 694, 695, 696, 697, 698, 699, 700, 701, 702, 703, 704, 705, 706, 707, 708, 709, 710, 711, 712, 713, 714, 715, 716, 717, 718, 719, 720, 721, 722, 723, 724, 725, 726, 727, 728, 729, 730, 731, 732, 733, 734, 735, 736, 737, 738, 739, 740, 741, 742, 743, 744, 745, 746, 747, 748, 749, 750, 751],      \"fY\" : [6.312472e-01, 5.024325e-01, 4.141661e-01, 3.405934e-01, 2.759235e-01, 2.910225e-01, 2.454148e-01, 2.249930e-01, 2.718947e-01, 2.341744e-01, 2.187559e-01, 2.419772e-01, 2.643332e-01, 1.797895e-01, 2.024682e-01, 2.142669e-01, 2.251578e-01, 2.025335e-01, 1.177297e-01, 1.974492e-01, 2.123780e-01, 1.668480e-01, 1.676633e-01, 1.549410e-01, 1.967907e-01, 2.232038e-01, 1.723367e-01, 1.411267e-01, 1.664714e-01, 2.067169e-01, 1.580782e-01, 1.157519e-01, 1.371121e-01, 1.242201e-01, 1.972448e-01, 1.367952e-01, 1.934683e-01, 1.704684e-01, 8.809938e-02, 1.941839e-01, 1.420594e-01, 2.086924e-01, 1.504339e-01, 1.791480e-01, 1.247215e-01, 9.089893e-02, 1.743379e-01, 1.800013e-01, 1.242698e-01, 1.623655e-01, 1.394851e-01, 1.084702e-01, 2.216414e-01, 7.606151e-02, 1.721177e-01, 1.602234e-01, 1.424681e-01, 1.457008e-01, 1.567353e-01, 1.424615e-01, 1.572949e-01, 1.244759e-01, 1.086574e-01, 1.410884e-01, 2.128470e-01, 1.138094e-01, 2.084207e-01, 1.555762e-01, 1.926459e-01, 1.377904e-01, 1.431344e-01, 2.052022e-01, 8.280270e-02, 1.710084e-01, 6.497623e-02, 1.736164e-01, 1.657435e-01, 1.344922e-01, 8.431205e-02, 1.742958e-01, 1.216501e-01, 1.558093e-01, 1.691948e-01, 1.854684e-01, 8.580292e-02, 7.044341e-02, 1.100283e-01, 1.190426e-01, 1.530223e-01, 1.093453e-01, 1.033833e-01, 1.279863e-01, 1.248278e-01, 1.367830e-01, 9.258512e-02, 1.517367e-01, 9.832321e-02, 1.180270e-01, 1.228199e-01, 1.555873e-01, 1.485638e-01, 1.243442e-01, 1.533087e-01, 1.668110e-01, 1.101156e-01, 9.167697e-02, 1.695068e-01, 1.878537e-01, 1.220763e-01, 9.425623e-02, 1.361655e-01, 1.213836e-01, 9.700435e-02, 1.844177e-01, 1.451930e-01, 1.898177e-01, 1.527992e-01, 9.152481e-02, 1.590068e-01, 1.001588e-01, 1.006815e-01, 9.613167e-02, 1.422984e-01, 1.212950e-01, 1.408850e-01, 1.404645e-01, 1.732398e-01, 1.204409e-01, 1.000011e-01, 1.195598e-01, 1.128906e-01, 1.458188e-01, 1.433982e-01, 1.701780e-01, 1.605132e-01, 1.009409e-01, 8.543866e-02, 1.148060e-01, 7.335824e-02, 1.451574e-01, 1.658906e-01, 1.586339e-01, 1.095097e-01, 1.280256e-01, 1.626599e-01, 6.433628e-02, 6.418390e-02, 1.158321e-01, 1.520897e-01, 9.158084e-02, 1.124011e-01, 1.327409e-01, 1.179392e-01, 1.253471e-01, 1.564891e-01, 1.374878e-01, 1.198000e-01, 1.425686e-01, 1.384814e-01, 1.171758e-01, 1.103497e-01, 5.619091e-02, 1.046917e-01, 1.174366e-01, 1.470412e-01, 1.200771e-01, 7.731949e-02, 1.111269e-01, 1.585533e-01, 1.635272e-01, 1.198545e-01, 1.197004e-01, 1.922394e-01, 1.110430e-01, 1.639042e-01, 1.282502e-01, 1.650196e-01, 7.824010e-02, 1.402510e-01, 1.563985e-01, 1.475225e-01, 1.409592e-01, 1.897095e-01, 8.307419e-02, 1.385424e-01, 1.123937e-01, 8.700867e-02, 1.363570e-01, 1.146473e-01, 1.569821e-01, 9.850277e-02, 1.017962e-01, 1.406236e-01, 1.297292e-01, 1.213653e-01, 7.344609e-02, 1.364236e-01, 1.330734e-01, 1.016073e-01, 8.244703e-02, 1.020444e-01, 1.520237e-01, 1.594118e-01, 7.076786e-02, 7.162049e-02, 1.004116e-01, 9.437716e-02, 1.471924e-01, 1.312289e-01, 1.353658e-01, 1.395703e-01, 1.314936e-01, 8.051882e-02, 1.773568e-01, 1.545050e-01, 1.153658e-01, 9.688664e-02, 7.305848e-02, 1.236370e-01, 1.590813e-01, 1.016505e-01, 1.542324e-01, 1.364687e-01, 1.763955e-01, 1.884387e-01, 6.717907e-02, 1.276422e-01, 1.040090e-01, 9.157464e-02, 1.258240e-01, 1.179954e-01, 7.424536e-02, 1.426172e-01, 1.555092e-01, 5.462717e-02, 8.761181e-02, 1.568921e-01, 1.057167e-01, 1.317782e-01, 5.412851e-02, 1.353018e-01, 1.129319e-01, 1.041687e-01, 1.080592e-01, 9.805491e-02, 1.288703e-01, 1.060647e-01, 1.077703e-01, 7.753651e-02, 9.630764e-02, 1.178955e-01, 1.107235e-01, 1.334981e-01, 1.615948e-01, 1.462408e-01, 1.453760e-01, 1.160019e-01, 9.094776e-02, 1.021012e-01, 6.192974e-02, 7.357522e-02, 1.507731e-01, 1.563819e-01, 1.693223e-01, 9.059569e-02, 1.054605e-01, 9.320778e-02, 1.020904e-01, 1.552326e-01, 1.377520e-01, 1.209693e-01, 1.354475e-01, 1.168823e-01, 1.466380e-01, 1.078753e-01, 7.156341e-02, 1.414164e-01, 1.347450e-01, 1.290046e-01, 1.420333e-01, 1.527209e-01, 1.298777e-01, 1.552823e-01, 1.189712e-01, 1.818232e-01, 1.936686e-01, 1.175787e-01, 1.580719e-01, 1.836051e-01, 1.120505e-01, 1.247042e-01, 1.338920e-01, 1.059324e-01, 8.231052e-02, 1.207725e-01, 8.474014e-02, 1.239788e-01, 1.115119e-01, 1.185851e-01, 1.615599e-01, 1.708444e-01, 1.065640e-01, 1.246992e-01, 5.633426e-02, 1.149906e-01, 1.423703e-01, 1.343272e-01, 1.005284e-01, 1.457401e-01, 1.047064e-01, 1.189293e-01, 1.461058e-01, 1.475569e-01, 1.700243e-01, 1.259603e-01, 1.237115e-01, 9.103476e-02, 1.086094e-01, 1.492711e-01, 1.451960e-01, 1.250430e-01, 7.021151e-02, 1.809087e-01, 1.352616e-01, 1.278330e-01, 1.148691e-01, 1.276112e-01, 1.494679e-01, 1.199982e-01, 1.165301e-01, 8.882973e-02, 1.538324e-01, 8.100954e-02, 1.101216e-01, 9.468943e-02, 9.301415e-02, 1.044726e-01, 8.778785e-02, 1.499461e-01, 8.713153e-02, 1.149991e-01, 9.755326e-02, 9.045420e-02, 9.479963e-02, 1.560788e-01, 1.686574e-01, 1.290546e-01, 1.199803e-01, 7.177342e-02, 1.691733e-01, 1.171991e-01, 1.157464e-01, 1.843045e-01, 1.261962e-01, 1.216186e-01, 1.083293e-01, 1.672580e-01, 9.501308e-02, 1.600864e-01, 9.310243e-02, 1.778781e-01, 8.916549e-02, 1.287078e-01, 1.404965e-01, 1.574312e-01, 1.340052e-01, 1.103069e-01, 1.346161e-01, 1.476161e-01, 9.011114e-02, 1.404047e-01, 1.257643e-01, 1.259850e-01, 1.424191e-01, 1.950040e-01, 1.165812e-01, 1.626081e-01, 1.488490e-01, 1.074422e-01, 1.116342e-01, 1.134434e-01, 1.214577e-01, 9.505153e-02, 1.077332e-01, 7.985779e-02, 1.356408e-01, 8.981644e-02, 1.395698e-01, 1.292999e-01, 7.520197e-02, 1.268009e-01, 1.507247e-01, 1.266786e-01, 8.399635e-02, 1.320611e-01, 1.682148e-01, 1.554250e-01, 1.482366e-01, 7.066699e-02, 1.593963e-01, 1.628080e-01, 6.533926e-02, 9.371180e-02, 1.371519e-01, 1.224548e-01, 9.783855e-02, 1.265514e-01, 1.718042e-01, 1.635655e-01, 9.208325e-02, 8.980613e-02, 1.221522e-01, 9.728655e-02, 1.749374e-01, 1.088553e-01, 1.531687e-01, 1.548122e-01, 8.429534e-02, 1.537358e-01, 1.278971e-01, 1.390373e-01, 1.225184e-01, 1.599643e-01, 6.312611e-02, 1.704786e-01, 1.325212e-01, 5.138744e-02, 1.395077e-01, 9.783533e-02, 1.381661e-01, 1.093919e-01, 1.111922e-01, 1.350071e-01, 1.117605e-01, 1.314700e-01, 1.277411e-01, 1.414153e-01, 1.341884e-01, 6.249969e-02, 1.117563e-01, 1.621410e-01, 1.270444e-01, 8.869879e-02, 6.123851e-02, 1.100672e-01, 1.215946e-01, 1.061691e-01, 1.552848e-01, 1.775345e-01, 8.794087e-02, 1.078436e-01, 5.855975e-02, 1.234140e-01, 1.726069e-01, 1.034618e-01, 1.572741e-01, 1.279199e-01, 1.091091e-01, 1.441139e-01, 1.664651e-01, 1.561962e-01, 1.216383e-01, 1.113030e-01, 1.008787e-01, 1.762428e-01, 9.081301e-02, 1.046358e-01, 8.950494e-02, 9.113883e-02, 1.355557e-01, 1.660216e-01, 1.321222e-01, 1.722755e-01, 1.287466e-01, 1.736104e-01, 9.568757e-02, 1.122201e-01, 8.958727e-02, 1.191816e-01, 1.142352e-01, 1.123239e-01, 8.166931e-02, 1.222800e-01, 1.874036e-01, 1.038539e-01, 9.667526e-02, 1.036981e-01, 1.454590e-01, 1.395246e-01, 1.268418e-01, 1.692526e-01, 1.574648e-01, 1.657017e-01, 1.239324e-01, 1.394458e-01, 1.109383e-01, 8.659234e-02, 1.356455e-01, 1.212107e-01, 6.663339e-02, 7.931762e-02, 1.015233e-01, 1.313491e-01, 9.302290e-02, 1.683898e-01, 9.400598e-02, 1.362421e-01, 1.189554e-01, 1.385763e-01, 9.901555e-02, 1.349031e-01, 1.200836e-01, 1.112735e-01, 1.043045e-01, 9.788754e-02, 8.873564e-02, 1.404690e-01, 1.112124e-01, 1.537628e-01, 5.953769e-02, 1.374208e-01, 1.336908e-01, 1.576900e-01, 1.094704e-01, 1.281597e-01, 1.170720e-01, 1.245444e-01, 1.456058e-01, 1.475885e-01, 1.621711e-01, 1.488593e-01, 7.370175e-02, 1.525998e-01, 8.654526e-02, 1.749459e-01, 1.479944e-01, 1.309861e-01, 1.279941e-01, 1.318900e-01, 1.707743e-01, 1.460934e-01, 1.120712e-01, 1.770454e-01, 1.426726e-01, 1.805432e-01, 1.522121e-01, 8.672744e-02, 1.232886e-01, 6.063466e-02, 4.867537e-02, 9.194269e-02, 1.173075e-01, 8.780155e-02, 1.272181e-01, 8.505087e-02, 1.029407e-01, 8.670459e-02, 1.265709e-01, 9.292718e-02, 1.240999e-01, 1.376171e-01, 1.300215e-01, 1.245095e-01, 5.408061e-02, 1.091343e-01, 7.363089e-02, 1.114183e-01, 1.729145e-01, 9.689183e-02, 1.368430e-01, 1.532514e-01, 1.876515e-01, 8.141682e-02, 1.838767e-01, 1.496787e-01, 1.277280e-01, 1.584546e-01, 1.789198e-01, 1.335760e-01, 1.118475e-01, 1.316357e-01, 1.192433e-01, 8.543994e-02, 1.180182e-01, 1.080389e-01, 1.304670e-01, 1.201151e-01, 1.268865e-01, 1.099586e-01, 1.167668e-01, 1.945931e-01, 1.605705e-01, 1.274158e-01, 1.744062e-01, 1.498338e-01, 1.123591e-01, 6.712311e-02, 9.763113e-02, 1.055850e-01, 1.753498e-01, 1.210666e-01, 1.631723e-01, 1.214810e-01, 1.132880e-01, 1.069490e-01, 1.332710e-01, 1.530797e-01, 1.351252e-01, 9.565271e-02, 1.201569e-01, 1.386608e-01, 1.481173e-01, 1.355000e-01, 1.115322e-01, 1.696566e-01, 7.815769e-02, 8.054368e-02, 7.985865e-02, 1.294530e-01, 5.600704e-02, 1.207426e-01, 1.379474e-01, 1.572317e-01, 1.502109e-01, 1.099271e-01, 9.776548e-02, 1.276707e-01, 1.373056e-01, 1.422369e-01, 1.155947e-01, 1.149930e-01, 1.254220e-01, 1.620682e-01, 9.133141e-02, 9.859181e-02, 1.139391e-01, 1.033334e-01, 1.442278e-01, 1.131959e-01, 1.636933e-01, 1.769773e-01, 1.165501e-01, 1.318170e-01, 1.005096e-01, 1.996899e-01, 1.265778e-01, 1.297045e-01, 1.632012e-01, 1.055752e-01, 1.548100e-01, 1.443822e-01, 6.084691e-02, 1.214962e-01, 1.610648e-01, 1.392239e-01, 8.900970e-02, 1.560865e-01, 1.625409e-01, 9.954922e-02, 1.048788e-01, 1.136271e-01, 1.712547e-01, 1.625093e-01, 8.189089e-02, 1.396103e-01, 8.052210e-02, 1.506001e-01, 1.001517e-01, 5.693492e-02, 1.439080e-01, 1.362246e-01, 1.712349e-01, 1.454664e-01, 7.057396e-02, 1.666893e-01, 1.272683e-01, 1.026726e-01, 8.672741e-02, 1.466877e-01, 1.527384e-01, 1.023881e-01, 1.319306e-01, 1.450230e-01, 1.094026e-01, 7.528512e-02, 7.756010e-02, 1.139998e-01, 9.750926e-02, 1.293860e-01, 1.315772e-01, 1.021862e-01, 5.516456e-02, 1.786627e-01, 1.382640e-01, 1.155731e-01, 1.036363e-01, 1.156003e-01, 1.315329e-01, 1.365695e-01, 6.526671e-02, 1.510516e-01, 1.349294e-01, 1.419554e-01, 1.271373e-01, 1.208463e-01, 1.138651e-01, 8.126146e-02, 1.265691e-01, 1.138490e-01, 1.545429e-01, 1.277147e-01, 1.325131e-01, 1.099212e-01, 1.677270e-01, 5.688916e-02, 7.505328e-02, 1.398176e-01, 1.682624e-01, 1.479931e-01, 7.782464e-02, 1.381154e-01, 9.324121e-02, 9.675261e-02, 1.615411e-01, 1.615963e-01, 1.927961e-01, 1.017952e-01, 1.916616e-01, 1.353108e-01, 1.085387e-01, 7.535160e-02, 8.584289e-02, 1.140081e-01, 8.753149e-02, 1.659929e-01, 1.518027e-01, 1.053181e-01, 1.035759e-01, 1.461133e-01, 1.729525e-01, 1.152738e-01, 1.546777e-01, 1.370649e-01, 1.765154e-01, 1.303986e-01, 1.410023e-01, 1.183933e-01, 1.395619e-01, 1.908384e-01, 8.747352e-02, 1.163311e-01, 1.535998e-01],      \"fFunctions\" : {        \"_typename\" : \"TList\",        \"name\" : \"TList\",        \"arr\" : [],        \"opt\" : []      },      \"fHistogram\" : null,      \"fMinimum\" : -1111,      \"fMaximum\" : -1111    }, {      \"_typename\" : \"TGraph\",      \"fUniqueID\" : 0,      \"fBits\" : 50332680,      \"fName\" : \"Error Fraction\",      \"fTitle\" : \"Error Fraction\",      \"fLineColor\" : 1,      \"fLineStyle\" : 1,      \"fLineWidth\" : 1,      \"fFillColor\" : 4,      \"fFillStyle\" : 1001,      \"fMarkerColor\" : 4,      \"fMarkerStyle\" : 8,      \"fMarkerSize\" : 5.000000e-01,      \"fNpoints\" : 752,      \"fX\" : [0, 1, 2, 3, 4, 5, 6, 7, 8, 9, 10, 11, 12, 13, 14, 15, 16, 17, 18, 19, 20, 21, 22, 23, 24, 25, 26, 27, 28, 29, 30, 31, 32, 33, 34, 35, 36, 37, 38, 39, 40, 41, 42, 43, 44, 45, 46, 47, 48, 49, 50, 51, 52, 53, 54, 55, 56, 57, 58, 59, 60, 61, 62, 63, 64, 65, 66, 67, 68, 69, 70, 71, 72, 73, 74, 75, 76, 77, 78, 79, 80, 81, 82, 83, 84, 85, 86, 87, 88, 89, 90, 91, 92, 93, 94, 95, 96, 97, 98, 99, 100, 101, 102, 103, 104, 105, 106, 107, 108, 109, 110, 111, 112, 113, 114, 115, 116, 117, 118, 119, 120, 121, 122, 123, 124, 125, 126, 127, 128, 129, 130, 131, 132, 133, 134, 135, 136, 137, 138, 139, 140, 141, 142, 143, 144, 145, 146, 147, 148, 149, 150, 151, 152, 153, 154, 155, 156, 157, 158, 159, 160, 161, 162, 163, 164, 165, 166, 167, 168, 169, 170, 171, 172, 173, 174, 175, 176, 177, 178, 179, 180, 181, 182, 183, 184, 185, 186, 187, 188, 189, 190, 191, 192, 193, 194, 195, 196, 197, 198, 199, 200, 201, 202, 203, 204, 205, 206, 207, 208, 209, 210, 211, 212, 213, 214, 215, 216, 217, 218, 219, 220, 221, 222, 223, 224, 225, 226, 227, 228, 229, 230, 231, 232, 233, 234, 235, 236, 237, 238, 239, 240, 241, 242, 243, 244, 245, 246, 247, 248, 249, 250, 251, 252, 253, 254, 255, 256, 257, 258, 259, 260, 261, 262, 263, 264, 265, 266, 267, 268, 269, 270, 271, 272, 273, 274, 275, 276, 277, 278, 279, 280, 281, 282, 283, 284, 285, 286, 287, 288, 289, 290, 291, 292, 293, 294, 295, 296, 297, 298, 299, 300, 301, 302, 303, 304, 305, 306, 307, 308, 309, 310, 311, 312, 313, 314, 315, 316, 317, 318, 319, 320, 321, 322, 323, 324, 325, 326, 327, 328, 329, 330, 331, 332, 333, 334, 335, 336, 337, 338, 339, 340, 341, 342, 343, 344, 345, 346, 347, 348, 349, 350, 351, 352, 353, 354, 355, 356, 357, 358, 359, 360, 361, 362, 363, 364, 365, 366, 367, 368, 369, 370, 371, 372, 373, 374, 375, 376, 377, 378, 379, 380, 381, 382, 383, 384, 385, 386, 387, 388, 389, 390, 391, 392, 393, 394, 395, 396, 397, 398, 399, 400, 401, 402, 403, 404, 405, 406, 407, 408, 409, 410, 411, 412, 413, 414, 415, 416, 417, 418, 419, 420, 421, 422, 423, 424, 425, 426, 427, 428, 429, 430, 431, 432, 433, 434, 435, 436, 437, 438, 439, 440, 441, 442, 443, 444, 445, 446, 447, 448, 449, 450, 451, 452, 453, 454, 455, 456, 457, 458, 459, 460, 461, 462, 463, 464, 465, 466, 467, 468, 469, 470, 471, 472, 473, 474, 475, 476, 477, 478, 479, 480, 481, 482, 483, 484, 485, 486, 487, 488, 489, 490, 491, 492, 493, 494, 495, 496, 497, 498, 499, 500, 501, 502, 503, 504, 505, 506, 507, 508, 509, 510, 511, 512, 513, 514, 515, 516, 517, 518, 519, 520, 521, 522, 523, 524, 525, 526, 527, 528, 529, 530, 531, 532, 533, 534, 535, 536, 537, 538, 539, 540, 541, 542, 543, 544, 545, 546, 547, 548, 549, 550, 551, 552, 553, 554, 555, 556, 557, 558, 559, 560, 561, 562, 563, 564, 565, 566, 567, 568, 569, 570, 571, 572, 573, 574, 575, 576, 577, 578, 579, 580, 581, 582, 583, 584, 585, 586, 587, 588, 589, 590, 591, 592, 593, 594, 595, 596, 597, 598, 599, 600, 601, 602, 603, 604, 605, 606, 607, 608, 609, 610, 611, 612, 613, 614, 615, 616, 617, 618, 619, 620, 621, 622, 623, 624, 625, 626, 627, 628, 629, 630, 631, 632, 633, 634, 635, 636, 637, 638, 639, 640, 641, 642, 643, 644, 645, 646, 647, 648, 649, 650, 651, 652, 653, 654, 655, 656, 657, 658, 659, 660, 661, 662, 663, 664, 665, 666, 667, 668, 669, 670, 671, 672, 673, 674, 675, 676, 677, 678, 679, 680, 681, 682, 683, 684, 685, 686, 687, 688, 689, 690, 691, 692, 693, 694, 695, 696, 697, 698, 699, 700, 701, 702, 703, 704, 705, 706, 707, 708, 709, 710, 711, 712, 713, 714, 715, 716, 717, 718, 719, 720, 721, 722, 723, 724, 725, 726, 727, 728, 729, 730, 731, 732, 733, 734, 735, 736, 737, 738, 739, 740, 741, 742, 743, 744, 745, 746, 747, 748, 749, 750, 751],      \"fY\" : [2.205448e-01, 2.679860e-01, 3.039978e-01, 3.359965e-01, 3.654360e-01, 3.584622e-01, 3.796982e-01, 3.893641e-01, 3.673065e-01, 3.850071e-01, 3.923340e-01, 3.813188e-01, 3.708280e-01, 4.110615e-01, 4.001269e-01, 3.944765e-01, 3.892858e-01, 4.000956e-01, 4.414056e-01, 4.025387e-01, 3.953792e-01, 4.173416e-01, 4.169451e-01, 4.231435e-01, 4.028555e-01, 3.902152e-01, 4.146747e-01, 4.299014e-01, 4.175248e-01, 3.980891e-01, 4.216127e-01, 4.423812e-01, 4.318704e-01, 4.382074e-01, 4.026370e-01, 4.320259e-01, 4.044550e-01, 4.155820e-01, 4.560639e-01, 4.041103e-01, 4.294443e-01, 3.971427e-01, 4.253453e-01, 4.113721e-01, 4.379606e-01, 4.546753e-01, 4.137036e-01, 4.109589e-01, 4.381830e-01, 4.195232e-01, 4.307063e-01, 4.459766e-01, 3.909590e-01, 4.620424e-01, 4.147810e-01, 4.205669e-01, 4.292440e-01, 4.276608e-01, 4.222678e-01, 4.292473e-01, 4.219948e-01, 4.380815e-01, 4.458841e-01, 4.299202e-01, 3.951550e-01, 4.433397e-01, 3.972728e-01, 4.228335e-01, 4.048512e-01, 4.315375e-01, 4.289176e-01, 3.988151e-01, 4.586930e-01, 4.153197e-01, 4.675575e-01, 4.140536e-01, 4.178789e-01, 4.331565e-01, 4.579436e-01, 4.137240e-01, 4.394733e-01, 4.227197e-01, 4.162007e-01, 4.083147e-01, 4.572035e-01, 4.648364e-01, 4.452068e-01, 4.407583e-01, 4.240805e-01, 4.455442e-01, 4.484917e-01, 4.363540e-01, 4.379083e-01, 4.320319e-01, 4.538393e-01, 4.247086e-01, 4.509962e-01, 4.412590e-01, 4.388970e-01, 4.228281e-01, 4.262598e-01, 4.381464e-01, 4.239406e-01, 4.173596e-01, 4.451637e-01, 4.542895e-01, 4.160491e-01, 4.071626e-01, 4.392633e-01, 4.530110e-01, 4.323349e-01, 4.396046e-01, 4.516494e-01, 4.088225e-01, 4.279094e-01, 4.062148e-01, 4.241895e-01, 4.543649e-01, 4.211599e-01, 4.500874e-01, 4.498287e-01, 4.520817e-01, 4.293271e-01, 4.396482e-01, 4.300199e-01, 4.302260e-01, 4.142363e-01, 4.400691e-01, 4.501654e-01, 4.405033e-01, 4.437932e-01, 4.276030e-01, 4.287883e-01, 4.157230e-01, 4.204256e-01, 4.497003e-01, 4.573843e-01, 4.428479e-01, 4.633865e-01, 4.279268e-01, 4.178073e-01, 4.213418e-01, 4.454630e-01, 4.363347e-01, 4.193798e-01, 4.678762e-01, 4.679520e-01, 4.423416e-01, 4.245361e-01, 4.543372e-01, 4.440349e-01, 4.340167e-01, 4.413023e-01, 4.376526e-01, 4.223880e-01, 4.316860e-01, 4.403849e-01, 4.291948e-01, 4.311985e-01, 4.416788e-01, 4.450480e-01, 4.719341e-01, 4.478445e-01, 4.415502e-01, 4.270047e-01, 4.402484e-01, 4.614171e-01, 4.446642e-01, 4.213811e-01, 4.189575e-01, 4.403581e-01, 4.404340e-01, 4.050471e-01, 4.447056e-01, 4.187740e-01, 4.362242e-01, 4.182311e-01, 4.609596e-01, 4.303307e-01, 4.224322e-01, 4.267692e-01, 4.299835e-01, 4.062670e-01, 4.585582e-01, 4.311686e-01, 4.440386e-01, 4.566051e-01, 4.322409e-01, 4.429262e-01, 4.221474e-01, 4.509073e-01, 4.492770e-01, 4.301480e-01, 4.354969e-01, 4.396136e-01, 4.633428e-01, 4.322083e-01, 4.338533e-01, 4.493705e-01, 4.588696e-01, 4.491541e-01, 4.245684e-01, 4.209625e-01, 4.646750e-01, 4.642509e-01, 4.499623e-01, 4.529510e-01, 4.269308e-01, 4.347596e-01, 4.327275e-01, 4.306645e-01, 4.346295e-01, 4.598274e-01, 4.122398e-01, 4.233564e-01, 4.425717e-01, 4.517077e-01, 4.635356e-01, 4.384946e-01, 4.211236e-01, 4.493491e-01, 4.234895e-01, 4.321861e-01, 4.127058e-01, 4.068803e-01, 4.664609e-01, 4.365232e-01, 4.481822e-01, 4.543402e-01, 4.374179e-01, 4.412746e-01, 4.629454e-01, 4.291710e-01, 4.228662e-01, 4.727136e-01, 4.563058e-01, 4.221913e-01, 4.473377e-01, 4.344897e-01, 4.729621e-01, 4.327589e-01, 4.437729e-01, 4.481032e-01, 4.461797e-01, 4.511291e-01, 4.359192e-01, 4.471656e-01, 4.463225e-01, 4.613092e-01, 4.519945e-01, 4.413238e-01, 4.448634e-01, 4.336447e-01, 4.198986e-01, 4.273964e-01, 4.278198e-01, 4.422578e-01, 4.546511e-01, 4.491261e-01, 4.690747e-01, 4.632786e-01, 4.251796e-01, 4.224403e-01, 4.161388e-01, 4.548257e-01, 4.474644e-01, 4.535306e-01, 4.491314e-01, 4.230012e-01, 4.315564e-01, 4.398087e-01, 4.326874e-01, 4.418235e-01, 4.272020e-01, 4.462706e-01, 4.642793e-01, 4.297594e-01, 4.330323e-01, 4.358532e-01, 4.294571e-01, 4.242277e-01, 4.354239e-01, 4.229769e-01, 4.407935e-01, 4.100772e-01, 4.043585e-01, 4.414801e-01, 4.216158e-01, 4.092153e-01, 4.442081e-01, 4.379691e-01, 4.334512e-01, 4.472310e-01, 4.589374e-01, 4.399056e-01, 4.577311e-01, 4.383263e-01, 4.444740e-01, 4.409838e-01, 4.199156e-01, 4.153993e-01, 4.469188e-01, 4.379716e-01, 4.718626e-01, 4.427568e-01, 4.292919e-01, 4.332375e-01, 4.499045e-01, 4.276415e-01, 4.478373e-01, 4.408142e-01, 4.274625e-01, 4.267524e-01, 4.157977e-01, 4.373509e-01, 4.384579e-01, 4.546079e-01, 4.459078e-01, 4.259139e-01, 4.279079e-01, 4.378023e-01, 4.649518e-01, 4.105197e-01, 4.327787e-01, 4.364294e-01, 4.428167e-01, 4.365385e-01, 4.258176e-01, 4.402873e-01, 4.419973e-01, 4.557016e-01, 4.236848e-01, 4.595836e-01, 4.451607e-01, 4.527963e-01, 4.536266e-01, 4.479529e-01, 4.562185e-01, 4.255838e-01, 4.565442e-01, 4.427526e-01, 4.513775e-01, 4.548958e-01, 4.527417e-01, 4.225882e-01, 4.164619e-01, 4.358285e-01, 4.402960e-01, 4.641748e-01, 4.162112e-01, 4.416673e-01, 4.423839e-01, 4.088772e-01, 4.372347e-01, 4.394888e-01, 4.460462e-01, 4.171422e-01, 4.526359e-01, 4.206336e-01, 4.535828e-01, 4.119872e-01, 4.555350e-01, 4.359991e-01, 4.302103e-01, 4.219283e-01, 4.333956e-01, 4.450692e-01, 4.330956e-01, 4.267234e-01, 4.550660e-01, 4.302553e-01, 4.374473e-01, 4.373387e-01, 4.292680e-01, 4.037154e-01, 4.419720e-01, 4.194051e-01, 4.261203e-01, 4.464847e-01, 4.444136e-01, 4.435204e-01, 4.395680e-01, 4.526168e-01, 4.463408e-01, 4.601558e-01, 4.325925e-01, 4.552122e-01, 4.306647e-01, 4.357079e-01, 4.624697e-01, 4.369372e-01, 4.252032e-01, 4.369973e-01, 4.581003e-01, 4.343507e-01, 4.166770e-01, 4.229073e-01, 4.264199e-01, 4.647252e-01, 4.209700e-01, 4.193077e-01, 4.673768e-01, 4.532808e-01, 4.318508e-01, 4.390768e-01, 4.512362e-01, 4.370599e-01, 4.149332e-01, 4.189389e-01, 4.540881e-01, 4.552173e-01, 4.392259e-01, 4.515096e-01, 4.134128e-01, 4.457863e-01, 4.240090e-01, 4.232064e-01, 4.579519e-01, 4.237320e-01, 4.363979e-01, 4.309259e-01, 4.390455e-01, 4.206932e-01, 4.684788e-01, 4.155770e-01, 4.341246e-01, 4.743289e-01, 4.306952e-01, 4.512378e-01, 4.313532e-01, 4.455212e-01, 4.446319e-01, 4.329036e-01, 4.443513e-01, 4.346411e-01, 4.364746e-01, 4.297599e-01, 4.333056e-01, 4.687908e-01, 4.443533e-01, 4.196325e-01, 4.368174e-01, 4.557665e-01, 4.694190e-01, 4.451875e-01, 4.395006e-01, 4.471140e-01, 4.229757e-01, 4.121538e-01, 4.561426e-01, 4.462863e-01, 4.707535e-01, 4.386044e-01, 4.145436e-01, 4.484529e-01, 4.220050e-01, 4.363866e-01, 4.456609e-01, 4.284378e-01, 4.175278e-01, 4.225309e-01, 4.394791e-01, 4.445772e-01, 4.497311e-01, 4.127798e-01, 4.547179e-01, 4.478722e-01, 4.553667e-01, 4.545563e-01, 4.326343e-01, 4.177436e-01, 4.343206e-01, 4.147044e-01, 4.359800e-01, 4.140565e-01, 4.523017e-01, 4.441243e-01, 4.553258e-01, 4.406898e-01, 4.431295e-01, 4.440731e-01, 4.592559e-01, 4.391629e-01, 4.073800e-01, 4.482589e-01, 4.518124e-01, 4.483360e-01, 4.277791e-01, 4.306869e-01, 4.369171e-01, 4.161726e-01, 4.219119e-01, 4.178992e-01, 4.383491e-01, 4.307255e-01, 4.447573e-01, 4.568117e-01, 4.325902e-01, 4.396897e-01, 4.667325e-01, 4.604242e-01, 4.494121e-01, 4.347006e-01, 4.536222e-01, 4.165919e-01, 4.531350e-01, 4.322973e-01, 4.408013e-01, 4.311520e-01, 4.506534e-01, 4.329547e-01, 4.402452e-01, 4.445917e-01, 4.480360e-01, 4.512120e-01, 4.557483e-01, 4.302238e-01, 4.446219e-01, 4.237188e-01, 4.702663e-01, 4.317189e-01, 4.335500e-01, 4.218021e-01, 4.454824e-01, 4.362687e-01, 4.417300e-01, 4.380478e-01, 4.277073e-01, 4.267369e-01, 4.196179e-01, 4.261153e-01, 4.632157e-01, 4.242869e-01, 4.568351e-01, 4.134087e-01, 4.265384e-01, 4.348790e-01, 4.363501e-01, 4.344347e-01, 4.154334e-01, 4.274686e-01, 4.441978e-01, 4.123908e-01, 4.291438e-01, 4.106966e-01, 4.244763e-01, 4.567447e-01, 4.386661e-01, 4.697198e-01, 4.756815e-01, 4.541578e-01, 4.416138e-01, 4.562117e-01, 4.367319e-01, 4.575768e-01, 4.487107e-01, 4.567560e-01, 4.370504e-01, 4.536697e-01, 4.382666e-01, 4.316226e-01, 4.353532e-01, 4.380650e-01, 4.729860e-01, 4.456485e-01, 4.632509e-01, 4.445202e-01, 4.143943e-01, 4.517051e-01, 4.320024e-01, 4.239686e-01, 4.072602e-01, 4.593813e-01, 4.090840e-01, 4.257146e-01, 4.364811e-01, 4.214292e-01, 4.114827e-01, 4.336064e-01, 4.443083e-01, 4.345597e-01, 4.406593e-01, 4.573837e-01, 4.412634e-01, 4.461898e-01, 4.351341e-01, 4.402296e-01, 4.368950e-01, 4.452412e-01, 4.418805e-01, 4.039132e-01, 4.203977e-01, 4.366347e-01, 4.136704e-01, 4.256387e-01, 4.440557e-01, 4.664888e-01, 4.513389e-01, 4.474028e-01, 4.132128e-01, 4.397607e-01, 4.191303e-01, 4.395565e-01, 4.435971e-01, 4.467285e-01, 4.337562e-01, 4.240525e-01, 4.328456e-01, 4.523190e-01, 4.402090e-01, 4.311105e-01, 4.264782e-01, 4.326616e-01, 4.444640e-01, 4.159763e-01, 4.610005e-01, 4.598150e-01, 4.601553e-01, 4.356326e-01, 4.720257e-01, 4.399204e-01, 4.314605e-01, 4.220256e-01, 4.254544e-01, 4.452568e-01, 4.512724e-01, 4.365092e-01, 4.317754e-01, 4.293573e-01, 4.424587e-01, 4.427556e-01, 4.376158e-01, 4.196680e-01, 4.544608e-01, 4.508632e-01, 4.432757e-01, 4.485164e-01, 4.283820e-01, 4.436426e-01, 4.188767e-01, 4.124238e-01, 4.419874e-01, 4.344706e-01, 4.499137e-01, 4.014614e-01, 4.370469e-01, 4.355090e-01, 4.191162e-01, 4.474077e-01, 4.232075e-01, 4.283064e-01, 4.696140e-01, 4.395490e-01, 4.201568e-01, 4.308344e-01, 4.556123e-01, 4.225844e-01, 4.194378e-01, 4.503892e-01, 4.477520e-01, 4.434297e-01, 4.152001e-01, 4.194532e-01, 4.591458e-01, 4.306449e-01, 4.598257e-01, 4.252641e-01, 4.500909e-01, 4.715633e-01, 4.285386e-01, 4.323059e-01, 4.152097e-01, 4.277755e-01, 4.647715e-01, 4.174188e-01, 4.367072e-01, 4.488433e-01, 4.567447e-01, 4.271777e-01, 4.242192e-01, 4.489841e-01, 4.344148e-01, 4.279926e-01, 4.455159e-01, 4.624284e-01, 4.612975e-01, 4.432458e-01, 4.513993e-01, 4.356656e-01, 4.345884e-01, 4.490840e-01, 4.724457e-01, 4.116071e-01, 4.313052e-01, 4.424694e-01, 4.483666e-01, 4.424560e-01, 4.346102e-01, 4.321366e-01, 4.674129e-01, 4.250434e-01, 4.329418e-01, 4.294952e-01, 4.367717e-01, 4.398693e-01, 4.433122e-01, 4.594585e-01, 4.370512e-01, 4.433202e-01, 4.233379e-01, 4.364876e-01, 4.341286e-01, 4.452597e-01, 4.169142e-01, 4.715861e-01, 4.625437e-01, 4.305432e-01, 4.166539e-01, 4.265390e-01, 4.611660e-01, 4.313781e-01, 4.535140e-01, 4.517741e-01, 4.199248e-01, 4.198979e-01, 4.047788e-01, 4.492775e-01, 4.053256e-01, 4.327545e-01, 4.459428e-01, 4.623953e-01, 4.571837e-01, 4.432416e-01, 4.563457e-01, 4.177575e-01, 4.246764e-01, 4.475348e-01, 4.483964e-01, 4.274589e-01, 4.143758e-01, 4.426170e-01, 4.232721e-01, 4.318935e-01, 4.126477e-01, 4.351678e-01, 4.299624e-01, 4.410784e-01, 4.306686e-01, 4.057226e-01, 4.563745e-01, 4.420954e-01, 4.237984e-01],      \"fFunctions\" : {        \"_typename\" : \"TList\",        \"name\" : \"TList\",        \"arr\" : [],        \"opt\" : []      },      \"fHistogram\" : null,      \"fMinimum\" : -1111,      \"fMaximum\" : -1111    }],    \"opt\" : [\"\", \"\"]  },  \"fFunctions\" : null,  \"fHistogram\" : null,  \"fMaximum\" : -1111,  \"fMinimum\" : -1111}');\n",
       "var script = document.getElementById(\"dataInserterScript\");\n",
       "script.parentElement.parentElement.remove();\n",
       "});\n",
       "</script>"
      ],
      "text/plain": [
       "<IPython.core.display.HTML object>"
      ]
     },
     "metadata": {},
     "output_type": "display_data"
    },
    {
     "data": {
      "text/html": [
       "\n",
       "     <script type=\"text/javascript\" id=\"progressBarScriptInc\">\n",
       "     require([\"jquery\"], function(jQ){\n",
       "         jQ(\"#jsmva_bar_6\").css(\"width\", 88 + \"%\");\n",
       "         jQ(\"#jsmva_label_6\").text(88 + '%');\n",
       "         jQ(\"#progressBarScriptInc\").parent().parent().remove();\n",
       "     });\n",
       "     </script>\n",
       "     "
      ],
      "text/plain": [
       "<IPython.core.display.HTML object>"
      ]
     },
     "metadata": {},
     "output_type": "display_data"
    },
    {
     "data": {
      "text/html": [
       "\n",
       "     <script type=\"text/javascript\" id=\"progressBarScriptInc\">\n",
       "     require([\"jquery\"], function(jQ){\n",
       "         jQ(\"#jsmva_bar_6\").css(\"width\", 100 + \"%\");\n",
       "         jQ(\"#jsmva_label_6\").text(100 + '%');\n",
       "         jQ(\"#progressBarScriptInc\").parent().parent().remove();\n",
       "     });\n",
       "     </script>\n",
       "     "
      ],
      "text/plain": [
       "<IPython.core.display.HTML object>"
      ]
     },
     "metadata": {},
     "output_type": "display_data"
    },
    {
     "data": {
      "text/html": [
       "<table class='tmva_output_table'><tbody class='tmva_output_tbody_multiple_row'><tr><td rowspan='3' class='tmva_output_header'>FitterBase              </td><td><MCFitter> Sampling, please be patient ...</td></tr><tr><td><b>Elapsed time : <b style='color:rgb(0,0,179)'> 7.18 sec                           </b></b></td></tr><tr></tr></tbody><tbody class='tmva_output_tbody_multiple_row'><tr><td rowspan='5' class='tmva_output_header'>Cuts                    </td><td>Cut values for requested signal efficiency: 0.1</td></tr><tr><td>Corresponding background efficiency       : 0.0276667</td></tr><tr><td>Transformation applied to input variables : None</td></tr><tr></tr><tr><td><table class='tmva_output_dataset'><tbody class='tmva_output_tbody_multiple_row'><tr><td rowspan='6'>Dataset: 0</td><td>-8.07609 < myvar1 <= 1e+30</td><td class='tmva_output_hidden_td'></td></tr><tr><td>-1e+30 < myvar2 <= -1.39928</td><td class='tmva_output_hidden_td'></td></tr><tr><td>-4.38911 < var3 <= 1e+30</td><td class='tmva_output_hidden_td'></td></tr><tr><td>-0.326104 < var4 <= 1e+30</td><td class='tmva_output_hidden_td'></td></tr></tbody></table></td></tr></tbody><tbody class='tmva_output_tbody_multiple_row'><tr><td rowspan='5' class='tmva_output_header'>Cuts                    </td><td>Cut values for requested signal efficiency: 0.2</td></tr><tr><td>Corresponding background efficiency       : 0.0703333</td></tr><tr><td>Transformation applied to input variables : None</td></tr><tr></tr><tr><td><table class='tmva_output_dataset'><tbody class='tmva_output_tbody_multiple_row'><tr><td rowspan='6'>Dataset: 0</td><td>-1.5167 < myvar1 <= 1e+30</td><td class='tmva_output_hidden_td'></td></tr><tr><td>-1e+30 < myvar2 <= -0.779147</td><td class='tmva_output_hidden_td'></td></tr><tr><td>-1.11898 < var3 <= 1e+30</td><td class='tmva_output_hidden_td'></td></tr><tr><td>0.0215451 < var4 <= 1e+30</td><td class='tmva_output_hidden_td'></td></tr></tbody></table></td></tr></tbody><tbody class='tmva_output_tbody_multiple_row'><tr><td rowspan='5' class='tmva_output_header'>Cuts                    </td><td>Cut values for requested signal efficiency: 0.3</td></tr><tr><td>Corresponding background efficiency       : 0.112333</td></tr><tr><td>Transformation applied to input variables : None</td></tr><tr></tr><tr><td><table class='tmva_output_dataset'><tbody class='tmva_output_tbody_multiple_row'><tr><td rowspan='6'>Dataset: 0</td><td>-5.98314 < myvar1 <= 1e+30</td><td class='tmva_output_hidden_td'></td></tr><tr><td>-1e+30 < myvar2 <= -0.524807</td><td class='tmva_output_hidden_td'></td></tr><tr><td>-3.02722 < var3 <= 1e+30</td><td class='tmva_output_hidden_td'></td></tr><tr><td>-0.447307 < var4 <= 1e+30</td><td class='tmva_output_hidden_td'></td></tr></tbody></table></td></tr></tbody><tbody class='tmva_output_tbody_multiple_row'><tr><td rowspan='5' class='tmva_output_header'>Cuts                    </td><td>Cut values for requested signal efficiency: 0.4</td></tr><tr><td>Corresponding background efficiency       : 0.162667</td></tr><tr><td>Transformation applied to input variables : None</td></tr><tr></tr><tr><td><table class='tmva_output_dataset'><tbody class='tmva_output_tbody_multiple_row'><tr><td rowspan='6'>Dataset: 0</td><td>-2.69242 < myvar1 <= 1e+30</td><td class='tmva_output_hidden_td'></td></tr><tr><td>-1e+30 < myvar2 <= -0.184483</td><td class='tmva_output_hidden_td'></td></tr><tr><td>-1.36369 < var3 <= 1e+30</td><td class='tmva_output_hidden_td'></td></tr><tr><td>-0.365154 < var4 <= 1e+30</td><td class='tmva_output_hidden_td'></td></tr></tbody></table></td></tr></tbody><tbody class='tmva_output_tbody_multiple_row'><tr><td rowspan='5' class='tmva_output_header'>Cuts                    </td><td>Cut values for requested signal efficiency: 0.5</td></tr><tr><td>Corresponding background efficiency       : 0.218667</td></tr><tr><td>Transformation applied to input variables : None</td></tr><tr></tr><tr><td><table class='tmva_output_dataset'><tbody class='tmva_output_tbody_multiple_row'><tr><td rowspan='6'>Dataset: 0</td><td>-7.85356 < myvar1 <= 1e+30</td><td class='tmva_output_hidden_td'></td></tr><tr><td>-1e+30 < myvar2 <= 0.123474</td><td class='tmva_output_hidden_td'></td></tr><tr><td>-2.65367 < var3 <= 1e+30</td><td class='tmva_output_hidden_td'></td></tr><tr><td>-0.448008 < var4 <= 1e+30</td><td class='tmva_output_hidden_td'></td></tr></tbody></table></td></tr></tbody><tbody class='tmva_output_tbody_multiple_row'><tr><td rowspan='5' class='tmva_output_header'>Cuts                    </td><td>Cut values for requested signal efficiency: 0.6</td></tr><tr><td>Corresponding background efficiency       : 0.274333</td></tr><tr><td>Transformation applied to input variables : None</td></tr><tr></tr><tr><td><table class='tmva_output_dataset'><tbody class='tmva_output_tbody_multiple_row'><tr><td rowspan='6'>Dataset: 0</td><td>-3.97177 < myvar1 <= 1e+30</td><td class='tmva_output_hidden_td'></td></tr><tr><td>-1e+30 < myvar2 <= 0.40185</td><td class='tmva_output_hidden_td'></td></tr><tr><td>-5.12732 < var3 <= 1e+30</td><td class='tmva_output_hidden_td'></td></tr><tr><td>-0.557958 < var4 <= 1e+30</td><td class='tmva_output_hidden_td'></td></tr></tbody></table></td></tr></tbody><tbody class='tmva_output_tbody_multiple_row'><tr><td rowspan='5' class='tmva_output_header'>Cuts                    </td><td>Cut values for requested signal efficiency: 0.7</td></tr><tr><td>Corresponding background efficiency       : 0.34</td></tr><tr><td>Transformation applied to input variables : None</td></tr><tr></tr><tr><td><table class='tmva_output_dataset'><tbody class='tmva_output_tbody_multiple_row'><tr><td rowspan='6'>Dataset: 0</td><td>-3.65468 < myvar1 <= 1e+30</td><td class='tmva_output_hidden_td'></td></tr><tr><td>-1e+30 < myvar2 <= 0.704599</td><td class='tmva_output_hidden_td'></td></tr><tr><td>-4.09057 < var3 <= 1e+30</td><td class='tmva_output_hidden_td'></td></tr><tr><td>-0.796842 < var4 <= 1e+30</td><td class='tmva_output_hidden_td'></td></tr></tbody></table></td></tr></tbody><tbody class='tmva_output_tbody_multiple_row'><tr><td rowspan='5' class='tmva_output_header'>Cuts                    </td><td>Cut values for requested signal efficiency: 0.8</td></tr><tr><td>Corresponding background efficiency       : 0.421</td></tr><tr><td>Transformation applied to input variables : None</td></tr><tr></tr><tr><td><table class='tmva_output_dataset'><tbody class='tmva_output_tbody_multiple_row'><tr><td rowspan='6'>Dataset: 0</td><td>-7.13956 < myvar1 <= 1e+30</td><td class='tmva_output_hidden_td'></td></tr><tr><td>-1e+30 < myvar2 <= 1.07747</td><td class='tmva_output_hidden_td'></td></tr><tr><td>-4.51161 < var3 <= 1e+30</td><td class='tmva_output_hidden_td'></td></tr><tr><td>-0.984625 < var4 <= 1e+30</td><td class='tmva_output_hidden_td'></td></tr></tbody></table></td></tr></tbody><tbody class='tmva_output_tbody_multiple_row'><tr><td rowspan='6' class='tmva_output_header'>Cuts                    </td><td>Cut values for requested signal efficiency: 0.9</td></tr><tr><td>Corresponding background efficiency       : 0.507333</td></tr><tr><td>Transformation applied to input variables : None</td></tr><tr></tr><tr><td><table class='tmva_output_dataset'><tbody class='tmva_output_tbody_multiple_row'><tr><td rowspan='5'>Dataset: 0</td><td>-7.23836 < myvar1 <= 1e+30</td><td class='tmva_output_hidden_td'></td></tr><tr><td>-1e+30 < myvar2 <= 2.11518</td><td class='tmva_output_hidden_td'></td></tr><tr><td>-4.85289 < var3 <= 1e+30</td><td class='tmva_output_hidden_td'></td></tr><tr><td>-0.765707 < var4 <= 1e+30</td><td class='tmva_output_hidden_td'></td></tr></tbody></table></td></tr><tr><td><b>Elapsed time for training with 6000 events : <b style='color:rgb(0,0,179)'> 7.19 sec         </b></b></td></tr></tbody><tbody class='tmva_output_tbody_multiple_row'><tr><td rowspan='5' class='tmva_output_header'>Cuts                    </td><td><table class='tmva_output_dataset'><tbody><tr><td rowspan='1'>Dataset: tmva_class_example</td><td>Evaluation of Cuts on training sample (6000 events)</td><td class='tmva_output_hidden_td'></td></tr></tbody></table></td></tr><tr><td><b>Elapsed time for evaluation of 6000 events : <b style='color:rgb(0,0,179)'> 0.00187 sec       </b></b></td></tr><tr><td>Creating xml weight file: tmva_class_example/weights/TMVAClassification_Cuts.weights.xml</td></tr><tr><td>Creating standalone class: tmva_class_example/weights/TMVAClassification_Cuts.class.C</td></tr><tr><td>Write monitoring histograms to file: TMVA.root:/tmva_class_example/Method_Cuts/Cuts</td></tr></tbody><tbody class='tmva_output_tbody_multiple_row'><tr><td rowspan='6' class='tmva_output_header'>TFHandler_SVM           </td><td><table class='tmva_output_varmeanrms'><tr><td>Variable<td>Mean<td>RMS<td>Min<td>Max<td class='tmva_output_hidden_td'></td></tr><tr><td>myvar1<td>0.083989<td>0.36407<td>-1.0000<td>1.0000<td class='tmva_output_hidden_td'></td></tr><tr><td>myvar2<td>0.0094778<td>0.27696<td>-1.0000<td>1.0000<td class='tmva_output_hidden_td'></td></tr><tr><td>var3<td>0.080279<td>0.36720<td>-1.0000<td>1.0000<td class='tmva_output_hidden_td'></td></tr><tr><td>var4<td>0.12986<td>0.39603<td>-1.0000<td>1.0000<td class='tmva_output_hidden_td'></td></tr></table></td></tr><tr><td>Building SVM Working Set...with 6000 event instances</td></tr><tr><td><b>Elapsed time for Working Set build : <b style='color:rgb(0,0,179)'> 1.22 sec</b></b></td></tr><tr><td>Sorry, no computing time forecast available for SVM, please wait ...</td></tr><tr><td><b>Elapsed time : <b style='color:rgb(0,0,179)'> 1.88 sec                                          </b></b></td></tr><tr><td><b>Elapsed time for training with 6000 events : <b style='color:rgb(0,0,179)'> 3.12 sec         </b></b></td></tr></tbody><tbody class='tmva_output_tbody_multiple_row'><tr><td rowspan='4' class='tmva_output_header'>SVM                     </td><td><table class='tmva_output_dataset'><tbody><tr><td rowspan='1'>Dataset: tmva_class_example</td><td>Evaluation of SVM on training sample (6000 events)</td><td class='tmva_output_hidden_td'></td></tr></tbody></table></td></tr><tr><td><b>Elapsed time for evaluation of 6000 events : <b style='color:rgb(0,0,179)'> 1 sec       </b></b></td></tr><tr><td>Creating xml weight file: tmva_class_example/weights/TMVAClassification_SVM.weights.xml</td></tr><tr><td>Creating standalone class: tmva_class_example/weights/TMVAClassification_SVM.class.C</td></tr></tbody><tbody class='tmva_output_tbody_multiple_row'><tr><td rowspan='4' class='tmva_output_header'>TFHandler_MLP           </td><td><table class='tmva_output_varmeanrms'><tr><td>Variable<td>Mean<td>RMS<td>Min<td>Max<td class='tmva_output_hidden_td'></td></tr><tr><td>myvar1<td>0.083989<td>0.36407<td>-1.0000<td>1.0000<td class='tmva_output_hidden_td'></td></tr><tr><td>myvar2<td>0.0094778<td>0.27696<td>-1.0000<td>1.0000<td class='tmva_output_hidden_td'></td></tr><tr><td>var3<td>0.080279<td>0.36720<td>-1.0000<td>1.0000<td class='tmva_output_hidden_td'></td></tr><tr><td>var4<td>0.12986<td>0.39603<td>-1.0000<td>1.0000<td class='tmva_output_hidden_td'></td></tr></table></td></tr><tr><td>Training Network</td></tr><tr></tr><tr><td><b>Elapsed time for training with 6000 events : <b style='color:rgb(0,0,179)'> 2.2 sec         </b></b></td></tr></tbody><tbody class='tmva_output_tbody_multiple_row'><tr><td rowspan='5' class='tmva_output_header'>MLP                     </td><td><table class='tmva_output_dataset'><tbody><tr><td rowspan='1'>Dataset: tmva_class_example</td><td>Evaluation of MLP on training sample (6000 events)</td><td class='tmva_output_hidden_td'></td></tr></tbody></table></td></tr><tr><td><b>Elapsed time for evaluation of 6000 events : <b style='color:rgb(0,0,179)'> 0.0112 sec       </b></b></td></tr><tr><td>Creating xml weight file: tmva_class_example/weights/TMVAClassification_MLP.weights.xml</td></tr><tr><td>Creating standalone class: tmva_class_example/weights/TMVAClassification_MLP.class.C</td></tr><tr><td>Write special histos to file: TMVA.root:/tmva_class_example/Method_MLP/MLP</td></tr></tbody><tbody class='tmva_output_tbody_multiple_row'><tr><td rowspan='11' class='tmva_output_header'>LD                      </td><td>Results for LD coefficients:</td></tr><tr></tr><tr><td>Variable:Coefficient:</td></tr><tr></tr><tr><td>myvar1:-0.359</td></tr><tr><td>myvar2:-0.109</td></tr><tr><td>var3:-0.211</td></tr><tr><td>var4:+0.722</td></tr><tr><td>(offset):-0.054</td></tr><tr></tr><tr><td><b>Elapsed time for training with 6000 events : <b style='color:rgb(0,0,179)'> 0.00279 sec         </b></b></td></tr></tbody><tbody class='tmva_output_tbody_multiple_row'><tr><td rowspan='5' class='tmva_output_header'>LD                      </td><td><table class='tmva_output_dataset'><tbody><tr><td rowspan='1'>Dataset: tmva_class_example</td><td>Evaluation of LD on training sample (6000 events)</td><td class='tmva_output_hidden_td'></td></tr></tbody></table></td></tr><tr><td><b>Elapsed time for evaluation of 6000 events : <b style='color:rgb(0,0,179)'> 0.00224 sec       </b></b></td></tr><tr><td><table class='tmva_output_dataset'><tbody class='tmva_output_tbody_multiple_row'><tr><td rowspan='2'>Dataset: tmva_class_example</td><td><CreateMVAPdfs> Separation from histogram (PDF): 0.452 (0.000)</td><td class='tmva_output_hidden_td'></td></tr><tr><td>Evaluation of LD on training sample</td><td class='tmva_output_hidden_td'></td></tr></tbody></table></td></tr><tr><td>Creating xml weight file: tmva_class_example/weights/TMVAClassification_LD.weights.xml</td></tr><tr><td>Creating standalone class: tmva_class_example/weights/TMVAClassification_LD.class.C</td></tr></tbody><tbody><tr><td rowspan='1' class='tmva_output_header'>TFHandler_DNN           </td><td><table class='tmva_output_varmeanrms'><tr><td>Variable<td>Mean<td>RMS<td>Min<td>Max<td class='tmva_output_hidden_td'></td></tr><tr><td>myvar1<td>0.083989<td>0.36407<td>-1.0000<td>1.0000<td class='tmva_output_hidden_td'></td></tr><tr><td>myvar2<td>0.0094778<td>0.27696<td>-1.0000<td>1.0000<td class='tmva_output_hidden_td'></td></tr><tr><td>var3<td>0.080279<td>0.36720<td>-1.0000<td>1.0000<td class='tmva_output_hidden_td'></td></tr><tr><td>var4<td>0.12986<td>0.39603<td>-1.0000<td>1.0000<td class='tmva_output_hidden_td'></td></tr></table></td></tr></tbody><tbody><tr><td rowspan='1' class='tmva_output_header'>TFHandler_DNN           </td><td><table class='tmva_output_varmeanrms'><tr><td>Variable<td>Mean<td>RMS<td>Min<td>Max<td class='tmva_output_hidden_td'></td></tr><tr><td>myvar1<td>0.083989<td>0.36407<td>-1.0000<td>1.0000<td class='tmva_output_hidden_td'></td></tr><tr><td>myvar2<td>0.0094778<td>0.27696<td>-1.0000<td>1.0000<td class='tmva_output_hidden_td'></td></tr><tr><td>var3<td>0.080279<td>0.36720<td>-1.0000<td>1.0000<td class='tmva_output_hidden_td'></td></tr><tr><td>var4<td>0.12986<td>0.39603<td>-1.0000<td>1.0000<td class='tmva_output_hidden_td'></td></tr></table></td></tr></tbody><tbody class='tmva_output_tbody_multiple_row'><tr><td rowspan='32' class='tmva_output_header'>TFHandler_DNN           </td><td><table class='tmva_output_varmeanrms'><tr><td>Variable<td>Mean<td>RMS<td>Min<td>Max<td class='tmva_output_hidden_td'></td></tr><tr><td>myvar1<td>0.075113<td>0.36776<td>-1.1074<td>1.0251<td class='tmva_output_hidden_td'></td></tr><tr><td>myvar2<td>0.0075595<td>0.27349<td>-0.90663<td>1.0008<td class='tmva_output_hidden_td'></td></tr><tr><td>var3<td>0.070228<td>0.37106<td>-1.0649<td>1.0602<td class='tmva_output_hidden_td'></td></tr><tr><td>var4<td>0.12090<td>0.39854<td>-1.1871<td>1.0199<td class='tmva_output_hidden_td'></td></tr></table></td></tr><tr><td>Add Layer with 100 nodes.</td></tr><tr><td>Add Layer with 50 nodes.</td></tr><tr><td>Add Layer with 10 nodes.</td></tr><tr><td>Add Layer with 1 nodes.</td></tr><tr></tr><tr><td>Total number of Synapses = 6010</td></tr><tr><td>Training with learning rate = 0.1, momentum = 0, repetitions = 1</td></tr><tr><td>Drop configuration</td></tr><tr><td>drop repetitions = 1</td></tr><tr><td>Layer 0 = 0</td></tr><tr><td>Layer 1 = 0.5</td></tr><tr><td>Layer 2 = 0.5</td></tr><tr><td>Layer 3 = 0.5</td></tr><tr></tr><tr></tr><tr><td>Training with learning rate = 0.01, momentum = 0.5, repetitions = 1</td></tr><tr><td>Drop configuration</td></tr><tr><td>drop repetitions = 1</td></tr><tr><td>Layer 0 = 0</td></tr><tr><td>Layer 1 = 0.1</td></tr><tr><td>Layer 2 = 0.1</td></tr><tr><td>Layer 3 = 0.1</td></tr><tr></tr><tr></tr><tr><td>Training with learning rate = 0.01, momentum = 0.3, repetitions = 1</td></tr><tr></tr><tr></tr><tr><td>Training with learning rate = 0.001, momentum = 0.1, repetitions = 1</td></tr><tr></tr><tr></tr><tr><td><b>Elapsed time for training with 6000 events : <b style='color:rgb(0,0,179)'> 5.08 sec         </b></b></td></tr></tbody><tbody class='tmva_output_tbody_multiple_row'><tr><td rowspan='43' class='tmva_output_header'>DNN                     </td><td><table class='tmva_output_dataset'><tbody><tr><td rowspan='1'>Dataset: tmva_class_example</td><td>Evaluation of DNN on training sample (6000 events)</td><td class='tmva_output_hidden_td'></td></tr></tbody></table></td></tr><tr><td><b>Elapsed time for evaluation of 6000 events : <b style='color:rgb(0,0,179)'> 0.21 sec       </b></b></td></tr><tr><td>Creating xml weight file: tmva_class_example/weights/TMVAClassification_DNN.weights.xml</td></tr><tr><td>Creating standalone class: tmva_class_example/weights/TMVAClassification_DNN.class.C</td></tr><tr><td>Write monitoring histograms to file: TMVA.root:/tmva_class_example/Method_DNN/DNN</td></tr><tr></tr><tr><td>================================================================</td></tr><tr><td><table class='tmva_output_dataset'><tbody class='tmva_output_tbody_multiple_row'><tr><td rowspan='2'>Dataset:  Likelihood </td><td class='tmva_output_hidden_td'></td></tr></tbody></table></td></tr><tr><td>--- Short description:</td></tr><tr></tr><tr><td>The maximum-likelihood classifier models the data with probability </td></tr><tr><td>density functions (PDF) reproducing the signal and background</td></tr><tr><td>distributions of the input variables. Correlations among the </td></tr><tr><td>variables are ignored.</td></tr><tr></tr><tr><td>--- Performance optimisation:</td></tr><tr></tr><tr><td>Required for good performance are decorrelated input variables</td></tr><tr><td>(PCA transformation via the option \"VarTransform=Decorrelate\"</td></tr><tr><td>may be tried). Irreducible non-linear correlations may be reduced</td></tr><tr><td>by precombining strongly correlated input variables, or by simply</td></tr><tr><td>removing one of the variables.</td></tr><tr></tr><tr><td>--- Performance tuning via configuration options:</td></tr><tr></tr><tr><td>High fidelity PDF estimates are mandatory, i.e., sufficient training </td></tr><tr><td>statistics is required to populate the tails of the distributions</td></tr><tr><td>It would be a surprise if the default Spline or KDE kernel parameters</td></tr><tr><td>provide a satisfying fit to the data. The user is advised to properly</td></tr><tr><td>tune the events per bin and smooth options in the spline cases</td></tr><tr><td>individually per variable. If the KDE kernel is used, the adaptive</td></tr><tr><td>Gaussian kernel may lead to artefacts, so please always also try</td></tr><tr><td>the non-adaptive one.</td></tr><tr></tr><tr><td>All tuning parameters must be adjusted individually for each input</td></tr><tr><td>variable!</td></tr><tr></tr><tr><td><Suppress this message by specifying \"!H\" in the booking option></td></tr><tr><td>================================================================</td></tr><tr></tr><tr><td>Filling reference histograms</td></tr><tr><td>Building PDF out of reference histograms</td></tr><tr><td><b>Elapsed time for training with 6000 events : <b style='color:rgb(0,0,179)'> 0.0403 sec         </b></b></td></tr></tbody><tbody class='tmva_output_tbody_multiple_row'><tr><td rowspan='5' class='tmva_output_header'>Likelihood              </td><td><table class='tmva_output_dataset'><tbody><tr><td rowspan='1'>Dataset: tmva_class_example</td><td>Evaluation of Likelihood on training sample (6000 events)</td><td class='tmva_output_hidden_td'></td></tr></tbody></table></td></tr><tr><td><b>Elapsed time for evaluation of 6000 events : <b style='color:rgb(0,0,179)'> 0.009 sec       </b></b></td></tr><tr><td>Creating xml weight file: tmva_class_example/weights/TMVAClassification_Likelihood.weights.xml</td></tr><tr><td>Creating standalone class: tmva_class_example/weights/TMVAClassification_Likelihood.class.C</td></tr><tr><td>Write monitoring histograms to file: TMVA.root:/tmva_class_example/Method_Likelihood/Likelihood</td></tr></tbody><tbody class='tmva_output_tbody_multiple_row'><tr><td rowspan='4' class='tmva_output_header'>BDT                     </td><td>#events: (reweighted) sig: 3000 bkg: 3000</td></tr><tr><td>#events: (unweighted) sig: 3000 bkg: 3000</td></tr><tr><td>Training 850 Decision Trees ... patience please</td></tr><tr><td><b>Elapsed time for training with 6000 events : <b style='color:rgb(0,0,179)'> 2.28 sec         </b></b></td></tr></tbody><tbody class='tmva_output_tbody_multiple_row'><tr><td rowspan='4' class='tmva_output_header'>BDT                     </td><td><table class='tmva_output_dataset'><tbody><tr><td rowspan='1'>Dataset: tmva_class_example</td><td>Evaluation of BDT on training sample (6000 events)</td><td class='tmva_output_hidden_td'></td></tr></tbody></table></td></tr><tr><td><b>Elapsed time for evaluation of 6000 events : <b style='color:rgb(0,0,179)'> 0.673 sec       </b></b></td></tr><tr><td>Creating xml weight file: tmva_class_example/weights/TMVAClassification_BDT.weights.xml</td></tr><tr><td>Creating standalone class: tmva_class_example/weights/TMVAClassification_BDT.class.C</td></tr></tbody></table>"
      ],
      "text/plain": [
       "<IPython.core.display.HTML object>"
      ]
     },
     "metadata": {},
     "output_type": "display_data"
    },
    {
     "data": {
      "text/html": [],
      "text/plain": [
       "<IPython.core.display.HTML object>"
      ]
     },
     "metadata": {},
     "output_type": "display_data"
    }
   ],
   "source": [
    "factory.TrainAllMethods()"
   ]
  },
  {
   "cell_type": "markdown",
   "metadata": {},
   "source": [
    "## Close the factory's output file"
   ]
  },
  {
   "cell_type": "code",
   "execution_count": 6,
   "metadata": {
    "collapsed": false
   },
   "outputs": [
    {
     "data": {
      "text/html": [
       "<table class='tmva_output_table'></table>"
      ],
      "text/plain": [
       "<IPython.core.display.HTML object>"
      ]
     },
     "metadata": {},
     "output_type": "display_data"
    },
    {
     "data": {
      "text/html": [],
      "text/plain": [
       "<IPython.core.display.HTML object>"
      ]
     },
     "metadata": {},
     "output_type": "display_data"
    }
   ],
   "source": [
    "outputFile.Close()"
   ]
  },
  {
   "cell_type": "code",
   "execution_count": null,
   "metadata": {
    "collapsed": true
   },
   "outputs": [],
   "source": []
  },
  {
   "cell_type": "code",
   "execution_count": null,
   "metadata": {
    "collapsed": true
   },
   "outputs": [],
   "source": []
  }
 ],
 "metadata": {
  "kernelspec": {
   "display_name": "Python [Root]",
   "language": "python",
   "name": "Python [Root]"
  },
  "language_info": {
   "codemirror_mode": {
    "name": "ipython",
    "version": 2
   },
   "file_extension": ".py",
   "mimetype": "text/x-python",
   "name": "python",
   "nbconvert_exporter": "python",
   "pygments_lexer": "ipython2",
   "version": "2.7.11"
  }
 },
 "nbformat": 4,
 "nbformat_minor": 0
}
